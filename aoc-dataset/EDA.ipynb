{
 "cells": [
  {
   "cell_type": "code",
   "execution_count": 1,
   "id": "64ee0c11",
   "metadata": {},
   "outputs": [],
   "source": [
    "import os\n",
    "\n",
    "import pandas as pd\n",
    "import matplotlib.pyplot as plt\n",
    "import seaborn as sns\n",
    "from IPython.display import HTML\n",
    "\n",
    "from datasets import load_dataset"
   ]
  },
  {
   "cell_type": "code",
   "execution_count": 2,
   "id": "5b474693",
   "metadata": {},
   "outputs": [
    {
     "name": "stderr",
     "output_type": "stream",
     "text": [
      "Found cached dataset aoc (/home/alex/.cache/huggingface/datasets/alexjercan___aoc/default/3.0.0/b7b0531e4e1555b2dd7e2825a19a01b2b6d67f6177ea0eac0ac2a7cf97ac667d)\n"
     ]
    },
    {
     "data": {
      "application/vnd.jupyter.widget-view+json": {
       "model_id": "3e2d7a107adc4d4ca203ff716443e2af",
       "version_major": 2,
       "version_minor": 0
      },
      "text/plain": [
       "  0%|          | 0/1 [00:00<?, ?it/s]"
      ]
     },
     "metadata": {},
     "output_type": "display_data"
    },
    {
     "data": {
      "text/html": [
       "<div>\n",
       "<style scoped>\n",
       "    .dataframe tbody tr th:only-of-type {\n",
       "        vertical-align: middle;\n",
       "    }\n",
       "\n",
       "    .dataframe tbody tr th {\n",
       "        vertical-align: top;\n",
       "    }\n",
       "\n",
       "    .dataframe thead th {\n",
       "        text-align: right;\n",
       "    }\n",
       "</style>\n",
       "<table border=\"1\" class=\"dataframe\">\n",
       "  <thead>\n",
       "    <tr style=\"text-align: right;\">\n",
       "      <th></th>\n",
       "      <th>year</th>\n",
       "      <th>day</th>\n",
       "      <th>part</th>\n",
       "      <th>pass</th>\n",
       "      <th>fail</th>\n",
       "      <th>test</th>\n",
       "      <th>change</th>\n",
       "      <th>i1</th>\n",
       "      <th>i2</th>\n",
       "      <th>j1</th>\n",
       "      <th>j2</th>\n",
       "    </tr>\n",
       "  </thead>\n",
       "  <tbody>\n",
       "    <tr>\n",
       "      <th>0</th>\n",
       "      <td>2022</td>\n",
       "      <td>day01</td>\n",
       "      <td>part1</td>\n",
       "      <td>def solve(test: str) -&gt; str:\\n    numbers = te...</td>\n",
       "      <td>def solve(test: str) -&gt; str:\\n    numbers = te...</td>\n",
       "      <td>assert solve('1000\\n2000\\n3000\\n\\n4000\\n\\n5000...</td>\n",
       "      <td>insert</td>\n",
       "      <td>14</td>\n",
       "      <td>14</td>\n",
       "      <td>14</td>\n",
       "      <td>17</td>\n",
       "    </tr>\n",
       "    <tr>\n",
       "      <th>1</th>\n",
       "      <td>2022</td>\n",
       "      <td>day01</td>\n",
       "      <td>part1</td>\n",
       "      <td>def solve(test: str) -&gt; str:\\n    chunks = tes...</td>\n",
       "      <td>def solve(test: str) -&gt; str:\\n    chunks = tes...</td>\n",
       "      <td>assert solve('1000\\n2000\\n3000\\n\\n4000\\n\\n5000...</td>\n",
       "      <td>replace</td>\n",
       "      <td>2</td>\n",
       "      <td>6</td>\n",
       "      <td>2</td>\n",
       "      <td>6</td>\n",
       "    </tr>\n",
       "    <tr>\n",
       "      <th>2</th>\n",
       "      <td>2022</td>\n",
       "      <td>day01</td>\n",
       "      <td>part2</td>\n",
       "      <td>def solve(test: str) -&gt; str:\\n    chunks = tes...</td>\n",
       "      <td>def solve(test: str) -&gt; str:\\n    chunks = tes...</td>\n",
       "      <td>assert solve('1000\\n2000\\n3000\\n\\n4000\\n\\n5000...</td>\n",
       "      <td>replace</td>\n",
       "      <td>12</td>\n",
       "      <td>13</td>\n",
       "      <td>12</td>\n",
       "      <td>13</td>\n",
       "    </tr>\n",
       "    <tr>\n",
       "      <th>3</th>\n",
       "      <td>2022</td>\n",
       "      <td>day02</td>\n",
       "      <td>part1</td>\n",
       "      <td>def solve(test: str) -&gt; str:\\n    points = {\"X...</td>\n",
       "      <td>def solve(test: str) -&gt; str:\\n    points = {\"X...</td>\n",
       "      <td>assert solve('A Y\\nB X\\nC Z') == '15'</td>\n",
       "      <td>replace</td>\n",
       "      <td>3</td>\n",
       "      <td>13</td>\n",
       "      <td>3</td>\n",
       "      <td>14</td>\n",
       "    </tr>\n",
       "    <tr>\n",
       "      <th>4</th>\n",
       "      <td>2022</td>\n",
       "      <td>day02</td>\n",
       "      <td>part2</td>\n",
       "      <td>def solve(test: str) -&gt; str:\\n    points = {\"A...</td>\n",
       "      <td>def solve(test: str) -&gt; str:\\n    points = {\"A...</td>\n",
       "      <td>assert solve('A Y\\nB X\\nC Z') == '12'</td>\n",
       "      <td>replace</td>\n",
       "      <td>12</td>\n",
       "      <td>17</td>\n",
       "      <td>12</td>\n",
       "      <td>17</td>\n",
       "    </tr>\n",
       "  </tbody>\n",
       "</table>\n",
       "</div>"
      ],
      "text/plain": [
       "   year    day   part                                               pass  \\\n",
       "0  2022  day01  part1  def solve(test: str) -> str:\\n    numbers = te...   \n",
       "1  2022  day01  part1  def solve(test: str) -> str:\\n    chunks = tes...   \n",
       "2  2022  day01  part2  def solve(test: str) -> str:\\n    chunks = tes...   \n",
       "3  2022  day02  part1  def solve(test: str) -> str:\\n    points = {\"X...   \n",
       "4  2022  day02  part2  def solve(test: str) -> str:\\n    points = {\"A...   \n",
       "\n",
       "                                                fail  \\\n",
       "0  def solve(test: str) -> str:\\n    numbers = te...   \n",
       "1  def solve(test: str) -> str:\\n    chunks = tes...   \n",
       "2  def solve(test: str) -> str:\\n    chunks = tes...   \n",
       "3  def solve(test: str) -> str:\\n    points = {\"X...   \n",
       "4  def solve(test: str) -> str:\\n    points = {\"A...   \n",
       "\n",
       "                                                test   change  i1  i2  j1  j2  \n",
       "0  assert solve('1000\\n2000\\n3000\\n\\n4000\\n\\n5000...   insert  14  14  14  17  \n",
       "1  assert solve('1000\\n2000\\n3000\\n\\n4000\\n\\n5000...  replace   2   6   2   6  \n",
       "2  assert solve('1000\\n2000\\n3000\\n\\n4000\\n\\n5000...  replace  12  13  12  13  \n",
       "3              assert solve('A Y\\nB X\\nC Z') == '15'  replace   3  13   3  14  \n",
       "4              assert solve('A Y\\nB X\\nC Z') == '12'  replace  12  17  12  17  "
      ]
     },
     "execution_count": 2,
     "metadata": {},
     "output_type": "execute_result"
    }
   ],
   "source": [
    "dataset = load_dataset(\"alexjercan/aoc\")\n",
    "\n",
    "df = pd.DataFrame(dataset[\"train\"])\n",
    "\n",
    "df.head()"
   ]
  },
  {
   "cell_type": "code",
   "execution_count": 3,
   "id": "63a72b96",
   "metadata": {},
   "outputs": [
    {
     "name": "stdout",
     "output_type": "stream",
     "text": [
      "<class 'pandas.core.frame.DataFrame'>\n",
      "RangeIndex: 15 entries, 0 to 14\n",
      "Data columns (total 11 columns):\n",
      " #   Column  Non-Null Count  Dtype \n",
      "---  ------  --------------  ----- \n",
      " 0   year    15 non-null     object\n",
      " 1   day     15 non-null     object\n",
      " 2   part    15 non-null     object\n",
      " 3   pass    15 non-null     object\n",
      " 4   fail    15 non-null     object\n",
      " 5   test    15 non-null     object\n",
      " 6   change  15 non-null     object\n",
      " 7   i1      15 non-null     int64 \n",
      " 8   i2      15 non-null     int64 \n",
      " 9   j1      15 non-null     int64 \n",
      " 10  j2      15 non-null     int64 \n",
      "dtypes: int64(4), object(7)\n",
      "memory usage: 1.4+ KB\n"
     ]
    }
   ],
   "source": [
    "df.info()"
   ]
  },
  {
   "cell_type": "code",
   "execution_count": 4,
   "id": "59f09f60",
   "metadata": {},
   "outputs": [
    {
     "data": {
      "image/png": "[encoded data removed]",
      "text/plain": [
       "<Figure size 640x480 with 1 Axes>"
      ]
     },
     "metadata": {},
     "output_type": "display_data"
    },
    {
     "data": {
      "text/html": [
       "<div>\n",
       "<style scoped>\n",
       "    .dataframe tbody tr th:only-of-type {\n",
       "        vertical-align: middle;\n",
       "    }\n",
       "\n",
       "    .dataframe tbody tr th {\n",
       "        vertical-align: top;\n",
       "    }\n",
       "\n",
       "    .dataframe thead th {\n",
       "        text-align: right;\n",
       "    }\n",
       "</style>\n",
       "<table border=\"1\" class=\"dataframe\">\n",
       "  <thead>\n",
       "    <tr style=\"text-align: right;\">\n",
       "      <th></th>\n",
       "      <th>change</th>\n",
       "    </tr>\n",
       "    <tr>\n",
       "      <th>change</th>\n",
       "      <th></th>\n",
       "    </tr>\n",
       "  </thead>\n",
       "  <tbody>\n",
       "    <tr>\n",
       "      <th>insert</th>\n",
       "      <td>1</td>\n",
       "    </tr>\n",
       "    <tr>\n",
       "      <th>replace</th>\n",
       "      <td>14</td>\n",
       "    </tr>\n",
       "  </tbody>\n",
       "</table>\n",
       "</div>"
      ],
      "text/plain": [
       "         change\n",
       "change         \n",
       "insert        1\n",
       "replace      14"
      ]
     },
     "execution_count": 4,
     "metadata": {},
     "output_type": "execute_result"
    }
   ],
   "source": [
    "# the AoC dataset contains mostly replacement and some insertions, usually a deletion would \n",
    "# happen because the user forgot to delete a debugging print message, which is not hard\n",
    "# repair manually. insertions would happen when the user forgets to add a check for\n",
    "# edge cases, which could be interesting to identify using machine learning. most of the\n",
    "# bugs however will be of type replace, meaning that the user changed something in the buggy\n",
    "# code to make it work. this is the reasoning why our dataset is mainly composed of replace changes.\n",
    "\n",
    "sns.histplot(x=df[\"change\"], multiple=\"dodge\", \n",
    "             stat=\"count\", shrink=0.8, common_norm=False)\n",
    "\n",
    "plt.title(\"Hist plot of the change made from original src to changed src based on language\")\n",
    "plt.show()\n",
    "\n",
    "df.groupby([\"change\"]).agg({\"change\": \"count\"})"
   ]
  },
  {
   "cell_type": "code",
   "execution_count": 5,
   "id": "da72090a",
   "metadata": {},
   "outputs": [
    {
     "data": {
      "image/png": "[encoded data removed]",
      "text/plain": [
       "<Figure size 640x480 with 1 Axes>"
      ]
     },
     "metadata": {},
     "output_type": "display_data"
    }
   ],
   "source": [
    "# the bugs can happen anywhere in the file, but we have found that many examples\n",
    "# where the changed line was in the first four or five to be really simple problems.\n",
    "# it was also the case that many such bugs were being caused by wrong parsing of \n",
    "# the input. thus, we tried to focus only on bugs that are not related to parsing the input\n",
    "# in the AoC eval dataset. with mostly algorithm bugs we found that the average line change \n",
    "# would be above ten lines of code.\n",
    "\n",
    "x = df[\"i1\"].map(lambda line: line if line < 100 else 100)\n",
    "sns.histplot(x=x, stat=\"count\", shrink=0.8, common_norm=False)\n",
    "\n",
    "plt.title(\"Count plot of the chunk that was changed\")\n",
    "plt.show()"
   ]
  },
  {
   "cell_type": "code",
   "execution_count": 6,
   "id": "a2ada68d",
   "metadata": {},
   "outputs": [
    {
     "name": "stdout",
     "output_type": "stream",
     "text": [
      "The maximum size of a chunk is 10\n"
     ]
    },
    {
     "data": {
      "image/png": "[encoded data removed]",
      "text/plain": [
       "<Figure size 640x480 with 1 Axes>"
      ]
     },
     "metadata": {},
     "output_type": "display_data"
    }
   ],
   "source": [
    "# we have tought that the size of the chunk (block of code that was changed) \n",
    "# would play the biggest factor in making the task of repair easier. however,\n",
    "# we have noticed that large language models, like ChatGTP and OpenAssitant,\n",
    "# have struggled to find repairs for even one line changes. in fact the most \n",
    "# important factor was the using of the problem statement in the input prompt.\n",
    "# this made the difference between provifing the user with a meaningful hint\n",
    "# or solution for the bug at hand.\n",
    "\n",
    "x = (df[\"i2\"] - df[\"i1\"])\n",
    "x_cap = x.map(lambda line: line if line < 10 else 10).astype(\"category\")\n",
    "\n",
    "sns.histplot(x=x_cap, multiple=\"dodge\", \n",
    "             stat=\"count\", shrink=0.8, common_norm=False)\n",
    "plt.xticks(list(range(11)))\n",
    "\n",
    "print(f\"The maximum size of a chunk is {x.max()}\")\n",
    "\n",
    "plt.title(\"Count plot of the chunk size that was changed\")\n",
    "plt.show()"
   ]
  },
  {
   "cell_type": "code",
   "execution_count": null,
   "id": "f4282286",
   "metadata": {},
   "outputs": [],
   "source": []
  }
 ],
 "metadata": {
  "kernelspec": {
   "display_name": "Python 3 (ipykernel)",
   "language": "python",
   "name": "python3"
  },
  "language_info": {
   "codemirror_mode": {
    "name": "ipython",
    "version": 3
   },
   "file_extension": ".py",
   "mimetype": "text/x-python",
   "name": "python",
   "nbconvert_exporter": "python",
   "pygments_lexer": "ipython3",
   "version": "3.10.7"
  }
 },
 "nbformat": 4,
 "nbformat_minor": 5
}
