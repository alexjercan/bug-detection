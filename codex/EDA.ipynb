{
 "cells": [
  {
   "cell_type": "markdown",
   "id": "9b59c4ee",
   "metadata": {},
   "source": [
    "# Codex predicted solutions"
   ]
  },
  {
   "cell_type": "code",
   "execution_count": 1,
   "id": "31eea1c7",
   "metadata": {},
   "outputs": [],
   "source": [
    "import os\n",
    "\n",
    "import pandas as pd\n",
    "import matplotlib.pyplot as plt\n",
    "import seaborn as sns\n",
    "from IPython.display import HTML\n",
    "\n",
    "GENERATED_ROOT_PATH = os.path.join(\"..\", \"input\", \"bugnet\")\n",
    "GENERATED_PAIRS_PATH = os.path.join(GENERATED_ROOT_PATH, \"generated_pairs.csv\")\n",
    "CODEX_PAIRS_PATH = os.path.join(GENERATED_ROOT_PATH, \"codex_results.csv\")"
   ]
  },
  {
   "cell_type": "code",
   "execution_count": 2,
   "id": "8c354b6c",
   "metadata": {},
   "outputs": [
    {
     "data": {
      "text/html": [
       "<div>\n",
       "<style scoped>\n",
       "    .dataframe tbody tr th:only-of-type {\n",
       "        vertical-align: middle;\n",
       "    }\n",
       "\n",
       "    .dataframe tbody tr th {\n",
       "        vertical-align: top;\n",
       "    }\n",
       "\n",
       "    .dataframe thead th {\n",
       "        text-align: right;\n",
       "    }\n",
       "</style>\n",
       "<table border=\"1\" class=\"dataframe\">\n",
       "  <thead>\n",
       "    <tr style=\"text-align: right;\">\n",
       "      <th></th>\n",
       "      <th>problem_id</th>\n",
       "      <th>language</th>\n",
       "      <th>original_status</th>\n",
       "      <th>original_src</th>\n",
       "      <th>changed_src</th>\n",
       "      <th>change</th>\n",
       "      <th>line</th>\n",
       "      <th>error</th>\n",
       "      <th>codex_predicted</th>\n",
       "    </tr>\n",
       "  </thead>\n",
       "  <tbody>\n",
       "    <tr>\n",
       "      <th>0</th>\n",
       "      <td>p00001</td>\n",
       "      <td>Python</td>\n",
       "      <td>Runtime Error</td>\n",
       "      <td>num = [int(input()) for i in range(10)]\\nnum.s...</td>\n",
       "      <td>num = [int(input()) for i in range(10)]\\nnum.s...</td>\n",
       "      <td>replace</td>\n",
       "      <td>2</td>\n",
       "      <td>TypeError</td>\n",
       "      <td>for i in range(3):\\n\\n# Q: What is the purpos...</td>\n",
       "    </tr>\n",
       "    <tr>\n",
       "      <th>1</th>\n",
       "      <td>p00001</td>\n",
       "      <td>C++</td>\n",
       "      <td>Runtime Error</td>\n",
       "      <td>#include &lt;bits/stdc++.h&gt;\\nusing namespace std;...</td>\n",
       "      <td>#include &lt;bits/stdc++.h&gt;\\nusing namespace std;...</td>\n",
       "      <td>replace</td>\n",
       "      <td>4</td>\n",
       "      <td>-6</td>\n",
       "      <td>vector&lt;int&gt; mountain(10);</td>\n",
       "    </tr>\n",
       "    <tr>\n",
       "      <th>2</th>\n",
       "      <td>p00001</td>\n",
       "      <td>C++</td>\n",
       "      <td>Runtime Error</td>\n",
       "      <td>#include &lt;algorithm&gt;\\n#include &lt;iostream&gt;\\nusi...</td>\n",
       "      <td>#include &lt;algorithm&gt;\\n#include &lt;iostream&gt;\\nusi...</td>\n",
       "      <td>replace</td>\n",
       "      <td>9</td>\n",
       "      <td>-11</td>\n",
       "      <td>for (int i = 9; i &gt;= 7; i--)</td>\n",
       "    </tr>\n",
       "    <tr>\n",
       "      <th>3</th>\n",
       "      <td>p00001</td>\n",
       "      <td>C++</td>\n",
       "      <td>Time Limit Exceeded</td>\n",
       "      <td>#include &lt;stdio.h&gt;\\nint main(void) {\\n  int a ...</td>\n",
       "      <td>#include &lt;stdio.h&gt;\\nint main(void) {\\n  int a ...</td>\n",
       "      <td>replace</td>\n",
       "      <td>3</td>\n",
       "      <td>TLE</td>\n",
       "      <td>while (scanf(\"%d\", &amp;n) == 1)</td>\n",
       "    </tr>\n",
       "    <tr>\n",
       "      <th>4</th>\n",
       "      <td>p00001</td>\n",
       "      <td>C++</td>\n",
       "      <td>Runtime Error</td>\n",
       "      <td>#include &lt;stdio.h&gt;\\nint main(void) {\\n  int i,...</td>\n",
       "      <td>#include &lt;stdio.h&gt;\\nint main(void) {\\n  int i,...</td>\n",
       "      <td>replace</td>\n",
       "      <td>4</td>\n",
       "      <td>-11</td>\n",
       "      <td>scanf(\"%d\", &amp;n[i]);</td>\n",
       "    </tr>\n",
       "  </tbody>\n",
       "</table>\n",
       "</div>"
      ],
      "text/plain": [
       "  problem_id language      original_status  \\\n",
       "0     p00001   Python        Runtime Error   \n",
       "1     p00001      C++        Runtime Error   \n",
       "2     p00001      C++        Runtime Error   \n",
       "3     p00001      C++  Time Limit Exceeded   \n",
       "4     p00001      C++        Runtime Error   \n",
       "\n",
       "                                        original_src  \\\n",
       "0  num = [int(input()) for i in range(10)]\\nnum.s...   \n",
       "1  #include <bits/stdc++.h>\\nusing namespace std;...   \n",
       "2  #include <algorithm>\\n#include <iostream>\\nusi...   \n",
       "3  #include <stdio.h>\\nint main(void) {\\n  int a ...   \n",
       "4  #include <stdio.h>\\nint main(void) {\\n  int i,...   \n",
       "\n",
       "                                         changed_src   change  line  \\\n",
       "0  num = [int(input()) for i in range(10)]\\nnum.s...  replace     2   \n",
       "1  #include <bits/stdc++.h>\\nusing namespace std;...  replace     4   \n",
       "2  #include <algorithm>\\n#include <iostream>\\nusi...  replace     9   \n",
       "3  #include <stdio.h>\\nint main(void) {\\n  int a ...  replace     3   \n",
       "4  #include <stdio.h>\\nint main(void) {\\n  int i,...  replace     4   \n",
       "\n",
       "       error                                    codex_predicted  \n",
       "0  TypeError   for i in range(3):\\n\\n# Q: What is the purpos...  \n",
       "1         -6                          vector<int> mountain(10);  \n",
       "2        -11                       for (int i = 9; i >= 7; i--)  \n",
       "3        TLE                       while (scanf(\"%d\", &n) == 1)  \n",
       "4        -11                                scanf(\"%d\", &n[i]);  "
      ]
     },
     "execution_count": 2,
     "metadata": {},
     "output_type": "execute_result"
    }
   ],
   "source": [
    "codex_df = pd.read_csv(CODEX_PAIRS_PATH, keep_default_na=False)\n",
    "\n",
    "codex_df.head()"
   ]
  },
  {
   "cell_type": "code",
   "execution_count": 3,
   "id": "761171bd",
   "metadata": {},
   "outputs": [
    {
     "name": "stdout",
     "output_type": "stream",
     "text": [
      "The accuracy of the codex api is 0.054\n"
     ]
    }
   ],
   "source": [
    "codex_df[\"line_str\"] = codex_df.apply(lambda row: row[\"changed_src\"].splitlines()[row[\"line\"]], axis=\"columns\")\n",
    "\n",
    "def codex_to_line_str(codex_predicted: str) -> str:\n",
    "    codex_predicted = codex_predicted.strip()\n",
    "    codex_lines = codex_predicted.splitlines()\n",
    "    if len(codex_lines) > 0:\n",
    "        codex_predicted = codex_lines[0]\n",
    "    return codex_predicted\n",
    "\n",
    "codex_df[\"codex_line_str\"] = codex_df.apply(lambda row: codex_to_line_str(row[\"codex_predicted\"]), axis=\"columns\")\n",
    "\n",
    "codex_df[\"correct\"] = codex_df.apply(lambda row: row[\"line_str\"] == row[\"codex_line_str\"], axis=\"columns\")\n",
    "\n",
    "correct = codex_df[\"correct\"].sum()\n",
    "print(f\"The accuracy of the codex api is {correct / len(codex_df)}\")"
   ]
  },
  {
   "cell_type": "code",
   "execution_count": 4,
   "id": "48602ed4",
   "metadata": {},
   "outputs": [
    {
     "data": {
      "text/html": [
       "<div>\n",
       "<style scoped>\n",
       "    .dataframe tbody tr th:only-of-type {\n",
       "        vertical-align: middle;\n",
       "    }\n",
       "\n",
       "    .dataframe tbody tr th {\n",
       "        vertical-align: top;\n",
       "    }\n",
       "\n",
       "    .dataframe thead th {\n",
       "        text-align: right;\n",
       "    }\n",
       "</style>\n",
       "<table border=\"1\" class=\"dataframe\">\n",
       "  <thead>\n",
       "    <tr style=\"text-align: right;\">\n",
       "      <th></th>\n",
       "      <th>sum</th>\n",
       "      <th>count</th>\n",
       "      <th>accuracy</th>\n",
       "    </tr>\n",
       "    <tr>\n",
       "      <th>language</th>\n",
       "      <th></th>\n",
       "      <th></th>\n",
       "      <th></th>\n",
       "    </tr>\n",
       "  </thead>\n",
       "  <tbody>\n",
       "    <tr>\n",
       "      <th>C++</th>\n",
       "      <td>0</td>\n",
       "      <td>500</td>\n",
       "      <td>0.000</td>\n",
       "    </tr>\n",
       "    <tr>\n",
       "      <th>Python</th>\n",
       "      <td>54</td>\n",
       "      <td>500</td>\n",
       "      <td>0.108</td>\n",
       "    </tr>\n",
       "  </tbody>\n",
       "</table>\n",
       "</div>"
      ],
      "text/plain": [
       "          sum  count  accuracy\n",
       "language                      \n",
       "C++         0    500     0.000\n",
       "Python     54    500     0.108"
      ]
     },
     "execution_count": 4,
     "metadata": {},
     "output_type": "execute_result"
    }
   ],
   "source": [
    "codex_lang_df = codex_df.groupby(\"language\")[\"correct\"].agg([\"sum\", \"count\"])\n",
    "codex_lang_df[\"accuracy\"] = codex_lang_df[\"sum\"] / codex_lang_df[\"count\"]\n",
    "\n",
    "codex_lang_df"
   ]
  },
  {
   "cell_type": "code",
   "execution_count": 5,
   "id": "92e343dc",
   "metadata": {},
   "outputs": [],
   "source": [
    "def color_source(source_code: str, line: int, color: str='red'):\n",
    "    lines = source_code.splitlines(keepends=True)\n",
    "    \n",
    "    text = \"\"\n",
    "    for i, line_str in enumerate(lines):\n",
    "        for char in line_str:\n",
    "            norm_color = 'black'\n",
    "            if char == ' ':\n",
    "                char = \"•\"\n",
    "                norm_color = 'lightgrey'\n",
    "            if char == '\\n':\n",
    "                char = \"↵\\n\"\n",
    "                norm_color = 'lightgrey'\n",
    "            text += f'<span style=\"color:{color if i == line else norm_color};\">{char}</span>'\n",
    "\n",
    "    return \"<pre>\" + text + \"</pre>\""
   ]
  },
  {
   "cell_type": "code",
   "execution_count": 6,
   "id": "4937fc89",
   "metadata": {},
   "outputs": [],
   "source": [
    "codex_df[\"original_src_html\"] = codex_df.apply(\n",
    "    lambda row: color_source(row[\"original_src\"], row[\"line\"], color=\"red\"), \n",
    "    axis=\"columns\",\n",
    ")\n",
    "\n",
    "codex_df[\"changed_src_html\"] = codex_df.apply(\n",
    "    lambda row: color_source(row[\"changed_src\"], row[\"line\"], color=\"green\"), \n",
    "    axis=\"columns\",\n",
    ")\n",
    "\n",
    "codex_df[\"codex_src_html\"] = codex_df.apply(\n",
    "    lambda row: color_source(row[\"codex_line_str\"], 0, color=\"green\" if row[\"correct\"] else \"red\"), \n",
    "    axis=\"columns\",\n",
    ")"
   ]
  },
  {
   "cell_type": "code",
   "execution_count": 7,
   "id": "c41db6e1",
   "metadata": {
    "scrolled": false
   },
   "outputs": [
    {
     "data": {
      "text/html": [
       "<h2>Example 0</h2>"
      ],
      "text/plain": [
       "<IPython.core.display.HTML object>"
      ]
     },
     "metadata": {},
     "output_type": "display_data"
    },
    {
     "data": {
      "text/html": [
       "<h6>Original Source Code</h6>"
      ],
      "text/plain": [
       "<IPython.core.display.HTML object>"
      ]
     },
     "metadata": {},
     "output_type": "display_data"
    },
    {
     "data": {
      "text/html": [
       "<pre><span style=\"color:black;\">n</span><span style=\"color:black;\">u</span><span style=\"color:black;\">m</span><span style=\"color:lightgrey;\">•</span><span style=\"color:black;\">=</span><span style=\"color:lightgrey;\">•</span><span style=\"color:black;\">[</span><span style=\"color:black;\">i</span><span style=\"color:black;\">n</span><span style=\"color:black;\">t</span><span style=\"color:black;\">(</span><span style=\"color:black;\">i</span><span style=\"color:black;\">n</span><span style=\"color:black;\">p</span><span style=\"color:black;\">u</span><span style=\"color:black;\">t</span><span style=\"color:black;\">(</span><span style=\"color:black;\">)</span><span style=\"color:black;\">)</span><span style=\"color:lightgrey;\">•</span><span style=\"color:black;\">f</span><span style=\"color:black;\">o</span><span style=\"color:black;\">r</span><span style=\"color:lightgrey;\">•</span><span style=\"color:black;\">i</span><span style=\"color:lightgrey;\">•</span><span style=\"color:black;\">i</span><span style=\"color:black;\">n</span><span style=\"color:lightgrey;\">•</span><span style=\"color:black;\">r</span><span style=\"color:black;\">a</span><span style=\"color:black;\">n</span><span style=\"color:black;\">g</span><span style=\"color:black;\">e</span><span style=\"color:black;\">(</span><span style=\"color:black;\">1</span><span style=\"color:black;\">0</span><span style=\"color:black;\">)</span><span style=\"color:black;\">]</span><span style=\"color:lightgrey;\">↵\n",
       "</span><span style=\"color:black;\">n</span><span style=\"color:black;\">u</span><span style=\"color:black;\">m</span><span style=\"color:black;\">.</span><span style=\"color:black;\">s</span><span style=\"color:black;\">o</span><span style=\"color:black;\">r</span><span style=\"color:black;\">t</span><span style=\"color:black;\">(</span><span style=\"color:black;\">r</span><span style=\"color:black;\">e</span><span style=\"color:black;\">v</span><span style=\"color:black;\">e</span><span style=\"color:black;\">r</span><span style=\"color:black;\">s</span><span style=\"color:black;\">e</span><span style=\"color:black;\">=</span><span style=\"color:black;\">T</span><span style=\"color:black;\">r</span><span style=\"color:black;\">u</span><span style=\"color:black;\">e</span><span style=\"color:black;\">)</span><span style=\"color:lightgrey;\">↵\n",
       "</span><span style=\"color:red;\">f</span><span style=\"color:red;\">o</span><span style=\"color:red;\">r</span><span style=\"color:red;\">•</span><span style=\"color:red;\">i</span><span style=\"color:red;\">•</span><span style=\"color:red;\">i</span><span style=\"color:red;\">n</span><span style=\"color:red;\">•</span><span style=\"color:red;\">r</span><span style=\"color:red;\">a</span><span style=\"color:red;\">n</span><span style=\"color:red;\">g</span><span style=\"color:red;\">e</span><span style=\"color:red;\">[</span><span style=\"color:red;\">0</span><span style=\"color:red;\">:</span><span style=\"color:red;\">3</span><span style=\"color:red;\">]</span><span style=\"color:red;\">:</span><span style=\"color:red;\">↵\n",
       "</span><span style=\"color:lightgrey;\">•</span><span style=\"color:lightgrey;\">•</span><span style=\"color:lightgrey;\">•</span><span style=\"color:lightgrey;\">•</span><span style=\"color:black;\">p</span><span style=\"color:black;\">r</span><span style=\"color:black;\">i</span><span style=\"color:black;\">n</span><span style=\"color:black;\">t</span><span style=\"color:black;\">(</span><span style=\"color:black;\">n</span><span style=\"color:black;\">u</span><span style=\"color:black;\">m</span><span style=\"color:black;\">[</span><span style=\"color:black;\">i</span><span style=\"color:black;\">]</span><span style=\"color:black;\">)</span><span style=\"color:lightgrey;\">↵\n",
       "</span></pre>"
      ],
      "text/plain": [
       "<IPython.core.display.HTML object>"
      ]
     },
     "metadata": {},
     "output_type": "display_data"
    },
    {
     "data": {
      "text/html": [
       "<h6>Changed Source Code</h6>"
      ],
      "text/plain": [
       "<IPython.core.display.HTML object>"
      ]
     },
     "metadata": {},
     "output_type": "display_data"
    },
    {
     "data": {
      "text/html": [
       "<pre><span style=\"color:black;\">n</span><span style=\"color:black;\">u</span><span style=\"color:black;\">m</span><span style=\"color:lightgrey;\">•</span><span style=\"color:black;\">=</span><span style=\"color:lightgrey;\">•</span><span style=\"color:black;\">[</span><span style=\"color:black;\">i</span><span style=\"color:black;\">n</span><span style=\"color:black;\">t</span><span style=\"color:black;\">(</span><span style=\"color:black;\">i</span><span style=\"color:black;\">n</span><span style=\"color:black;\">p</span><span style=\"color:black;\">u</span><span style=\"color:black;\">t</span><span style=\"color:black;\">(</span><span style=\"color:black;\">)</span><span style=\"color:black;\">)</span><span style=\"color:lightgrey;\">•</span><span style=\"color:black;\">f</span><span style=\"color:black;\">o</span><span style=\"color:black;\">r</span><span style=\"color:lightgrey;\">•</span><span style=\"color:black;\">i</span><span style=\"color:lightgrey;\">•</span><span style=\"color:black;\">i</span><span style=\"color:black;\">n</span><span style=\"color:lightgrey;\">•</span><span style=\"color:black;\">r</span><span style=\"color:black;\">a</span><span style=\"color:black;\">n</span><span style=\"color:black;\">g</span><span style=\"color:black;\">e</span><span style=\"color:black;\">(</span><span style=\"color:black;\">1</span><span style=\"color:black;\">0</span><span style=\"color:black;\">)</span><span style=\"color:black;\">]</span><span style=\"color:lightgrey;\">↵\n",
       "</span><span style=\"color:black;\">n</span><span style=\"color:black;\">u</span><span style=\"color:black;\">m</span><span style=\"color:black;\">.</span><span style=\"color:black;\">s</span><span style=\"color:black;\">o</span><span style=\"color:black;\">r</span><span style=\"color:black;\">t</span><span style=\"color:black;\">(</span><span style=\"color:black;\">r</span><span style=\"color:black;\">e</span><span style=\"color:black;\">v</span><span style=\"color:black;\">e</span><span style=\"color:black;\">r</span><span style=\"color:black;\">s</span><span style=\"color:black;\">e</span><span style=\"color:black;\">=</span><span style=\"color:black;\">T</span><span style=\"color:black;\">r</span><span style=\"color:black;\">u</span><span style=\"color:black;\">e</span><span style=\"color:black;\">)</span><span style=\"color:lightgrey;\">↵\n",
       "</span><span style=\"color:green;\">f</span><span style=\"color:green;\">o</span><span style=\"color:green;\">r</span><span style=\"color:green;\">•</span><span style=\"color:green;\">i</span><span style=\"color:green;\">•</span><span style=\"color:green;\">i</span><span style=\"color:green;\">n</span><span style=\"color:green;\">•</span><span style=\"color:green;\">r</span><span style=\"color:green;\">a</span><span style=\"color:green;\">n</span><span style=\"color:green;\">g</span><span style=\"color:green;\">e</span><span style=\"color:green;\">(</span><span style=\"color:green;\">3</span><span style=\"color:green;\">)</span><span style=\"color:green;\">:</span><span style=\"color:green;\">↵\n",
       "</span><span style=\"color:lightgrey;\">•</span><span style=\"color:lightgrey;\">•</span><span style=\"color:lightgrey;\">•</span><span style=\"color:lightgrey;\">•</span><span style=\"color:black;\">p</span><span style=\"color:black;\">r</span><span style=\"color:black;\">i</span><span style=\"color:black;\">n</span><span style=\"color:black;\">t</span><span style=\"color:black;\">(</span><span style=\"color:black;\">n</span><span style=\"color:black;\">u</span><span style=\"color:black;\">m</span><span style=\"color:black;\">[</span><span style=\"color:black;\">i</span><span style=\"color:black;\">]</span><span style=\"color:black;\">)</span><span style=\"color:lightgrey;\">↵\n",
       "</span></pre>"
      ],
      "text/plain": [
       "<IPython.core.display.HTML object>"
      ]
     },
     "metadata": {},
     "output_type": "display_data"
    },
    {
     "data": {
      "text/html": [
       "<h6>Codex Prediction</h6>"
      ],
      "text/plain": [
       "<IPython.core.display.HTML object>"
      ]
     },
     "metadata": {},
     "output_type": "display_data"
    },
    {
     "data": {
      "text/html": [
       "<pre><span style=\"color:green;\">f</span><span style=\"color:green;\">o</span><span style=\"color:green;\">r</span><span style=\"color:green;\">•</span><span style=\"color:green;\">i</span><span style=\"color:green;\">•</span><span style=\"color:green;\">i</span><span style=\"color:green;\">n</span><span style=\"color:green;\">•</span><span style=\"color:green;\">r</span><span style=\"color:green;\">a</span><span style=\"color:green;\">n</span><span style=\"color:green;\">g</span><span style=\"color:green;\">e</span><span style=\"color:green;\">(</span><span style=\"color:green;\">3</span><span style=\"color:green;\">)</span><span style=\"color:green;\">:</span></pre>"
      ],
      "text/plain": [
       "<IPython.core.display.HTML object>"
      ]
     },
     "metadata": {},
     "output_type": "display_data"
    },
    {
     "data": {
      "text/html": [
       "<h2>Example 1</h2>"
      ],
      "text/plain": [
       "<IPython.core.display.HTML object>"
      ]
     },
     "metadata": {},
     "output_type": "display_data"
    },
    {
     "data": {
      "text/html": [
       "<h6>Original Source Code</h6>"
      ],
      "text/plain": [
       "<IPython.core.display.HTML object>"
      ]
     },
     "metadata": {},
     "output_type": "display_data"
    },
    {
     "data": {
      "text/html": [
       "<pre><span style=\"color:black;\">i</span><span style=\"color:black;\">m</span><span style=\"color:black;\">p</span><span style=\"color:black;\">o</span><span style=\"color:black;\">r</span><span style=\"color:black;\">t</span><span style=\"color:lightgrey;\">•</span><span style=\"color:black;\">m</span><span style=\"color:black;\">a</span><span style=\"color:black;\">t</span><span style=\"color:black;\">h</span><span style=\"color:lightgrey;\">↵\n",
       "</span><span style=\"color:lightgrey;\">↵\n",
       "</span><span style=\"color:black;\">r</span><span style=\"color:lightgrey;\">•</span><span style=\"color:black;\">=</span><span style=\"color:lightgrey;\">•</span><span style=\"color:black;\">1</span><span style=\"color:black;\">0</span><span style=\"color:black;\">0</span><span style=\"color:lightgrey;\">↵\n",
       "</span><span style=\"color:red;\">n</span><span style=\"color:red;\">•</span><span style=\"color:red;\">=</span><span style=\"color:red;\">•</span><span style=\"color:red;\">i</span><span style=\"color:red;\">n</span><span style=\"color:red;\">p</span><span style=\"color:red;\">u</span><span style=\"color:red;\">t</span><span style=\"color:red;\">(</span><span style=\"color:red;\">)</span><span style=\"color:red;\">↵\n",
       "</span><span style=\"color:black;\">f</span><span style=\"color:black;\">o</span><span style=\"color:black;\">r</span><span style=\"color:lightgrey;\">•</span><span style=\"color:black;\">i</span><span style=\"color:lightgrey;\">•</span><span style=\"color:black;\">i</span><span style=\"color:black;\">n</span><span style=\"color:lightgrey;\">•</span><span style=\"color:black;\">r</span><span style=\"color:black;\">a</span><span style=\"color:black;\">n</span><span style=\"color:black;\">g</span><span style=\"color:black;\">e</span><span style=\"color:black;\">(</span><span style=\"color:black;\">n</span><span style=\"color:black;\">)</span><span style=\"color:black;\">:</span><span style=\"color:lightgrey;\">↵\n",
       "</span><span style=\"color:lightgrey;\">•</span><span style=\"color:lightgrey;\">•</span><span style=\"color:lightgrey;\">•</span><span style=\"color:lightgrey;\">•</span><span style=\"color:black;\">r</span><span style=\"color:lightgrey;\">•</span><span style=\"color:black;\">=</span><span style=\"color:lightgrey;\">•</span><span style=\"color:black;\">m</span><span style=\"color:black;\">a</span><span style=\"color:black;\">t</span><span style=\"color:black;\">h</span><span style=\"color:black;\">.</span><span style=\"color:black;\">c</span><span style=\"color:black;\">e</span><span style=\"color:black;\">i</span><span style=\"color:black;\">l</span><span style=\"color:black;\">(</span><span style=\"color:black;\">r</span><span style=\"color:lightgrey;\">•</span><span style=\"color:black;\">*</span><span style=\"color:lightgrey;\">•</span><span style=\"color:black;\">1</span><span style=\"color:black;\">.</span><span style=\"color:black;\">0</span><span style=\"color:black;\">5</span><span style=\"color:black;\">)</span><span style=\"color:lightgrey;\">↵\n",
       "</span><span style=\"color:black;\">p</span><span style=\"color:black;\">r</span><span style=\"color:black;\">i</span><span style=\"color:black;\">n</span><span style=\"color:black;\">t</span><span style=\"color:black;\">(</span><span style=\"color:black;\">r</span><span style=\"color:lightgrey;\">•</span><span style=\"color:black;\">*</span><span style=\"color:lightgrey;\">•</span><span style=\"color:black;\">1</span><span style=\"color:black;\">0</span><span style=\"color:black;\">0</span><span style=\"color:black;\">0</span><span style=\"color:black;\">)</span><span style=\"color:lightgrey;\">↵\n",
       "</span></pre>"
      ],
      "text/plain": [
       "<IPython.core.display.HTML object>"
      ]
     },
     "metadata": {},
     "output_type": "display_data"
    },
    {
     "data": {
      "text/html": [
       "<h6>Changed Source Code</h6>"
      ],
      "text/plain": [
       "<IPython.core.display.HTML object>"
      ]
     },
     "metadata": {},
     "output_type": "display_data"
    },
    {
     "data": {
      "text/html": [
       "<pre><span style=\"color:black;\">i</span><span style=\"color:black;\">m</span><span style=\"color:black;\">p</span><span style=\"color:black;\">o</span><span style=\"color:black;\">r</span><span style=\"color:black;\">t</span><span style=\"color:lightgrey;\">•</span><span style=\"color:black;\">m</span><span style=\"color:black;\">a</span><span style=\"color:black;\">t</span><span style=\"color:black;\">h</span><span style=\"color:lightgrey;\">↵\n",
       "</span><span style=\"color:lightgrey;\">↵\n",
       "</span><span style=\"color:black;\">r</span><span style=\"color:lightgrey;\">•</span><span style=\"color:black;\">=</span><span style=\"color:lightgrey;\">•</span><span style=\"color:black;\">1</span><span style=\"color:black;\">0</span><span style=\"color:black;\">0</span><span style=\"color:lightgrey;\">↵\n",
       "</span><span style=\"color:green;\">n</span><span style=\"color:green;\">•</span><span style=\"color:green;\">=</span><span style=\"color:green;\">•</span><span style=\"color:green;\">i</span><span style=\"color:green;\">n</span><span style=\"color:green;\">t</span><span style=\"color:green;\">(</span><span style=\"color:green;\">i</span><span style=\"color:green;\">n</span><span style=\"color:green;\">p</span><span style=\"color:green;\">u</span><span style=\"color:green;\">t</span><span style=\"color:green;\">(</span><span style=\"color:green;\">)</span><span style=\"color:green;\">)</span><span style=\"color:green;\">↵\n",
       "</span><span style=\"color:black;\">f</span><span style=\"color:black;\">o</span><span style=\"color:black;\">r</span><span style=\"color:lightgrey;\">•</span><span style=\"color:black;\">i</span><span style=\"color:lightgrey;\">•</span><span style=\"color:black;\">i</span><span style=\"color:black;\">n</span><span style=\"color:lightgrey;\">•</span><span style=\"color:black;\">r</span><span style=\"color:black;\">a</span><span style=\"color:black;\">n</span><span style=\"color:black;\">g</span><span style=\"color:black;\">e</span><span style=\"color:black;\">(</span><span style=\"color:black;\">n</span><span style=\"color:black;\">)</span><span style=\"color:black;\">:</span><span style=\"color:lightgrey;\">↵\n",
       "</span><span style=\"color:lightgrey;\">•</span><span style=\"color:lightgrey;\">•</span><span style=\"color:lightgrey;\">•</span><span style=\"color:lightgrey;\">•</span><span style=\"color:black;\">r</span><span style=\"color:lightgrey;\">•</span><span style=\"color:black;\">=</span><span style=\"color:lightgrey;\">•</span><span style=\"color:black;\">m</span><span style=\"color:black;\">a</span><span style=\"color:black;\">t</span><span style=\"color:black;\">h</span><span style=\"color:black;\">.</span><span style=\"color:black;\">c</span><span style=\"color:black;\">e</span><span style=\"color:black;\">i</span><span style=\"color:black;\">l</span><span style=\"color:black;\">(</span><span style=\"color:black;\">r</span><span style=\"color:lightgrey;\">•</span><span style=\"color:black;\">*</span><span style=\"color:lightgrey;\">•</span><span style=\"color:black;\">1</span><span style=\"color:black;\">.</span><span style=\"color:black;\">0</span><span style=\"color:black;\">5</span><span style=\"color:black;\">)</span><span style=\"color:lightgrey;\">↵\n",
       "</span><span style=\"color:black;\">p</span><span style=\"color:black;\">r</span><span style=\"color:black;\">i</span><span style=\"color:black;\">n</span><span style=\"color:black;\">t</span><span style=\"color:black;\">(</span><span style=\"color:black;\">r</span><span style=\"color:lightgrey;\">•</span><span style=\"color:black;\">*</span><span style=\"color:lightgrey;\">•</span><span style=\"color:black;\">1</span><span style=\"color:black;\">0</span><span style=\"color:black;\">0</span><span style=\"color:black;\">0</span><span style=\"color:black;\">)</span><span style=\"color:lightgrey;\">↵\n",
       "</span></pre>"
      ],
      "text/plain": [
       "<IPython.core.display.HTML object>"
      ]
     },
     "metadata": {},
     "output_type": "display_data"
    },
    {
     "data": {
      "text/html": [
       "<h6>Codex Prediction</h6>"
      ],
      "text/plain": [
       "<IPython.core.display.HTML object>"
      ]
     },
     "metadata": {},
     "output_type": "display_data"
    },
    {
     "data": {
      "text/html": [
       "<pre><span style=\"color:green;\">n</span><span style=\"color:green;\">•</span><span style=\"color:green;\">=</span><span style=\"color:green;\">•</span><span style=\"color:green;\">i</span><span style=\"color:green;\">n</span><span style=\"color:green;\">t</span><span style=\"color:green;\">(</span><span style=\"color:green;\">i</span><span style=\"color:green;\">n</span><span style=\"color:green;\">p</span><span style=\"color:green;\">u</span><span style=\"color:green;\">t</span><span style=\"color:green;\">(</span><span style=\"color:green;\">)</span><span style=\"color:green;\">)</span></pre>"
      ],
      "text/plain": [
       "<IPython.core.display.HTML object>"
      ]
     },
     "metadata": {},
     "output_type": "display_data"
    },
    {
     "data": {
      "text/html": [
       "<h2>Example 2</h2>"
      ],
      "text/plain": [
       "<IPython.core.display.HTML object>"
      ]
     },
     "metadata": {},
     "output_type": "display_data"
    },
    {
     "data": {
      "text/html": [
       "<h6>Original Source Code</h6>"
      ],
      "text/plain": [
       "<IPython.core.display.HTML object>"
      ]
     },
     "metadata": {},
     "output_type": "display_data"
    },
    {
     "data": {
      "text/html": [
       "<pre><span style=\"color:red;\">p</span><span style=\"color:red;\">r</span><span style=\"color:red;\">i</span><span style=\"color:red;\">n</span><span style=\"color:red;\">t</span><span style=\"color:red;\">(</span><span style=\"color:red;\">*</span><span style=\"color:red;\">s</span><span style=\"color:red;\">o</span><span style=\"color:red;\">r</span><span style=\"color:red;\">t</span><span style=\"color:red;\">e</span><span style=\"color:red;\">d</span><span style=\"color:red;\">(</span><span style=\"color:red;\">m</span><span style=\"color:red;\">a</span><span style=\"color:red;\">p</span><span style=\"color:red;\">(</span><span style=\"color:red;\">i</span><span style=\"color:red;\">n</span><span style=\"color:red;\">t</span><span style=\"color:red;\">,</span><span style=\"color:red;\">•</span><span style=\"color:red;\">i</span><span style=\"color:red;\">n</span><span style=\"color:red;\">p</span><span style=\"color:red;\">u</span><span style=\"color:red;\">t</span><span style=\"color:red;\">(</span><span style=\"color:red;\">)</span><span style=\"color:red;\">.</span><span style=\"color:red;\">s</span><span style=\"color:red;\">p</span><span style=\"color:red;\">i</span><span style=\"color:red;\">l</span><span style=\"color:red;\">t</span><span style=\"color:red;\">(</span><span style=\"color:red;\">)</span><span style=\"color:red;\">)</span><span style=\"color:red;\">)</span><span style=\"color:red;\">[</span><span style=\"color:red;\">:</span><span style=\"color:red;\">:</span><span style=\"color:red;\">-</span><span style=\"color:red;\">1</span><span style=\"color:red;\">]</span><span style=\"color:red;\">)</span><span style=\"color:red;\">↵\n",
       "</span></pre>"
      ],
      "text/plain": [
       "<IPython.core.display.HTML object>"
      ]
     },
     "metadata": {},
     "output_type": "display_data"
    },
    {
     "data": {
      "text/html": [
       "<h6>Changed Source Code</h6>"
      ],
      "text/plain": [
       "<IPython.core.display.HTML object>"
      ]
     },
     "metadata": {},
     "output_type": "display_data"
    },
    {
     "data": {
      "text/html": [
       "<pre><span style=\"color:green;\">p</span><span style=\"color:green;\">r</span><span style=\"color:green;\">i</span><span style=\"color:green;\">n</span><span style=\"color:green;\">t</span><span style=\"color:green;\">(</span><span style=\"color:green;\">*</span><span style=\"color:green;\">s</span><span style=\"color:green;\">o</span><span style=\"color:green;\">r</span><span style=\"color:green;\">t</span><span style=\"color:green;\">e</span><span style=\"color:green;\">d</span><span style=\"color:green;\">(</span><span style=\"color:green;\">m</span><span style=\"color:green;\">a</span><span style=\"color:green;\">p</span><span style=\"color:green;\">(</span><span style=\"color:green;\">i</span><span style=\"color:green;\">n</span><span style=\"color:green;\">t</span><span style=\"color:green;\">,</span><span style=\"color:green;\">•</span><span style=\"color:green;\">i</span><span style=\"color:green;\">n</span><span style=\"color:green;\">p</span><span style=\"color:green;\">u</span><span style=\"color:green;\">t</span><span style=\"color:green;\">(</span><span style=\"color:green;\">)</span><span style=\"color:green;\">.</span><span style=\"color:green;\">s</span><span style=\"color:green;\">p</span><span style=\"color:green;\">l</span><span style=\"color:green;\">i</span><span style=\"color:green;\">t</span><span style=\"color:green;\">(</span><span style=\"color:green;\">)</span><span style=\"color:green;\">)</span><span style=\"color:green;\">)</span><span style=\"color:green;\">[</span><span style=\"color:green;\">:</span><span style=\"color:green;\">:</span><span style=\"color:green;\">-</span><span style=\"color:green;\">1</span><span style=\"color:green;\">]</span><span style=\"color:green;\">)</span><span style=\"color:green;\">↵\n",
       "</span></pre>"
      ],
      "text/plain": [
       "<IPython.core.display.HTML object>"
      ]
     },
     "metadata": {},
     "output_type": "display_data"
    },
    {
     "data": {
      "text/html": [
       "<h6>Codex Prediction</h6>"
      ],
      "text/plain": [
       "<IPython.core.display.HTML object>"
      ]
     },
     "metadata": {},
     "output_type": "display_data"
    },
    {
     "data": {
      "text/html": [
       "<pre><span style=\"color:green;\">p</span><span style=\"color:green;\">r</span><span style=\"color:green;\">i</span><span style=\"color:green;\">n</span><span style=\"color:green;\">t</span><span style=\"color:green;\">(</span><span style=\"color:green;\">*</span><span style=\"color:green;\">s</span><span style=\"color:green;\">o</span><span style=\"color:green;\">r</span><span style=\"color:green;\">t</span><span style=\"color:green;\">e</span><span style=\"color:green;\">d</span><span style=\"color:green;\">(</span><span style=\"color:green;\">m</span><span style=\"color:green;\">a</span><span style=\"color:green;\">p</span><span style=\"color:green;\">(</span><span style=\"color:green;\">i</span><span style=\"color:green;\">n</span><span style=\"color:green;\">t</span><span style=\"color:green;\">,</span><span style=\"color:green;\">•</span><span style=\"color:green;\">i</span><span style=\"color:green;\">n</span><span style=\"color:green;\">p</span><span style=\"color:green;\">u</span><span style=\"color:green;\">t</span><span style=\"color:green;\">(</span><span style=\"color:green;\">)</span><span style=\"color:green;\">.</span><span style=\"color:green;\">s</span><span style=\"color:green;\">p</span><span style=\"color:green;\">l</span><span style=\"color:green;\">i</span><span style=\"color:green;\">t</span><span style=\"color:green;\">(</span><span style=\"color:green;\">)</span><span style=\"color:green;\">)</span><span style=\"color:green;\">)</span><span style=\"color:green;\">[</span><span style=\"color:green;\">:</span><span style=\"color:green;\">:</span><span style=\"color:green;\">-</span><span style=\"color:green;\">1</span><span style=\"color:green;\">]</span><span style=\"color:green;\">)</span></pre>"
      ],
      "text/plain": [
       "<IPython.core.display.HTML object>"
      ]
     },
     "metadata": {},
     "output_type": "display_data"
    },
    {
     "data": {
      "text/html": [
       "<h2>Example 3</h2>"
      ],
      "text/plain": [
       "<IPython.core.display.HTML object>"
      ]
     },
     "metadata": {},
     "output_type": "display_data"
    },
    {
     "data": {
      "text/html": [
       "<h6>Original Source Code</h6>"
      ],
      "text/plain": [
       "<IPython.core.display.HTML object>"
      ]
     },
     "metadata": {},
     "output_type": "display_data"
    },
    {
     "data": {
      "text/html": [
       "<pre><span style=\"color:black;\">#</span><span style=\"color:lightgrey;\">•</span><span style=\"color:black;\">-</span><span style=\"color:black;\">*</span><span style=\"color:black;\">-</span><span style=\"color:lightgrey;\">•</span><span style=\"color:black;\">c</span><span style=\"color:black;\">o</span><span style=\"color:black;\">d</span><span style=\"color:black;\">i</span><span style=\"color:black;\">n</span><span style=\"color:black;\">g</span><span style=\"color:black;\">:</span><span style=\"color:lightgrey;\">•</span><span style=\"color:black;\">u</span><span style=\"color:black;\">t</span><span style=\"color:black;\">f</span><span style=\"color:black;\">-</span><span style=\"color:black;\">8</span><span style=\"color:lightgrey;\">•</span><span style=\"color:black;\">-</span><span style=\"color:black;\">*</span><span style=\"color:black;\">-</span><span style=\"color:lightgrey;\">↵\n",
       "</span><span style=\"color:lightgrey;\">↵\n",
       "</span><span style=\"color:black;\">i</span><span style=\"color:black;\">n</span><span style=\"color:black;\">p</span><span style=\"color:black;\">u</span><span style=\"color:black;\">t</span><span style=\"color:black;\">(</span><span style=\"color:black;\">)</span><span style=\"color:lightgrey;\">↵\n",
       "</span><span style=\"color:black;\">s</span><span style=\"color:lightgrey;\">•</span><span style=\"color:black;\">=</span><span style=\"color:lightgrey;\">•</span><span style=\"color:black;\">s</span><span style=\"color:black;\">e</span><span style=\"color:black;\">t</span><span style=\"color:black;\">(</span><span style=\"color:black;\">i</span><span style=\"color:black;\">n</span><span style=\"color:black;\">p</span><span style=\"color:black;\">u</span><span style=\"color:black;\">t</span><span style=\"color:black;\">(</span><span style=\"color:black;\">)</span><span style=\"color:black;\">.</span><span style=\"color:black;\">s</span><span style=\"color:black;\">p</span><span style=\"color:black;\">l</span><span style=\"color:black;\">i</span><span style=\"color:black;\">t</span><span style=\"color:black;\">(</span><span style=\"color:black;\">)</span><span style=\"color:black;\">)</span><span style=\"color:lightgrey;\">↵\n",
       "</span><span style=\"color:black;\">i</span><span style=\"color:black;\">n</span><span style=\"color:black;\">p</span><span style=\"color:black;\">u</span><span style=\"color:black;\">t</span><span style=\"color:black;\">(</span><span style=\"color:black;\">)</span><span style=\"color:lightgrey;\">↵\n",
       "</span><span style=\"color:black;\">t</span><span style=\"color:lightgrey;\">•</span><span style=\"color:black;\">=</span><span style=\"color:lightgrey;\">•</span><span style=\"color:black;\">s</span><span style=\"color:black;\">e</span><span style=\"color:black;\">t</span><span style=\"color:black;\">(</span><span style=\"color:black;\">i</span><span style=\"color:black;\">n</span><span style=\"color:black;\">p</span><span style=\"color:black;\">u</span><span style=\"color:black;\">t</span><span style=\"color:black;\">(</span><span style=\"color:black;\">)</span><span style=\"color:black;\">.</span><span style=\"color:black;\">s</span><span style=\"color:black;\">p</span><span style=\"color:black;\">l</span><span style=\"color:black;\">i</span><span style=\"color:black;\">t</span><span style=\"color:black;\">(</span><span style=\"color:black;\">)</span><span style=\"color:black;\">)</span><span style=\"color:lightgrey;\">↵\n",
       "</span><span style=\"color:red;\">p</span><span style=\"color:red;\">r</span><span style=\"color:red;\">i</span><span style=\"color:red;\">n</span><span style=\"color:red;\">t</span><span style=\"color:red;\">(</span><span style=\"color:red;\">i</span><span style=\"color:red;\">n</span><span style=\"color:red;\">t</span><span style=\"color:red;\">(</span><span style=\"color:red;\">s</span><span style=\"color:red;\">•</span><span style=\"color:red;\">&</span><span style=\"color:red;\">•</span><span style=\"color:red;\">t</span><span style=\"color:red;\">)</span><span style=\"color:red;\">)</span><span style=\"color:red;\">↵\n",
       "</span></pre>"
      ],
      "text/plain": [
       "<IPython.core.display.HTML object>"
      ]
     },
     "metadata": {},
     "output_type": "display_data"
    },
    {
     "data": {
      "text/html": [
       "<h6>Changed Source Code</h6>"
      ],
      "text/plain": [
       "<IPython.core.display.HTML object>"
      ]
     },
     "metadata": {},
     "output_type": "display_data"
    },
    {
     "data": {
      "text/html": [
       "<pre><span style=\"color:black;\">#</span><span style=\"color:lightgrey;\">•</span><span style=\"color:black;\">-</span><span style=\"color:black;\">*</span><span style=\"color:black;\">-</span><span style=\"color:lightgrey;\">•</span><span style=\"color:black;\">c</span><span style=\"color:black;\">o</span><span style=\"color:black;\">d</span><span style=\"color:black;\">i</span><span style=\"color:black;\">n</span><span style=\"color:black;\">g</span><span style=\"color:black;\">:</span><span style=\"color:lightgrey;\">•</span><span style=\"color:black;\">u</span><span style=\"color:black;\">t</span><span style=\"color:black;\">f</span><span style=\"color:black;\">-</span><span style=\"color:black;\">8</span><span style=\"color:lightgrey;\">•</span><span style=\"color:black;\">-</span><span style=\"color:black;\">*</span><span style=\"color:black;\">-</span><span style=\"color:lightgrey;\">↵\n",
       "</span><span style=\"color:lightgrey;\">↵\n",
       "</span><span style=\"color:black;\">i</span><span style=\"color:black;\">n</span><span style=\"color:black;\">p</span><span style=\"color:black;\">u</span><span style=\"color:black;\">t</span><span style=\"color:black;\">(</span><span style=\"color:black;\">)</span><span style=\"color:lightgrey;\">↵\n",
       "</span><span style=\"color:black;\">s</span><span style=\"color:lightgrey;\">•</span><span style=\"color:black;\">=</span><span style=\"color:lightgrey;\">•</span><span style=\"color:black;\">s</span><span style=\"color:black;\">e</span><span style=\"color:black;\">t</span><span style=\"color:black;\">(</span><span style=\"color:black;\">i</span><span style=\"color:black;\">n</span><span style=\"color:black;\">p</span><span style=\"color:black;\">u</span><span style=\"color:black;\">t</span><span style=\"color:black;\">(</span><span style=\"color:black;\">)</span><span style=\"color:black;\">.</span><span style=\"color:black;\">s</span><span style=\"color:black;\">p</span><span style=\"color:black;\">l</span><span style=\"color:black;\">i</span><span style=\"color:black;\">t</span><span style=\"color:black;\">(</span><span style=\"color:black;\">)</span><span style=\"color:black;\">)</span><span style=\"color:lightgrey;\">↵\n",
       "</span><span style=\"color:black;\">i</span><span style=\"color:black;\">n</span><span style=\"color:black;\">p</span><span style=\"color:black;\">u</span><span style=\"color:black;\">t</span><span style=\"color:black;\">(</span><span style=\"color:black;\">)</span><span style=\"color:lightgrey;\">↵\n",
       "</span><span style=\"color:black;\">t</span><span style=\"color:lightgrey;\">•</span><span style=\"color:black;\">=</span><span style=\"color:lightgrey;\">•</span><span style=\"color:black;\">s</span><span style=\"color:black;\">e</span><span style=\"color:black;\">t</span><span style=\"color:black;\">(</span><span style=\"color:black;\">i</span><span style=\"color:black;\">n</span><span style=\"color:black;\">p</span><span style=\"color:black;\">u</span><span style=\"color:black;\">t</span><span style=\"color:black;\">(</span><span style=\"color:black;\">)</span><span style=\"color:black;\">.</span><span style=\"color:black;\">s</span><span style=\"color:black;\">p</span><span style=\"color:black;\">l</span><span style=\"color:black;\">i</span><span style=\"color:black;\">t</span><span style=\"color:black;\">(</span><span style=\"color:black;\">)</span><span style=\"color:black;\">)</span><span style=\"color:lightgrey;\">↵\n",
       "</span><span style=\"color:green;\">p</span><span style=\"color:green;\">r</span><span style=\"color:green;\">i</span><span style=\"color:green;\">n</span><span style=\"color:green;\">t</span><span style=\"color:green;\">(</span><span style=\"color:green;\">l</span><span style=\"color:green;\">e</span><span style=\"color:green;\">n</span><span style=\"color:green;\">(</span><span style=\"color:green;\">s</span><span style=\"color:green;\">•</span><span style=\"color:green;\">&</span><span style=\"color:green;\">•</span><span style=\"color:green;\">t</span><span style=\"color:green;\">)</span><span style=\"color:green;\">)</span><span style=\"color:green;\">↵\n",
       "</span></pre>"
      ],
      "text/plain": [
       "<IPython.core.display.HTML object>"
      ]
     },
     "metadata": {},
     "output_type": "display_data"
    },
    {
     "data": {
      "text/html": [
       "<h6>Codex Prediction</h6>"
      ],
      "text/plain": [
       "<IPython.core.display.HTML object>"
      ]
     },
     "metadata": {},
     "output_type": "display_data"
    },
    {
     "data": {
      "text/html": [
       "<pre><span style=\"color:green;\">p</span><span style=\"color:green;\">r</span><span style=\"color:green;\">i</span><span style=\"color:green;\">n</span><span style=\"color:green;\">t</span><span style=\"color:green;\">(</span><span style=\"color:green;\">l</span><span style=\"color:green;\">e</span><span style=\"color:green;\">n</span><span style=\"color:green;\">(</span><span style=\"color:green;\">s</span><span style=\"color:green;\">•</span><span style=\"color:green;\">&</span><span style=\"color:green;\">•</span><span style=\"color:green;\">t</span><span style=\"color:green;\">)</span><span style=\"color:green;\">)</span></pre>"
      ],
      "text/plain": [
       "<IPython.core.display.HTML object>"
      ]
     },
     "metadata": {},
     "output_type": "display_data"
    },
    {
     "data": {
      "text/html": [
       "<h2>Example 4</h2>"
      ],
      "text/plain": [
       "<IPython.core.display.HTML object>"
      ]
     },
     "metadata": {},
     "output_type": "display_data"
    },
    {
     "data": {
      "text/html": [
       "<h6>Original Source Code</h6>"
      ],
      "text/plain": [
       "<IPython.core.display.HTML object>"
      ]
     },
     "metadata": {},
     "output_type": "display_data"
    },
    {
     "data": {
      "text/html": [
       "<pre><span style=\"color:red;\">x</span><span style=\"color:red;\">•</span><span style=\"color:red;\">=</span><span style=\"color:red;\">•</span><span style=\"color:red;\">i</span><span style=\"color:red;\">n</span><span style=\"color:red;\">p</span><span style=\"color:red;\">u</span><span style=\"color:red;\">t</span><span style=\"color:red;\">(</span><span style=\"color:red;\">)</span><span style=\"color:red;\">↵\n",
       "</span><span style=\"color:black;\">p</span><span style=\"color:black;\">r</span><span style=\"color:black;\">i</span><span style=\"color:black;\">n</span><span style=\"color:black;\">t</span><span style=\"color:black;\">(</span><span style=\"color:black;\">x</span><span style=\"color:black;\">*</span><span style=\"color:black;\">*</span><span style=\"color:black;\">3</span><span style=\"color:black;\">)</span><span style=\"color:lightgrey;\">↵\n",
       "</span></pre>"
      ],
      "text/plain": [
       "<IPython.core.display.HTML object>"
      ]
     },
     "metadata": {},
     "output_type": "display_data"
    },
    {
     "data": {
      "text/html": [
       "<h6>Changed Source Code</h6>"
      ],
      "text/plain": [
       "<IPython.core.display.HTML object>"
      ]
     },
     "metadata": {},
     "output_type": "display_data"
    },
    {
     "data": {
      "text/html": [
       "<pre><span style=\"color:green;\">x</span><span style=\"color:green;\">•</span><span style=\"color:green;\">=</span><span style=\"color:green;\">•</span><span style=\"color:green;\">i</span><span style=\"color:green;\">n</span><span style=\"color:green;\">t</span><span style=\"color:green;\">(</span><span style=\"color:green;\">i</span><span style=\"color:green;\">n</span><span style=\"color:green;\">p</span><span style=\"color:green;\">u</span><span style=\"color:green;\">t</span><span style=\"color:green;\">(</span><span style=\"color:green;\">)</span><span style=\"color:green;\">)</span><span style=\"color:green;\">↵\n",
       "</span><span style=\"color:black;\">p</span><span style=\"color:black;\">r</span><span style=\"color:black;\">i</span><span style=\"color:black;\">n</span><span style=\"color:black;\">t</span><span style=\"color:black;\">(</span><span style=\"color:black;\">x</span><span style=\"color:black;\">*</span><span style=\"color:black;\">*</span><span style=\"color:black;\">3</span><span style=\"color:black;\">)</span><span style=\"color:lightgrey;\">↵\n",
       "</span></pre>"
      ],
      "text/plain": [
       "<IPython.core.display.HTML object>"
      ]
     },
     "metadata": {},
     "output_type": "display_data"
    },
    {
     "data": {
      "text/html": [
       "<h6>Codex Prediction</h6>"
      ],
      "text/plain": [
       "<IPython.core.display.HTML object>"
      ]
     },
     "metadata": {},
     "output_type": "display_data"
    },
    {
     "data": {
      "text/html": [
       "<pre><span style=\"color:green;\">x</span><span style=\"color:green;\">•</span><span style=\"color:green;\">=</span><span style=\"color:green;\">•</span><span style=\"color:green;\">i</span><span style=\"color:green;\">n</span><span style=\"color:green;\">t</span><span style=\"color:green;\">(</span><span style=\"color:green;\">i</span><span style=\"color:green;\">n</span><span style=\"color:green;\">p</span><span style=\"color:green;\">u</span><span style=\"color:green;\">t</span><span style=\"color:green;\">(</span><span style=\"color:green;\">)</span><span style=\"color:green;\">)</span></pre>"
      ],
      "text/plain": [
       "<IPython.core.display.HTML object>"
      ]
     },
     "metadata": {},
     "output_type": "display_data"
    },
    {
     "data": {
      "text/html": [
       "<h2>Example 5</h2>"
      ],
      "text/plain": [
       "<IPython.core.display.HTML object>"
      ]
     },
     "metadata": {},
     "output_type": "display_data"
    },
    {
     "data": {
      "text/html": [
       "<h6>Original Source Code</h6>"
      ],
      "text/plain": [
       "<IPython.core.display.HTML object>"
      ]
     },
     "metadata": {},
     "output_type": "display_data"
    },
    {
     "data": {
      "text/html": [
       "<pre><span style=\"color:red;\">x</span><span style=\"color:red;\">•</span><span style=\"color:red;\">=</span><span style=\"color:red;\">•</span><span style=\"color:red;\">i</span><span style=\"color:red;\">n</span><span style=\"color:red;\">p</span><span style=\"color:red;\">u</span><span style=\"color:red;\">t</span><span style=\"color:red;\">(</span><span style=\"color:red;\">)</span><span style=\"color:red;\">↵\n",
       "</span><span style=\"color:black;\">p</span><span style=\"color:black;\">r</span><span style=\"color:black;\">i</span><span style=\"color:black;\">n</span><span style=\"color:black;\">t</span><span style=\"color:black;\">(</span><span style=\"color:black;\">x</span><span style=\"color:black;\">*</span><span style=\"color:black;\">*</span><span style=\"color:black;\">3</span><span style=\"color:black;\">)</span><span style=\"color:lightgrey;\">↵\n",
       "</span></pre>"
      ],
      "text/plain": [
       "<IPython.core.display.HTML object>"
      ]
     },
     "metadata": {},
     "output_type": "display_data"
    },
    {
     "data": {
      "text/html": [
       "<h6>Changed Source Code</h6>"
      ],
      "text/plain": [
       "<IPython.core.display.HTML object>"
      ]
     },
     "metadata": {},
     "output_type": "display_data"
    },
    {
     "data": {
      "text/html": [
       "<pre><span style=\"color:green;\">x</span><span style=\"color:green;\">•</span><span style=\"color:green;\">=</span><span style=\"color:green;\">•</span><span style=\"color:green;\">i</span><span style=\"color:green;\">n</span><span style=\"color:green;\">t</span><span style=\"color:green;\">(</span><span style=\"color:green;\">i</span><span style=\"color:green;\">n</span><span style=\"color:green;\">p</span><span style=\"color:green;\">u</span><span style=\"color:green;\">t</span><span style=\"color:green;\">(</span><span style=\"color:green;\">)</span><span style=\"color:green;\">)</span><span style=\"color:green;\">↵\n",
       "</span><span style=\"color:black;\">p</span><span style=\"color:black;\">r</span><span style=\"color:black;\">i</span><span style=\"color:black;\">n</span><span style=\"color:black;\">t</span><span style=\"color:black;\">(</span><span style=\"color:black;\">x</span><span style=\"color:black;\">*</span><span style=\"color:black;\">*</span><span style=\"color:black;\">3</span><span style=\"color:black;\">)</span><span style=\"color:lightgrey;\">↵\n",
       "</span></pre>"
      ],
      "text/plain": [
       "<IPython.core.display.HTML object>"
      ]
     },
     "metadata": {},
     "output_type": "display_data"
    },
    {
     "data": {
      "text/html": [
       "<h6>Codex Prediction</h6>"
      ],
      "text/plain": [
       "<IPython.core.display.HTML object>"
      ]
     },
     "metadata": {},
     "output_type": "display_data"
    },
    {
     "data": {
      "text/html": [
       "<pre><span style=\"color:green;\">x</span><span style=\"color:green;\">•</span><span style=\"color:green;\">=</span><span style=\"color:green;\">•</span><span style=\"color:green;\">i</span><span style=\"color:green;\">n</span><span style=\"color:green;\">t</span><span style=\"color:green;\">(</span><span style=\"color:green;\">i</span><span style=\"color:green;\">n</span><span style=\"color:green;\">p</span><span style=\"color:green;\">u</span><span style=\"color:green;\">t</span><span style=\"color:green;\">(</span><span style=\"color:green;\">)</span><span style=\"color:green;\">)</span></pre>"
      ],
      "text/plain": [
       "<IPython.core.display.HTML object>"
      ]
     },
     "metadata": {},
     "output_type": "display_data"
    },
    {
     "data": {
      "text/html": [
       "<h2>Example 6</h2>"
      ],
      "text/plain": [
       "<IPython.core.display.HTML object>"
      ]
     },
     "metadata": {},
     "output_type": "display_data"
    },
    {
     "data": {
      "text/html": [
       "<h6>Original Source Code</h6>"
      ],
      "text/plain": [
       "<IPython.core.display.HTML object>"
      ]
     },
     "metadata": {},
     "output_type": "display_data"
    },
    {
     "data": {
      "text/html": [
       "<pre><span style=\"color:black;\">a</span><span style=\"color:black;\">,</span><span style=\"color:lightgrey;\">•</span><span style=\"color:black;\">b</span><span style=\"color:lightgrey;\">•</span><span style=\"color:black;\">=</span><span style=\"color:lightgrey;\">•</span><span style=\"color:black;\">m</span><span style=\"color:black;\">a</span><span style=\"color:black;\">p</span><span style=\"color:black;\">(</span><span style=\"color:black;\">i</span><span style=\"color:black;\">n</span><span style=\"color:black;\">t</span><span style=\"color:black;\">,</span><span style=\"color:lightgrey;\">•</span><span style=\"color:black;\">i</span><span style=\"color:black;\">n</span><span style=\"color:black;\">p</span><span style=\"color:black;\">u</span><span style=\"color:black;\">t</span><span style=\"color:black;\">(</span><span style=\"color:black;\">)</span><span style=\"color:black;\">.</span><span style=\"color:black;\">s</span><span style=\"color:black;\">p</span><span style=\"color:black;\">l</span><span style=\"color:black;\">i</span><span style=\"color:black;\">t</span><span style=\"color:black;\">(</span><span style=\"color:black;\">)</span><span style=\"color:black;\">)</span><span style=\"color:lightgrey;\">↵\n",
       "</span><span style=\"color:red;\">p</span><span style=\"color:red;\">r</span><span style=\"color:red;\">i</span><span style=\"color:red;\">n</span><span style=\"color:red;\">t</span><span style=\"color:red;\">(</span><span style=\"color:red;\">a</span><span style=\"color:red;\">•</span><span style=\"color:red;\">*</span><span style=\"color:red;\">•</span><span style=\"color:red;\">b</span><span style=\"color:red;\">,</span><span style=\"color:red;\">•</span><span style=\"color:red;\">2</span><span style=\"color:red;\">(</span><span style=\"color:red;\">a</span><span style=\"color:red;\">•</span><span style=\"color:red;\">+</span><span style=\"color:red;\">•</span><span style=\"color:red;\">b</span><span style=\"color:red;\">)</span><span style=\"color:red;\">)</span><span style=\"color:red;\">↵\n",
       "</span></pre>"
      ],
      "text/plain": [
       "<IPython.core.display.HTML object>"
      ]
     },
     "metadata": {},
     "output_type": "display_data"
    },
    {
     "data": {
      "text/html": [
       "<h6>Changed Source Code</h6>"
      ],
      "text/plain": [
       "<IPython.core.display.HTML object>"
      ]
     },
     "metadata": {},
     "output_type": "display_data"
    },
    {
     "data": {
      "text/html": [
       "<pre><span style=\"color:black;\">a</span><span style=\"color:black;\">,</span><span style=\"color:lightgrey;\">•</span><span style=\"color:black;\">b</span><span style=\"color:lightgrey;\">•</span><span style=\"color:black;\">=</span><span style=\"color:lightgrey;\">•</span><span style=\"color:black;\">m</span><span style=\"color:black;\">a</span><span style=\"color:black;\">p</span><span style=\"color:black;\">(</span><span style=\"color:black;\">i</span><span style=\"color:black;\">n</span><span style=\"color:black;\">t</span><span style=\"color:black;\">,</span><span style=\"color:lightgrey;\">•</span><span style=\"color:black;\">i</span><span style=\"color:black;\">n</span><span style=\"color:black;\">p</span><span style=\"color:black;\">u</span><span style=\"color:black;\">t</span><span style=\"color:black;\">(</span><span style=\"color:black;\">)</span><span style=\"color:black;\">.</span><span style=\"color:black;\">s</span><span style=\"color:black;\">p</span><span style=\"color:black;\">l</span><span style=\"color:black;\">i</span><span style=\"color:black;\">t</span><span style=\"color:black;\">(</span><span style=\"color:black;\">)</span><span style=\"color:black;\">)</span><span style=\"color:lightgrey;\">↵\n",
       "</span><span style=\"color:green;\">p</span><span style=\"color:green;\">r</span><span style=\"color:green;\">i</span><span style=\"color:green;\">n</span><span style=\"color:green;\">t</span><span style=\"color:green;\">(</span><span style=\"color:green;\">a</span><span style=\"color:green;\">•</span><span style=\"color:green;\">*</span><span style=\"color:green;\">•</span><span style=\"color:green;\">b</span><span style=\"color:green;\">,</span><span style=\"color:green;\">•</span><span style=\"color:green;\">2</span><span style=\"color:green;\">•</span><span style=\"color:green;\">*</span><span style=\"color:green;\">•</span><span style=\"color:green;\">(</span><span style=\"color:green;\">a</span><span style=\"color:green;\">•</span><span style=\"color:green;\">+</span><span style=\"color:green;\">•</span><span style=\"color:green;\">b</span><span style=\"color:green;\">)</span><span style=\"color:green;\">)</span><span style=\"color:green;\">↵\n",
       "</span></pre>"
      ],
      "text/plain": [
       "<IPython.core.display.HTML object>"
      ]
     },
     "metadata": {},
     "output_type": "display_data"
    },
    {
     "data": {
      "text/html": [
       "<h6>Codex Prediction</h6>"
      ],
      "text/plain": [
       "<IPython.core.display.HTML object>"
      ]
     },
     "metadata": {},
     "output_type": "display_data"
    },
    {
     "data": {
      "text/html": [
       "<pre><span style=\"color:green;\">p</span><span style=\"color:green;\">r</span><span style=\"color:green;\">i</span><span style=\"color:green;\">n</span><span style=\"color:green;\">t</span><span style=\"color:green;\">(</span><span style=\"color:green;\">a</span><span style=\"color:green;\">•</span><span style=\"color:green;\">*</span><span style=\"color:green;\">•</span><span style=\"color:green;\">b</span><span style=\"color:green;\">,</span><span style=\"color:green;\">•</span><span style=\"color:green;\">2</span><span style=\"color:green;\">•</span><span style=\"color:green;\">*</span><span style=\"color:green;\">•</span><span style=\"color:green;\">(</span><span style=\"color:green;\">a</span><span style=\"color:green;\">•</span><span style=\"color:green;\">+</span><span style=\"color:green;\">•</span><span style=\"color:green;\">b</span><span style=\"color:green;\">)</span><span style=\"color:green;\">)</span></pre>"
      ],
      "text/plain": [
       "<IPython.core.display.HTML object>"
      ]
     },
     "metadata": {},
     "output_type": "display_data"
    },
    {
     "data": {
      "text/html": [
       "<h2>Example 7</h2>"
      ],
      "text/plain": [
       "<IPython.core.display.HTML object>"
      ]
     },
     "metadata": {},
     "output_type": "display_data"
    },
    {
     "data": {
      "text/html": [
       "<h6>Original Source Code</h6>"
      ],
      "text/plain": [
       "<IPython.core.display.HTML object>"
      ]
     },
     "metadata": {},
     "output_type": "display_data"
    },
    {
     "data": {
      "text/html": [
       "<pre><span style=\"color:black;\">n</span><span style=\"color:black;\">u</span><span style=\"color:black;\">m</span><span style=\"color:black;\">s</span><span style=\"color:lightgrey;\">•</span><span style=\"color:black;\">=</span><span style=\"color:lightgrey;\">•</span><span style=\"color:black;\">l</span><span style=\"color:black;\">i</span><span style=\"color:black;\">s</span><span style=\"color:black;\">t</span><span style=\"color:black;\">(</span><span style=\"color:black;\">m</span><span style=\"color:black;\">a</span><span style=\"color:black;\">p</span><span style=\"color:black;\">(</span><span style=\"color:black;\">i</span><span style=\"color:black;\">n</span><span style=\"color:black;\">t</span><span style=\"color:black;\">,</span><span style=\"color:lightgrey;\">•</span><span style=\"color:black;\">i</span><span style=\"color:black;\">n</span><span style=\"color:black;\">p</span><span style=\"color:black;\">u</span><span style=\"color:black;\">t</span><span style=\"color:black;\">(</span><span style=\"color:black;\">)</span><span style=\"color:black;\">.</span><span style=\"color:black;\">s</span><span style=\"color:black;\">p</span><span style=\"color:black;\">l</span><span style=\"color:black;\">i</span><span style=\"color:black;\">t</span><span style=\"color:black;\">(</span><span style=\"color:black;\">\"</span><span style=\"color:lightgrey;\">•</span><span style=\"color:black;\">\"</span><span style=\"color:black;\">)</span><span style=\"color:black;\">)</span><span style=\"color:black;\">)</span><span style=\"color:lightgrey;\">↵\n",
       "</span><span style=\"color:black;\">a</span><span style=\"color:black;\">r</span><span style=\"color:black;\">e</span><span style=\"color:black;\">a</span><span style=\"color:lightgrey;\">•</span><span style=\"color:black;\">=</span><span style=\"color:lightgrey;\">•</span><span style=\"color:black;\">n</span><span style=\"color:black;\">u</span><span style=\"color:black;\">m</span><span style=\"color:black;\">s</span><span style=\"color:black;\">[</span><span style=\"color:black;\">0</span><span style=\"color:black;\">]</span><span style=\"color:lightgrey;\">•</span><span style=\"color:black;\">*</span><span style=\"color:lightgrey;\">•</span><span style=\"color:black;\">n</span><span style=\"color:black;\">u</span><span style=\"color:black;\">m</span><span style=\"color:black;\">s</span><span style=\"color:black;\">[</span><span style=\"color:black;\">1</span><span style=\"color:black;\">]</span><span style=\"color:lightgrey;\">↵\n",
       "</span><span style=\"color:black;\">p</span><span style=\"color:black;\">e</span><span style=\"color:black;\">r</span><span style=\"color:black;\">i</span><span style=\"color:black;\">m</span><span style=\"color:black;\">e</span><span style=\"color:black;\">t</span><span style=\"color:black;\">e</span><span style=\"color:black;\">r</span><span style=\"color:lightgrey;\">•</span><span style=\"color:black;\">=</span><span style=\"color:lightgrey;\">•</span><span style=\"color:black;\">n</span><span style=\"color:black;\">u</span><span style=\"color:black;\">m</span><span style=\"color:black;\">s</span><span style=\"color:black;\">[</span><span style=\"color:black;\">0</span><span style=\"color:black;\">]</span><span style=\"color:lightgrey;\">•</span><span style=\"color:black;\">*</span><span style=\"color:lightgrey;\">•</span><span style=\"color:black;\">2</span><span style=\"color:lightgrey;\">•</span><span style=\"color:black;\">+</span><span style=\"color:lightgrey;\">•</span><span style=\"color:black;\">n</span><span style=\"color:black;\">u</span><span style=\"color:black;\">m</span><span style=\"color:black;\">s</span><span style=\"color:black;\">[</span><span style=\"color:black;\">1</span><span style=\"color:black;\">]</span><span style=\"color:lightgrey;\">•</span><span style=\"color:black;\">*</span><span style=\"color:lightgrey;\">•</span><span style=\"color:black;\">2</span><span style=\"color:lightgrey;\">↵\n",
       "</span><span style=\"color:red;\">p</span><span style=\"color:red;\">r</span><span style=\"color:red;\">i</span><span style=\"color:red;\">n</span><span style=\"color:red;\">t</span><span style=\"color:red;\">(</span><span style=\"color:red;\">a</span><span style=\"color:red;\">r</span><span style=\"color:red;\">e</span><span style=\"color:red;\">a</span><span style=\"color:red;\">•</span><span style=\"color:red;\">+</span><span style=\"color:red;\">•</span><span style=\"color:red;\">\"</span><span style=\"color:red;\">•</span><span style=\"color:red;\">\"</span><span style=\"color:red;\">•</span><span style=\"color:red;\">+</span><span style=\"color:red;\">•</span><span style=\"color:red;\">p</span><span style=\"color:red;\">e</span><span style=\"color:red;\">r</span><span style=\"color:red;\">i</span><span style=\"color:red;\">m</span><span style=\"color:red;\">e</span><span style=\"color:red;\">t</span><span style=\"color:red;\">e</span><span style=\"color:red;\">r</span><span style=\"color:red;\">)</span><span style=\"color:red;\">↵\n",
       "</span></pre>"
      ],
      "text/plain": [
       "<IPython.core.display.HTML object>"
      ]
     },
     "metadata": {},
     "output_type": "display_data"
    },
    {
     "data": {
      "text/html": [
       "<h6>Changed Source Code</h6>"
      ],
      "text/plain": [
       "<IPython.core.display.HTML object>"
      ]
     },
     "metadata": {},
     "output_type": "display_data"
    },
    {
     "data": {
      "text/html": [
       "<pre><span style=\"color:black;\">n</span><span style=\"color:black;\">u</span><span style=\"color:black;\">m</span><span style=\"color:black;\">s</span><span style=\"color:lightgrey;\">•</span><span style=\"color:black;\">=</span><span style=\"color:lightgrey;\">•</span><span style=\"color:black;\">l</span><span style=\"color:black;\">i</span><span style=\"color:black;\">s</span><span style=\"color:black;\">t</span><span style=\"color:black;\">(</span><span style=\"color:black;\">m</span><span style=\"color:black;\">a</span><span style=\"color:black;\">p</span><span style=\"color:black;\">(</span><span style=\"color:black;\">i</span><span style=\"color:black;\">n</span><span style=\"color:black;\">t</span><span style=\"color:black;\">,</span><span style=\"color:lightgrey;\">•</span><span style=\"color:black;\">i</span><span style=\"color:black;\">n</span><span style=\"color:black;\">p</span><span style=\"color:black;\">u</span><span style=\"color:black;\">t</span><span style=\"color:black;\">(</span><span style=\"color:black;\">)</span><span style=\"color:black;\">.</span><span style=\"color:black;\">s</span><span style=\"color:black;\">p</span><span style=\"color:black;\">l</span><span style=\"color:black;\">i</span><span style=\"color:black;\">t</span><span style=\"color:black;\">(</span><span style=\"color:black;\">\"</span><span style=\"color:lightgrey;\">•</span><span style=\"color:black;\">\"</span><span style=\"color:black;\">)</span><span style=\"color:black;\">)</span><span style=\"color:black;\">)</span><span style=\"color:lightgrey;\">↵\n",
       "</span><span style=\"color:black;\">a</span><span style=\"color:black;\">r</span><span style=\"color:black;\">e</span><span style=\"color:black;\">a</span><span style=\"color:lightgrey;\">•</span><span style=\"color:black;\">=</span><span style=\"color:lightgrey;\">•</span><span style=\"color:black;\">n</span><span style=\"color:black;\">u</span><span style=\"color:black;\">m</span><span style=\"color:black;\">s</span><span style=\"color:black;\">[</span><span style=\"color:black;\">0</span><span style=\"color:black;\">]</span><span style=\"color:lightgrey;\">•</span><span style=\"color:black;\">*</span><span style=\"color:lightgrey;\">•</span><span style=\"color:black;\">n</span><span style=\"color:black;\">u</span><span style=\"color:black;\">m</span><span style=\"color:black;\">s</span><span style=\"color:black;\">[</span><span style=\"color:black;\">1</span><span style=\"color:black;\">]</span><span style=\"color:lightgrey;\">↵\n",
       "</span><span style=\"color:black;\">p</span><span style=\"color:black;\">e</span><span style=\"color:black;\">r</span><span style=\"color:black;\">i</span><span style=\"color:black;\">m</span><span style=\"color:black;\">e</span><span style=\"color:black;\">t</span><span style=\"color:black;\">e</span><span style=\"color:black;\">r</span><span style=\"color:lightgrey;\">•</span><span style=\"color:black;\">=</span><span style=\"color:lightgrey;\">•</span><span style=\"color:black;\">n</span><span style=\"color:black;\">u</span><span style=\"color:black;\">m</span><span style=\"color:black;\">s</span><span style=\"color:black;\">[</span><span style=\"color:black;\">0</span><span style=\"color:black;\">]</span><span style=\"color:lightgrey;\">•</span><span style=\"color:black;\">*</span><span style=\"color:lightgrey;\">•</span><span style=\"color:black;\">2</span><span style=\"color:lightgrey;\">•</span><span style=\"color:black;\">+</span><span style=\"color:lightgrey;\">•</span><span style=\"color:black;\">n</span><span style=\"color:black;\">u</span><span style=\"color:black;\">m</span><span style=\"color:black;\">s</span><span style=\"color:black;\">[</span><span style=\"color:black;\">1</span><span style=\"color:black;\">]</span><span style=\"color:lightgrey;\">•</span><span style=\"color:black;\">*</span><span style=\"color:lightgrey;\">•</span><span style=\"color:black;\">2</span><span style=\"color:lightgrey;\">↵\n",
       "</span><span style=\"color:green;\">p</span><span style=\"color:green;\">r</span><span style=\"color:green;\">i</span><span style=\"color:green;\">n</span><span style=\"color:green;\">t</span><span style=\"color:green;\">(</span><span style=\"color:green;\">s</span><span style=\"color:green;\">t</span><span style=\"color:green;\">r</span><span style=\"color:green;\">(</span><span style=\"color:green;\">a</span><span style=\"color:green;\">r</span><span style=\"color:green;\">e</span><span style=\"color:green;\">a</span><span style=\"color:green;\">)</span><span style=\"color:green;\">•</span><span style=\"color:green;\">+</span><span style=\"color:green;\">•</span><span style=\"color:green;\">\"</span><span style=\"color:green;\">•</span><span style=\"color:green;\">\"</span><span style=\"color:green;\">•</span><span style=\"color:green;\">+</span><span style=\"color:green;\">•</span><span style=\"color:green;\">s</span><span style=\"color:green;\">t</span><span style=\"color:green;\">r</span><span style=\"color:green;\">(</span><span style=\"color:green;\">p</span><span style=\"color:green;\">e</span><span style=\"color:green;\">r</span><span style=\"color:green;\">i</span><span style=\"color:green;\">m</span><span style=\"color:green;\">e</span><span style=\"color:green;\">t</span><span style=\"color:green;\">e</span><span style=\"color:green;\">r</span><span style=\"color:green;\">)</span><span style=\"color:green;\">)</span><span style=\"color:green;\">↵\n",
       "</span></pre>"
      ],
      "text/plain": [
       "<IPython.core.display.HTML object>"
      ]
     },
     "metadata": {},
     "output_type": "display_data"
    },
    {
     "data": {
      "text/html": [
       "<h6>Codex Prediction</h6>"
      ],
      "text/plain": [
       "<IPython.core.display.HTML object>"
      ]
     },
     "metadata": {},
     "output_type": "display_data"
    },
    {
     "data": {
      "text/html": [
       "<pre><span style=\"color:green;\">p</span><span style=\"color:green;\">r</span><span style=\"color:green;\">i</span><span style=\"color:green;\">n</span><span style=\"color:green;\">t</span><span style=\"color:green;\">(</span><span style=\"color:green;\">s</span><span style=\"color:green;\">t</span><span style=\"color:green;\">r</span><span style=\"color:green;\">(</span><span style=\"color:green;\">a</span><span style=\"color:green;\">r</span><span style=\"color:green;\">e</span><span style=\"color:green;\">a</span><span style=\"color:green;\">)</span><span style=\"color:green;\">•</span><span style=\"color:green;\">+</span><span style=\"color:green;\">•</span><span style=\"color:green;\">\"</span><span style=\"color:green;\">•</span><span style=\"color:green;\">\"</span><span style=\"color:green;\">•</span><span style=\"color:green;\">+</span><span style=\"color:green;\">•</span><span style=\"color:green;\">s</span><span style=\"color:green;\">t</span><span style=\"color:green;\">r</span><span style=\"color:green;\">(</span><span style=\"color:green;\">p</span><span style=\"color:green;\">e</span><span style=\"color:green;\">r</span><span style=\"color:green;\">i</span><span style=\"color:green;\">m</span><span style=\"color:green;\">e</span><span style=\"color:green;\">t</span><span style=\"color:green;\">e</span><span style=\"color:green;\">r</span><span style=\"color:green;\">)</span><span style=\"color:green;\">)</span></pre>"
      ],
      "text/plain": [
       "<IPython.core.display.HTML object>"
      ]
     },
     "metadata": {},
     "output_type": "display_data"
    },
    {
     "data": {
      "text/html": [
       "<h2>Example 8</h2>"
      ],
      "text/plain": [
       "<IPython.core.display.HTML object>"
      ]
     },
     "metadata": {},
     "output_type": "display_data"
    },
    {
     "data": {
      "text/html": [
       "<h6>Original Source Code</h6>"
      ],
      "text/plain": [
       "<IPython.core.display.HTML object>"
      ]
     },
     "metadata": {},
     "output_type": "display_data"
    },
    {
     "data": {
      "text/html": [
       "<pre><span style=\"color:red;\">x</span><span style=\"color:red;\">•</span><span style=\"color:red;\">=</span><span style=\"color:red;\">•</span><span style=\"color:red;\">i</span><span style=\"color:red;\">n</span><span style=\"color:red;\">p</span><span style=\"color:red;\">u</span><span style=\"color:red;\">t</span><span style=\"color:red;\">(</span><span style=\"color:red;\">)</span><span style=\"color:red;\">↵\n",
       "</span><span style=\"color:black;\">s</span><span style=\"color:lightgrey;\">•</span><span style=\"color:black;\">=</span><span style=\"color:lightgrey;\">•</span><span style=\"color:black;\">x</span><span style=\"color:lightgrey;\">•</span><span style=\"color:black;\">%</span><span style=\"color:lightgrey;\">•</span><span style=\"color:black;\">6</span><span style=\"color:black;\">0</span><span style=\"color:lightgrey;\">↵\n",
       "</span><span style=\"color:black;\">x</span><span style=\"color:lightgrey;\">•</span><span style=\"color:black;\">/</span><span style=\"color:black;\">/</span><span style=\"color:black;\">=</span><span style=\"color:lightgrey;\">•</span><span style=\"color:black;\">6</span><span style=\"color:black;\">0</span><span style=\"color:lightgrey;\">↵\n",
       "</span><span style=\"color:black;\">m</span><span style=\"color:lightgrey;\">•</span><span style=\"color:black;\">=</span><span style=\"color:lightgrey;\">•</span><span style=\"color:black;\">x</span><span style=\"color:lightgrey;\">•</span><span style=\"color:black;\">%</span><span style=\"color:lightgrey;\">•</span><span style=\"color:black;\">6</span><span style=\"color:black;\">0</span><span style=\"color:lightgrey;\">↵\n",
       "</span><span style=\"color:black;\">x</span><span style=\"color:lightgrey;\">•</span><span style=\"color:black;\">/</span><span style=\"color:black;\">/</span><span style=\"color:black;\">=</span><span style=\"color:lightgrey;\">•</span><span style=\"color:black;\">6</span><span style=\"color:black;\">0</span><span style=\"color:lightgrey;\">↵\n",
       "</span><span style=\"color:black;\">p</span><span style=\"color:black;\">r</span><span style=\"color:black;\">i</span><span style=\"color:black;\">n</span><span style=\"color:black;\">t</span><span style=\"color:black;\">(</span><span style=\"color:black;\">\"</span><span style=\"color:black;\">{</span><span style=\"color:black;\">}</span><span style=\"color:black;\">:</span><span style=\"color:black;\">{</span><span style=\"color:black;\">}</span><span style=\"color:black;\">:</span><span style=\"color:black;\">{</span><span style=\"color:black;\">}</span><span style=\"color:black;\">\"</span><span style=\"color:black;\">.</span><span style=\"color:black;\">f</span><span style=\"color:black;\">o</span><span style=\"color:black;\">r</span><span style=\"color:black;\">m</span><span style=\"color:black;\">a</span><span style=\"color:black;\">t</span><span style=\"color:black;\">(</span><span style=\"color:black;\">x</span><span style=\"color:black;\">,</span><span style=\"color:lightgrey;\">•</span><span style=\"color:black;\">m</span><span style=\"color:black;\">,</span><span style=\"color:lightgrey;\">•</span><span style=\"color:black;\">s</span><span style=\"color:black;\">)</span><span style=\"color:black;\">)</span><span style=\"color:lightgrey;\">↵\n",
       "</span></pre>"
      ],
      "text/plain": [
       "<IPython.core.display.HTML object>"
      ]
     },
     "metadata": {},
     "output_type": "display_data"
    },
    {
     "data": {
      "text/html": [
       "<h6>Changed Source Code</h6>"
      ],
      "text/plain": [
       "<IPython.core.display.HTML object>"
      ]
     },
     "metadata": {},
     "output_type": "display_data"
    },
    {
     "data": {
      "text/html": [
       "<pre><span style=\"color:green;\">x</span><span style=\"color:green;\">•</span><span style=\"color:green;\">=</span><span style=\"color:green;\">•</span><span style=\"color:green;\">i</span><span style=\"color:green;\">n</span><span style=\"color:green;\">t</span><span style=\"color:green;\">(</span><span style=\"color:green;\">i</span><span style=\"color:green;\">n</span><span style=\"color:green;\">p</span><span style=\"color:green;\">u</span><span style=\"color:green;\">t</span><span style=\"color:green;\">(</span><span style=\"color:green;\">)</span><span style=\"color:green;\">)</span><span style=\"color:green;\">↵\n",
       "</span><span style=\"color:black;\">s</span><span style=\"color:lightgrey;\">•</span><span style=\"color:black;\">=</span><span style=\"color:lightgrey;\">•</span><span style=\"color:black;\">x</span><span style=\"color:lightgrey;\">•</span><span style=\"color:black;\">%</span><span style=\"color:lightgrey;\">•</span><span style=\"color:black;\">6</span><span style=\"color:black;\">0</span><span style=\"color:lightgrey;\">↵\n",
       "</span><span style=\"color:black;\">x</span><span style=\"color:lightgrey;\">•</span><span style=\"color:black;\">/</span><span style=\"color:black;\">/</span><span style=\"color:black;\">=</span><span style=\"color:lightgrey;\">•</span><span style=\"color:black;\">6</span><span style=\"color:black;\">0</span><span style=\"color:lightgrey;\">↵\n",
       "</span><span style=\"color:black;\">m</span><span style=\"color:lightgrey;\">•</span><span style=\"color:black;\">=</span><span style=\"color:lightgrey;\">•</span><span style=\"color:black;\">x</span><span style=\"color:lightgrey;\">•</span><span style=\"color:black;\">%</span><span style=\"color:lightgrey;\">•</span><span style=\"color:black;\">6</span><span style=\"color:black;\">0</span><span style=\"color:lightgrey;\">↵\n",
       "</span><span style=\"color:black;\">x</span><span style=\"color:lightgrey;\">•</span><span style=\"color:black;\">/</span><span style=\"color:black;\">/</span><span style=\"color:black;\">=</span><span style=\"color:lightgrey;\">•</span><span style=\"color:black;\">6</span><span style=\"color:black;\">0</span><span style=\"color:lightgrey;\">↵\n",
       "</span><span style=\"color:black;\">p</span><span style=\"color:black;\">r</span><span style=\"color:black;\">i</span><span style=\"color:black;\">n</span><span style=\"color:black;\">t</span><span style=\"color:black;\">(</span><span style=\"color:black;\">\"</span><span style=\"color:black;\">{</span><span style=\"color:black;\">}</span><span style=\"color:black;\">:</span><span style=\"color:black;\">{</span><span style=\"color:black;\">}</span><span style=\"color:black;\">:</span><span style=\"color:black;\">{</span><span style=\"color:black;\">}</span><span style=\"color:black;\">\"</span><span style=\"color:black;\">.</span><span style=\"color:black;\">f</span><span style=\"color:black;\">o</span><span style=\"color:black;\">r</span><span style=\"color:black;\">m</span><span style=\"color:black;\">a</span><span style=\"color:black;\">t</span><span style=\"color:black;\">(</span><span style=\"color:black;\">x</span><span style=\"color:black;\">,</span><span style=\"color:lightgrey;\">•</span><span style=\"color:black;\">m</span><span style=\"color:black;\">,</span><span style=\"color:lightgrey;\">•</span><span style=\"color:black;\">s</span><span style=\"color:black;\">)</span><span style=\"color:black;\">)</span><span style=\"color:lightgrey;\">↵\n",
       "</span></pre>"
      ],
      "text/plain": [
       "<IPython.core.display.HTML object>"
      ]
     },
     "metadata": {},
     "output_type": "display_data"
    },
    {
     "data": {
      "text/html": [
       "<h6>Codex Prediction</h6>"
      ],
      "text/plain": [
       "<IPython.core.display.HTML object>"
      ]
     },
     "metadata": {},
     "output_type": "display_data"
    },
    {
     "data": {
      "text/html": [
       "<pre><span style=\"color:green;\">x</span><span style=\"color:green;\">•</span><span style=\"color:green;\">=</span><span style=\"color:green;\">•</span><span style=\"color:green;\">i</span><span style=\"color:green;\">n</span><span style=\"color:green;\">t</span><span style=\"color:green;\">(</span><span style=\"color:green;\">i</span><span style=\"color:green;\">n</span><span style=\"color:green;\">p</span><span style=\"color:green;\">u</span><span style=\"color:green;\">t</span><span style=\"color:green;\">(</span><span style=\"color:green;\">)</span><span style=\"color:green;\">)</span></pre>"
      ],
      "text/plain": [
       "<IPython.core.display.HTML object>"
      ]
     },
     "metadata": {},
     "output_type": "display_data"
    },
    {
     "data": {
      "text/html": [
       "<h2>Example 9</h2>"
      ],
      "text/plain": [
       "<IPython.core.display.HTML object>"
      ]
     },
     "metadata": {},
     "output_type": "display_data"
    },
    {
     "data": {
      "text/html": [
       "<h6>Original Source Code</h6>"
      ],
      "text/plain": [
       "<IPython.core.display.HTML object>"
      ]
     },
     "metadata": {},
     "output_type": "display_data"
    },
    {
     "data": {
      "text/html": [
       "<pre><span style=\"color:black;\">i</span><span style=\"color:black;\">n</span><span style=\"color:black;\">p</span><span style=\"color:black;\">u</span><span style=\"color:black;\">t</span><span style=\"color:black;\">(</span><span style=\"color:black;\">)</span><span style=\"color:lightgrey;\">↵\n",
       "</span><span style=\"color:red;\">l</span><span style=\"color:red;\">i</span><span style=\"color:red;\">•</span><span style=\"color:red;\">=</span><span style=\"color:red;\">•</span><span style=\"color:red;\">m</span><span style=\"color:red;\">a</span><span style=\"color:red;\">p</span><span style=\"color:red;\">(</span><span style=\"color:red;\">i</span><span style=\"color:red;\">n</span><span style=\"color:red;\">t</span><span style=\"color:red;\">,</span><span style=\"color:red;\">•</span><span style=\"color:red;\">i</span><span style=\"color:red;\">n</span><span style=\"color:red;\">p</span><span style=\"color:red;\">u</span><span style=\"color:red;\">t</span><span style=\"color:red;\">(</span><span style=\"color:red;\">)</span><span style=\"color:red;\">.</span><span style=\"color:red;\">s</span><span style=\"color:red;\">p</span><span style=\"color:red;\">l</span><span style=\"color:red;\">i</span><span style=\"color:red;\">t</span><span style=\"color:red;\">(</span><span style=\"color:red;\">)</span><span style=\"color:red;\">)</span><span style=\"color:red;\">↵\n",
       "</span><span style=\"color:black;\">p</span><span style=\"color:black;\">r</span><span style=\"color:black;\">i</span><span style=\"color:black;\">n</span><span style=\"color:black;\">t</span><span style=\"color:black;\">(</span><span style=\"color:black;\">m</span><span style=\"color:black;\">i</span><span style=\"color:black;\">n</span><span style=\"color:black;\">(</span><span style=\"color:black;\">l</span><span style=\"color:black;\">i</span><span style=\"color:black;\">)</span><span style=\"color:black;\">,</span><span style=\"color:lightgrey;\">•</span><span style=\"color:black;\">m</span><span style=\"color:black;\">a</span><span style=\"color:black;\">x</span><span style=\"color:black;\">(</span><span style=\"color:black;\">l</span><span style=\"color:black;\">i</span><span style=\"color:black;\">)</span><span style=\"color:black;\">,</span><span style=\"color:lightgrey;\">•</span><span style=\"color:black;\">s</span><span style=\"color:black;\">u</span><span style=\"color:black;\">m</span><span style=\"color:black;\">(</span><span style=\"color:black;\">l</span><span style=\"color:black;\">i</span><span style=\"color:black;\">)</span><span style=\"color:black;\">)</span><span style=\"color:lightgrey;\">↵\n",
       "</span></pre>"
      ],
      "text/plain": [
       "<IPython.core.display.HTML object>"
      ]
     },
     "metadata": {},
     "output_type": "display_data"
    },
    {
     "data": {
      "text/html": [
       "<h6>Changed Source Code</h6>"
      ],
      "text/plain": [
       "<IPython.core.display.HTML object>"
      ]
     },
     "metadata": {},
     "output_type": "display_data"
    },
    {
     "data": {
      "text/html": [
       "<pre><span style=\"color:black;\">i</span><span style=\"color:black;\">n</span><span style=\"color:black;\">p</span><span style=\"color:black;\">u</span><span style=\"color:black;\">t</span><span style=\"color:black;\">(</span><span style=\"color:black;\">)</span><span style=\"color:lightgrey;\">↵\n",
       "</span><span style=\"color:green;\">l</span><span style=\"color:green;\">i</span><span style=\"color:green;\">•</span><span style=\"color:green;\">=</span><span style=\"color:green;\">•</span><span style=\"color:green;\">l</span><span style=\"color:green;\">i</span><span style=\"color:green;\">s</span><span style=\"color:green;\">t</span><span style=\"color:green;\">(</span><span style=\"color:green;\">m</span><span style=\"color:green;\">a</span><span style=\"color:green;\">p</span><span style=\"color:green;\">(</span><span style=\"color:green;\">i</span><span style=\"color:green;\">n</span><span style=\"color:green;\">t</span><span style=\"color:green;\">,</span><span style=\"color:green;\">•</span><span style=\"color:green;\">i</span><span style=\"color:green;\">n</span><span style=\"color:green;\">p</span><span style=\"color:green;\">u</span><span style=\"color:green;\">t</span><span style=\"color:green;\">(</span><span style=\"color:green;\">)</span><span style=\"color:green;\">.</span><span style=\"color:green;\">s</span><span style=\"color:green;\">p</span><span style=\"color:green;\">l</span><span style=\"color:green;\">i</span><span style=\"color:green;\">t</span><span style=\"color:green;\">(</span><span style=\"color:green;\">)</span><span style=\"color:green;\">)</span><span style=\"color:green;\">)</span><span style=\"color:green;\">↵\n",
       "</span><span style=\"color:black;\">p</span><span style=\"color:black;\">r</span><span style=\"color:black;\">i</span><span style=\"color:black;\">n</span><span style=\"color:black;\">t</span><span style=\"color:black;\">(</span><span style=\"color:black;\">m</span><span style=\"color:black;\">i</span><span style=\"color:black;\">n</span><span style=\"color:black;\">(</span><span style=\"color:black;\">l</span><span style=\"color:black;\">i</span><span style=\"color:black;\">)</span><span style=\"color:black;\">,</span><span style=\"color:lightgrey;\">•</span><span style=\"color:black;\">m</span><span style=\"color:black;\">a</span><span style=\"color:black;\">x</span><span style=\"color:black;\">(</span><span style=\"color:black;\">l</span><span style=\"color:black;\">i</span><span style=\"color:black;\">)</span><span style=\"color:black;\">,</span><span style=\"color:lightgrey;\">•</span><span style=\"color:black;\">s</span><span style=\"color:black;\">u</span><span style=\"color:black;\">m</span><span style=\"color:black;\">(</span><span style=\"color:black;\">l</span><span style=\"color:black;\">i</span><span style=\"color:black;\">)</span><span style=\"color:black;\">)</span><span style=\"color:lightgrey;\">↵\n",
       "</span></pre>"
      ],
      "text/plain": [
       "<IPython.core.display.HTML object>"
      ]
     },
     "metadata": {},
     "output_type": "display_data"
    },
    {
     "data": {
      "text/html": [
       "<h6>Codex Prediction</h6>"
      ],
      "text/plain": [
       "<IPython.core.display.HTML object>"
      ]
     },
     "metadata": {},
     "output_type": "display_data"
    },
    {
     "data": {
      "text/html": [
       "<pre><span style=\"color:green;\">l</span><span style=\"color:green;\">i</span><span style=\"color:green;\">•</span><span style=\"color:green;\">=</span><span style=\"color:green;\">•</span><span style=\"color:green;\">l</span><span style=\"color:green;\">i</span><span style=\"color:green;\">s</span><span style=\"color:green;\">t</span><span style=\"color:green;\">(</span><span style=\"color:green;\">m</span><span style=\"color:green;\">a</span><span style=\"color:green;\">p</span><span style=\"color:green;\">(</span><span style=\"color:green;\">i</span><span style=\"color:green;\">n</span><span style=\"color:green;\">t</span><span style=\"color:green;\">,</span><span style=\"color:green;\">•</span><span style=\"color:green;\">i</span><span style=\"color:green;\">n</span><span style=\"color:green;\">p</span><span style=\"color:green;\">u</span><span style=\"color:green;\">t</span><span style=\"color:green;\">(</span><span style=\"color:green;\">)</span><span style=\"color:green;\">.</span><span style=\"color:green;\">s</span><span style=\"color:green;\">p</span><span style=\"color:green;\">l</span><span style=\"color:green;\">i</span><span style=\"color:green;\">t</span><span style=\"color:green;\">(</span><span style=\"color:green;\">)</span><span style=\"color:green;\">)</span><span style=\"color:green;\">)</span></pre>"
      ],
      "text/plain": [
       "<IPython.core.display.HTML object>"
      ]
     },
     "metadata": {},
     "output_type": "display_data"
    }
   ],
   "source": [
    "codex_correct_df = codex_df[codex_df[\"correct\"]]\n",
    "for i in range(min(len(codex_correct_df), 10)):\n",
    "    display(HTML(f\"<h2>Example {i}</h2>\"))\n",
    "    \n",
    "    display(HTML(f\"<h6>Original Source Code</h6>\"))\n",
    "    display(HTML(codex_correct_df[\"original_src_html\"].iloc[i]))\n",
    "\n",
    "    display(HTML(f\"<h6>Changed Source Code</h6>\"))\n",
    "    display(HTML(codex_correct_df[\"changed_src_html\"].iloc[i]))\n",
    "\n",
    "    display(HTML(f\"<h6>Codex Prediction</h6>\"))\n",
    "    display(HTML(codex_correct_df[\"codex_src_html\"].iloc[i]))"
   ]
  },
  {
   "cell_type": "code",
   "execution_count": 8,
   "id": "e66f3d72",
   "metadata": {
    "scrolled": false
   },
   "outputs": [
    {
     "data": {
      "text/html": [
       "<h2>Example 0</h2>"
      ],
      "text/plain": [
       "<IPython.core.display.HTML object>"
      ]
     },
     "metadata": {},
     "output_type": "display_data"
    },
    {
     "data": {
      "text/html": [
       "<h6>Original Source Code</h6>"
      ],
      "text/plain": [
       "<IPython.core.display.HTML object>"
      ]
     },
     "metadata": {},
     "output_type": "display_data"
    },
    {
     "data": {
      "text/html": [
       "<pre><span style=\"color:black;\">n</span><span style=\"color:black;\">u</span><span style=\"color:black;\">m</span><span style=\"color:lightgrey;\">•</span><span style=\"color:black;\">=</span><span style=\"color:lightgrey;\">•</span><span style=\"color:black;\">[</span><span style=\"color:black;\">i</span><span style=\"color:black;\">n</span><span style=\"color:black;\">t</span><span style=\"color:black;\">(</span><span style=\"color:black;\">i</span><span style=\"color:black;\">n</span><span style=\"color:black;\">p</span><span style=\"color:black;\">u</span><span style=\"color:black;\">t</span><span style=\"color:black;\">(</span><span style=\"color:black;\">)</span><span style=\"color:black;\">)</span><span style=\"color:lightgrey;\">•</span><span style=\"color:black;\">f</span><span style=\"color:black;\">o</span><span style=\"color:black;\">r</span><span style=\"color:lightgrey;\">•</span><span style=\"color:black;\">i</span><span style=\"color:lightgrey;\">•</span><span style=\"color:black;\">i</span><span style=\"color:black;\">n</span><span style=\"color:lightgrey;\">•</span><span style=\"color:black;\">r</span><span style=\"color:black;\">a</span><span style=\"color:black;\">n</span><span style=\"color:black;\">g</span><span style=\"color:black;\">e</span><span style=\"color:black;\">(</span><span style=\"color:black;\">1</span><span style=\"color:black;\">0</span><span style=\"color:black;\">)</span><span style=\"color:black;\">]</span><span style=\"color:lightgrey;\">↵\n",
       "</span><span style=\"color:black;\">n</span><span style=\"color:black;\">u</span><span style=\"color:black;\">m</span><span style=\"color:black;\">.</span><span style=\"color:black;\">s</span><span style=\"color:black;\">o</span><span style=\"color:black;\">r</span><span style=\"color:black;\">t</span><span style=\"color:black;\">(</span><span style=\"color:black;\">r</span><span style=\"color:black;\">e</span><span style=\"color:black;\">v</span><span style=\"color:black;\">e</span><span style=\"color:black;\">r</span><span style=\"color:black;\">s</span><span style=\"color:black;\">e</span><span style=\"color:black;\">=</span><span style=\"color:black;\">T</span><span style=\"color:black;\">r</span><span style=\"color:black;\">u</span><span style=\"color:black;\">e</span><span style=\"color:black;\">)</span><span style=\"color:lightgrey;\">↵\n",
       "</span><span style=\"color:red;\">f</span><span style=\"color:red;\">o</span><span style=\"color:red;\">r</span><span style=\"color:red;\">•</span><span style=\"color:red;\">i</span><span style=\"color:red;\">•</span><span style=\"color:red;\">i</span><span style=\"color:red;\">n</span><span style=\"color:red;\">•</span><span style=\"color:red;\">r</span><span style=\"color:red;\">a</span><span style=\"color:red;\">n</span><span style=\"color:red;\">g</span><span style=\"color:red;\">e</span><span style=\"color:red;\">[</span><span style=\"color:red;\">0</span><span style=\"color:red;\">:</span><span style=\"color:red;\">3</span><span style=\"color:red;\">]</span><span style=\"color:red;\">:</span><span style=\"color:red;\">↵\n",
       "</span><span style=\"color:lightgrey;\">•</span><span style=\"color:lightgrey;\">•</span><span style=\"color:lightgrey;\">•</span><span style=\"color:lightgrey;\">•</span><span style=\"color:black;\">p</span><span style=\"color:black;\">r</span><span style=\"color:black;\">i</span><span style=\"color:black;\">n</span><span style=\"color:black;\">t</span><span style=\"color:black;\">(</span><span style=\"color:black;\">n</span><span style=\"color:black;\">u</span><span style=\"color:black;\">m</span><span style=\"color:black;\">[</span><span style=\"color:black;\">i</span><span style=\"color:black;\">]</span><span style=\"color:black;\">)</span><span style=\"color:lightgrey;\">↵\n",
       "</span></pre>"
      ],
      "text/plain": [
       "<IPython.core.display.HTML object>"
      ]
     },
     "metadata": {},
     "output_type": "display_data"
    },
    {
     "data": {
      "text/html": [
       "<h6>Changed Source Code</h6>"
      ],
      "text/plain": [
       "<IPython.core.display.HTML object>"
      ]
     },
     "metadata": {},
     "output_type": "display_data"
    },
    {
     "data": {
      "text/html": [
       "<pre><span style=\"color:black;\">n</span><span style=\"color:black;\">u</span><span style=\"color:black;\">m</span><span style=\"color:lightgrey;\">•</span><span style=\"color:black;\">=</span><span style=\"color:lightgrey;\">•</span><span style=\"color:black;\">[</span><span style=\"color:black;\">i</span><span style=\"color:black;\">n</span><span style=\"color:black;\">t</span><span style=\"color:black;\">(</span><span style=\"color:black;\">i</span><span style=\"color:black;\">n</span><span style=\"color:black;\">p</span><span style=\"color:black;\">u</span><span style=\"color:black;\">t</span><span style=\"color:black;\">(</span><span style=\"color:black;\">)</span><span style=\"color:black;\">)</span><span style=\"color:lightgrey;\">•</span><span style=\"color:black;\">f</span><span style=\"color:black;\">o</span><span style=\"color:black;\">r</span><span style=\"color:lightgrey;\">•</span><span style=\"color:black;\">i</span><span style=\"color:lightgrey;\">•</span><span style=\"color:black;\">i</span><span style=\"color:black;\">n</span><span style=\"color:lightgrey;\">•</span><span style=\"color:black;\">r</span><span style=\"color:black;\">a</span><span style=\"color:black;\">n</span><span style=\"color:black;\">g</span><span style=\"color:black;\">e</span><span style=\"color:black;\">(</span><span style=\"color:black;\">1</span><span style=\"color:black;\">0</span><span style=\"color:black;\">)</span><span style=\"color:black;\">]</span><span style=\"color:lightgrey;\">↵\n",
       "</span><span style=\"color:black;\">n</span><span style=\"color:black;\">u</span><span style=\"color:black;\">m</span><span style=\"color:black;\">.</span><span style=\"color:black;\">s</span><span style=\"color:black;\">o</span><span style=\"color:black;\">r</span><span style=\"color:black;\">t</span><span style=\"color:black;\">(</span><span style=\"color:black;\">r</span><span style=\"color:black;\">e</span><span style=\"color:black;\">v</span><span style=\"color:black;\">e</span><span style=\"color:black;\">r</span><span style=\"color:black;\">s</span><span style=\"color:black;\">e</span><span style=\"color:black;\">=</span><span style=\"color:black;\">T</span><span style=\"color:black;\">r</span><span style=\"color:black;\">u</span><span style=\"color:black;\">e</span><span style=\"color:black;\">)</span><span style=\"color:lightgrey;\">↵\n",
       "</span><span style=\"color:green;\">f</span><span style=\"color:green;\">o</span><span style=\"color:green;\">r</span><span style=\"color:green;\">•</span><span style=\"color:green;\">i</span><span style=\"color:green;\">•</span><span style=\"color:green;\">i</span><span style=\"color:green;\">n</span><span style=\"color:green;\">•</span><span style=\"color:green;\">r</span><span style=\"color:green;\">a</span><span style=\"color:green;\">n</span><span style=\"color:green;\">g</span><span style=\"color:green;\">e</span><span style=\"color:green;\">(</span><span style=\"color:green;\">3</span><span style=\"color:green;\">)</span><span style=\"color:green;\">:</span><span style=\"color:green;\">↵\n",
       "</span><span style=\"color:lightgrey;\">•</span><span style=\"color:lightgrey;\">•</span><span style=\"color:lightgrey;\">•</span><span style=\"color:lightgrey;\">•</span><span style=\"color:black;\">p</span><span style=\"color:black;\">r</span><span style=\"color:black;\">i</span><span style=\"color:black;\">n</span><span style=\"color:black;\">t</span><span style=\"color:black;\">(</span><span style=\"color:black;\">n</span><span style=\"color:black;\">u</span><span style=\"color:black;\">m</span><span style=\"color:black;\">[</span><span style=\"color:black;\">i</span><span style=\"color:black;\">]</span><span style=\"color:black;\">)</span><span style=\"color:lightgrey;\">↵\n",
       "</span></pre>"
      ],
      "text/plain": [
       "<IPython.core.display.HTML object>"
      ]
     },
     "metadata": {},
     "output_type": "display_data"
    },
    {
     "data": {
      "text/html": [
       "<h6>Codex Prediction</h6>"
      ],
      "text/plain": [
       "<IPython.core.display.HTML object>"
      ]
     },
     "metadata": {},
     "output_type": "display_data"
    },
    {
     "data": {
      "text/html": [
       "<pre><span style=\"color:green;\">f</span><span style=\"color:green;\">o</span><span style=\"color:green;\">r</span><span style=\"color:green;\">•</span><span style=\"color:green;\">i</span><span style=\"color:green;\">•</span><span style=\"color:green;\">i</span><span style=\"color:green;\">n</span><span style=\"color:green;\">•</span><span style=\"color:green;\">r</span><span style=\"color:green;\">a</span><span style=\"color:green;\">n</span><span style=\"color:green;\">g</span><span style=\"color:green;\">e</span><span style=\"color:green;\">(</span><span style=\"color:green;\">3</span><span style=\"color:green;\">)</span><span style=\"color:green;\">:</span></pre>"
      ],
      "text/plain": [
       "<IPython.core.display.HTML object>"
      ]
     },
     "metadata": {},
     "output_type": "display_data"
    },
    {
     "data": {
      "text/html": [
       "<h2>Example 1</h2>"
      ],
      "text/plain": [
       "<IPython.core.display.HTML object>"
      ]
     },
     "metadata": {},
     "output_type": "display_data"
    },
    {
     "data": {
      "text/html": [
       "<h6>Original Source Code</h6>"
      ],
      "text/plain": [
       "<IPython.core.display.HTML object>"
      ]
     },
     "metadata": {},
     "output_type": "display_data"
    },
    {
     "data": {
      "text/html": [
       "<pre><span style=\"color:black;\">#</span><span style=\"color:black;\">i</span><span style=\"color:black;\">n</span><span style=\"color:black;\">c</span><span style=\"color:black;\">l</span><span style=\"color:black;\">u</span><span style=\"color:black;\">d</span><span style=\"color:black;\">e</span><span style=\"color:lightgrey;\">•</span><span style=\"color:black;\"><</span><span style=\"color:black;\">b</span><span style=\"color:black;\">i</span><span style=\"color:black;\">t</span><span style=\"color:black;\">s</span><span style=\"color:black;\">/</span><span style=\"color:black;\">s</span><span style=\"color:black;\">t</span><span style=\"color:black;\">d</span><span style=\"color:black;\">c</span><span style=\"color:black;\">+</span><span style=\"color:black;\">+</span><span style=\"color:black;\">.</span><span style=\"color:black;\">h</span><span style=\"color:black;\">></span><span style=\"color:lightgrey;\">↵\n",
       "</span><span style=\"color:black;\">u</span><span style=\"color:black;\">s</span><span style=\"color:black;\">i</span><span style=\"color:black;\">n</span><span style=\"color:black;\">g</span><span style=\"color:lightgrey;\">•</span><span style=\"color:black;\">n</span><span style=\"color:black;\">a</span><span style=\"color:black;\">m</span><span style=\"color:black;\">e</span><span style=\"color:black;\">s</span><span style=\"color:black;\">p</span><span style=\"color:black;\">a</span><span style=\"color:black;\">c</span><span style=\"color:black;\">e</span><span style=\"color:lightgrey;\">•</span><span style=\"color:black;\">s</span><span style=\"color:black;\">t</span><span style=\"color:black;\">d</span><span style=\"color:black;\">;</span><span style=\"color:lightgrey;\">↵\n",
       "</span><span style=\"color:lightgrey;\">↵\n",
       "</span><span style=\"color:black;\">i</span><span style=\"color:black;\">n</span><span style=\"color:black;\">t</span><span style=\"color:lightgrey;\">•</span><span style=\"color:black;\">m</span><span style=\"color:black;\">a</span><span style=\"color:black;\">i</span><span style=\"color:black;\">n</span><span style=\"color:black;\">(</span><span style=\"color:black;\">)</span><span style=\"color:lightgrey;\">•</span><span style=\"color:black;\">{</span><span style=\"color:lightgrey;\">↵\n",
       "</span><span style=\"color:red;\">•</span><span style=\"color:red;\">•</span><span style=\"color:red;\">v</span><span style=\"color:red;\">e</span><span style=\"color:red;\">c</span><span style=\"color:red;\">t</span><span style=\"color:red;\">o</span><span style=\"color:red;\">r</span><span style=\"color:red;\"><</span><span style=\"color:red;\">i</span><span style=\"color:red;\">n</span><span style=\"color:red;\">t</span><span style=\"color:red;\">></span><span style=\"color:red;\">•</span><span style=\"color:red;\">m</span><span style=\"color:red;\">o</span><span style=\"color:red;\">u</span><span style=\"color:red;\">n</span><span style=\"color:red;\">t</span><span style=\"color:red;\">a</span><span style=\"color:red;\">i</span><span style=\"color:red;\">n</span><span style=\"color:red;\">;</span><span style=\"color:red;\">↵\n",
       "</span><span style=\"color:lightgrey;\">•</span><span style=\"color:lightgrey;\">•</span><span style=\"color:black;\">f</span><span style=\"color:black;\">o</span><span style=\"color:black;\">r</span><span style=\"color:lightgrey;\">•</span><span style=\"color:black;\">(</span><span style=\"color:black;\">i</span><span style=\"color:black;\">n</span><span style=\"color:black;\">t</span><span style=\"color:lightgrey;\">•</span><span style=\"color:black;\">i</span><span style=\"color:lightgrey;\">•</span><span style=\"color:black;\">=</span><span style=\"color:lightgrey;\">•</span><span style=\"color:black;\">0</span><span style=\"color:black;\">;</span><span style=\"color:lightgrey;\">•</span><span style=\"color:black;\">i</span><span style=\"color:lightgrey;\">•</span><span style=\"color:black;\"><</span><span style=\"color:lightgrey;\">•</span><span style=\"color:black;\">1</span><span style=\"color:black;\">0</span><span style=\"color:black;\">;</span><span style=\"color:lightgrey;\">•</span><span style=\"color:black;\">i</span><span style=\"color:black;\">+</span><span style=\"color:black;\">+</span><span style=\"color:black;\">)</span><span style=\"color:lightgrey;\">•</span><span style=\"color:black;\">{</span><span style=\"color:lightgrey;\">↵\n",
       "</span><span style=\"color:lightgrey;\">•</span><span style=\"color:lightgrey;\">•</span><span style=\"color:lightgrey;\">•</span><span style=\"color:lightgrey;\">•</span><span style=\"color:black;\">c</span><span style=\"color:black;\">i</span><span style=\"color:black;\">n</span><span style=\"color:lightgrey;\">•</span><span style=\"color:black;\">></span><span style=\"color:black;\">></span><span style=\"color:lightgrey;\">•</span><span style=\"color:black;\">m</span><span style=\"color:black;\">o</span><span style=\"color:black;\">u</span><span style=\"color:black;\">n</span><span style=\"color:black;\">t</span><span style=\"color:black;\">a</span><span style=\"color:black;\">i</span><span style=\"color:black;\">n</span><span style=\"color:black;\">.</span><span style=\"color:black;\">a</span><span style=\"color:black;\">t</span><span style=\"color:black;\">(</span><span style=\"color:black;\">i</span><span style=\"color:black;\">)</span><span style=\"color:black;\">;</span><span style=\"color:lightgrey;\">↵\n",
       "</span><span style=\"color:lightgrey;\">•</span><span style=\"color:lightgrey;\">•</span><span style=\"color:black;\">}</span><span style=\"color:lightgrey;\">↵\n",
       "</span><span style=\"color:lightgrey;\">•</span><span style=\"color:lightgrey;\">•</span><span style=\"color:black;\">s</span><span style=\"color:black;\">o</span><span style=\"color:black;\">r</span><span style=\"color:black;\">t</span><span style=\"color:black;\">(</span><span style=\"color:black;\">m</span><span style=\"color:black;\">o</span><span style=\"color:black;\">u</span><span style=\"color:black;\">n</span><span style=\"color:black;\">t</span><span style=\"color:black;\">a</span><span style=\"color:black;\">i</span><span style=\"color:black;\">n</span><span style=\"color:black;\">.</span><span style=\"color:black;\">b</span><span style=\"color:black;\">e</span><span style=\"color:black;\">g</span><span style=\"color:black;\">i</span><span style=\"color:black;\">n</span><span style=\"color:black;\">(</span><span style=\"color:black;\">)</span><span style=\"color:black;\">,</span><span style=\"color:lightgrey;\">•</span><span style=\"color:black;\">m</span><span style=\"color:black;\">o</span><span style=\"color:black;\">u</span><span style=\"color:black;\">n</span><span style=\"color:black;\">t</span><span style=\"color:black;\">a</span><span style=\"color:black;\">i</span><span style=\"color:black;\">n</span><span style=\"color:black;\">.</span><span style=\"color:black;\">e</span><span style=\"color:black;\">n</span><span style=\"color:black;\">d</span><span style=\"color:black;\">(</span><span style=\"color:black;\">)</span><span style=\"color:black;\">)</span><span style=\"color:black;\">;</span><span style=\"color:lightgrey;\">↵\n",
       "</span><span style=\"color:lightgrey;\">•</span><span style=\"color:lightgrey;\">•</span><span style=\"color:black;\">r</span><span style=\"color:black;\">e</span><span style=\"color:black;\">v</span><span style=\"color:black;\">e</span><span style=\"color:black;\">r</span><span style=\"color:black;\">s</span><span style=\"color:black;\">e</span><span style=\"color:black;\">(</span><span style=\"color:black;\">m</span><span style=\"color:black;\">o</span><span style=\"color:black;\">u</span><span style=\"color:black;\">n</span><span style=\"color:black;\">t</span><span style=\"color:black;\">a</span><span style=\"color:black;\">i</span><span style=\"color:black;\">n</span><span style=\"color:black;\">.</span><span style=\"color:black;\">b</span><span style=\"color:black;\">e</span><span style=\"color:black;\">g</span><span style=\"color:black;\">i</span><span style=\"color:black;\">n</span><span style=\"color:black;\">(</span><span style=\"color:black;\">)</span><span style=\"color:black;\">,</span><span style=\"color:lightgrey;\">•</span><span style=\"color:black;\">m</span><span style=\"color:black;\">o</span><span style=\"color:black;\">u</span><span style=\"color:black;\">n</span><span style=\"color:black;\">t</span><span style=\"color:black;\">a</span><span style=\"color:black;\">i</span><span style=\"color:black;\">n</span><span style=\"color:black;\">.</span><span style=\"color:black;\">e</span><span style=\"color:black;\">n</span><span style=\"color:black;\">d</span><span style=\"color:black;\">(</span><span style=\"color:black;\">)</span><span style=\"color:black;\">)</span><span style=\"color:black;\">;</span><span style=\"color:lightgrey;\">↵\n",
       "</span><span style=\"color:lightgrey;\">↵\n",
       "</span><span style=\"color:lightgrey;\">•</span><span style=\"color:lightgrey;\">•</span><span style=\"color:black;\">f</span><span style=\"color:black;\">o</span><span style=\"color:black;\">r</span><span style=\"color:lightgrey;\">•</span><span style=\"color:black;\">(</span><span style=\"color:black;\">i</span><span style=\"color:black;\">n</span><span style=\"color:black;\">t</span><span style=\"color:lightgrey;\">•</span><span style=\"color:black;\">i</span><span style=\"color:lightgrey;\">•</span><span style=\"color:black;\">=</span><span style=\"color:lightgrey;\">•</span><span style=\"color:black;\">0</span><span style=\"color:black;\">;</span><span style=\"color:lightgrey;\">•</span><span style=\"color:black;\">i</span><span style=\"color:lightgrey;\">•</span><span style=\"color:black;\"><</span><span style=\"color:lightgrey;\">•</span><span style=\"color:black;\">3</span><span style=\"color:black;\">;</span><span style=\"color:lightgrey;\">•</span><span style=\"color:black;\">i</span><span style=\"color:black;\">+</span><span style=\"color:black;\">+</span><span style=\"color:black;\">)</span><span style=\"color:lightgrey;\">•</span><span style=\"color:black;\">{</span><span style=\"color:lightgrey;\">↵\n",
       "</span><span style=\"color:lightgrey;\">•</span><span style=\"color:lightgrey;\">•</span><span style=\"color:lightgrey;\">•</span><span style=\"color:lightgrey;\">•</span><span style=\"color:black;\">c</span><span style=\"color:black;\">o</span><span style=\"color:black;\">u</span><span style=\"color:black;\">t</span><span style=\"color:lightgrey;\">•</span><span style=\"color:black;\"><</span><span style=\"color:black;\"><</span><span style=\"color:lightgrey;\">•</span><span style=\"color:black;\">m</span><span style=\"color:black;\">o</span><span style=\"color:black;\">u</span><span style=\"color:black;\">n</span><span style=\"color:black;\">t</span><span style=\"color:black;\">a</span><span style=\"color:black;\">i</span><span style=\"color:black;\">n</span><span style=\"color:black;\">.</span><span style=\"color:black;\">a</span><span style=\"color:black;\">t</span><span style=\"color:black;\">(</span><span style=\"color:black;\">i</span><span style=\"color:black;\">)</span><span style=\"color:lightgrey;\">•</span><span style=\"color:black;\"><</span><span style=\"color:black;\"><</span><span style=\"color:lightgrey;\">•</span><span style=\"color:black;\">e</span><span style=\"color:black;\">n</span><span style=\"color:black;\">d</span><span style=\"color:black;\">l</span><span style=\"color:black;\">;</span><span style=\"color:lightgrey;\">↵\n",
       "</span><span style=\"color:lightgrey;\">•</span><span style=\"color:lightgrey;\">•</span><span style=\"color:black;\">}</span><span style=\"color:lightgrey;\">↵\n",
       "</span><span style=\"color:black;\">}</span><span style=\"color:lightgrey;\">↵\n",
       "</span></pre>"
      ],
      "text/plain": [
       "<IPython.core.display.HTML object>"
      ]
     },
     "metadata": {},
     "output_type": "display_data"
    },
    {
     "data": {
      "text/html": [
       "<h6>Changed Source Code</h6>"
      ],
      "text/plain": [
       "<IPython.core.display.HTML object>"
      ]
     },
     "metadata": {},
     "output_type": "display_data"
    },
    {
     "data": {
      "text/html": [
       "<pre><span style=\"color:black;\">#</span><span style=\"color:black;\">i</span><span style=\"color:black;\">n</span><span style=\"color:black;\">c</span><span style=\"color:black;\">l</span><span style=\"color:black;\">u</span><span style=\"color:black;\">d</span><span style=\"color:black;\">e</span><span style=\"color:lightgrey;\">•</span><span style=\"color:black;\"><</span><span style=\"color:black;\">b</span><span style=\"color:black;\">i</span><span style=\"color:black;\">t</span><span style=\"color:black;\">s</span><span style=\"color:black;\">/</span><span style=\"color:black;\">s</span><span style=\"color:black;\">t</span><span style=\"color:black;\">d</span><span style=\"color:black;\">c</span><span style=\"color:black;\">+</span><span style=\"color:black;\">+</span><span style=\"color:black;\">.</span><span style=\"color:black;\">h</span><span style=\"color:black;\">></span><span style=\"color:lightgrey;\">↵\n",
       "</span><span style=\"color:black;\">u</span><span style=\"color:black;\">s</span><span style=\"color:black;\">i</span><span style=\"color:black;\">n</span><span style=\"color:black;\">g</span><span style=\"color:lightgrey;\">•</span><span style=\"color:black;\">n</span><span style=\"color:black;\">a</span><span style=\"color:black;\">m</span><span style=\"color:black;\">e</span><span style=\"color:black;\">s</span><span style=\"color:black;\">p</span><span style=\"color:black;\">a</span><span style=\"color:black;\">c</span><span style=\"color:black;\">e</span><span style=\"color:lightgrey;\">•</span><span style=\"color:black;\">s</span><span style=\"color:black;\">t</span><span style=\"color:black;\">d</span><span style=\"color:black;\">;</span><span style=\"color:lightgrey;\">↵\n",
       "</span><span style=\"color:lightgrey;\">↵\n",
       "</span><span style=\"color:black;\">i</span><span style=\"color:black;\">n</span><span style=\"color:black;\">t</span><span style=\"color:lightgrey;\">•</span><span style=\"color:black;\">m</span><span style=\"color:black;\">a</span><span style=\"color:black;\">i</span><span style=\"color:black;\">n</span><span style=\"color:black;\">(</span><span style=\"color:black;\">)</span><span style=\"color:lightgrey;\">•</span><span style=\"color:black;\">{</span><span style=\"color:lightgrey;\">↵\n",
       "</span><span style=\"color:green;\">•</span><span style=\"color:green;\">•</span><span style=\"color:green;\">v</span><span style=\"color:green;\">e</span><span style=\"color:green;\">c</span><span style=\"color:green;\">t</span><span style=\"color:green;\">o</span><span style=\"color:green;\">r</span><span style=\"color:green;\"><</span><span style=\"color:green;\">i</span><span style=\"color:green;\">n</span><span style=\"color:green;\">t</span><span style=\"color:green;\">></span><span style=\"color:green;\">•</span><span style=\"color:green;\">m</span><span style=\"color:green;\">o</span><span style=\"color:green;\">u</span><span style=\"color:green;\">n</span><span style=\"color:green;\">t</span><span style=\"color:green;\">a</span><span style=\"color:green;\">i</span><span style=\"color:green;\">n</span><span style=\"color:green;\">(</span><span style=\"color:green;\">1</span><span style=\"color:green;\">0</span><span style=\"color:green;\">)</span><span style=\"color:green;\">;</span><span style=\"color:green;\">↵\n",
       "</span><span style=\"color:lightgrey;\">•</span><span style=\"color:lightgrey;\">•</span><span style=\"color:black;\">f</span><span style=\"color:black;\">o</span><span style=\"color:black;\">r</span><span style=\"color:lightgrey;\">•</span><span style=\"color:black;\">(</span><span style=\"color:black;\">i</span><span style=\"color:black;\">n</span><span style=\"color:black;\">t</span><span style=\"color:lightgrey;\">•</span><span style=\"color:black;\">i</span><span style=\"color:lightgrey;\">•</span><span style=\"color:black;\">=</span><span style=\"color:lightgrey;\">•</span><span style=\"color:black;\">0</span><span style=\"color:black;\">;</span><span style=\"color:lightgrey;\">•</span><span style=\"color:black;\">i</span><span style=\"color:lightgrey;\">•</span><span style=\"color:black;\"><</span><span style=\"color:lightgrey;\">•</span><span style=\"color:black;\">1</span><span style=\"color:black;\">0</span><span style=\"color:black;\">;</span><span style=\"color:lightgrey;\">•</span><span style=\"color:black;\">i</span><span style=\"color:black;\">+</span><span style=\"color:black;\">+</span><span style=\"color:black;\">)</span><span style=\"color:lightgrey;\">•</span><span style=\"color:black;\">{</span><span style=\"color:lightgrey;\">↵\n",
       "</span><span style=\"color:lightgrey;\">•</span><span style=\"color:lightgrey;\">•</span><span style=\"color:lightgrey;\">•</span><span style=\"color:lightgrey;\">•</span><span style=\"color:black;\">c</span><span style=\"color:black;\">i</span><span style=\"color:black;\">n</span><span style=\"color:lightgrey;\">•</span><span style=\"color:black;\">></span><span style=\"color:black;\">></span><span style=\"color:lightgrey;\">•</span><span style=\"color:black;\">m</span><span style=\"color:black;\">o</span><span style=\"color:black;\">u</span><span style=\"color:black;\">n</span><span style=\"color:black;\">t</span><span style=\"color:black;\">a</span><span style=\"color:black;\">i</span><span style=\"color:black;\">n</span><span style=\"color:black;\">.</span><span style=\"color:black;\">a</span><span style=\"color:black;\">t</span><span style=\"color:black;\">(</span><span style=\"color:black;\">i</span><span style=\"color:black;\">)</span><span style=\"color:black;\">;</span><span style=\"color:lightgrey;\">↵\n",
       "</span><span style=\"color:lightgrey;\">•</span><span style=\"color:lightgrey;\">•</span><span style=\"color:black;\">}</span><span style=\"color:lightgrey;\">↵\n",
       "</span><span style=\"color:lightgrey;\">•</span><span style=\"color:lightgrey;\">•</span><span style=\"color:black;\">s</span><span style=\"color:black;\">o</span><span style=\"color:black;\">r</span><span style=\"color:black;\">t</span><span style=\"color:black;\">(</span><span style=\"color:black;\">m</span><span style=\"color:black;\">o</span><span style=\"color:black;\">u</span><span style=\"color:black;\">n</span><span style=\"color:black;\">t</span><span style=\"color:black;\">a</span><span style=\"color:black;\">i</span><span style=\"color:black;\">n</span><span style=\"color:black;\">.</span><span style=\"color:black;\">b</span><span style=\"color:black;\">e</span><span style=\"color:black;\">g</span><span style=\"color:black;\">i</span><span style=\"color:black;\">n</span><span style=\"color:black;\">(</span><span style=\"color:black;\">)</span><span style=\"color:black;\">,</span><span style=\"color:lightgrey;\">•</span><span style=\"color:black;\">m</span><span style=\"color:black;\">o</span><span style=\"color:black;\">u</span><span style=\"color:black;\">n</span><span style=\"color:black;\">t</span><span style=\"color:black;\">a</span><span style=\"color:black;\">i</span><span style=\"color:black;\">n</span><span style=\"color:black;\">.</span><span style=\"color:black;\">e</span><span style=\"color:black;\">n</span><span style=\"color:black;\">d</span><span style=\"color:black;\">(</span><span style=\"color:black;\">)</span><span style=\"color:black;\">)</span><span style=\"color:black;\">;</span><span style=\"color:lightgrey;\">↵\n",
       "</span><span style=\"color:lightgrey;\">•</span><span style=\"color:lightgrey;\">•</span><span style=\"color:black;\">r</span><span style=\"color:black;\">e</span><span style=\"color:black;\">v</span><span style=\"color:black;\">e</span><span style=\"color:black;\">r</span><span style=\"color:black;\">s</span><span style=\"color:black;\">e</span><span style=\"color:black;\">(</span><span style=\"color:black;\">m</span><span style=\"color:black;\">o</span><span style=\"color:black;\">u</span><span style=\"color:black;\">n</span><span style=\"color:black;\">t</span><span style=\"color:black;\">a</span><span style=\"color:black;\">i</span><span style=\"color:black;\">n</span><span style=\"color:black;\">.</span><span style=\"color:black;\">b</span><span style=\"color:black;\">e</span><span style=\"color:black;\">g</span><span style=\"color:black;\">i</span><span style=\"color:black;\">n</span><span style=\"color:black;\">(</span><span style=\"color:black;\">)</span><span style=\"color:black;\">,</span><span style=\"color:lightgrey;\">•</span><span style=\"color:black;\">m</span><span style=\"color:black;\">o</span><span style=\"color:black;\">u</span><span style=\"color:black;\">n</span><span style=\"color:black;\">t</span><span style=\"color:black;\">a</span><span style=\"color:black;\">i</span><span style=\"color:black;\">n</span><span style=\"color:black;\">.</span><span style=\"color:black;\">e</span><span style=\"color:black;\">n</span><span style=\"color:black;\">d</span><span style=\"color:black;\">(</span><span style=\"color:black;\">)</span><span style=\"color:black;\">)</span><span style=\"color:black;\">;</span><span style=\"color:lightgrey;\">↵\n",
       "</span><span style=\"color:lightgrey;\">↵\n",
       "</span><span style=\"color:lightgrey;\">•</span><span style=\"color:lightgrey;\">•</span><span style=\"color:black;\">f</span><span style=\"color:black;\">o</span><span style=\"color:black;\">r</span><span style=\"color:lightgrey;\">•</span><span style=\"color:black;\">(</span><span style=\"color:black;\">i</span><span style=\"color:black;\">n</span><span style=\"color:black;\">t</span><span style=\"color:lightgrey;\">•</span><span style=\"color:black;\">i</span><span style=\"color:lightgrey;\">•</span><span style=\"color:black;\">=</span><span style=\"color:lightgrey;\">•</span><span style=\"color:black;\">0</span><span style=\"color:black;\">;</span><span style=\"color:lightgrey;\">•</span><span style=\"color:black;\">i</span><span style=\"color:lightgrey;\">•</span><span style=\"color:black;\"><</span><span style=\"color:lightgrey;\">•</span><span style=\"color:black;\">3</span><span style=\"color:black;\">;</span><span style=\"color:lightgrey;\">•</span><span style=\"color:black;\">i</span><span style=\"color:black;\">+</span><span style=\"color:black;\">+</span><span style=\"color:black;\">)</span><span style=\"color:lightgrey;\">•</span><span style=\"color:black;\">{</span><span style=\"color:lightgrey;\">↵\n",
       "</span><span style=\"color:lightgrey;\">•</span><span style=\"color:lightgrey;\">•</span><span style=\"color:lightgrey;\">•</span><span style=\"color:lightgrey;\">•</span><span style=\"color:black;\">c</span><span style=\"color:black;\">o</span><span style=\"color:black;\">u</span><span style=\"color:black;\">t</span><span style=\"color:lightgrey;\">•</span><span style=\"color:black;\"><</span><span style=\"color:black;\"><</span><span style=\"color:lightgrey;\">•</span><span style=\"color:black;\">m</span><span style=\"color:black;\">o</span><span style=\"color:black;\">u</span><span style=\"color:black;\">n</span><span style=\"color:black;\">t</span><span style=\"color:black;\">a</span><span style=\"color:black;\">i</span><span style=\"color:black;\">n</span><span style=\"color:black;\">.</span><span style=\"color:black;\">a</span><span style=\"color:black;\">t</span><span style=\"color:black;\">(</span><span style=\"color:black;\">i</span><span style=\"color:black;\">)</span><span style=\"color:lightgrey;\">•</span><span style=\"color:black;\"><</span><span style=\"color:black;\"><</span><span style=\"color:lightgrey;\">•</span><span style=\"color:black;\">e</span><span style=\"color:black;\">n</span><span style=\"color:black;\">d</span><span style=\"color:black;\">l</span><span style=\"color:black;\">;</span><span style=\"color:lightgrey;\">↵\n",
       "</span><span style=\"color:lightgrey;\">•</span><span style=\"color:lightgrey;\">•</span><span style=\"color:black;\">}</span><span style=\"color:lightgrey;\">↵\n",
       "</span><span style=\"color:black;\">}</span><span style=\"color:lightgrey;\">↵\n",
       "</span></pre>"
      ],
      "text/plain": [
       "<IPython.core.display.HTML object>"
      ]
     },
     "metadata": {},
     "output_type": "display_data"
    },
    {
     "data": {
      "text/html": [
       "<h6>Codex Prediction</h6>"
      ],
      "text/plain": [
       "<IPython.core.display.HTML object>"
      ]
     },
     "metadata": {},
     "output_type": "display_data"
    },
    {
     "data": {
      "text/html": [
       "<pre><span style=\"color:red;\">v</span><span style=\"color:red;\">e</span><span style=\"color:red;\">c</span><span style=\"color:red;\">t</span><span style=\"color:red;\">o</span><span style=\"color:red;\">r</span><span style=\"color:red;\"><</span><span style=\"color:red;\">i</span><span style=\"color:red;\">n</span><span style=\"color:red;\">t</span><span style=\"color:red;\">></span><span style=\"color:red;\">•</span><span style=\"color:red;\">m</span><span style=\"color:red;\">o</span><span style=\"color:red;\">u</span><span style=\"color:red;\">n</span><span style=\"color:red;\">t</span><span style=\"color:red;\">a</span><span style=\"color:red;\">i</span><span style=\"color:red;\">n</span><span style=\"color:red;\">(</span><span style=\"color:red;\">1</span><span style=\"color:red;\">0</span><span style=\"color:red;\">)</span><span style=\"color:red;\">;</span></pre>"
      ],
      "text/plain": [
       "<IPython.core.display.HTML object>"
      ]
     },
     "metadata": {},
     "output_type": "display_data"
    },
    {
     "data": {
      "text/html": [
       "<h2>Example 2</h2>"
      ],
      "text/plain": [
       "<IPython.core.display.HTML object>"
      ]
     },
     "metadata": {},
     "output_type": "display_data"
    },
    {
     "data": {
      "text/html": [
       "<h6>Original Source Code</h6>"
      ],
      "text/plain": [
       "<IPython.core.display.HTML object>"
      ]
     },
     "metadata": {},
     "output_type": "display_data"
    },
    {
     "data": {
      "text/html": [
       "<pre><span style=\"color:black;\">#</span><span style=\"color:black;\">i</span><span style=\"color:black;\">n</span><span style=\"color:black;\">c</span><span style=\"color:black;\">l</span><span style=\"color:black;\">u</span><span style=\"color:black;\">d</span><span style=\"color:black;\">e</span><span style=\"color:lightgrey;\">•</span><span style=\"color:black;\"><</span><span style=\"color:black;\">a</span><span style=\"color:black;\">l</span><span style=\"color:black;\">g</span><span style=\"color:black;\">o</span><span style=\"color:black;\">r</span><span style=\"color:black;\">i</span><span style=\"color:black;\">t</span><span style=\"color:black;\">h</span><span style=\"color:black;\">m</span><span style=\"color:black;\">></span><span style=\"color:lightgrey;\">↵\n",
       "</span><span style=\"color:black;\">#</span><span style=\"color:black;\">i</span><span style=\"color:black;\">n</span><span style=\"color:black;\">c</span><span style=\"color:black;\">l</span><span style=\"color:black;\">u</span><span style=\"color:black;\">d</span><span style=\"color:black;\">e</span><span style=\"color:lightgrey;\">•</span><span style=\"color:black;\"><</span><span style=\"color:black;\">i</span><span style=\"color:black;\">o</span><span style=\"color:black;\">s</span><span style=\"color:black;\">t</span><span style=\"color:black;\">r</span><span style=\"color:black;\">e</span><span style=\"color:black;\">a</span><span style=\"color:black;\">m</span><span style=\"color:black;\">></span><span style=\"color:lightgrey;\">↵\n",
       "</span><span style=\"color:black;\">u</span><span style=\"color:black;\">s</span><span style=\"color:black;\">i</span><span style=\"color:black;\">n</span><span style=\"color:black;\">g</span><span style=\"color:lightgrey;\">•</span><span style=\"color:black;\">n</span><span style=\"color:black;\">a</span><span style=\"color:black;\">m</span><span style=\"color:black;\">e</span><span style=\"color:black;\">s</span><span style=\"color:black;\">p</span><span style=\"color:black;\">a</span><span style=\"color:black;\">c</span><span style=\"color:black;\">e</span><span style=\"color:lightgrey;\">•</span><span style=\"color:black;\">s</span><span style=\"color:black;\">t</span><span style=\"color:black;\">d</span><span style=\"color:black;\">;</span><span style=\"color:lightgrey;\">↵\n",
       "</span><span style=\"color:black;\">i</span><span style=\"color:black;\">n</span><span style=\"color:black;\">t</span><span style=\"color:lightgrey;\">•</span><span style=\"color:black;\">m</span><span style=\"color:black;\">a</span><span style=\"color:black;\">i</span><span style=\"color:black;\">n</span><span style=\"color:black;\">(</span><span style=\"color:black;\">)</span><span style=\"color:lightgrey;\">•</span><span style=\"color:black;\">{</span><span style=\"color:lightgrey;\">↵\n",
       "</span><span style=\"color:lightgrey;\">•</span><span style=\"color:lightgrey;\">•</span><span style=\"color:black;\">i</span><span style=\"color:black;\">n</span><span style=\"color:black;\">t</span><span style=\"color:lightgrey;\">•</span><span style=\"color:black;\">a</span><span style=\"color:black;\">[</span><span style=\"color:black;\">1</span><span style=\"color:black;\">0</span><span style=\"color:black;\">]</span><span style=\"color:black;\">;</span><span style=\"color:lightgrey;\">↵\n",
       "</span><span style=\"color:lightgrey;\">•</span><span style=\"color:lightgrey;\">•</span><span style=\"color:black;\">f</span><span style=\"color:black;\">o</span><span style=\"color:black;\">r</span><span style=\"color:lightgrey;\">•</span><span style=\"color:black;\">(</span><span style=\"color:black;\">i</span><span style=\"color:black;\">n</span><span style=\"color:black;\">t</span><span style=\"color:lightgrey;\">•</span><span style=\"color:black;\">i</span><span style=\"color:lightgrey;\">•</span><span style=\"color:black;\">=</span><span style=\"color:lightgrey;\">•</span><span style=\"color:black;\">0</span><span style=\"color:black;\">;</span><span style=\"color:lightgrey;\">•</span><span style=\"color:black;\">i</span><span style=\"color:lightgrey;\">•</span><span style=\"color:black;\"><</span><span style=\"color:lightgrey;\">•</span><span style=\"color:black;\">1</span><span style=\"color:black;\">0</span><span style=\"color:black;\">;</span><span style=\"color:lightgrey;\">•</span><span style=\"color:black;\">i</span><span style=\"color:black;\">+</span><span style=\"color:black;\">+</span><span style=\"color:black;\">)</span><span style=\"color:lightgrey;\">•</span><span style=\"color:black;\">{</span><span style=\"color:lightgrey;\">↵\n",
       "</span><span style=\"color:lightgrey;\">•</span><span style=\"color:lightgrey;\">•</span><span style=\"color:lightgrey;\">•</span><span style=\"color:lightgrey;\">•</span><span style=\"color:black;\">c</span><span style=\"color:black;\">i</span><span style=\"color:black;\">n</span><span style=\"color:lightgrey;\">•</span><span style=\"color:black;\">></span><span style=\"color:black;\">></span><span style=\"color:lightgrey;\">•</span><span style=\"color:black;\">a</span><span style=\"color:black;\">[</span><span style=\"color:black;\">i</span><span style=\"color:black;\">]</span><span style=\"color:black;\">;</span><span style=\"color:lightgrey;\">↵\n",
       "</span><span style=\"color:lightgrey;\">•</span><span style=\"color:lightgrey;\">•</span><span style=\"color:black;\">}</span><span style=\"color:lightgrey;\">↵\n",
       "</span><span style=\"color:lightgrey;\">•</span><span style=\"color:lightgrey;\">•</span><span style=\"color:black;\">s</span><span style=\"color:black;\">o</span><span style=\"color:black;\">r</span><span style=\"color:black;\">t</span><span style=\"color:black;\">(</span><span style=\"color:black;\">a</span><span style=\"color:black;\">,</span><span style=\"color:lightgrey;\">•</span><span style=\"color:black;\">a</span><span style=\"color:lightgrey;\">•</span><span style=\"color:black;\">+</span><span style=\"color:lightgrey;\">•</span><span style=\"color:black;\">1</span><span style=\"color:black;\">0</span><span style=\"color:black;\">)</span><span style=\"color:black;\">;</span><span style=\"color:lightgrey;\">↵\n",
       "</span><span style=\"color:red;\">•</span><span style=\"color:red;\">•</span><span style=\"color:red;\">f</span><span style=\"color:red;\">o</span><span style=\"color:red;\">r</span><span style=\"color:red;\">•</span><span style=\"color:red;\">(</span><span style=\"color:red;\">i</span><span style=\"color:red;\">n</span><span style=\"color:red;\">t</span><span style=\"color:red;\">•</span><span style=\"color:red;\">i</span><span style=\"color:red;\">•</span><span style=\"color:red;\">=</span><span style=\"color:red;\">•</span><span style=\"color:red;\">9</span><span style=\"color:red;\">;</span><span style=\"color:red;\">•</span><span style=\"color:red;\">i</span><span style=\"color:red;\">•</span><span style=\"color:red;\">></span><span style=\"color:red;\">•</span><span style=\"color:red;\">6</span><span style=\"color:red;\">;</span><span style=\"color:red;\">•</span><span style=\"color:red;\">i</span><span style=\"color:red;\">+</span><span style=\"color:red;\">+</span><span style=\"color:red;\">)</span><span style=\"color:red;\">•</span><span style=\"color:red;\">{</span><span style=\"color:red;\">↵\n",
       "</span><span style=\"color:lightgrey;\">•</span><span style=\"color:lightgrey;\">•</span><span style=\"color:lightgrey;\">•</span><span style=\"color:lightgrey;\">•</span><span style=\"color:black;\">c</span><span style=\"color:black;\">o</span><span style=\"color:black;\">u</span><span style=\"color:black;\">t</span><span style=\"color:lightgrey;\">•</span><span style=\"color:black;\"><</span><span style=\"color:black;\"><</span><span style=\"color:lightgrey;\">•</span><span style=\"color:black;\">a</span><span style=\"color:black;\">[</span><span style=\"color:black;\">i</span><span style=\"color:black;\">]</span><span style=\"color:lightgrey;\">•</span><span style=\"color:black;\"><</span><span style=\"color:black;\"><</span><span style=\"color:lightgrey;\">•</span><span style=\"color:black;\">e</span><span style=\"color:black;\">n</span><span style=\"color:black;\">d</span><span style=\"color:black;\">l</span><span style=\"color:black;\">;</span><span style=\"color:lightgrey;\">↵\n",
       "</span><span style=\"color:lightgrey;\">•</span><span style=\"color:lightgrey;\">•</span><span style=\"color:black;\">}</span><span style=\"color:lightgrey;\">↵\n",
       "</span><span style=\"color:lightgrey;\">•</span><span style=\"color:lightgrey;\">•</span><span style=\"color:black;\">r</span><span style=\"color:black;\">e</span><span style=\"color:black;\">t</span><span style=\"color:black;\">u</span><span style=\"color:black;\">r</span><span style=\"color:black;\">n</span><span style=\"color:lightgrey;\">•</span><span style=\"color:black;\">0</span><span style=\"color:black;\">;</span><span style=\"color:lightgrey;\">↵\n",
       "</span><span style=\"color:black;\">}</span></pre>"
      ],
      "text/plain": [
       "<IPython.core.display.HTML object>"
      ]
     },
     "metadata": {},
     "output_type": "display_data"
    },
    {
     "data": {
      "text/html": [
       "<h6>Changed Source Code</h6>"
      ],
      "text/plain": [
       "<IPython.core.display.HTML object>"
      ]
     },
     "metadata": {},
     "output_type": "display_data"
    },
    {
     "data": {
      "text/html": [
       "<pre><span style=\"color:black;\">#</span><span style=\"color:black;\">i</span><span style=\"color:black;\">n</span><span style=\"color:black;\">c</span><span style=\"color:black;\">l</span><span style=\"color:black;\">u</span><span style=\"color:black;\">d</span><span style=\"color:black;\">e</span><span style=\"color:lightgrey;\">•</span><span style=\"color:black;\"><</span><span style=\"color:black;\">a</span><span style=\"color:black;\">l</span><span style=\"color:black;\">g</span><span style=\"color:black;\">o</span><span style=\"color:black;\">r</span><span style=\"color:black;\">i</span><span style=\"color:black;\">t</span><span style=\"color:black;\">h</span><span style=\"color:black;\">m</span><span style=\"color:black;\">></span><span style=\"color:lightgrey;\">↵\n",
       "</span><span style=\"color:black;\">#</span><span style=\"color:black;\">i</span><span style=\"color:black;\">n</span><span style=\"color:black;\">c</span><span style=\"color:black;\">l</span><span style=\"color:black;\">u</span><span style=\"color:black;\">d</span><span style=\"color:black;\">e</span><span style=\"color:lightgrey;\">•</span><span style=\"color:black;\"><</span><span style=\"color:black;\">i</span><span style=\"color:black;\">o</span><span style=\"color:black;\">s</span><span style=\"color:black;\">t</span><span style=\"color:black;\">r</span><span style=\"color:black;\">e</span><span style=\"color:black;\">a</span><span style=\"color:black;\">m</span><span style=\"color:black;\">></span><span style=\"color:lightgrey;\">↵\n",
       "</span><span style=\"color:black;\">u</span><span style=\"color:black;\">s</span><span style=\"color:black;\">i</span><span style=\"color:black;\">n</span><span style=\"color:black;\">g</span><span style=\"color:lightgrey;\">•</span><span style=\"color:black;\">n</span><span style=\"color:black;\">a</span><span style=\"color:black;\">m</span><span style=\"color:black;\">e</span><span style=\"color:black;\">s</span><span style=\"color:black;\">p</span><span style=\"color:black;\">a</span><span style=\"color:black;\">c</span><span style=\"color:black;\">e</span><span style=\"color:lightgrey;\">•</span><span style=\"color:black;\">s</span><span style=\"color:black;\">t</span><span style=\"color:black;\">d</span><span style=\"color:black;\">;</span><span style=\"color:lightgrey;\">↵\n",
       "</span><span style=\"color:black;\">i</span><span style=\"color:black;\">n</span><span style=\"color:black;\">t</span><span style=\"color:lightgrey;\">•</span><span style=\"color:black;\">m</span><span style=\"color:black;\">a</span><span style=\"color:black;\">i</span><span style=\"color:black;\">n</span><span style=\"color:black;\">(</span><span style=\"color:black;\">)</span><span style=\"color:lightgrey;\">•</span><span style=\"color:black;\">{</span><span style=\"color:lightgrey;\">↵\n",
       "</span><span style=\"color:lightgrey;\">•</span><span style=\"color:lightgrey;\">•</span><span style=\"color:black;\">i</span><span style=\"color:black;\">n</span><span style=\"color:black;\">t</span><span style=\"color:lightgrey;\">•</span><span style=\"color:black;\">a</span><span style=\"color:black;\">[</span><span style=\"color:black;\">1</span><span style=\"color:black;\">0</span><span style=\"color:black;\">]</span><span style=\"color:black;\">;</span><span style=\"color:lightgrey;\">↵\n",
       "</span><span style=\"color:lightgrey;\">•</span><span style=\"color:lightgrey;\">•</span><span style=\"color:black;\">f</span><span style=\"color:black;\">o</span><span style=\"color:black;\">r</span><span style=\"color:lightgrey;\">•</span><span style=\"color:black;\">(</span><span style=\"color:black;\">i</span><span style=\"color:black;\">n</span><span style=\"color:black;\">t</span><span style=\"color:lightgrey;\">•</span><span style=\"color:black;\">i</span><span style=\"color:lightgrey;\">•</span><span style=\"color:black;\">=</span><span style=\"color:lightgrey;\">•</span><span style=\"color:black;\">0</span><span style=\"color:black;\">;</span><span style=\"color:lightgrey;\">•</span><span style=\"color:black;\">i</span><span style=\"color:lightgrey;\">•</span><span style=\"color:black;\"><</span><span style=\"color:lightgrey;\">•</span><span style=\"color:black;\">1</span><span style=\"color:black;\">0</span><span style=\"color:black;\">;</span><span style=\"color:lightgrey;\">•</span><span style=\"color:black;\">i</span><span style=\"color:black;\">+</span><span style=\"color:black;\">+</span><span style=\"color:black;\">)</span><span style=\"color:lightgrey;\">•</span><span style=\"color:black;\">{</span><span style=\"color:lightgrey;\">↵\n",
       "</span><span style=\"color:lightgrey;\">•</span><span style=\"color:lightgrey;\">•</span><span style=\"color:lightgrey;\">•</span><span style=\"color:lightgrey;\">•</span><span style=\"color:black;\">c</span><span style=\"color:black;\">i</span><span style=\"color:black;\">n</span><span style=\"color:lightgrey;\">•</span><span style=\"color:black;\">></span><span style=\"color:black;\">></span><span style=\"color:lightgrey;\">•</span><span style=\"color:black;\">a</span><span style=\"color:black;\">[</span><span style=\"color:black;\">i</span><span style=\"color:black;\">]</span><span style=\"color:black;\">;</span><span style=\"color:lightgrey;\">↵\n",
       "</span><span style=\"color:lightgrey;\">•</span><span style=\"color:lightgrey;\">•</span><span style=\"color:black;\">}</span><span style=\"color:lightgrey;\">↵\n",
       "</span><span style=\"color:lightgrey;\">•</span><span style=\"color:lightgrey;\">•</span><span style=\"color:black;\">s</span><span style=\"color:black;\">o</span><span style=\"color:black;\">r</span><span style=\"color:black;\">t</span><span style=\"color:black;\">(</span><span style=\"color:black;\">a</span><span style=\"color:black;\">,</span><span style=\"color:lightgrey;\">•</span><span style=\"color:black;\">a</span><span style=\"color:lightgrey;\">•</span><span style=\"color:black;\">+</span><span style=\"color:lightgrey;\">•</span><span style=\"color:black;\">1</span><span style=\"color:black;\">0</span><span style=\"color:black;\">)</span><span style=\"color:black;\">;</span><span style=\"color:lightgrey;\">↵\n",
       "</span><span style=\"color:green;\">•</span><span style=\"color:green;\">•</span><span style=\"color:green;\">f</span><span style=\"color:green;\">o</span><span style=\"color:green;\">r</span><span style=\"color:green;\">•</span><span style=\"color:green;\">(</span><span style=\"color:green;\">i</span><span style=\"color:green;\">n</span><span style=\"color:green;\">t</span><span style=\"color:green;\">•</span><span style=\"color:green;\">i</span><span style=\"color:green;\">•</span><span style=\"color:green;\">=</span><span style=\"color:green;\">•</span><span style=\"color:green;\">9</span><span style=\"color:green;\">;</span><span style=\"color:green;\">•</span><span style=\"color:green;\">i</span><span style=\"color:green;\">•</span><span style=\"color:green;\">></span><span style=\"color:green;\">•</span><span style=\"color:green;\">6</span><span style=\"color:green;\">;</span><span style=\"color:green;\">•</span><span style=\"color:green;\">i</span><span style=\"color:green;\">-</span><span style=\"color:green;\">-</span><span style=\"color:green;\">)</span><span style=\"color:green;\">•</span><span style=\"color:green;\">{</span><span style=\"color:green;\">↵\n",
       "</span><span style=\"color:lightgrey;\">•</span><span style=\"color:lightgrey;\">•</span><span style=\"color:lightgrey;\">•</span><span style=\"color:lightgrey;\">•</span><span style=\"color:black;\">c</span><span style=\"color:black;\">o</span><span style=\"color:black;\">u</span><span style=\"color:black;\">t</span><span style=\"color:lightgrey;\">•</span><span style=\"color:black;\"><</span><span style=\"color:black;\"><</span><span style=\"color:lightgrey;\">•</span><span style=\"color:black;\">a</span><span style=\"color:black;\">[</span><span style=\"color:black;\">i</span><span style=\"color:black;\">]</span><span style=\"color:lightgrey;\">•</span><span style=\"color:black;\"><</span><span style=\"color:black;\"><</span><span style=\"color:lightgrey;\">•</span><span style=\"color:black;\">e</span><span style=\"color:black;\">n</span><span style=\"color:black;\">d</span><span style=\"color:black;\">l</span><span style=\"color:black;\">;</span><span style=\"color:lightgrey;\">↵\n",
       "</span><span style=\"color:lightgrey;\">•</span><span style=\"color:lightgrey;\">•</span><span style=\"color:black;\">}</span><span style=\"color:lightgrey;\">↵\n",
       "</span><span style=\"color:lightgrey;\">•</span><span style=\"color:lightgrey;\">•</span><span style=\"color:black;\">r</span><span style=\"color:black;\">e</span><span style=\"color:black;\">t</span><span style=\"color:black;\">u</span><span style=\"color:black;\">r</span><span style=\"color:black;\">n</span><span style=\"color:lightgrey;\">•</span><span style=\"color:black;\">0</span><span style=\"color:black;\">;</span><span style=\"color:lightgrey;\">↵\n",
       "</span><span style=\"color:black;\">}</span></pre>"
      ],
      "text/plain": [
       "<IPython.core.display.HTML object>"
      ]
     },
     "metadata": {},
     "output_type": "display_data"
    },
    {
     "data": {
      "text/html": [
       "<h6>Codex Prediction</h6>"
      ],
      "text/plain": [
       "<IPython.core.display.HTML object>"
      ]
     },
     "metadata": {},
     "output_type": "display_data"
    },
    {
     "data": {
      "text/html": [
       "<pre><span style=\"color:red;\">f</span><span style=\"color:red;\">o</span><span style=\"color:red;\">r</span><span style=\"color:red;\">•</span><span style=\"color:red;\">(</span><span style=\"color:red;\">i</span><span style=\"color:red;\">n</span><span style=\"color:red;\">t</span><span style=\"color:red;\">•</span><span style=\"color:red;\">i</span><span style=\"color:red;\">•</span><span style=\"color:red;\">=</span><span style=\"color:red;\">•</span><span style=\"color:red;\">9</span><span style=\"color:red;\">;</span><span style=\"color:red;\">•</span><span style=\"color:red;\">i</span><span style=\"color:red;\">•</span><span style=\"color:red;\">></span><span style=\"color:red;\">=</span><span style=\"color:red;\">•</span><span style=\"color:red;\">7</span><span style=\"color:red;\">;</span><span style=\"color:red;\">•</span><span style=\"color:red;\">i</span><span style=\"color:red;\">-</span><span style=\"color:red;\">-</span><span style=\"color:red;\">)</span></pre>"
      ],
      "text/plain": [
       "<IPython.core.display.HTML object>"
      ]
     },
     "metadata": {},
     "output_type": "display_data"
    },
    {
     "data": {
      "text/html": [
       "<h2>Example 3</h2>"
      ],
      "text/plain": [
       "<IPython.core.display.HTML object>"
      ]
     },
     "metadata": {},
     "output_type": "display_data"
    },
    {
     "data": {
      "text/html": [
       "<h6>Original Source Code</h6>"
      ],
      "text/plain": [
       "<IPython.core.display.HTML object>"
      ]
     },
     "metadata": {},
     "output_type": "display_data"
    },
    {
     "data": {
      "text/html": [
       "<pre><span style=\"color:black;\">#</span><span style=\"color:black;\">i</span><span style=\"color:black;\">n</span><span style=\"color:black;\">c</span><span style=\"color:black;\">l</span><span style=\"color:black;\">u</span><span style=\"color:black;\">d</span><span style=\"color:black;\">e</span><span style=\"color:lightgrey;\">•</span><span style=\"color:black;\"><</span><span style=\"color:black;\">s</span><span style=\"color:black;\">t</span><span style=\"color:black;\">d</span><span style=\"color:black;\">i</span><span style=\"color:black;\">o</span><span style=\"color:black;\">.</span><span style=\"color:black;\">h</span><span style=\"color:black;\">></span><span style=\"color:lightgrey;\">↵\n",
       "</span><span style=\"color:black;\">i</span><span style=\"color:black;\">n</span><span style=\"color:black;\">t</span><span style=\"color:lightgrey;\">•</span><span style=\"color:black;\">m</span><span style=\"color:black;\">a</span><span style=\"color:black;\">i</span><span style=\"color:black;\">n</span><span style=\"color:black;\">(</span><span style=\"color:black;\">v</span><span style=\"color:black;\">o</span><span style=\"color:black;\">i</span><span style=\"color:black;\">d</span><span style=\"color:black;\">)</span><span style=\"color:lightgrey;\">•</span><span style=\"color:black;\">{</span><span style=\"color:lightgrey;\">↵\n",
       "</span><span style=\"color:lightgrey;\">•</span><span style=\"color:lightgrey;\">•</span><span style=\"color:black;\">i</span><span style=\"color:black;\">n</span><span style=\"color:black;\">t</span><span style=\"color:lightgrey;\">•</span><span style=\"color:black;\">a</span><span style=\"color:lightgrey;\">•</span><span style=\"color:black;\">=</span><span style=\"color:lightgrey;\">•</span><span style=\"color:black;\">0</span><span style=\"color:black;\">,</span><span style=\"color:lightgrey;\">•</span><span style=\"color:black;\">b</span><span style=\"color:lightgrey;\">•</span><span style=\"color:black;\">=</span><span style=\"color:lightgrey;\">•</span><span style=\"color:black;\">0</span><span style=\"color:black;\">,</span><span style=\"color:lightgrey;\">•</span><span style=\"color:black;\">c</span><span style=\"color:lightgrey;\">•</span><span style=\"color:black;\">=</span><span style=\"color:lightgrey;\">•</span><span style=\"color:black;\">0</span><span style=\"color:black;\">,</span><span style=\"color:lightgrey;\">•</span><span style=\"color:black;\">n</span><span style=\"color:black;\">,</span><span style=\"color:lightgrey;\">•</span><span style=\"color:black;\">t</span><span style=\"color:black;\">;</span><span style=\"color:lightgrey;\">↵\n",
       "</span><span style=\"color:red;\">•</span><span style=\"color:red;\">•</span><span style=\"color:red;\">w</span><span style=\"color:red;\">h</span><span style=\"color:red;\">i</span><span style=\"color:red;\">l</span><span style=\"color:red;\">e</span><span style=\"color:red;\">•</span><span style=\"color:red;\">(</span><span style=\"color:red;\">s</span><span style=\"color:red;\">c</span><span style=\"color:red;\">a</span><span style=\"color:red;\">n</span><span style=\"color:red;\">f</span><span style=\"color:red;\">(</span><span style=\"color:red;\">\"</span><span style=\"color:red;\">%</span><span style=\"color:red;\">d</span><span style=\"color:red;\">\"</span><span style=\"color:red;\">,</span><span style=\"color:red;\">•</span><span style=\"color:red;\">&</span><span style=\"color:red;\">n</span><span style=\"color:red;\">)</span><span style=\"color:red;\">)</span><span style=\"color:red;\">•</span><span style=\"color:red;\">{</span><span style=\"color:red;\">↵\n",
       "</span><span style=\"color:lightgrey;\">•</span><span style=\"color:lightgrey;\">•</span><span style=\"color:lightgrey;\">•</span><span style=\"color:lightgrey;\">•</span><span style=\"color:black;\">i</span><span style=\"color:black;\">f</span><span style=\"color:lightgrey;\">•</span><span style=\"color:black;\">(</span><span style=\"color:black;\">n</span><span style=\"color:lightgrey;\">•</span><span style=\"color:black;\">></span><span style=\"color:lightgrey;\">•</span><span style=\"color:black;\">a</span><span style=\"color:black;\">)</span><span style=\"color:lightgrey;\">↵\n",
       "</span><span style=\"color:lightgrey;\">•</span><span style=\"color:lightgrey;\">•</span><span style=\"color:lightgrey;\">•</span><span style=\"color:lightgrey;\">•</span><span style=\"color:lightgrey;\">•</span><span style=\"color:lightgrey;\">•</span><span style=\"color:black;\">t</span><span style=\"color:lightgrey;\">•</span><span style=\"color:black;\">=</span><span style=\"color:lightgrey;\">•</span><span style=\"color:black;\">n</span><span style=\"color:black;\">,</span><span style=\"color:lightgrey;\">•</span><span style=\"color:black;\">n</span><span style=\"color:lightgrey;\">•</span><span style=\"color:black;\">=</span><span style=\"color:lightgrey;\">•</span><span style=\"color:black;\">a</span><span style=\"color:black;\">,</span><span style=\"color:lightgrey;\">•</span><span style=\"color:black;\">a</span><span style=\"color:lightgrey;\">•</span><span style=\"color:black;\">=</span><span style=\"color:lightgrey;\">•</span><span style=\"color:black;\">t</span><span style=\"color:black;\">;</span><span style=\"color:lightgrey;\">↵\n",
       "</span><span style=\"color:lightgrey;\">•</span><span style=\"color:lightgrey;\">•</span><span style=\"color:lightgrey;\">•</span><span style=\"color:lightgrey;\">•</span><span style=\"color:black;\">i</span><span style=\"color:black;\">f</span><span style=\"color:lightgrey;\">•</span><span style=\"color:black;\">(</span><span style=\"color:black;\">n</span><span style=\"color:lightgrey;\">•</span><span style=\"color:black;\">></span><span style=\"color:lightgrey;\">•</span><span style=\"color:black;\">b</span><span style=\"color:black;\">)</span><span style=\"color:lightgrey;\">↵\n",
       "</span><span style=\"color:lightgrey;\">•</span><span style=\"color:lightgrey;\">•</span><span style=\"color:lightgrey;\">•</span><span style=\"color:lightgrey;\">•</span><span style=\"color:lightgrey;\">•</span><span style=\"color:lightgrey;\">•</span><span style=\"color:black;\">t</span><span style=\"color:lightgrey;\">•</span><span style=\"color:black;\">=</span><span style=\"color:lightgrey;\">•</span><span style=\"color:black;\">n</span><span style=\"color:black;\">,</span><span style=\"color:lightgrey;\">•</span><span style=\"color:black;\">n</span><span style=\"color:lightgrey;\">•</span><span style=\"color:black;\">=</span><span style=\"color:lightgrey;\">•</span><span style=\"color:black;\">b</span><span style=\"color:black;\">,</span><span style=\"color:lightgrey;\">•</span><span style=\"color:black;\">b</span><span style=\"color:lightgrey;\">•</span><span style=\"color:black;\">=</span><span style=\"color:lightgrey;\">•</span><span style=\"color:black;\">t</span><span style=\"color:black;\">;</span><span style=\"color:lightgrey;\">↵\n",
       "</span><span style=\"color:lightgrey;\">•</span><span style=\"color:lightgrey;\">•</span><span style=\"color:lightgrey;\">•</span><span style=\"color:lightgrey;\">•</span><span style=\"color:black;\">i</span><span style=\"color:black;\">f</span><span style=\"color:lightgrey;\">•</span><span style=\"color:black;\">(</span><span style=\"color:black;\">n</span><span style=\"color:lightgrey;\">•</span><span style=\"color:black;\">></span><span style=\"color:lightgrey;\">•</span><span style=\"color:black;\">c</span><span style=\"color:black;\">)</span><span style=\"color:lightgrey;\">↵\n",
       "</span><span style=\"color:lightgrey;\">•</span><span style=\"color:lightgrey;\">•</span><span style=\"color:lightgrey;\">•</span><span style=\"color:lightgrey;\">•</span><span style=\"color:lightgrey;\">•</span><span style=\"color:lightgrey;\">•</span><span style=\"color:black;\">c</span><span style=\"color:lightgrey;\">•</span><span style=\"color:black;\">=</span><span style=\"color:lightgrey;\">•</span><span style=\"color:black;\">n</span><span style=\"color:black;\">;</span><span style=\"color:lightgrey;\">↵\n",
       "</span><span style=\"color:lightgrey;\">•</span><span style=\"color:lightgrey;\">•</span><span style=\"color:black;\">}</span><span style=\"color:lightgrey;\">↵\n",
       "</span><span style=\"color:lightgrey;\">•</span><span style=\"color:lightgrey;\">•</span><span style=\"color:black;\">p</span><span style=\"color:black;\">r</span><span style=\"color:black;\">i</span><span style=\"color:black;\">n</span><span style=\"color:black;\">t</span><span style=\"color:black;\">f</span><span style=\"color:black;\">(</span><span style=\"color:black;\">\"</span><span style=\"color:black;\">%</span><span style=\"color:black;\">d</span><span style=\"color:black;\">\\</span><span style=\"color:black;\">n</span><span style=\"color:black;\">%</span><span style=\"color:black;\">d</span><span style=\"color:black;\">\\</span><span style=\"color:black;\">n</span><span style=\"color:black;\">%</span><span style=\"color:black;\">d</span><span style=\"color:black;\">\\</span><span style=\"color:black;\">n</span><span style=\"color:black;\">\"</span><span style=\"color:black;\">,</span><span style=\"color:lightgrey;\">•</span><span style=\"color:black;\">a</span><span style=\"color:black;\">,</span><span style=\"color:lightgrey;\">•</span><span style=\"color:black;\">b</span><span style=\"color:black;\">,</span><span style=\"color:lightgrey;\">•</span><span style=\"color:black;\">c</span><span style=\"color:black;\">)</span><span style=\"color:black;\">;</span><span style=\"color:lightgrey;\">↵\n",
       "</span><span style=\"color:lightgrey;\">•</span><span style=\"color:lightgrey;\">•</span><span style=\"color:black;\">r</span><span style=\"color:black;\">e</span><span style=\"color:black;\">t</span><span style=\"color:black;\">u</span><span style=\"color:black;\">r</span><span style=\"color:black;\">n</span><span style=\"color:lightgrey;\">•</span><span style=\"color:black;\">0</span><span style=\"color:black;\">;</span><span style=\"color:lightgrey;\">↵\n",
       "</span><span style=\"color:black;\">}</span></pre>"
      ],
      "text/plain": [
       "<IPython.core.display.HTML object>"
      ]
     },
     "metadata": {},
     "output_type": "display_data"
    },
    {
     "data": {
      "text/html": [
       "<h6>Changed Source Code</h6>"
      ],
      "text/plain": [
       "<IPython.core.display.HTML object>"
      ]
     },
     "metadata": {},
     "output_type": "display_data"
    },
    {
     "data": {
      "text/html": [
       "<pre><span style=\"color:black;\">#</span><span style=\"color:black;\">i</span><span style=\"color:black;\">n</span><span style=\"color:black;\">c</span><span style=\"color:black;\">l</span><span style=\"color:black;\">u</span><span style=\"color:black;\">d</span><span style=\"color:black;\">e</span><span style=\"color:lightgrey;\">•</span><span style=\"color:black;\"><</span><span style=\"color:black;\">s</span><span style=\"color:black;\">t</span><span style=\"color:black;\">d</span><span style=\"color:black;\">i</span><span style=\"color:black;\">o</span><span style=\"color:black;\">.</span><span style=\"color:black;\">h</span><span style=\"color:black;\">></span><span style=\"color:lightgrey;\">↵\n",
       "</span><span style=\"color:black;\">i</span><span style=\"color:black;\">n</span><span style=\"color:black;\">t</span><span style=\"color:lightgrey;\">•</span><span style=\"color:black;\">m</span><span style=\"color:black;\">a</span><span style=\"color:black;\">i</span><span style=\"color:black;\">n</span><span style=\"color:black;\">(</span><span style=\"color:black;\">v</span><span style=\"color:black;\">o</span><span style=\"color:black;\">i</span><span style=\"color:black;\">d</span><span style=\"color:black;\">)</span><span style=\"color:lightgrey;\">•</span><span style=\"color:black;\">{</span><span style=\"color:lightgrey;\">↵\n",
       "</span><span style=\"color:lightgrey;\">•</span><span style=\"color:lightgrey;\">•</span><span style=\"color:black;\">i</span><span style=\"color:black;\">n</span><span style=\"color:black;\">t</span><span style=\"color:lightgrey;\">•</span><span style=\"color:black;\">a</span><span style=\"color:lightgrey;\">•</span><span style=\"color:black;\">=</span><span style=\"color:lightgrey;\">•</span><span style=\"color:black;\">0</span><span style=\"color:black;\">,</span><span style=\"color:lightgrey;\">•</span><span style=\"color:black;\">b</span><span style=\"color:lightgrey;\">•</span><span style=\"color:black;\">=</span><span style=\"color:lightgrey;\">•</span><span style=\"color:black;\">0</span><span style=\"color:black;\">,</span><span style=\"color:lightgrey;\">•</span><span style=\"color:black;\">c</span><span style=\"color:lightgrey;\">•</span><span style=\"color:black;\">=</span><span style=\"color:lightgrey;\">•</span><span style=\"color:black;\">0</span><span style=\"color:black;\">,</span><span style=\"color:lightgrey;\">•</span><span style=\"color:black;\">n</span><span style=\"color:black;\">,</span><span style=\"color:lightgrey;\">•</span><span style=\"color:black;\">t</span><span style=\"color:black;\">;</span><span style=\"color:lightgrey;\">↵\n",
       "</span><span style=\"color:green;\">•</span><span style=\"color:green;\">•</span><span style=\"color:green;\">w</span><span style=\"color:green;\">h</span><span style=\"color:green;\">i</span><span style=\"color:green;\">l</span><span style=\"color:green;\">e</span><span style=\"color:green;\">•</span><span style=\"color:green;\">(</span><span style=\"color:green;\">s</span><span style=\"color:green;\">c</span><span style=\"color:green;\">a</span><span style=\"color:green;\">n</span><span style=\"color:green;\">f</span><span style=\"color:green;\">(</span><span style=\"color:green;\">\"</span><span style=\"color:green;\">%</span><span style=\"color:green;\">d</span><span style=\"color:green;\">\"</span><span style=\"color:green;\">,</span><span style=\"color:green;\">•</span><span style=\"color:green;\">&</span><span style=\"color:green;\">n</span><span style=\"color:green;\">)</span><span style=\"color:green;\">•</span><span style=\"color:green;\">></span><span style=\"color:green;\">•</span><span style=\"color:green;\">0</span><span style=\"color:green;\">)</span><span style=\"color:green;\">•</span><span style=\"color:green;\">{</span><span style=\"color:green;\">↵\n",
       "</span><span style=\"color:lightgrey;\">•</span><span style=\"color:lightgrey;\">•</span><span style=\"color:lightgrey;\">•</span><span style=\"color:lightgrey;\">•</span><span style=\"color:black;\">i</span><span style=\"color:black;\">f</span><span style=\"color:lightgrey;\">•</span><span style=\"color:black;\">(</span><span style=\"color:black;\">n</span><span style=\"color:lightgrey;\">•</span><span style=\"color:black;\">></span><span style=\"color:lightgrey;\">•</span><span style=\"color:black;\">a</span><span style=\"color:black;\">)</span><span style=\"color:lightgrey;\">↵\n",
       "</span><span style=\"color:lightgrey;\">•</span><span style=\"color:lightgrey;\">•</span><span style=\"color:lightgrey;\">•</span><span style=\"color:lightgrey;\">•</span><span style=\"color:lightgrey;\">•</span><span style=\"color:lightgrey;\">•</span><span style=\"color:black;\">t</span><span style=\"color:lightgrey;\">•</span><span style=\"color:black;\">=</span><span style=\"color:lightgrey;\">•</span><span style=\"color:black;\">n</span><span style=\"color:black;\">,</span><span style=\"color:lightgrey;\">•</span><span style=\"color:black;\">n</span><span style=\"color:lightgrey;\">•</span><span style=\"color:black;\">=</span><span style=\"color:lightgrey;\">•</span><span style=\"color:black;\">a</span><span style=\"color:black;\">,</span><span style=\"color:lightgrey;\">•</span><span style=\"color:black;\">a</span><span style=\"color:lightgrey;\">•</span><span style=\"color:black;\">=</span><span style=\"color:lightgrey;\">•</span><span style=\"color:black;\">t</span><span style=\"color:black;\">;</span><span style=\"color:lightgrey;\">↵\n",
       "</span><span style=\"color:lightgrey;\">•</span><span style=\"color:lightgrey;\">•</span><span style=\"color:lightgrey;\">•</span><span style=\"color:lightgrey;\">•</span><span style=\"color:black;\">i</span><span style=\"color:black;\">f</span><span style=\"color:lightgrey;\">•</span><span style=\"color:black;\">(</span><span style=\"color:black;\">n</span><span style=\"color:lightgrey;\">•</span><span style=\"color:black;\">></span><span style=\"color:lightgrey;\">•</span><span style=\"color:black;\">b</span><span style=\"color:black;\">)</span><span style=\"color:lightgrey;\">↵\n",
       "</span><span style=\"color:lightgrey;\">•</span><span style=\"color:lightgrey;\">•</span><span style=\"color:lightgrey;\">•</span><span style=\"color:lightgrey;\">•</span><span style=\"color:lightgrey;\">•</span><span style=\"color:lightgrey;\">•</span><span style=\"color:black;\">t</span><span style=\"color:lightgrey;\">•</span><span style=\"color:black;\">=</span><span style=\"color:lightgrey;\">•</span><span style=\"color:black;\">n</span><span style=\"color:black;\">,</span><span style=\"color:lightgrey;\">•</span><span style=\"color:black;\">n</span><span style=\"color:lightgrey;\">•</span><span style=\"color:black;\">=</span><span style=\"color:lightgrey;\">•</span><span style=\"color:black;\">b</span><span style=\"color:black;\">,</span><span style=\"color:lightgrey;\">•</span><span style=\"color:black;\">b</span><span style=\"color:lightgrey;\">•</span><span style=\"color:black;\">=</span><span style=\"color:lightgrey;\">•</span><span style=\"color:black;\">t</span><span style=\"color:black;\">;</span><span style=\"color:lightgrey;\">↵\n",
       "</span><span style=\"color:lightgrey;\">•</span><span style=\"color:lightgrey;\">•</span><span style=\"color:lightgrey;\">•</span><span style=\"color:lightgrey;\">•</span><span style=\"color:black;\">i</span><span style=\"color:black;\">f</span><span style=\"color:lightgrey;\">•</span><span style=\"color:black;\">(</span><span style=\"color:black;\">n</span><span style=\"color:lightgrey;\">•</span><span style=\"color:black;\">></span><span style=\"color:lightgrey;\">•</span><span style=\"color:black;\">c</span><span style=\"color:black;\">)</span><span style=\"color:lightgrey;\">↵\n",
       "</span><span style=\"color:lightgrey;\">•</span><span style=\"color:lightgrey;\">•</span><span style=\"color:lightgrey;\">•</span><span style=\"color:lightgrey;\">•</span><span style=\"color:lightgrey;\">•</span><span style=\"color:lightgrey;\">•</span><span style=\"color:black;\">c</span><span style=\"color:lightgrey;\">•</span><span style=\"color:black;\">=</span><span style=\"color:lightgrey;\">•</span><span style=\"color:black;\">n</span><span style=\"color:black;\">;</span><span style=\"color:lightgrey;\">↵\n",
       "</span><span style=\"color:lightgrey;\">•</span><span style=\"color:lightgrey;\">•</span><span style=\"color:black;\">}</span><span style=\"color:lightgrey;\">↵\n",
       "</span><span style=\"color:lightgrey;\">•</span><span style=\"color:lightgrey;\">•</span><span style=\"color:black;\">p</span><span style=\"color:black;\">r</span><span style=\"color:black;\">i</span><span style=\"color:black;\">n</span><span style=\"color:black;\">t</span><span style=\"color:black;\">f</span><span style=\"color:black;\">(</span><span style=\"color:black;\">\"</span><span style=\"color:black;\">%</span><span style=\"color:black;\">d</span><span style=\"color:black;\">\\</span><span style=\"color:black;\">n</span><span style=\"color:black;\">%</span><span style=\"color:black;\">d</span><span style=\"color:black;\">\\</span><span style=\"color:black;\">n</span><span style=\"color:black;\">%</span><span style=\"color:black;\">d</span><span style=\"color:black;\">\\</span><span style=\"color:black;\">n</span><span style=\"color:black;\">\"</span><span style=\"color:black;\">,</span><span style=\"color:lightgrey;\">•</span><span style=\"color:black;\">a</span><span style=\"color:black;\">,</span><span style=\"color:lightgrey;\">•</span><span style=\"color:black;\">b</span><span style=\"color:black;\">,</span><span style=\"color:lightgrey;\">•</span><span style=\"color:black;\">c</span><span style=\"color:black;\">)</span><span style=\"color:black;\">;</span><span style=\"color:lightgrey;\">↵\n",
       "</span><span style=\"color:lightgrey;\">•</span><span style=\"color:lightgrey;\">•</span><span style=\"color:black;\">r</span><span style=\"color:black;\">e</span><span style=\"color:black;\">t</span><span style=\"color:black;\">u</span><span style=\"color:black;\">r</span><span style=\"color:black;\">n</span><span style=\"color:lightgrey;\">•</span><span style=\"color:black;\">0</span><span style=\"color:black;\">;</span><span style=\"color:lightgrey;\">↵\n",
       "</span><span style=\"color:black;\">}</span></pre>"
      ],
      "text/plain": [
       "<IPython.core.display.HTML object>"
      ]
     },
     "metadata": {},
     "output_type": "display_data"
    },
    {
     "data": {
      "text/html": [
       "<h6>Codex Prediction</h6>"
      ],
      "text/plain": [
       "<IPython.core.display.HTML object>"
      ]
     },
     "metadata": {},
     "output_type": "display_data"
    },
    {
     "data": {
      "text/html": [
       "<pre><span style=\"color:red;\">w</span><span style=\"color:red;\">h</span><span style=\"color:red;\">i</span><span style=\"color:red;\">l</span><span style=\"color:red;\">e</span><span style=\"color:red;\">•</span><span style=\"color:red;\">(</span><span style=\"color:red;\">s</span><span style=\"color:red;\">c</span><span style=\"color:red;\">a</span><span style=\"color:red;\">n</span><span style=\"color:red;\">f</span><span style=\"color:red;\">(</span><span style=\"color:red;\">\"</span><span style=\"color:red;\">%</span><span style=\"color:red;\">d</span><span style=\"color:red;\">\"</span><span style=\"color:red;\">,</span><span style=\"color:red;\">•</span><span style=\"color:red;\">&</span><span style=\"color:red;\">n</span><span style=\"color:red;\">)</span><span style=\"color:red;\">•</span><span style=\"color:red;\">=</span><span style=\"color:red;\">=</span><span style=\"color:red;\">•</span><span style=\"color:red;\">1</span><span style=\"color:red;\">)</span></pre>"
      ],
      "text/plain": [
       "<IPython.core.display.HTML object>"
      ]
     },
     "metadata": {},
     "output_type": "display_data"
    },
    {
     "data": {
      "text/html": [
       "<h2>Example 4</h2>"
      ],
      "text/plain": [
       "<IPython.core.display.HTML object>"
      ]
     },
     "metadata": {},
     "output_type": "display_data"
    },
    {
     "data": {
      "text/html": [
       "<h6>Original Source Code</h6>"
      ],
      "text/plain": [
       "<IPython.core.display.HTML object>"
      ]
     },
     "metadata": {},
     "output_type": "display_data"
    },
    {
     "data": {
      "text/html": [
       "<pre><span style=\"color:black;\">#</span><span style=\"color:black;\">i</span><span style=\"color:black;\">n</span><span style=\"color:black;\">c</span><span style=\"color:black;\">l</span><span style=\"color:black;\">u</span><span style=\"color:black;\">d</span><span style=\"color:black;\">e</span><span style=\"color:lightgrey;\">•</span><span style=\"color:black;\"><</span><span style=\"color:black;\">s</span><span style=\"color:black;\">t</span><span style=\"color:black;\">d</span><span style=\"color:black;\">i</span><span style=\"color:black;\">o</span><span style=\"color:black;\">.</span><span style=\"color:black;\">h</span><span style=\"color:black;\">></span><span style=\"color:lightgrey;\">↵\n",
       "</span><span style=\"color:black;\">i</span><span style=\"color:black;\">n</span><span style=\"color:black;\">t</span><span style=\"color:lightgrey;\">•</span><span style=\"color:black;\">m</span><span style=\"color:black;\">a</span><span style=\"color:black;\">i</span><span style=\"color:black;\">n</span><span style=\"color:black;\">(</span><span style=\"color:black;\">v</span><span style=\"color:black;\">o</span><span style=\"color:black;\">i</span><span style=\"color:black;\">d</span><span style=\"color:black;\">)</span><span style=\"color:lightgrey;\">•</span><span style=\"color:black;\">{</span><span style=\"color:lightgrey;\">↵\n",
       "</span><span style=\"color:lightgrey;\">•</span><span style=\"color:lightgrey;\">•</span><span style=\"color:black;\">i</span><span style=\"color:black;\">n</span><span style=\"color:black;\">t</span><span style=\"color:lightgrey;\">•</span><span style=\"color:black;\">i</span><span style=\"color:black;\">,</span><span style=\"color:lightgrey;\">•</span><span style=\"color:black;\">j</span><span style=\"color:black;\">,</span><span style=\"color:lightgrey;\">•</span><span style=\"color:black;\">n</span><span style=\"color:black;\">[</span><span style=\"color:black;\">1</span><span style=\"color:black;\">0</span><span style=\"color:black;\">]</span><span style=\"color:black;\">,</span><span style=\"color:lightgrey;\">•</span><span style=\"color:black;\">w</span><span style=\"color:black;\">;</span><span style=\"color:lightgrey;\">↵\n",
       "</span><span style=\"color:lightgrey;\">•</span><span style=\"color:lightgrey;\">•</span><span style=\"color:black;\">f</span><span style=\"color:black;\">o</span><span style=\"color:black;\">r</span><span style=\"color:lightgrey;\">•</span><span style=\"color:black;\">(</span><span style=\"color:black;\">i</span><span style=\"color:lightgrey;\">•</span><span style=\"color:black;\">=</span><span style=\"color:lightgrey;\">•</span><span style=\"color:black;\">0</span><span style=\"color:black;\">;</span><span style=\"color:lightgrey;\">•</span><span style=\"color:black;\">i</span><span style=\"color:lightgrey;\">•</span><span style=\"color:black;\"><</span><span style=\"color:lightgrey;\">•</span><span style=\"color:black;\">1</span><span style=\"color:black;\">0</span><span style=\"color:black;\">;</span><span style=\"color:lightgrey;\">•</span><span style=\"color:black;\">i</span><span style=\"color:black;\">+</span><span style=\"color:black;\">+</span><span style=\"color:black;\">)</span><span style=\"color:lightgrey;\">•</span><span style=\"color:black;\">{</span><span style=\"color:lightgrey;\">↵\n",
       "</span><span style=\"color:red;\">•</span><span style=\"color:red;\">•</span><span style=\"color:red;\">•</span><span style=\"color:red;\">•</span><span style=\"color:red;\">s</span><span style=\"color:red;\">c</span><span style=\"color:red;\">a</span><span style=\"color:red;\">n</span><span style=\"color:red;\">f</span><span style=\"color:red;\">(</span><span style=\"color:red;\">\"</span><span style=\"color:red;\">%</span><span style=\"color:red;\">d</span><span style=\"color:red;\">\"</span><span style=\"color:red;\">,</span><span style=\"color:red;\">•</span><span style=\"color:red;\">n</span><span style=\"color:red;\">[</span><span style=\"color:red;\">i</span><span style=\"color:red;\">]</span><span style=\"color:red;\">)</span><span style=\"color:red;\">;</span><span style=\"color:red;\">↵\n",
       "</span><span style=\"color:lightgrey;\">•</span><span style=\"color:lightgrey;\">•</span><span style=\"color:black;\">}</span><span style=\"color:lightgrey;\">↵\n",
       "</span><span style=\"color:lightgrey;\">•</span><span style=\"color:lightgrey;\">•</span><span style=\"color:black;\">f</span><span style=\"color:black;\">o</span><span style=\"color:black;\">r</span><span style=\"color:lightgrey;\">•</span><span style=\"color:black;\">(</span><span style=\"color:black;\">i</span><span style=\"color:lightgrey;\">•</span><span style=\"color:black;\">=</span><span style=\"color:lightgrey;\">•</span><span style=\"color:black;\">0</span><span style=\"color:black;\">;</span><span style=\"color:lightgrey;\">•</span><span style=\"color:black;\">i</span><span style=\"color:lightgrey;\">•</span><span style=\"color:black;\"><</span><span style=\"color:lightgrey;\">•</span><span style=\"color:black;\">1</span><span style=\"color:black;\">0</span><span style=\"color:black;\">;</span><span style=\"color:lightgrey;\">•</span><span style=\"color:black;\">i</span><span style=\"color:black;\">+</span><span style=\"color:black;\">+</span><span style=\"color:black;\">)</span><span style=\"color:lightgrey;\">•</span><span style=\"color:black;\">{</span><span style=\"color:lightgrey;\">↵\n",
       "</span><span style=\"color:lightgrey;\">•</span><span style=\"color:lightgrey;\">•</span><span style=\"color:lightgrey;\">•</span><span style=\"color:lightgrey;\">•</span><span style=\"color:black;\">f</span><span style=\"color:black;\">o</span><span style=\"color:black;\">r</span><span style=\"color:lightgrey;\">•</span><span style=\"color:black;\">(</span><span style=\"color:black;\">j</span><span style=\"color:lightgrey;\">•</span><span style=\"color:black;\">=</span><span style=\"color:lightgrey;\">•</span><span style=\"color:black;\">0</span><span style=\"color:black;\">;</span><span style=\"color:lightgrey;\">•</span><span style=\"color:black;\">j</span><span style=\"color:lightgrey;\">•</span><span style=\"color:black;\"><</span><span style=\"color:black;\">=</span><span style=\"color:lightgrey;\">•</span><span style=\"color:black;\">1</span><span style=\"color:black;\">0</span><span style=\"color:black;\">;</span><span style=\"color:lightgrey;\">•</span><span style=\"color:black;\">j</span><span style=\"color:black;\">+</span><span style=\"color:black;\">+</span><span style=\"color:black;\">)</span><span style=\"color:lightgrey;\">•</span><span style=\"color:black;\">{</span><span style=\"color:lightgrey;\">↵\n",
       "</span><span style=\"color:lightgrey;\">•</span><span style=\"color:lightgrey;\">•</span><span style=\"color:lightgrey;\">•</span><span style=\"color:lightgrey;\">•</span><span style=\"color:lightgrey;\">•</span><span style=\"color:lightgrey;\">•</span><span style=\"color:black;\">i</span><span style=\"color:black;\">f</span><span style=\"color:lightgrey;\">•</span><span style=\"color:black;\">(</span><span style=\"color:black;\">n</span><span style=\"color:black;\">[</span><span style=\"color:black;\">j</span><span style=\"color:black;\">]</span><span style=\"color:lightgrey;\">•</span><span style=\"color:black;\"><</span><span style=\"color:black;\">=</span><span style=\"color:lightgrey;\">•</span><span style=\"color:black;\">n</span><span style=\"color:black;\">[</span><span style=\"color:black;\">i</span><span style=\"color:black;\">]</span><span style=\"color:black;\">)</span><span style=\"color:lightgrey;\">•</span><span style=\"color:black;\">{</span><span style=\"color:lightgrey;\">↵\n",
       "</span><span style=\"color:lightgrey;\">•</span><span style=\"color:lightgrey;\">•</span><span style=\"color:lightgrey;\">•</span><span style=\"color:lightgrey;\">•</span><span style=\"color:lightgrey;\">•</span><span style=\"color:lightgrey;\">•</span><span style=\"color:lightgrey;\">•</span><span style=\"color:lightgrey;\">•</span><span style=\"color:black;\">w</span><span style=\"color:lightgrey;\">•</span><span style=\"color:black;\">=</span><span style=\"color:lightgrey;\">•</span><span style=\"color:black;\">n</span><span style=\"color:black;\">[</span><span style=\"color:black;\">i</span><span style=\"color:black;\">]</span><span style=\"color:black;\">;</span><span style=\"color:lightgrey;\">↵\n",
       "</span><span style=\"color:lightgrey;\">•</span><span style=\"color:lightgrey;\">•</span><span style=\"color:lightgrey;\">•</span><span style=\"color:lightgrey;\">•</span><span style=\"color:lightgrey;\">•</span><span style=\"color:lightgrey;\">•</span><span style=\"color:lightgrey;\">•</span><span style=\"color:lightgrey;\">•</span><span style=\"color:black;\">n</span><span style=\"color:black;\">[</span><span style=\"color:black;\">i</span><span style=\"color:black;\">]</span><span style=\"color:lightgrey;\">•</span><span style=\"color:black;\">=</span><span style=\"color:lightgrey;\">•</span><span style=\"color:black;\">n</span><span style=\"color:black;\">[</span><span style=\"color:black;\">j</span><span style=\"color:black;\">]</span><span style=\"color:black;\">;</span><span style=\"color:lightgrey;\">↵\n",
       "</span><span style=\"color:lightgrey;\">•</span><span style=\"color:lightgrey;\">•</span><span style=\"color:lightgrey;\">•</span><span style=\"color:lightgrey;\">•</span><span style=\"color:lightgrey;\">•</span><span style=\"color:lightgrey;\">•</span><span style=\"color:lightgrey;\">•</span><span style=\"color:lightgrey;\">•</span><span style=\"color:black;\">n</span><span style=\"color:black;\">[</span><span style=\"color:black;\">j</span><span style=\"color:black;\">]</span><span style=\"color:lightgrey;\">•</span><span style=\"color:black;\">=</span><span style=\"color:lightgrey;\">•</span><span style=\"color:black;\">w</span><span style=\"color:black;\">;</span><span style=\"color:lightgrey;\">↵\n",
       "</span><span style=\"color:lightgrey;\">•</span><span style=\"color:lightgrey;\">•</span><span style=\"color:lightgrey;\">•</span><span style=\"color:lightgrey;\">•</span><span style=\"color:lightgrey;\">•</span><span style=\"color:lightgrey;\">•</span><span style=\"color:black;\">}</span><span style=\"color:lightgrey;\">↵\n",
       "</span><span style=\"color:lightgrey;\">•</span><span style=\"color:lightgrey;\">•</span><span style=\"color:lightgrey;\">•</span><span style=\"color:lightgrey;\">•</span><span style=\"color:black;\">}</span><span style=\"color:lightgrey;\">↵\n",
       "</span><span style=\"color:lightgrey;\">•</span><span style=\"color:lightgrey;\">•</span><span style=\"color:black;\">}</span><span style=\"color:lightgrey;\">↵\n",
       "</span><span style=\"color:lightgrey;\">•</span><span style=\"color:lightgrey;\">•</span><span style=\"color:black;\">f</span><span style=\"color:black;\">o</span><span style=\"color:black;\">r</span><span style=\"color:lightgrey;\">•</span><span style=\"color:black;\">(</span><span style=\"color:black;\">i</span><span style=\"color:lightgrey;\">•</span><span style=\"color:black;\">=</span><span style=\"color:lightgrey;\">•</span><span style=\"color:black;\">0</span><span style=\"color:black;\">;</span><span style=\"color:lightgrey;\">•</span><span style=\"color:black;\">i</span><span style=\"color:lightgrey;\">•</span><span style=\"color:black;\"><</span><span style=\"color:lightgrey;\">•</span><span style=\"color:black;\">3</span><span style=\"color:black;\">;</span><span style=\"color:lightgrey;\">•</span><span style=\"color:black;\">i</span><span style=\"color:black;\">+</span><span style=\"color:black;\">+</span><span style=\"color:black;\">)</span><span style=\"color:lightgrey;\">•</span><span style=\"color:black;\">{</span><span style=\"color:lightgrey;\">↵\n",
       "</span><span style=\"color:lightgrey;\">•</span><span style=\"color:lightgrey;\">•</span><span style=\"color:lightgrey;\">•</span><span style=\"color:lightgrey;\">•</span><span style=\"color:black;\">p</span><span style=\"color:black;\">r</span><span style=\"color:black;\">i</span><span style=\"color:black;\">n</span><span style=\"color:black;\">t</span><span style=\"color:black;\">f</span><span style=\"color:black;\">(</span><span style=\"color:black;\">\"</span><span style=\"color:black;\">%</span><span style=\"color:black;\">d</span><span style=\"color:black;\">\\</span><span style=\"color:black;\">n</span><span style=\"color:black;\">\"</span><span style=\"color:black;\">,</span><span style=\"color:lightgrey;\">•</span><span style=\"color:black;\">n</span><span style=\"color:black;\">[</span><span style=\"color:black;\">i</span><span style=\"color:black;\">]</span><span style=\"color:black;\">)</span><span style=\"color:black;\">;</span><span style=\"color:lightgrey;\">↵\n",
       "</span><span style=\"color:lightgrey;\">•</span><span style=\"color:lightgrey;\">•</span><span style=\"color:black;\">}</span><span style=\"color:lightgrey;\">↵\n",
       "</span><span style=\"color:lightgrey;\">•</span><span style=\"color:lightgrey;\">•</span><span style=\"color:black;\">r</span><span style=\"color:black;\">e</span><span style=\"color:black;\">t</span><span style=\"color:black;\">u</span><span style=\"color:black;\">r</span><span style=\"color:black;\">n</span><span style=\"color:lightgrey;\">•</span><span style=\"color:black;\">0</span><span style=\"color:black;\">;</span><span style=\"color:lightgrey;\">↵\n",
       "</span><span style=\"color:black;\">}</span></pre>"
      ],
      "text/plain": [
       "<IPython.core.display.HTML object>"
      ]
     },
     "metadata": {},
     "output_type": "display_data"
    },
    {
     "data": {
      "text/html": [
       "<h6>Changed Source Code</h6>"
      ],
      "text/plain": [
       "<IPython.core.display.HTML object>"
      ]
     },
     "metadata": {},
     "output_type": "display_data"
    },
    {
     "data": {
      "text/html": [
       "<pre><span style=\"color:black;\">#</span><span style=\"color:black;\">i</span><span style=\"color:black;\">n</span><span style=\"color:black;\">c</span><span style=\"color:black;\">l</span><span style=\"color:black;\">u</span><span style=\"color:black;\">d</span><span style=\"color:black;\">e</span><span style=\"color:lightgrey;\">•</span><span style=\"color:black;\"><</span><span style=\"color:black;\">s</span><span style=\"color:black;\">t</span><span style=\"color:black;\">d</span><span style=\"color:black;\">i</span><span style=\"color:black;\">o</span><span style=\"color:black;\">.</span><span style=\"color:black;\">h</span><span style=\"color:black;\">></span><span style=\"color:lightgrey;\">↵\n",
       "</span><span style=\"color:black;\">i</span><span style=\"color:black;\">n</span><span style=\"color:black;\">t</span><span style=\"color:lightgrey;\">•</span><span style=\"color:black;\">m</span><span style=\"color:black;\">a</span><span style=\"color:black;\">i</span><span style=\"color:black;\">n</span><span style=\"color:black;\">(</span><span style=\"color:black;\">v</span><span style=\"color:black;\">o</span><span style=\"color:black;\">i</span><span style=\"color:black;\">d</span><span style=\"color:black;\">)</span><span style=\"color:lightgrey;\">•</span><span style=\"color:black;\">{</span><span style=\"color:lightgrey;\">↵\n",
       "</span><span style=\"color:lightgrey;\">•</span><span style=\"color:lightgrey;\">•</span><span style=\"color:black;\">i</span><span style=\"color:black;\">n</span><span style=\"color:black;\">t</span><span style=\"color:lightgrey;\">•</span><span style=\"color:black;\">i</span><span style=\"color:black;\">,</span><span style=\"color:lightgrey;\">•</span><span style=\"color:black;\">j</span><span style=\"color:black;\">,</span><span style=\"color:lightgrey;\">•</span><span style=\"color:black;\">n</span><span style=\"color:black;\">[</span><span style=\"color:black;\">1</span><span style=\"color:black;\">0</span><span style=\"color:black;\">]</span><span style=\"color:black;\">,</span><span style=\"color:lightgrey;\">•</span><span style=\"color:black;\">w</span><span style=\"color:black;\">;</span><span style=\"color:lightgrey;\">↵\n",
       "</span><span style=\"color:lightgrey;\">•</span><span style=\"color:lightgrey;\">•</span><span style=\"color:black;\">f</span><span style=\"color:black;\">o</span><span style=\"color:black;\">r</span><span style=\"color:lightgrey;\">•</span><span style=\"color:black;\">(</span><span style=\"color:black;\">i</span><span style=\"color:lightgrey;\">•</span><span style=\"color:black;\">=</span><span style=\"color:lightgrey;\">•</span><span style=\"color:black;\">0</span><span style=\"color:black;\">;</span><span style=\"color:lightgrey;\">•</span><span style=\"color:black;\">i</span><span style=\"color:lightgrey;\">•</span><span style=\"color:black;\"><</span><span style=\"color:lightgrey;\">•</span><span style=\"color:black;\">1</span><span style=\"color:black;\">0</span><span style=\"color:black;\">;</span><span style=\"color:lightgrey;\">•</span><span style=\"color:black;\">i</span><span style=\"color:black;\">+</span><span style=\"color:black;\">+</span><span style=\"color:black;\">)</span><span style=\"color:lightgrey;\">•</span><span style=\"color:black;\">{</span><span style=\"color:lightgrey;\">↵\n",
       "</span><span style=\"color:green;\">•</span><span style=\"color:green;\">•</span><span style=\"color:green;\">•</span><span style=\"color:green;\">•</span><span style=\"color:green;\">s</span><span style=\"color:green;\">c</span><span style=\"color:green;\">a</span><span style=\"color:green;\">n</span><span style=\"color:green;\">f</span><span style=\"color:green;\">(</span><span style=\"color:green;\">\"</span><span style=\"color:green;\">%</span><span style=\"color:green;\">d</span><span style=\"color:green;\">\"</span><span style=\"color:green;\">,</span><span style=\"color:green;\">•</span><span style=\"color:green;\">&</span><span style=\"color:green;\">n</span><span style=\"color:green;\">[</span><span style=\"color:green;\">i</span><span style=\"color:green;\">]</span><span style=\"color:green;\">)</span><span style=\"color:green;\">;</span><span style=\"color:green;\">↵\n",
       "</span><span style=\"color:lightgrey;\">•</span><span style=\"color:lightgrey;\">•</span><span style=\"color:black;\">}</span><span style=\"color:lightgrey;\">↵\n",
       "</span><span style=\"color:lightgrey;\">•</span><span style=\"color:lightgrey;\">•</span><span style=\"color:black;\">f</span><span style=\"color:black;\">o</span><span style=\"color:black;\">r</span><span style=\"color:lightgrey;\">•</span><span style=\"color:black;\">(</span><span style=\"color:black;\">i</span><span style=\"color:lightgrey;\">•</span><span style=\"color:black;\">=</span><span style=\"color:lightgrey;\">•</span><span style=\"color:black;\">0</span><span style=\"color:black;\">;</span><span style=\"color:lightgrey;\">•</span><span style=\"color:black;\">i</span><span style=\"color:lightgrey;\">•</span><span style=\"color:black;\"><</span><span style=\"color:lightgrey;\">•</span><span style=\"color:black;\">1</span><span style=\"color:black;\">0</span><span style=\"color:black;\">;</span><span style=\"color:lightgrey;\">•</span><span style=\"color:black;\">i</span><span style=\"color:black;\">+</span><span style=\"color:black;\">+</span><span style=\"color:black;\">)</span><span style=\"color:lightgrey;\">•</span><span style=\"color:black;\">{</span><span style=\"color:lightgrey;\">↵\n",
       "</span><span style=\"color:lightgrey;\">•</span><span style=\"color:lightgrey;\">•</span><span style=\"color:lightgrey;\">•</span><span style=\"color:lightgrey;\">•</span><span style=\"color:black;\">f</span><span style=\"color:black;\">o</span><span style=\"color:black;\">r</span><span style=\"color:lightgrey;\">•</span><span style=\"color:black;\">(</span><span style=\"color:black;\">j</span><span style=\"color:lightgrey;\">•</span><span style=\"color:black;\">=</span><span style=\"color:lightgrey;\">•</span><span style=\"color:black;\">0</span><span style=\"color:black;\">;</span><span style=\"color:lightgrey;\">•</span><span style=\"color:black;\">j</span><span style=\"color:lightgrey;\">•</span><span style=\"color:black;\"><</span><span style=\"color:black;\">=</span><span style=\"color:lightgrey;\">•</span><span style=\"color:black;\">1</span><span style=\"color:black;\">0</span><span style=\"color:black;\">;</span><span style=\"color:lightgrey;\">•</span><span style=\"color:black;\">j</span><span style=\"color:black;\">+</span><span style=\"color:black;\">+</span><span style=\"color:black;\">)</span><span style=\"color:lightgrey;\">•</span><span style=\"color:black;\">{</span><span style=\"color:lightgrey;\">↵\n",
       "</span><span style=\"color:lightgrey;\">•</span><span style=\"color:lightgrey;\">•</span><span style=\"color:lightgrey;\">•</span><span style=\"color:lightgrey;\">•</span><span style=\"color:lightgrey;\">•</span><span style=\"color:lightgrey;\">•</span><span style=\"color:black;\">i</span><span style=\"color:black;\">f</span><span style=\"color:lightgrey;\">•</span><span style=\"color:black;\">(</span><span style=\"color:black;\">n</span><span style=\"color:black;\">[</span><span style=\"color:black;\">j</span><span style=\"color:black;\">]</span><span style=\"color:lightgrey;\">•</span><span style=\"color:black;\"><</span><span style=\"color:black;\">=</span><span style=\"color:lightgrey;\">•</span><span style=\"color:black;\">n</span><span style=\"color:black;\">[</span><span style=\"color:black;\">i</span><span style=\"color:black;\">]</span><span style=\"color:black;\">)</span><span style=\"color:lightgrey;\">•</span><span style=\"color:black;\">{</span><span style=\"color:lightgrey;\">↵\n",
       "</span><span style=\"color:lightgrey;\">•</span><span style=\"color:lightgrey;\">•</span><span style=\"color:lightgrey;\">•</span><span style=\"color:lightgrey;\">•</span><span style=\"color:lightgrey;\">•</span><span style=\"color:lightgrey;\">•</span><span style=\"color:lightgrey;\">•</span><span style=\"color:lightgrey;\">•</span><span style=\"color:black;\">w</span><span style=\"color:lightgrey;\">•</span><span style=\"color:black;\">=</span><span style=\"color:lightgrey;\">•</span><span style=\"color:black;\">n</span><span style=\"color:black;\">[</span><span style=\"color:black;\">i</span><span style=\"color:black;\">]</span><span style=\"color:black;\">;</span><span style=\"color:lightgrey;\">↵\n",
       "</span><span style=\"color:lightgrey;\">•</span><span style=\"color:lightgrey;\">•</span><span style=\"color:lightgrey;\">•</span><span style=\"color:lightgrey;\">•</span><span style=\"color:lightgrey;\">•</span><span style=\"color:lightgrey;\">•</span><span style=\"color:lightgrey;\">•</span><span style=\"color:lightgrey;\">•</span><span style=\"color:black;\">n</span><span style=\"color:black;\">[</span><span style=\"color:black;\">i</span><span style=\"color:black;\">]</span><span style=\"color:lightgrey;\">•</span><span style=\"color:black;\">=</span><span style=\"color:lightgrey;\">•</span><span style=\"color:black;\">n</span><span style=\"color:black;\">[</span><span style=\"color:black;\">j</span><span style=\"color:black;\">]</span><span style=\"color:black;\">;</span><span style=\"color:lightgrey;\">↵\n",
       "</span><span style=\"color:lightgrey;\">•</span><span style=\"color:lightgrey;\">•</span><span style=\"color:lightgrey;\">•</span><span style=\"color:lightgrey;\">•</span><span style=\"color:lightgrey;\">•</span><span style=\"color:lightgrey;\">•</span><span style=\"color:lightgrey;\">•</span><span style=\"color:lightgrey;\">•</span><span style=\"color:black;\">n</span><span style=\"color:black;\">[</span><span style=\"color:black;\">j</span><span style=\"color:black;\">]</span><span style=\"color:lightgrey;\">•</span><span style=\"color:black;\">=</span><span style=\"color:lightgrey;\">•</span><span style=\"color:black;\">w</span><span style=\"color:black;\">;</span><span style=\"color:lightgrey;\">↵\n",
       "</span><span style=\"color:lightgrey;\">•</span><span style=\"color:lightgrey;\">•</span><span style=\"color:lightgrey;\">•</span><span style=\"color:lightgrey;\">•</span><span style=\"color:lightgrey;\">•</span><span style=\"color:lightgrey;\">•</span><span style=\"color:black;\">}</span><span style=\"color:lightgrey;\">↵\n",
       "</span><span style=\"color:lightgrey;\">•</span><span style=\"color:lightgrey;\">•</span><span style=\"color:lightgrey;\">•</span><span style=\"color:lightgrey;\">•</span><span style=\"color:black;\">}</span><span style=\"color:lightgrey;\">↵\n",
       "</span><span style=\"color:lightgrey;\">•</span><span style=\"color:lightgrey;\">•</span><span style=\"color:black;\">}</span><span style=\"color:lightgrey;\">↵\n",
       "</span><span style=\"color:lightgrey;\">•</span><span style=\"color:lightgrey;\">•</span><span style=\"color:black;\">f</span><span style=\"color:black;\">o</span><span style=\"color:black;\">r</span><span style=\"color:lightgrey;\">•</span><span style=\"color:black;\">(</span><span style=\"color:black;\">i</span><span style=\"color:lightgrey;\">•</span><span style=\"color:black;\">=</span><span style=\"color:lightgrey;\">•</span><span style=\"color:black;\">0</span><span style=\"color:black;\">;</span><span style=\"color:lightgrey;\">•</span><span style=\"color:black;\">i</span><span style=\"color:lightgrey;\">•</span><span style=\"color:black;\"><</span><span style=\"color:lightgrey;\">•</span><span style=\"color:black;\">3</span><span style=\"color:black;\">;</span><span style=\"color:lightgrey;\">•</span><span style=\"color:black;\">i</span><span style=\"color:black;\">+</span><span style=\"color:black;\">+</span><span style=\"color:black;\">)</span><span style=\"color:lightgrey;\">•</span><span style=\"color:black;\">{</span><span style=\"color:lightgrey;\">↵\n",
       "</span><span style=\"color:lightgrey;\">•</span><span style=\"color:lightgrey;\">•</span><span style=\"color:lightgrey;\">•</span><span style=\"color:lightgrey;\">•</span><span style=\"color:black;\">p</span><span style=\"color:black;\">r</span><span style=\"color:black;\">i</span><span style=\"color:black;\">n</span><span style=\"color:black;\">t</span><span style=\"color:black;\">f</span><span style=\"color:black;\">(</span><span style=\"color:black;\">\"</span><span style=\"color:black;\">%</span><span style=\"color:black;\">d</span><span style=\"color:black;\">\\</span><span style=\"color:black;\">n</span><span style=\"color:black;\">\"</span><span style=\"color:black;\">,</span><span style=\"color:lightgrey;\">•</span><span style=\"color:black;\">n</span><span style=\"color:black;\">[</span><span style=\"color:black;\">i</span><span style=\"color:black;\">]</span><span style=\"color:black;\">)</span><span style=\"color:black;\">;</span><span style=\"color:lightgrey;\">↵\n",
       "</span><span style=\"color:lightgrey;\">•</span><span style=\"color:lightgrey;\">•</span><span style=\"color:black;\">}</span><span style=\"color:lightgrey;\">↵\n",
       "</span><span style=\"color:lightgrey;\">•</span><span style=\"color:lightgrey;\">•</span><span style=\"color:black;\">r</span><span style=\"color:black;\">e</span><span style=\"color:black;\">t</span><span style=\"color:black;\">u</span><span style=\"color:black;\">r</span><span style=\"color:black;\">n</span><span style=\"color:lightgrey;\">•</span><span style=\"color:black;\">0</span><span style=\"color:black;\">;</span><span style=\"color:lightgrey;\">↵\n",
       "</span><span style=\"color:black;\">}</span></pre>"
      ],
      "text/plain": [
       "<IPython.core.display.HTML object>"
      ]
     },
     "metadata": {},
     "output_type": "display_data"
    },
    {
     "data": {
      "text/html": [
       "<h6>Codex Prediction</h6>"
      ],
      "text/plain": [
       "<IPython.core.display.HTML object>"
      ]
     },
     "metadata": {},
     "output_type": "display_data"
    },
    {
     "data": {
      "text/html": [
       "<pre><span style=\"color:red;\">s</span><span style=\"color:red;\">c</span><span style=\"color:red;\">a</span><span style=\"color:red;\">n</span><span style=\"color:red;\">f</span><span style=\"color:red;\">(</span><span style=\"color:red;\">\"</span><span style=\"color:red;\">%</span><span style=\"color:red;\">d</span><span style=\"color:red;\">\"</span><span style=\"color:red;\">,</span><span style=\"color:red;\">•</span><span style=\"color:red;\">&</span><span style=\"color:red;\">n</span><span style=\"color:red;\">[</span><span style=\"color:red;\">i</span><span style=\"color:red;\">]</span><span style=\"color:red;\">)</span><span style=\"color:red;\">;</span></pre>"
      ],
      "text/plain": [
       "<IPython.core.display.HTML object>"
      ]
     },
     "metadata": {},
     "output_type": "display_data"
    },
    {
     "data": {
      "text/html": [
       "<h2>Example 5</h2>"
      ],
      "text/plain": [
       "<IPython.core.display.HTML object>"
      ]
     },
     "metadata": {},
     "output_type": "display_data"
    },
    {
     "data": {
      "text/html": [
       "<h6>Original Source Code</h6>"
      ],
      "text/plain": [
       "<IPython.core.display.HTML object>"
      ]
     },
     "metadata": {},
     "output_type": "display_data"
    },
    {
     "data": {
      "text/html": [
       "<pre><span style=\"color:black;\">#</span><span style=\"color:black;\">i</span><span style=\"color:black;\">n</span><span style=\"color:black;\">c</span><span style=\"color:black;\">l</span><span style=\"color:black;\">u</span><span style=\"color:black;\">d</span><span style=\"color:black;\">e</span><span style=\"color:lightgrey;\">•</span><span style=\"color:black;\"><</span><span style=\"color:black;\">s</span><span style=\"color:black;\">t</span><span style=\"color:black;\">d</span><span style=\"color:black;\">i</span><span style=\"color:black;\">o</span><span style=\"color:black;\">.</span><span style=\"color:black;\">h</span><span style=\"color:black;\">></span><span style=\"color:lightgrey;\">↵\n",
       "</span><span style=\"color:lightgrey;\">↵\n",
       "</span><span style=\"color:black;\">i</span><span style=\"color:black;\">n</span><span style=\"color:black;\">t</span><span style=\"color:lightgrey;\">•</span><span style=\"color:black;\">m</span><span style=\"color:black;\">a</span><span style=\"color:black;\">i</span><span style=\"color:black;\">n</span><span style=\"color:black;\">(</span><span style=\"color:black;\">)</span><span style=\"color:lightgrey;\">•</span><span style=\"color:black;\">{</span><span style=\"color:lightgrey;\">↵\n",
       "</span><span style=\"color:lightgrey;\">•</span><span style=\"color:lightgrey;\">•</span><span style=\"color:black;\">i</span><span style=\"color:black;\">n</span><span style=\"color:black;\">t</span><span style=\"color:lightgrey;\">•</span><span style=\"color:black;\">h</span><span style=\"color:black;\">e</span><span style=\"color:black;\">i</span><span style=\"color:black;\">g</span><span style=\"color:black;\">h</span><span style=\"color:black;\">t</span><span style=\"color:black;\">[</span><span style=\"color:black;\">1</span><span style=\"color:black;\">0</span><span style=\"color:black;\">]</span><span style=\"color:black;\">,</span><span style=\"color:lightgrey;\">•</span><span style=\"color:black;\">r</span><span style=\"color:black;\">a</span><span style=\"color:black;\">n</span><span style=\"color:black;\">k</span><span style=\"color:black;\">[</span><span style=\"color:black;\">3</span><span style=\"color:black;\">]</span><span style=\"color:lightgrey;\">•</span><span style=\"color:black;\">=</span><span style=\"color:lightgrey;\">•</span><span style=\"color:black;\">{</span><span style=\"color:black;\">0</span><span style=\"color:black;\">}</span><span style=\"color:black;\">;</span><span style=\"color:lightgrey;\">↵\n",
       "</span><span style=\"color:lightgrey;\">•</span><span style=\"color:lightgrey;\">•</span><span style=\"color:black;\">i</span><span style=\"color:black;\">n</span><span style=\"color:black;\">t</span><span style=\"color:lightgrey;\">•</span><span style=\"color:black;\">i</span><span style=\"color:black;\">;</span><span style=\"color:lightgrey;\">↵\n",
       "</span><span style=\"color:lightgrey;\">↵\n",
       "</span><span style=\"color:lightgrey;\">•</span><span style=\"color:lightgrey;\">•</span><span style=\"color:black;\">f</span><span style=\"color:black;\">o</span><span style=\"color:black;\">r</span><span style=\"color:lightgrey;\">•</span><span style=\"color:black;\">(</span><span style=\"color:black;\">i</span><span style=\"color:lightgrey;\">•</span><span style=\"color:black;\">=</span><span style=\"color:lightgrey;\">•</span><span style=\"color:black;\">0</span><span style=\"color:black;\">;</span><span style=\"color:lightgrey;\">•</span><span style=\"color:black;\">i</span><span style=\"color:lightgrey;\">•</span><span style=\"color:black;\"><</span><span style=\"color:lightgrey;\">•</span><span style=\"color:black;\">1</span><span style=\"color:black;\">0</span><span style=\"color:black;\">;</span><span style=\"color:lightgrey;\">•</span><span style=\"color:black;\">i</span><span style=\"color:black;\">+</span><span style=\"color:black;\">+</span><span style=\"color:black;\">)</span><span style=\"color:lightgrey;\">•</span><span style=\"color:black;\">{</span><span style=\"color:lightgrey;\">↵\n",
       "</span><span style=\"color:red;\">•</span><span style=\"color:red;\">•</span><span style=\"color:red;\">•</span><span style=\"color:red;\">•</span><span style=\"color:red;\">s</span><span style=\"color:red;\">c</span><span style=\"color:red;\">a</span><span style=\"color:red;\">n</span><span style=\"color:red;\">f</span><span style=\"color:red;\">(</span><span style=\"color:red;\">\"</span><span style=\"color:red;\">%</span><span style=\"color:red;\">d</span><span style=\"color:red;\">\\</span><span style=\"color:red;\">n</span><span style=\"color:red;\">\"</span><span style=\"color:red;\">,</span><span style=\"color:red;\">•</span><span style=\"color:red;\">h</span><span style=\"color:red;\">e</span><span style=\"color:red;\">i</span><span style=\"color:red;\">g</span><span style=\"color:red;\">h</span><span style=\"color:red;\">t</span><span style=\"color:red;\">[</span><span style=\"color:red;\">i</span><span style=\"color:red;\">]</span><span style=\"color:red;\">)</span><span style=\"color:red;\">;</span><span style=\"color:red;\">↵\n",
       "</span><span style=\"color:lightgrey;\">↵\n",
       "</span><span style=\"color:lightgrey;\">•</span><span style=\"color:lightgrey;\">•</span><span style=\"color:lightgrey;\">•</span><span style=\"color:lightgrey;\">•</span><span style=\"color:black;\">i</span><span style=\"color:black;\">f</span><span style=\"color:lightgrey;\">•</span><span style=\"color:black;\">(</span><span style=\"color:black;\">r</span><span style=\"color:black;\">a</span><span style=\"color:black;\">n</span><span style=\"color:black;\">k</span><span style=\"color:black;\">[</span><span style=\"color:black;\">0</span><span style=\"color:black;\">]</span><span style=\"color:lightgrey;\">•</span><span style=\"color:black;\"><</span><span style=\"color:lightgrey;\">•</span><span style=\"color:black;\">h</span><span style=\"color:black;\">e</span><span style=\"color:black;\">i</span><span style=\"color:black;\">g</span><span style=\"color:black;\">h</span><span style=\"color:black;\">t</span><span style=\"color:black;\">[</span><span style=\"color:black;\">i</span><span style=\"color:black;\">]</span><span style=\"color:black;\">)</span><span style=\"color:lightgrey;\">•</span><span style=\"color:black;\">{</span><span style=\"color:lightgrey;\">↵\n",
       "</span><span style=\"color:lightgrey;\">•</span><span style=\"color:lightgrey;\">•</span><span style=\"color:lightgrey;\">•</span><span style=\"color:lightgrey;\">•</span><span style=\"color:lightgrey;\">•</span><span style=\"color:lightgrey;\">•</span><span style=\"color:black;\">r</span><span style=\"color:black;\">a</span><span style=\"color:black;\">n</span><span style=\"color:black;\">k</span><span style=\"color:black;\">[</span><span style=\"color:black;\">2</span><span style=\"color:black;\">]</span><span style=\"color:lightgrey;\">•</span><span style=\"color:black;\">=</span><span style=\"color:lightgrey;\">•</span><span style=\"color:black;\">r</span><span style=\"color:black;\">a</span><span style=\"color:black;\">n</span><span style=\"color:black;\">k</span><span style=\"color:black;\">[</span><span style=\"color:black;\">1</span><span style=\"color:black;\">]</span><span style=\"color:black;\">;</span><span style=\"color:lightgrey;\">↵\n",
       "</span><span style=\"color:lightgrey;\">•</span><span style=\"color:lightgrey;\">•</span><span style=\"color:lightgrey;\">•</span><span style=\"color:lightgrey;\">•</span><span style=\"color:lightgrey;\">•</span><span style=\"color:lightgrey;\">•</span><span style=\"color:black;\">r</span><span style=\"color:black;\">a</span><span style=\"color:black;\">n</span><span style=\"color:black;\">k</span><span style=\"color:black;\">[</span><span style=\"color:black;\">1</span><span style=\"color:black;\">]</span><span style=\"color:lightgrey;\">•</span><span style=\"color:black;\">=</span><span style=\"color:lightgrey;\">•</span><span style=\"color:black;\">r</span><span style=\"color:black;\">a</span><span style=\"color:black;\">n</span><span style=\"color:black;\">k</span><span style=\"color:black;\">[</span><span style=\"color:black;\">0</span><span style=\"color:black;\">]</span><span style=\"color:black;\">;</span><span style=\"color:lightgrey;\">↵\n",
       "</span><span style=\"color:lightgrey;\">•</span><span style=\"color:lightgrey;\">•</span><span style=\"color:lightgrey;\">•</span><span style=\"color:lightgrey;\">•</span><span style=\"color:lightgrey;\">•</span><span style=\"color:lightgrey;\">•</span><span style=\"color:black;\">r</span><span style=\"color:black;\">a</span><span style=\"color:black;\">n</span><span style=\"color:black;\">k</span><span style=\"color:black;\">[</span><span style=\"color:black;\">0</span><span style=\"color:black;\">]</span><span style=\"color:lightgrey;\">•</span><span style=\"color:black;\">=</span><span style=\"color:lightgrey;\">•</span><span style=\"color:black;\">h</span><span style=\"color:black;\">e</span><span style=\"color:black;\">i</span><span style=\"color:black;\">g</span><span style=\"color:black;\">h</span><span style=\"color:black;\">t</span><span style=\"color:black;\">[</span><span style=\"color:black;\">i</span><span style=\"color:black;\">]</span><span style=\"color:black;\">;</span><span style=\"color:lightgrey;\">↵\n",
       "</span><span style=\"color:lightgrey;\">•</span><span style=\"color:lightgrey;\">•</span><span style=\"color:lightgrey;\">•</span><span style=\"color:lightgrey;\">•</span><span style=\"color:black;\">}</span><span style=\"color:lightgrey;\">•</span><span style=\"color:black;\">e</span><span style=\"color:black;\">l</span><span style=\"color:black;\">s</span><span style=\"color:black;\">e</span><span style=\"color:lightgrey;\">•</span><span style=\"color:black;\">i</span><span style=\"color:black;\">f</span><span style=\"color:lightgrey;\">•</span><span style=\"color:black;\">(</span><span style=\"color:black;\">r</span><span style=\"color:black;\">a</span><span style=\"color:black;\">n</span><span style=\"color:black;\">k</span><span style=\"color:black;\">[</span><span style=\"color:black;\">1</span><span style=\"color:black;\">]</span><span style=\"color:lightgrey;\">•</span><span style=\"color:black;\"><</span><span style=\"color:lightgrey;\">•</span><span style=\"color:black;\">h</span><span style=\"color:black;\">e</span><span style=\"color:black;\">i</span><span style=\"color:black;\">g</span><span style=\"color:black;\">h</span><span style=\"color:black;\">t</span><span style=\"color:black;\">[</span><span style=\"color:black;\">i</span><span style=\"color:black;\">]</span><span style=\"color:black;\">)</span><span style=\"color:lightgrey;\">•</span><span style=\"color:black;\">{</span><span style=\"color:lightgrey;\">↵\n",
       "</span><span style=\"color:lightgrey;\">•</span><span style=\"color:lightgrey;\">•</span><span style=\"color:lightgrey;\">•</span><span style=\"color:lightgrey;\">•</span><span style=\"color:lightgrey;\">•</span><span style=\"color:lightgrey;\">•</span><span style=\"color:black;\">r</span><span style=\"color:black;\">a</span><span style=\"color:black;\">n</span><span style=\"color:black;\">k</span><span style=\"color:black;\">[</span><span style=\"color:black;\">2</span><span style=\"color:black;\">]</span><span style=\"color:lightgrey;\">•</span><span style=\"color:black;\">=</span><span style=\"color:lightgrey;\">•</span><span style=\"color:black;\">r</span><span style=\"color:black;\">a</span><span style=\"color:black;\">n</span><span style=\"color:black;\">k</span><span style=\"color:black;\">[</span><span style=\"color:black;\">1</span><span style=\"color:black;\">]</span><span style=\"color:black;\">;</span><span style=\"color:lightgrey;\">↵\n",
       "</span><span style=\"color:lightgrey;\">•</span><span style=\"color:lightgrey;\">•</span><span style=\"color:lightgrey;\">•</span><span style=\"color:lightgrey;\">•</span><span style=\"color:lightgrey;\">•</span><span style=\"color:lightgrey;\">•</span><span style=\"color:black;\">r</span><span style=\"color:black;\">a</span><span style=\"color:black;\">n</span><span style=\"color:black;\">k</span><span style=\"color:black;\">[</span><span style=\"color:black;\">1</span><span style=\"color:black;\">]</span><span style=\"color:lightgrey;\">•</span><span style=\"color:black;\">=</span><span style=\"color:lightgrey;\">•</span><span style=\"color:black;\">h</span><span style=\"color:black;\">e</span><span style=\"color:black;\">i</span><span style=\"color:black;\">g</span><span style=\"color:black;\">h</span><span style=\"color:black;\">t</span><span style=\"color:black;\">[</span><span style=\"color:black;\">i</span><span style=\"color:black;\">]</span><span style=\"color:black;\">;</span><span style=\"color:lightgrey;\">↵\n",
       "</span><span style=\"color:lightgrey;\">•</span><span style=\"color:lightgrey;\">•</span><span style=\"color:lightgrey;\">•</span><span style=\"color:lightgrey;\">•</span><span style=\"color:black;\">}</span><span style=\"color:lightgrey;\">•</span><span style=\"color:black;\">e</span><span style=\"color:black;\">l</span><span style=\"color:black;\">s</span><span style=\"color:black;\">e</span><span style=\"color:lightgrey;\">•</span><span style=\"color:black;\">i</span><span style=\"color:black;\">f</span><span style=\"color:lightgrey;\">•</span><span style=\"color:black;\">(</span><span style=\"color:black;\">r</span><span style=\"color:black;\">a</span><span style=\"color:black;\">n</span><span style=\"color:black;\">k</span><span style=\"color:black;\">[</span><span style=\"color:black;\">2</span><span style=\"color:black;\">]</span><span style=\"color:lightgrey;\">•</span><span style=\"color:black;\"><</span><span style=\"color:lightgrey;\">•</span><span style=\"color:black;\">h</span><span style=\"color:black;\">e</span><span style=\"color:black;\">i</span><span style=\"color:black;\">g</span><span style=\"color:black;\">h</span><span style=\"color:black;\">t</span><span style=\"color:black;\">[</span><span style=\"color:black;\">i</span><span style=\"color:black;\">]</span><span style=\"color:black;\">)</span><span style=\"color:lightgrey;\">•</span><span style=\"color:black;\">{</span><span style=\"color:lightgrey;\">↵\n",
       "</span><span style=\"color:lightgrey;\">•</span><span style=\"color:lightgrey;\">•</span><span style=\"color:lightgrey;\">•</span><span style=\"color:lightgrey;\">•</span><span style=\"color:lightgrey;\">•</span><span style=\"color:lightgrey;\">•</span><span style=\"color:black;\">r</span><span style=\"color:black;\">a</span><span style=\"color:black;\">n</span><span style=\"color:black;\">k</span><span style=\"color:black;\">[</span><span style=\"color:black;\">2</span><span style=\"color:black;\">]</span><span style=\"color:lightgrey;\">•</span><span style=\"color:black;\">=</span><span style=\"color:lightgrey;\">•</span><span style=\"color:black;\">h</span><span style=\"color:black;\">e</span><span style=\"color:black;\">i</span><span style=\"color:black;\">g</span><span style=\"color:black;\">h</span><span style=\"color:black;\">t</span><span style=\"color:black;\">[</span><span style=\"color:black;\">i</span><span style=\"color:black;\">]</span><span style=\"color:black;\">;</span><span style=\"color:lightgrey;\">↵\n",
       "</span><span style=\"color:lightgrey;\">•</span><span style=\"color:lightgrey;\">•</span><span style=\"color:lightgrey;\">•</span><span style=\"color:lightgrey;\">•</span><span style=\"color:black;\">}</span><span style=\"color:lightgrey;\">↵\n",
       "</span><span style=\"color:lightgrey;\">•</span><span style=\"color:lightgrey;\">•</span><span style=\"color:black;\">}</span><span style=\"color:lightgrey;\">↵\n",
       "</span><span style=\"color:lightgrey;\">↵\n",
       "</span><span style=\"color:lightgrey;\">•</span><span style=\"color:lightgrey;\">•</span><span style=\"color:black;\">f</span><span style=\"color:black;\">o</span><span style=\"color:black;\">r</span><span style=\"color:lightgrey;\">•</span><span style=\"color:black;\">(</span><span style=\"color:black;\">i</span><span style=\"color:lightgrey;\">•</span><span style=\"color:black;\">=</span><span style=\"color:lightgrey;\">•</span><span style=\"color:black;\">0</span><span style=\"color:black;\">;</span><span style=\"color:lightgrey;\">•</span><span style=\"color:black;\">i</span><span style=\"color:lightgrey;\">•</span><span style=\"color:black;\"><</span><span style=\"color:lightgrey;\">•</span><span style=\"color:black;\">3</span><span style=\"color:black;\">;</span><span style=\"color:lightgrey;\">•</span><span style=\"color:black;\">i</span><span style=\"color:black;\">+</span><span style=\"color:black;\">+</span><span style=\"color:black;\">)</span><span style=\"color:lightgrey;\">•</span><span style=\"color:black;\">{</span><span style=\"color:lightgrey;\">↵\n",
       "</span><span style=\"color:lightgrey;\">•</span><span style=\"color:lightgrey;\">•</span><span style=\"color:lightgrey;\">•</span><span style=\"color:lightgrey;\">•</span><span style=\"color:black;\">p</span><span style=\"color:black;\">r</span><span style=\"color:black;\">i</span><span style=\"color:black;\">n</span><span style=\"color:black;\">t</span><span style=\"color:black;\">f</span><span style=\"color:black;\">(</span><span style=\"color:black;\">\"</span><span style=\"color:black;\">%</span><span style=\"color:black;\">d</span><span style=\"color:black;\">\\</span><span style=\"color:black;\">n</span><span style=\"color:black;\">\"</span><span style=\"color:black;\">,</span><span style=\"color:lightgrey;\">•</span><span style=\"color:black;\">r</span><span style=\"color:black;\">a</span><span style=\"color:black;\">n</span><span style=\"color:black;\">k</span><span style=\"color:black;\">[</span><span style=\"color:black;\">i</span><span style=\"color:black;\">]</span><span style=\"color:black;\">)</span><span style=\"color:black;\">;</span><span style=\"color:lightgrey;\">↵\n",
       "</span><span style=\"color:lightgrey;\">•</span><span style=\"color:lightgrey;\">•</span><span style=\"color:black;\">}</span><span style=\"color:lightgrey;\">↵\n",
       "</span><span style=\"color:lightgrey;\">↵\n",
       "</span><span style=\"color:lightgrey;\">•</span><span style=\"color:lightgrey;\">•</span><span style=\"color:black;\">r</span><span style=\"color:black;\">e</span><span style=\"color:black;\">t</span><span style=\"color:black;\">u</span><span style=\"color:black;\">r</span><span style=\"color:black;\">n</span><span style=\"color:lightgrey;\">•</span><span style=\"color:black;\">0</span><span style=\"color:black;\">;</span><span style=\"color:lightgrey;\">↵\n",
       "</span><span style=\"color:black;\">}</span></pre>"
      ],
      "text/plain": [
       "<IPython.core.display.HTML object>"
      ]
     },
     "metadata": {},
     "output_type": "display_data"
    },
    {
     "data": {
      "text/html": [
       "<h6>Changed Source Code</h6>"
      ],
      "text/plain": [
       "<IPython.core.display.HTML object>"
      ]
     },
     "metadata": {},
     "output_type": "display_data"
    },
    {
     "data": {
      "text/html": [
       "<pre><span style=\"color:black;\">#</span><span style=\"color:black;\">i</span><span style=\"color:black;\">n</span><span style=\"color:black;\">c</span><span style=\"color:black;\">l</span><span style=\"color:black;\">u</span><span style=\"color:black;\">d</span><span style=\"color:black;\">e</span><span style=\"color:lightgrey;\">•</span><span style=\"color:black;\"><</span><span style=\"color:black;\">s</span><span style=\"color:black;\">t</span><span style=\"color:black;\">d</span><span style=\"color:black;\">i</span><span style=\"color:black;\">o</span><span style=\"color:black;\">.</span><span style=\"color:black;\">h</span><span style=\"color:black;\">></span><span style=\"color:lightgrey;\">↵\n",
       "</span><span style=\"color:lightgrey;\">↵\n",
       "</span><span style=\"color:black;\">i</span><span style=\"color:black;\">n</span><span style=\"color:black;\">t</span><span style=\"color:lightgrey;\">•</span><span style=\"color:black;\">m</span><span style=\"color:black;\">a</span><span style=\"color:black;\">i</span><span style=\"color:black;\">n</span><span style=\"color:black;\">(</span><span style=\"color:black;\">)</span><span style=\"color:lightgrey;\">•</span><span style=\"color:black;\">{</span><span style=\"color:lightgrey;\">↵\n",
       "</span><span style=\"color:lightgrey;\">•</span><span style=\"color:lightgrey;\">•</span><span style=\"color:black;\">i</span><span style=\"color:black;\">n</span><span style=\"color:black;\">t</span><span style=\"color:lightgrey;\">•</span><span style=\"color:black;\">h</span><span style=\"color:black;\">e</span><span style=\"color:black;\">i</span><span style=\"color:black;\">g</span><span style=\"color:black;\">h</span><span style=\"color:black;\">t</span><span style=\"color:black;\">[</span><span style=\"color:black;\">1</span><span style=\"color:black;\">0</span><span style=\"color:black;\">]</span><span style=\"color:black;\">,</span><span style=\"color:lightgrey;\">•</span><span style=\"color:black;\">r</span><span style=\"color:black;\">a</span><span style=\"color:black;\">n</span><span style=\"color:black;\">k</span><span style=\"color:black;\">[</span><span style=\"color:black;\">3</span><span style=\"color:black;\">]</span><span style=\"color:lightgrey;\">•</span><span style=\"color:black;\">=</span><span style=\"color:lightgrey;\">•</span><span style=\"color:black;\">{</span><span style=\"color:black;\">0</span><span style=\"color:black;\">}</span><span style=\"color:black;\">;</span><span style=\"color:lightgrey;\">↵\n",
       "</span><span style=\"color:lightgrey;\">•</span><span style=\"color:lightgrey;\">•</span><span style=\"color:black;\">i</span><span style=\"color:black;\">n</span><span style=\"color:black;\">t</span><span style=\"color:lightgrey;\">•</span><span style=\"color:black;\">i</span><span style=\"color:black;\">;</span><span style=\"color:lightgrey;\">↵\n",
       "</span><span style=\"color:lightgrey;\">↵\n",
       "</span><span style=\"color:lightgrey;\">•</span><span style=\"color:lightgrey;\">•</span><span style=\"color:black;\">f</span><span style=\"color:black;\">o</span><span style=\"color:black;\">r</span><span style=\"color:lightgrey;\">•</span><span style=\"color:black;\">(</span><span style=\"color:black;\">i</span><span style=\"color:lightgrey;\">•</span><span style=\"color:black;\">=</span><span style=\"color:lightgrey;\">•</span><span style=\"color:black;\">0</span><span style=\"color:black;\">;</span><span style=\"color:lightgrey;\">•</span><span style=\"color:black;\">i</span><span style=\"color:lightgrey;\">•</span><span style=\"color:black;\"><</span><span style=\"color:lightgrey;\">•</span><span style=\"color:black;\">1</span><span style=\"color:black;\">0</span><span style=\"color:black;\">;</span><span style=\"color:lightgrey;\">•</span><span style=\"color:black;\">i</span><span style=\"color:black;\">+</span><span style=\"color:black;\">+</span><span style=\"color:black;\">)</span><span style=\"color:lightgrey;\">•</span><span style=\"color:black;\">{</span><span style=\"color:lightgrey;\">↵\n",
       "</span><span style=\"color:green;\">•</span><span style=\"color:green;\">•</span><span style=\"color:green;\">•</span><span style=\"color:green;\">•</span><span style=\"color:green;\">s</span><span style=\"color:green;\">c</span><span style=\"color:green;\">a</span><span style=\"color:green;\">n</span><span style=\"color:green;\">f</span><span style=\"color:green;\">(</span><span style=\"color:green;\">\"</span><span style=\"color:green;\">%</span><span style=\"color:green;\">d</span><span style=\"color:green;\">\\</span><span style=\"color:green;\">n</span><span style=\"color:green;\">\"</span><span style=\"color:green;\">,</span><span style=\"color:green;\">•</span><span style=\"color:green;\">&</span><span style=\"color:green;\">h</span><span style=\"color:green;\">e</span><span style=\"color:green;\">i</span><span style=\"color:green;\">g</span><span style=\"color:green;\">h</span><span style=\"color:green;\">t</span><span style=\"color:green;\">[</span><span style=\"color:green;\">i</span><span style=\"color:green;\">]</span><span style=\"color:green;\">)</span><span style=\"color:green;\">;</span><span style=\"color:green;\">↵\n",
       "</span><span style=\"color:lightgrey;\">↵\n",
       "</span><span style=\"color:lightgrey;\">•</span><span style=\"color:lightgrey;\">•</span><span style=\"color:lightgrey;\">•</span><span style=\"color:lightgrey;\">•</span><span style=\"color:black;\">i</span><span style=\"color:black;\">f</span><span style=\"color:lightgrey;\">•</span><span style=\"color:black;\">(</span><span style=\"color:black;\">r</span><span style=\"color:black;\">a</span><span style=\"color:black;\">n</span><span style=\"color:black;\">k</span><span style=\"color:black;\">[</span><span style=\"color:black;\">0</span><span style=\"color:black;\">]</span><span style=\"color:lightgrey;\">•</span><span style=\"color:black;\"><</span><span style=\"color:lightgrey;\">•</span><span style=\"color:black;\">h</span><span style=\"color:black;\">e</span><span style=\"color:black;\">i</span><span style=\"color:black;\">g</span><span style=\"color:black;\">h</span><span style=\"color:black;\">t</span><span style=\"color:black;\">[</span><span style=\"color:black;\">i</span><span style=\"color:black;\">]</span><span style=\"color:black;\">)</span><span style=\"color:lightgrey;\">•</span><span style=\"color:black;\">{</span><span style=\"color:lightgrey;\">↵\n",
       "</span><span style=\"color:lightgrey;\">•</span><span style=\"color:lightgrey;\">•</span><span style=\"color:lightgrey;\">•</span><span style=\"color:lightgrey;\">•</span><span style=\"color:lightgrey;\">•</span><span style=\"color:lightgrey;\">•</span><span style=\"color:black;\">r</span><span style=\"color:black;\">a</span><span style=\"color:black;\">n</span><span style=\"color:black;\">k</span><span style=\"color:black;\">[</span><span style=\"color:black;\">2</span><span style=\"color:black;\">]</span><span style=\"color:lightgrey;\">•</span><span style=\"color:black;\">=</span><span style=\"color:lightgrey;\">•</span><span style=\"color:black;\">r</span><span style=\"color:black;\">a</span><span style=\"color:black;\">n</span><span style=\"color:black;\">k</span><span style=\"color:black;\">[</span><span style=\"color:black;\">1</span><span style=\"color:black;\">]</span><span style=\"color:black;\">;</span><span style=\"color:lightgrey;\">↵\n",
       "</span><span style=\"color:lightgrey;\">•</span><span style=\"color:lightgrey;\">•</span><span style=\"color:lightgrey;\">•</span><span style=\"color:lightgrey;\">•</span><span style=\"color:lightgrey;\">•</span><span style=\"color:lightgrey;\">•</span><span style=\"color:black;\">r</span><span style=\"color:black;\">a</span><span style=\"color:black;\">n</span><span style=\"color:black;\">k</span><span style=\"color:black;\">[</span><span style=\"color:black;\">1</span><span style=\"color:black;\">]</span><span style=\"color:lightgrey;\">•</span><span style=\"color:black;\">=</span><span style=\"color:lightgrey;\">•</span><span style=\"color:black;\">r</span><span style=\"color:black;\">a</span><span style=\"color:black;\">n</span><span style=\"color:black;\">k</span><span style=\"color:black;\">[</span><span style=\"color:black;\">0</span><span style=\"color:black;\">]</span><span style=\"color:black;\">;</span><span style=\"color:lightgrey;\">↵\n",
       "</span><span style=\"color:lightgrey;\">•</span><span style=\"color:lightgrey;\">•</span><span style=\"color:lightgrey;\">•</span><span style=\"color:lightgrey;\">•</span><span style=\"color:lightgrey;\">•</span><span style=\"color:lightgrey;\">•</span><span style=\"color:black;\">r</span><span style=\"color:black;\">a</span><span style=\"color:black;\">n</span><span style=\"color:black;\">k</span><span style=\"color:black;\">[</span><span style=\"color:black;\">0</span><span style=\"color:black;\">]</span><span style=\"color:lightgrey;\">•</span><span style=\"color:black;\">=</span><span style=\"color:lightgrey;\">•</span><span style=\"color:black;\">h</span><span style=\"color:black;\">e</span><span style=\"color:black;\">i</span><span style=\"color:black;\">g</span><span style=\"color:black;\">h</span><span style=\"color:black;\">t</span><span style=\"color:black;\">[</span><span style=\"color:black;\">i</span><span style=\"color:black;\">]</span><span style=\"color:black;\">;</span><span style=\"color:lightgrey;\">↵\n",
       "</span><span style=\"color:lightgrey;\">•</span><span style=\"color:lightgrey;\">•</span><span style=\"color:lightgrey;\">•</span><span style=\"color:lightgrey;\">•</span><span style=\"color:black;\">}</span><span style=\"color:lightgrey;\">•</span><span style=\"color:black;\">e</span><span style=\"color:black;\">l</span><span style=\"color:black;\">s</span><span style=\"color:black;\">e</span><span style=\"color:lightgrey;\">•</span><span style=\"color:black;\">i</span><span style=\"color:black;\">f</span><span style=\"color:lightgrey;\">•</span><span style=\"color:black;\">(</span><span style=\"color:black;\">r</span><span style=\"color:black;\">a</span><span style=\"color:black;\">n</span><span style=\"color:black;\">k</span><span style=\"color:black;\">[</span><span style=\"color:black;\">1</span><span style=\"color:black;\">]</span><span style=\"color:lightgrey;\">•</span><span style=\"color:black;\"><</span><span style=\"color:lightgrey;\">•</span><span style=\"color:black;\">h</span><span style=\"color:black;\">e</span><span style=\"color:black;\">i</span><span style=\"color:black;\">g</span><span style=\"color:black;\">h</span><span style=\"color:black;\">t</span><span style=\"color:black;\">[</span><span style=\"color:black;\">i</span><span style=\"color:black;\">]</span><span style=\"color:black;\">)</span><span style=\"color:lightgrey;\">•</span><span style=\"color:black;\">{</span><span style=\"color:lightgrey;\">↵\n",
       "</span><span style=\"color:lightgrey;\">•</span><span style=\"color:lightgrey;\">•</span><span style=\"color:lightgrey;\">•</span><span style=\"color:lightgrey;\">•</span><span style=\"color:lightgrey;\">•</span><span style=\"color:lightgrey;\">•</span><span style=\"color:black;\">r</span><span style=\"color:black;\">a</span><span style=\"color:black;\">n</span><span style=\"color:black;\">k</span><span style=\"color:black;\">[</span><span style=\"color:black;\">2</span><span style=\"color:black;\">]</span><span style=\"color:lightgrey;\">•</span><span style=\"color:black;\">=</span><span style=\"color:lightgrey;\">•</span><span style=\"color:black;\">r</span><span style=\"color:black;\">a</span><span style=\"color:black;\">n</span><span style=\"color:black;\">k</span><span style=\"color:black;\">[</span><span style=\"color:black;\">1</span><span style=\"color:black;\">]</span><span style=\"color:black;\">;</span><span style=\"color:lightgrey;\">↵\n",
       "</span><span style=\"color:lightgrey;\">•</span><span style=\"color:lightgrey;\">•</span><span style=\"color:lightgrey;\">•</span><span style=\"color:lightgrey;\">•</span><span style=\"color:lightgrey;\">•</span><span style=\"color:lightgrey;\">•</span><span style=\"color:black;\">r</span><span style=\"color:black;\">a</span><span style=\"color:black;\">n</span><span style=\"color:black;\">k</span><span style=\"color:black;\">[</span><span style=\"color:black;\">1</span><span style=\"color:black;\">]</span><span style=\"color:lightgrey;\">•</span><span style=\"color:black;\">=</span><span style=\"color:lightgrey;\">•</span><span style=\"color:black;\">h</span><span style=\"color:black;\">e</span><span style=\"color:black;\">i</span><span style=\"color:black;\">g</span><span style=\"color:black;\">h</span><span style=\"color:black;\">t</span><span style=\"color:black;\">[</span><span style=\"color:black;\">i</span><span style=\"color:black;\">]</span><span style=\"color:black;\">;</span><span style=\"color:lightgrey;\">↵\n",
       "</span><span style=\"color:lightgrey;\">•</span><span style=\"color:lightgrey;\">•</span><span style=\"color:lightgrey;\">•</span><span style=\"color:lightgrey;\">•</span><span style=\"color:black;\">}</span><span style=\"color:lightgrey;\">•</span><span style=\"color:black;\">e</span><span style=\"color:black;\">l</span><span style=\"color:black;\">s</span><span style=\"color:black;\">e</span><span style=\"color:lightgrey;\">•</span><span style=\"color:black;\">i</span><span style=\"color:black;\">f</span><span style=\"color:lightgrey;\">•</span><span style=\"color:black;\">(</span><span style=\"color:black;\">r</span><span style=\"color:black;\">a</span><span style=\"color:black;\">n</span><span style=\"color:black;\">k</span><span style=\"color:black;\">[</span><span style=\"color:black;\">2</span><span style=\"color:black;\">]</span><span style=\"color:lightgrey;\">•</span><span style=\"color:black;\"><</span><span style=\"color:lightgrey;\">•</span><span style=\"color:black;\">h</span><span style=\"color:black;\">e</span><span style=\"color:black;\">i</span><span style=\"color:black;\">g</span><span style=\"color:black;\">h</span><span style=\"color:black;\">t</span><span style=\"color:black;\">[</span><span style=\"color:black;\">i</span><span style=\"color:black;\">]</span><span style=\"color:black;\">)</span><span style=\"color:lightgrey;\">•</span><span style=\"color:black;\">{</span><span style=\"color:lightgrey;\">↵\n",
       "</span><span style=\"color:lightgrey;\">•</span><span style=\"color:lightgrey;\">•</span><span style=\"color:lightgrey;\">•</span><span style=\"color:lightgrey;\">•</span><span style=\"color:lightgrey;\">•</span><span style=\"color:lightgrey;\">•</span><span style=\"color:black;\">r</span><span style=\"color:black;\">a</span><span style=\"color:black;\">n</span><span style=\"color:black;\">k</span><span style=\"color:black;\">[</span><span style=\"color:black;\">2</span><span style=\"color:black;\">]</span><span style=\"color:lightgrey;\">•</span><span style=\"color:black;\">=</span><span style=\"color:lightgrey;\">•</span><span style=\"color:black;\">h</span><span style=\"color:black;\">e</span><span style=\"color:black;\">i</span><span style=\"color:black;\">g</span><span style=\"color:black;\">h</span><span style=\"color:black;\">t</span><span style=\"color:black;\">[</span><span style=\"color:black;\">i</span><span style=\"color:black;\">]</span><span style=\"color:black;\">;</span><span style=\"color:lightgrey;\">↵\n",
       "</span><span style=\"color:lightgrey;\">•</span><span style=\"color:lightgrey;\">•</span><span style=\"color:lightgrey;\">•</span><span style=\"color:lightgrey;\">•</span><span style=\"color:black;\">}</span><span style=\"color:lightgrey;\">↵\n",
       "</span><span style=\"color:lightgrey;\">•</span><span style=\"color:lightgrey;\">•</span><span style=\"color:black;\">}</span><span style=\"color:lightgrey;\">↵\n",
       "</span><span style=\"color:lightgrey;\">↵\n",
       "</span><span style=\"color:lightgrey;\">•</span><span style=\"color:lightgrey;\">•</span><span style=\"color:black;\">f</span><span style=\"color:black;\">o</span><span style=\"color:black;\">r</span><span style=\"color:lightgrey;\">•</span><span style=\"color:black;\">(</span><span style=\"color:black;\">i</span><span style=\"color:lightgrey;\">•</span><span style=\"color:black;\">=</span><span style=\"color:lightgrey;\">•</span><span style=\"color:black;\">0</span><span style=\"color:black;\">;</span><span style=\"color:lightgrey;\">•</span><span style=\"color:black;\">i</span><span style=\"color:lightgrey;\">•</span><span style=\"color:black;\"><</span><span style=\"color:lightgrey;\">•</span><span style=\"color:black;\">3</span><span style=\"color:black;\">;</span><span style=\"color:lightgrey;\">•</span><span style=\"color:black;\">i</span><span style=\"color:black;\">+</span><span style=\"color:black;\">+</span><span style=\"color:black;\">)</span><span style=\"color:lightgrey;\">•</span><span style=\"color:black;\">{</span><span style=\"color:lightgrey;\">↵\n",
       "</span><span style=\"color:lightgrey;\">•</span><span style=\"color:lightgrey;\">•</span><span style=\"color:lightgrey;\">•</span><span style=\"color:lightgrey;\">•</span><span style=\"color:black;\">p</span><span style=\"color:black;\">r</span><span style=\"color:black;\">i</span><span style=\"color:black;\">n</span><span style=\"color:black;\">t</span><span style=\"color:black;\">f</span><span style=\"color:black;\">(</span><span style=\"color:black;\">\"</span><span style=\"color:black;\">%</span><span style=\"color:black;\">d</span><span style=\"color:black;\">\\</span><span style=\"color:black;\">n</span><span style=\"color:black;\">\"</span><span style=\"color:black;\">,</span><span style=\"color:lightgrey;\">•</span><span style=\"color:black;\">r</span><span style=\"color:black;\">a</span><span style=\"color:black;\">n</span><span style=\"color:black;\">k</span><span style=\"color:black;\">[</span><span style=\"color:black;\">i</span><span style=\"color:black;\">]</span><span style=\"color:black;\">)</span><span style=\"color:black;\">;</span><span style=\"color:lightgrey;\">↵\n",
       "</span><span style=\"color:lightgrey;\">•</span><span style=\"color:lightgrey;\">•</span><span style=\"color:black;\">}</span><span style=\"color:lightgrey;\">↵\n",
       "</span><span style=\"color:lightgrey;\">↵\n",
       "</span><span style=\"color:lightgrey;\">•</span><span style=\"color:lightgrey;\">•</span><span style=\"color:black;\">r</span><span style=\"color:black;\">e</span><span style=\"color:black;\">t</span><span style=\"color:black;\">u</span><span style=\"color:black;\">r</span><span style=\"color:black;\">n</span><span style=\"color:lightgrey;\">•</span><span style=\"color:black;\">0</span><span style=\"color:black;\">;</span><span style=\"color:lightgrey;\">↵\n",
       "</span><span style=\"color:black;\">}</span></pre>"
      ],
      "text/plain": [
       "<IPython.core.display.HTML object>"
      ]
     },
     "metadata": {},
     "output_type": "display_data"
    },
    {
     "data": {
      "text/html": [
       "<h6>Codex Prediction</h6>"
      ],
      "text/plain": [
       "<IPython.core.display.HTML object>"
      ]
     },
     "metadata": {},
     "output_type": "display_data"
    },
    {
     "data": {
      "text/html": [
       "<pre><span style=\"color:red;\">s</span><span style=\"color:red;\">c</span><span style=\"color:red;\">a</span><span style=\"color:red;\">n</span><span style=\"color:red;\">f</span><span style=\"color:red;\">(</span><span style=\"color:red;\">\"</span><span style=\"color:red;\">%</span><span style=\"color:red;\">d</span><span style=\"color:red;\">\"</span><span style=\"color:red;\">,</span><span style=\"color:red;\">•</span><span style=\"color:red;\">&</span><span style=\"color:red;\">h</span><span style=\"color:red;\">e</span><span style=\"color:red;\">i</span><span style=\"color:red;\">g</span><span style=\"color:red;\">h</span><span style=\"color:red;\">t</span><span style=\"color:red;\">[</span><span style=\"color:red;\">i</span><span style=\"color:red;\">]</span><span style=\"color:red;\">)</span><span style=\"color:red;\">;</span></pre>"
      ],
      "text/plain": [
       "<IPython.core.display.HTML object>"
      ]
     },
     "metadata": {},
     "output_type": "display_data"
    },
    {
     "data": {
      "text/html": [
       "<h2>Example 6</h2>"
      ],
      "text/plain": [
       "<IPython.core.display.HTML object>"
      ]
     },
     "metadata": {},
     "output_type": "display_data"
    },
    {
     "data": {
      "text/html": [
       "<h6>Original Source Code</h6>"
      ],
      "text/plain": [
       "<IPython.core.display.HTML object>"
      ]
     },
     "metadata": {},
     "output_type": "display_data"
    },
    {
     "data": {
      "text/html": [
       "<pre><span style=\"color:black;\">#</span><span style=\"color:black;\">i</span><span style=\"color:black;\">n</span><span style=\"color:black;\">c</span><span style=\"color:black;\">l</span><span style=\"color:black;\">u</span><span style=\"color:black;\">d</span><span style=\"color:black;\">e</span><span style=\"color:lightgrey;\">•</span><span style=\"color:black;\"><</span><span style=\"color:black;\">b</span><span style=\"color:black;\">i</span><span style=\"color:black;\">t</span><span style=\"color:black;\">s</span><span style=\"color:black;\">/</span><span style=\"color:black;\">s</span><span style=\"color:black;\">t</span><span style=\"color:black;\">d</span><span style=\"color:black;\">c</span><span style=\"color:black;\">+</span><span style=\"color:black;\">+</span><span style=\"color:black;\">.</span><span style=\"color:black;\">h</span><span style=\"color:black;\">></span><span style=\"color:lightgrey;\">↵\n",
       "</span><span style=\"color:black;\">u</span><span style=\"color:black;\">s</span><span style=\"color:black;\">i</span><span style=\"color:black;\">n</span><span style=\"color:black;\">g</span><span style=\"color:lightgrey;\">•</span><span style=\"color:black;\">n</span><span style=\"color:black;\">a</span><span style=\"color:black;\">m</span><span style=\"color:black;\">e</span><span style=\"color:black;\">s</span><span style=\"color:black;\">p</span><span style=\"color:black;\">a</span><span style=\"color:black;\">c</span><span style=\"color:black;\">e</span><span style=\"color:lightgrey;\">•</span><span style=\"color:black;\">s</span><span style=\"color:black;\">t</span><span style=\"color:black;\">d</span><span style=\"color:black;\">;</span><span style=\"color:lightgrey;\">↵\n",
       "</span><span style=\"color:black;\">i</span><span style=\"color:black;\">n</span><span style=\"color:black;\">t</span><span style=\"color:lightgrey;\">•</span><span style=\"color:black;\">n</span><span style=\"color:black;\">,</span><span style=\"color:lightgrey;\">•</span><span style=\"color:black;\">a</span><span style=\"color:black;\">[</span><span style=\"color:black;\">5</span><span style=\"color:black;\">0</span><span style=\"color:black;\">]</span><span style=\"color:black;\">;</span><span style=\"color:lightgrey;\">↵\n",
       "</span><span style=\"color:black;\">i</span><span style=\"color:black;\">n</span><span style=\"color:black;\">t</span><span style=\"color:lightgrey;\">•</span><span style=\"color:black;\">m</span><span style=\"color:black;\">a</span><span style=\"color:black;\">i</span><span style=\"color:black;\">n</span><span style=\"color:black;\">(</span><span style=\"color:black;\">)</span><span style=\"color:lightgrey;\">•</span><span style=\"color:black;\">{</span><span style=\"color:lightgrey;\">↵\n",
       "</span><span style=\"color:red;\">•</span><span style=\"color:red;\">•</span><span style=\"color:red;\">c</span><span style=\"color:red;\">i</span><span style=\"color:red;\">n</span><span style=\"color:red;\">•</span><span style=\"color:red;\">></span><span style=\"color:red;\">></span><span style=\"color:red;\">•</span><span style=\"color:red;\">n</span><span style=\"color:red;\">;</span><span style=\"color:red;\">↵\n",
       "</span><span style=\"color:lightgrey;\">•</span><span style=\"color:lightgrey;\">•</span><span style=\"color:black;\">f</span><span style=\"color:black;\">o</span><span style=\"color:black;\">r</span><span style=\"color:lightgrey;\">•</span><span style=\"color:black;\">(</span><span style=\"color:black;\">i</span><span style=\"color:black;\">n</span><span style=\"color:black;\">t</span><span style=\"color:lightgrey;\">•</span><span style=\"color:black;\">i</span><span style=\"color:lightgrey;\">•</span><span style=\"color:black;\">=</span><span style=\"color:lightgrey;\">•</span><span style=\"color:black;\">1</span><span style=\"color:black;\">;</span><span style=\"color:lightgrey;\">•</span><span style=\"color:black;\">i</span><span style=\"color:lightgrey;\">•</span><span style=\"color:black;\"><</span><span style=\"color:black;\">=</span><span style=\"color:lightgrey;\">•</span><span style=\"color:black;\">n</span><span style=\"color:black;\">;</span><span style=\"color:lightgrey;\">•</span><span style=\"color:black;\">i</span><span style=\"color:black;\">+</span><span style=\"color:black;\">+</span><span style=\"color:black;\">)</span><span style=\"color:lightgrey;\">↵\n",
       "</span><span style=\"color:lightgrey;\">•</span><span style=\"color:lightgrey;\">•</span><span style=\"color:lightgrey;\">•</span><span style=\"color:lightgrey;\">•</span><span style=\"color:black;\">c</span><span style=\"color:black;\">i</span><span style=\"color:black;\">n</span><span style=\"color:lightgrey;\">•</span><span style=\"color:black;\">></span><span style=\"color:black;\">></span><span style=\"color:lightgrey;\">•</span><span style=\"color:black;\">a</span><span style=\"color:black;\">[</span><span style=\"color:black;\">i</span><span style=\"color:black;\">]</span><span style=\"color:black;\">;</span><span style=\"color:lightgrey;\">↵\n",
       "</span><span style=\"color:lightgrey;\">•</span><span style=\"color:lightgrey;\">•</span><span style=\"color:black;\">s</span><span style=\"color:black;\">o</span><span style=\"color:black;\">r</span><span style=\"color:black;\">t</span><span style=\"color:black;\">(</span><span style=\"color:black;\">a</span><span style=\"color:lightgrey;\">•</span><span style=\"color:black;\">+</span><span style=\"color:lightgrey;\">•</span><span style=\"color:black;\">1</span><span style=\"color:black;\">,</span><span style=\"color:lightgrey;\">•</span><span style=\"color:black;\">a</span><span style=\"color:lightgrey;\">•</span><span style=\"color:black;\">+</span><span style=\"color:lightgrey;\">•</span><span style=\"color:black;\">1</span><span style=\"color:lightgrey;\">•</span><span style=\"color:black;\">+</span><span style=\"color:lightgrey;\">•</span><span style=\"color:black;\">n</span><span style=\"color:black;\">)</span><span style=\"color:black;\">;</span><span style=\"color:lightgrey;\">↵\n",
       "</span><span style=\"color:lightgrey;\">•</span><span style=\"color:lightgrey;\">•</span><span style=\"color:black;\">f</span><span style=\"color:black;\">o</span><span style=\"color:black;\">r</span><span style=\"color:lightgrey;\">•</span><span style=\"color:black;\">(</span><span style=\"color:black;\">i</span><span style=\"color:black;\">n</span><span style=\"color:black;\">t</span><span style=\"color:lightgrey;\">•</span><span style=\"color:black;\">i</span><span style=\"color:lightgrey;\">•</span><span style=\"color:black;\">=</span><span style=\"color:lightgrey;\">•</span><span style=\"color:black;\">n</span><span style=\"color:black;\">;</span><span style=\"color:lightgrey;\">•</span><span style=\"color:black;\">i</span><span style=\"color:lightgrey;\">•</span><span style=\"color:black;\">></span><span style=\"color:black;\">=</span><span style=\"color:lightgrey;\">•</span><span style=\"color:black;\">n</span><span style=\"color:lightgrey;\">•</span><span style=\"color:black;\">-</span><span style=\"color:lightgrey;\">•</span><span style=\"color:black;\">2</span><span style=\"color:black;\">;</span><span style=\"color:lightgrey;\">•</span><span style=\"color:black;\">i</span><span style=\"color:black;\">-</span><span style=\"color:black;\">-</span><span style=\"color:black;\">)</span><span style=\"color:lightgrey;\">•</span><span style=\"color:black;\">{</span><span style=\"color:lightgrey;\">↵\n",
       "</span><span style=\"color:lightgrey;\">•</span><span style=\"color:lightgrey;\">•</span><span style=\"color:lightgrey;\">•</span><span style=\"color:lightgrey;\">•</span><span style=\"color:black;\">c</span><span style=\"color:black;\">o</span><span style=\"color:black;\">u</span><span style=\"color:black;\">t</span><span style=\"color:lightgrey;\">•</span><span style=\"color:black;\"><</span><span style=\"color:black;\"><</span><span style=\"color:lightgrey;\">•</span><span style=\"color:black;\">a</span><span style=\"color:black;\">[</span><span style=\"color:black;\">i</span><span style=\"color:black;\">]</span><span style=\"color:lightgrey;\">•</span><span style=\"color:black;\"><</span><span style=\"color:black;\"><</span><span style=\"color:lightgrey;\">•</span><span style=\"color:black;\">e</span><span style=\"color:black;\">n</span><span style=\"color:black;\">d</span><span style=\"color:black;\">l</span><span style=\"color:black;\">;</span><span style=\"color:lightgrey;\">↵\n",
       "</span><span style=\"color:lightgrey;\">•</span><span style=\"color:lightgrey;\">•</span><span style=\"color:black;\">}</span><span style=\"color:lightgrey;\">↵\n",
       "</span><span style=\"color:black;\">}</span></pre>"
      ],
      "text/plain": [
       "<IPython.core.display.HTML object>"
      ]
     },
     "metadata": {},
     "output_type": "display_data"
    },
    {
     "data": {
      "text/html": [
       "<h6>Changed Source Code</h6>"
      ],
      "text/plain": [
       "<IPython.core.display.HTML object>"
      ]
     },
     "metadata": {},
     "output_type": "display_data"
    },
    {
     "data": {
      "text/html": [
       "<pre><span style=\"color:black;\">#</span><span style=\"color:black;\">i</span><span style=\"color:black;\">n</span><span style=\"color:black;\">c</span><span style=\"color:black;\">l</span><span style=\"color:black;\">u</span><span style=\"color:black;\">d</span><span style=\"color:black;\">e</span><span style=\"color:lightgrey;\">•</span><span style=\"color:black;\"><</span><span style=\"color:black;\">b</span><span style=\"color:black;\">i</span><span style=\"color:black;\">t</span><span style=\"color:black;\">s</span><span style=\"color:black;\">/</span><span style=\"color:black;\">s</span><span style=\"color:black;\">t</span><span style=\"color:black;\">d</span><span style=\"color:black;\">c</span><span style=\"color:black;\">+</span><span style=\"color:black;\">+</span><span style=\"color:black;\">.</span><span style=\"color:black;\">h</span><span style=\"color:black;\">></span><span style=\"color:lightgrey;\">↵\n",
       "</span><span style=\"color:black;\">u</span><span style=\"color:black;\">s</span><span style=\"color:black;\">i</span><span style=\"color:black;\">n</span><span style=\"color:black;\">g</span><span style=\"color:lightgrey;\">•</span><span style=\"color:black;\">n</span><span style=\"color:black;\">a</span><span style=\"color:black;\">m</span><span style=\"color:black;\">e</span><span style=\"color:black;\">s</span><span style=\"color:black;\">p</span><span style=\"color:black;\">a</span><span style=\"color:black;\">c</span><span style=\"color:black;\">e</span><span style=\"color:lightgrey;\">•</span><span style=\"color:black;\">s</span><span style=\"color:black;\">t</span><span style=\"color:black;\">d</span><span style=\"color:black;\">;</span><span style=\"color:lightgrey;\">↵\n",
       "</span><span style=\"color:black;\">i</span><span style=\"color:black;\">n</span><span style=\"color:black;\">t</span><span style=\"color:lightgrey;\">•</span><span style=\"color:black;\">n</span><span style=\"color:black;\">,</span><span style=\"color:lightgrey;\">•</span><span style=\"color:black;\">a</span><span style=\"color:black;\">[</span><span style=\"color:black;\">5</span><span style=\"color:black;\">0</span><span style=\"color:black;\">]</span><span style=\"color:black;\">;</span><span style=\"color:lightgrey;\">↵\n",
       "</span><span style=\"color:black;\">i</span><span style=\"color:black;\">n</span><span style=\"color:black;\">t</span><span style=\"color:lightgrey;\">•</span><span style=\"color:black;\">m</span><span style=\"color:black;\">a</span><span style=\"color:black;\">i</span><span style=\"color:black;\">n</span><span style=\"color:black;\">(</span><span style=\"color:black;\">)</span><span style=\"color:lightgrey;\">•</span><span style=\"color:black;\">{</span><span style=\"color:lightgrey;\">↵\n",
       "</span><span style=\"color:green;\">•</span><span style=\"color:green;\">•</span><span style=\"color:green;\">n</span><span style=\"color:green;\">•</span><span style=\"color:green;\">=</span><span style=\"color:green;\">•</span><span style=\"color:green;\">1</span><span style=\"color:green;\">0</span><span style=\"color:green;\">;</span><span style=\"color:green;\">↵\n",
       "</span><span style=\"color:lightgrey;\">•</span><span style=\"color:lightgrey;\">•</span><span style=\"color:black;\">f</span><span style=\"color:black;\">o</span><span style=\"color:black;\">r</span><span style=\"color:lightgrey;\">•</span><span style=\"color:black;\">(</span><span style=\"color:black;\">i</span><span style=\"color:black;\">n</span><span style=\"color:black;\">t</span><span style=\"color:lightgrey;\">•</span><span style=\"color:black;\">i</span><span style=\"color:lightgrey;\">•</span><span style=\"color:black;\">=</span><span style=\"color:lightgrey;\">•</span><span style=\"color:black;\">1</span><span style=\"color:black;\">;</span><span style=\"color:lightgrey;\">•</span><span style=\"color:black;\">i</span><span style=\"color:lightgrey;\">•</span><span style=\"color:black;\"><</span><span style=\"color:black;\">=</span><span style=\"color:lightgrey;\">•</span><span style=\"color:black;\">n</span><span style=\"color:black;\">;</span><span style=\"color:lightgrey;\">•</span><span style=\"color:black;\">i</span><span style=\"color:black;\">+</span><span style=\"color:black;\">+</span><span style=\"color:black;\">)</span><span style=\"color:lightgrey;\">↵\n",
       "</span><span style=\"color:lightgrey;\">•</span><span style=\"color:lightgrey;\">•</span><span style=\"color:lightgrey;\">•</span><span style=\"color:lightgrey;\">•</span><span style=\"color:black;\">c</span><span style=\"color:black;\">i</span><span style=\"color:black;\">n</span><span style=\"color:lightgrey;\">•</span><span style=\"color:black;\">></span><span style=\"color:black;\">></span><span style=\"color:lightgrey;\">•</span><span style=\"color:black;\">a</span><span style=\"color:black;\">[</span><span style=\"color:black;\">i</span><span style=\"color:black;\">]</span><span style=\"color:black;\">;</span><span style=\"color:lightgrey;\">↵\n",
       "</span><span style=\"color:lightgrey;\">•</span><span style=\"color:lightgrey;\">•</span><span style=\"color:black;\">s</span><span style=\"color:black;\">o</span><span style=\"color:black;\">r</span><span style=\"color:black;\">t</span><span style=\"color:black;\">(</span><span style=\"color:black;\">a</span><span style=\"color:lightgrey;\">•</span><span style=\"color:black;\">+</span><span style=\"color:lightgrey;\">•</span><span style=\"color:black;\">1</span><span style=\"color:black;\">,</span><span style=\"color:lightgrey;\">•</span><span style=\"color:black;\">a</span><span style=\"color:lightgrey;\">•</span><span style=\"color:black;\">+</span><span style=\"color:lightgrey;\">•</span><span style=\"color:black;\">1</span><span style=\"color:lightgrey;\">•</span><span style=\"color:black;\">+</span><span style=\"color:lightgrey;\">•</span><span style=\"color:black;\">n</span><span style=\"color:black;\">)</span><span style=\"color:black;\">;</span><span style=\"color:lightgrey;\">↵\n",
       "</span><span style=\"color:lightgrey;\">•</span><span style=\"color:lightgrey;\">•</span><span style=\"color:black;\">f</span><span style=\"color:black;\">o</span><span style=\"color:black;\">r</span><span style=\"color:lightgrey;\">•</span><span style=\"color:black;\">(</span><span style=\"color:black;\">i</span><span style=\"color:black;\">n</span><span style=\"color:black;\">t</span><span style=\"color:lightgrey;\">•</span><span style=\"color:black;\">i</span><span style=\"color:lightgrey;\">•</span><span style=\"color:black;\">=</span><span style=\"color:lightgrey;\">•</span><span style=\"color:black;\">n</span><span style=\"color:black;\">;</span><span style=\"color:lightgrey;\">•</span><span style=\"color:black;\">i</span><span style=\"color:lightgrey;\">•</span><span style=\"color:black;\">></span><span style=\"color:black;\">=</span><span style=\"color:lightgrey;\">•</span><span style=\"color:black;\">n</span><span style=\"color:lightgrey;\">•</span><span style=\"color:black;\">-</span><span style=\"color:lightgrey;\">•</span><span style=\"color:black;\">2</span><span style=\"color:black;\">;</span><span style=\"color:lightgrey;\">•</span><span style=\"color:black;\">i</span><span style=\"color:black;\">-</span><span style=\"color:black;\">-</span><span style=\"color:black;\">)</span><span style=\"color:lightgrey;\">•</span><span style=\"color:black;\">{</span><span style=\"color:lightgrey;\">↵\n",
       "</span><span style=\"color:lightgrey;\">•</span><span style=\"color:lightgrey;\">•</span><span style=\"color:lightgrey;\">•</span><span style=\"color:lightgrey;\">•</span><span style=\"color:black;\">c</span><span style=\"color:black;\">o</span><span style=\"color:black;\">u</span><span style=\"color:black;\">t</span><span style=\"color:lightgrey;\">•</span><span style=\"color:black;\"><</span><span style=\"color:black;\"><</span><span style=\"color:lightgrey;\">•</span><span style=\"color:black;\">a</span><span style=\"color:black;\">[</span><span style=\"color:black;\">i</span><span style=\"color:black;\">]</span><span style=\"color:lightgrey;\">•</span><span style=\"color:black;\"><</span><span style=\"color:black;\"><</span><span style=\"color:lightgrey;\">•</span><span style=\"color:black;\">e</span><span style=\"color:black;\">n</span><span style=\"color:black;\">d</span><span style=\"color:black;\">l</span><span style=\"color:black;\">;</span><span style=\"color:lightgrey;\">↵\n",
       "</span><span style=\"color:lightgrey;\">•</span><span style=\"color:lightgrey;\">•</span><span style=\"color:black;\">}</span><span style=\"color:lightgrey;\">↵\n",
       "</span><span style=\"color:black;\">}</span></pre>"
      ],
      "text/plain": [
       "<IPython.core.display.HTML object>"
      ]
     },
     "metadata": {},
     "output_type": "display_data"
    },
    {
     "data": {
      "text/html": [
       "<h6>Codex Prediction</h6>"
      ],
      "text/plain": [
       "<IPython.core.display.HTML object>"
      ]
     },
     "metadata": {},
     "output_type": "display_data"
    },
    {
     "data": {
      "text/html": [
       "<pre><span style=\"color:red;\">c</span><span style=\"color:red;\">i</span><span style=\"color:red;\">n</span><span style=\"color:red;\">•</span><span style=\"color:red;\">></span><span style=\"color:red;\">></span><span style=\"color:red;\">•</span><span style=\"color:red;\">a</span><span style=\"color:red;\">[</span><span style=\"color:red;\">i</span><span style=\"color:red;\">]</span><span style=\"color:red;\">;</span></pre>"
      ],
      "text/plain": [
       "<IPython.core.display.HTML object>"
      ]
     },
     "metadata": {},
     "output_type": "display_data"
    },
    {
     "data": {
      "text/html": [
       "<h2>Example 7</h2>"
      ],
      "text/plain": [
       "<IPython.core.display.HTML object>"
      ]
     },
     "metadata": {},
     "output_type": "display_data"
    },
    {
     "data": {
      "text/html": [
       "<h6>Original Source Code</h6>"
      ],
      "text/plain": [
       "<IPython.core.display.HTML object>"
      ]
     },
     "metadata": {},
     "output_type": "display_data"
    },
    {
     "data": {
      "text/html": [
       "<pre><span style=\"color:black;\">#</span><span style=\"color:black;\">i</span><span style=\"color:black;\">n</span><span style=\"color:black;\">c</span><span style=\"color:black;\">l</span><span style=\"color:black;\">u</span><span style=\"color:black;\">d</span><span style=\"color:black;\">e</span><span style=\"color:lightgrey;\">•</span><span style=\"color:black;\"><</span><span style=\"color:black;\">a</span><span style=\"color:black;\">l</span><span style=\"color:black;\">g</span><span style=\"color:black;\">o</span><span style=\"color:black;\">r</span><span style=\"color:black;\">i</span><span style=\"color:black;\">t</span><span style=\"color:black;\">h</span><span style=\"color:black;\">m</span><span style=\"color:black;\">></span><span style=\"color:lightgrey;\">↵\n",
       "</span><span style=\"color:black;\">#</span><span style=\"color:black;\">i</span><span style=\"color:black;\">n</span><span style=\"color:black;\">c</span><span style=\"color:black;\">l</span><span style=\"color:black;\">u</span><span style=\"color:black;\">d</span><span style=\"color:black;\">e</span><span style=\"color:lightgrey;\">•</span><span style=\"color:black;\"><</span><span style=\"color:black;\">i</span><span style=\"color:black;\">o</span><span style=\"color:black;\">s</span><span style=\"color:black;\">t</span><span style=\"color:black;\">r</span><span style=\"color:black;\">e</span><span style=\"color:black;\">a</span><span style=\"color:black;\">m</span><span style=\"color:black;\">></span><span style=\"color:lightgrey;\">↵\n",
       "</span><span style=\"color:lightgrey;\">↵\n",
       "</span><span style=\"color:black;\">u</span><span style=\"color:black;\">s</span><span style=\"color:black;\">i</span><span style=\"color:black;\">n</span><span style=\"color:black;\">g</span><span style=\"color:lightgrey;\">•</span><span style=\"color:black;\">n</span><span style=\"color:black;\">a</span><span style=\"color:black;\">m</span><span style=\"color:black;\">e</span><span style=\"color:black;\">s</span><span style=\"color:black;\">p</span><span style=\"color:black;\">a</span><span style=\"color:black;\">c</span><span style=\"color:black;\">e</span><span style=\"color:lightgrey;\">•</span><span style=\"color:black;\">:</span><span style=\"color:black;\">:</span><span style=\"color:black;\">s</span><span style=\"color:black;\">t</span><span style=\"color:black;\">d</span><span style=\"color:black;\">;</span><span style=\"color:lightgrey;\">↵\n",
       "</span><span style=\"color:lightgrey;\">↵\n",
       "</span><span style=\"color:black;\">i</span><span style=\"color:black;\">n</span><span style=\"color:black;\">t</span><span style=\"color:lightgrey;\">•</span><span style=\"color:black;\">m</span><span style=\"color:black;\">a</span><span style=\"color:black;\">i</span><span style=\"color:black;\">n</span><span style=\"color:black;\">(</span><span style=\"color:black;\">)</span><span style=\"color:lightgrey;\">•</span><span style=\"color:black;\">{</span><span style=\"color:lightgrey;\">↵\n",
       "</span><span style=\"color:lightgrey;\">•</span><span style=\"color:lightgrey;\">•</span><span style=\"color:black;\">i</span><span style=\"color:black;\">n</span><span style=\"color:black;\">t</span><span style=\"color:lightgrey;\">•</span><span style=\"color:black;\">a</span><span style=\"color:black;\">r</span><span style=\"color:black;\">r</span><span style=\"color:black;\">a</span><span style=\"color:black;\">y</span><span style=\"color:black;\">[</span><span style=\"color:black;\">1</span><span style=\"color:black;\">0</span><span style=\"color:black;\">]</span><span style=\"color:black;\">;</span><span style=\"color:lightgrey;\">↵\n",
       "</span><span style=\"color:lightgrey;\">↵\n",
       "</span><span style=\"color:lightgrey;\">•</span><span style=\"color:lightgrey;\">•</span><span style=\"color:black;\">f</span><span style=\"color:black;\">o</span><span style=\"color:black;\">r</span><span style=\"color:lightgrey;\">•</span><span style=\"color:black;\">(</span><span style=\"color:black;\">i</span><span style=\"color:black;\">n</span><span style=\"color:black;\">t</span><span style=\"color:lightgrey;\">•</span><span style=\"color:black;\">i</span><span style=\"color:lightgrey;\">•</span><span style=\"color:black;\">=</span><span style=\"color:lightgrey;\">•</span><span style=\"color:black;\">0</span><span style=\"color:black;\">;</span><span style=\"color:lightgrey;\">•</span><span style=\"color:black;\">i</span><span style=\"color:lightgrey;\">•</span><span style=\"color:black;\"><</span><span style=\"color:lightgrey;\">•</span><span style=\"color:black;\">1</span><span style=\"color:black;\">0</span><span style=\"color:black;\">;</span><span style=\"color:lightgrey;\">•</span><span style=\"color:black;\">i</span><span style=\"color:black;\">+</span><span style=\"color:black;\">+</span><span style=\"color:black;\">)</span><span style=\"color:lightgrey;\">↵\n",
       "</span><span style=\"color:lightgrey;\">•</span><span style=\"color:lightgrey;\">•</span><span style=\"color:lightgrey;\">•</span><span style=\"color:lightgrey;\">•</span><span style=\"color:black;\">c</span><span style=\"color:black;\">i</span><span style=\"color:black;\">n</span><span style=\"color:lightgrey;\">•</span><span style=\"color:black;\">></span><span style=\"color:black;\">></span><span style=\"color:lightgrey;\">•</span><span style=\"color:black;\">a</span><span style=\"color:black;\">r</span><span style=\"color:black;\">r</span><span style=\"color:black;\">a</span><span style=\"color:black;\">y</span><span style=\"color:black;\">[</span><span style=\"color:black;\">i</span><span style=\"color:black;\">]</span><span style=\"color:black;\">;</span><span style=\"color:lightgrey;\">↵\n",
       "</span><span style=\"color:lightgrey;\">↵\n",
       "</span><span style=\"color:lightgrey;\">•</span><span style=\"color:lightgrey;\">•</span><span style=\"color:black;\">s</span><span style=\"color:black;\">o</span><span style=\"color:black;\">r</span><span style=\"color:black;\">t</span><span style=\"color:black;\">(</span><span style=\"color:black;\">a</span><span style=\"color:black;\">r</span><span style=\"color:black;\">r</span><span style=\"color:black;\">a</span><span style=\"color:black;\">y</span><span style=\"color:black;\">,</span><span style=\"color:lightgrey;\">•</span><span style=\"color:black;\">a</span><span style=\"color:black;\">r</span><span style=\"color:black;\">r</span><span style=\"color:black;\">a</span><span style=\"color:black;\">y</span><span style=\"color:lightgrey;\">•</span><span style=\"color:black;\">+</span><span style=\"color:lightgrey;\">•</span><span style=\"color:black;\">1</span><span style=\"color:black;\">0</span><span style=\"color:black;\">)</span><span style=\"color:black;\">;</span><span style=\"color:lightgrey;\">↵\n",
       "</span><span style=\"color:lightgrey;\">↵\n",
       "</span><span style=\"color:red;\">•</span><span style=\"color:red;\">•</span><span style=\"color:red;\">f</span><span style=\"color:red;\">o</span><span style=\"color:red;\">r</span><span style=\"color:red;\">•</span><span style=\"color:red;\">(</span><span style=\"color:red;\">i</span><span style=\"color:red;\">n</span><span style=\"color:red;\">t</span><span style=\"color:red;\">•</span><span style=\"color:red;\">i</span><span style=\"color:red;\">•</span><span style=\"color:red;\">=</span><span style=\"color:red;\">•</span><span style=\"color:red;\">9</span><span style=\"color:red;\">;</span><span style=\"color:red;\">•</span><span style=\"color:red;\">i</span><span style=\"color:red;\">•</span><span style=\"color:red;\">></span><span style=\"color:red;\">•</span><span style=\"color:red;\">6</span><span style=\"color:red;\">;</span><span style=\"color:red;\">•</span><span style=\"color:red;\">i</span><span style=\"color:red;\">+</span><span style=\"color:red;\">+</span><span style=\"color:red;\">)</span><span style=\"color:red;\">↵\n",
       "</span><span style=\"color:lightgrey;\">•</span><span style=\"color:lightgrey;\">•</span><span style=\"color:lightgrey;\">•</span><span style=\"color:lightgrey;\">•</span><span style=\"color:black;\">c</span><span style=\"color:black;\">o</span><span style=\"color:black;\">u</span><span style=\"color:black;\">t</span><span style=\"color:lightgrey;\">•</span><span style=\"color:black;\"><</span><span style=\"color:black;\"><</span><span style=\"color:lightgrey;\">•</span><span style=\"color:black;\">a</span><span style=\"color:black;\">r</span><span style=\"color:black;\">r</span><span style=\"color:black;\">a</span><span style=\"color:black;\">y</span><span style=\"color:black;\">[</span><span style=\"color:black;\">i</span><span style=\"color:black;\">]</span><span style=\"color:lightgrey;\">•</span><span style=\"color:black;\"><</span><span style=\"color:black;\"><</span><span style=\"color:lightgrey;\">•</span><span style=\"color:black;\">e</span><span style=\"color:black;\">n</span><span style=\"color:black;\">d</span><span style=\"color:black;\">l</span><span style=\"color:black;\">;</span><span style=\"color:lightgrey;\">↵\n",
       "</span><span style=\"color:lightgrey;\">•</span><span style=\"color:lightgrey;\">•</span><span style=\"color:black;\">r</span><span style=\"color:black;\">e</span><span style=\"color:black;\">t</span><span style=\"color:black;\">u</span><span style=\"color:black;\">r</span><span style=\"color:black;\">n</span><span style=\"color:lightgrey;\">•</span><span style=\"color:black;\">0</span><span style=\"color:black;\">;</span><span style=\"color:lightgrey;\">↵\n",
       "</span><span style=\"color:black;\">}</span></pre>"
      ],
      "text/plain": [
       "<IPython.core.display.HTML object>"
      ]
     },
     "metadata": {},
     "output_type": "display_data"
    },
    {
     "data": {
      "text/html": [
       "<h6>Changed Source Code</h6>"
      ],
      "text/plain": [
       "<IPython.core.display.HTML object>"
      ]
     },
     "metadata": {},
     "output_type": "display_data"
    },
    {
     "data": {
      "text/html": [
       "<pre><span style=\"color:black;\">#</span><span style=\"color:black;\">i</span><span style=\"color:black;\">n</span><span style=\"color:black;\">c</span><span style=\"color:black;\">l</span><span style=\"color:black;\">u</span><span style=\"color:black;\">d</span><span style=\"color:black;\">e</span><span style=\"color:lightgrey;\">•</span><span style=\"color:black;\"><</span><span style=\"color:black;\">a</span><span style=\"color:black;\">l</span><span style=\"color:black;\">g</span><span style=\"color:black;\">o</span><span style=\"color:black;\">r</span><span style=\"color:black;\">i</span><span style=\"color:black;\">t</span><span style=\"color:black;\">h</span><span style=\"color:black;\">m</span><span style=\"color:black;\">></span><span style=\"color:lightgrey;\">↵\n",
       "</span><span style=\"color:black;\">#</span><span style=\"color:black;\">i</span><span style=\"color:black;\">n</span><span style=\"color:black;\">c</span><span style=\"color:black;\">l</span><span style=\"color:black;\">u</span><span style=\"color:black;\">d</span><span style=\"color:black;\">e</span><span style=\"color:lightgrey;\">•</span><span style=\"color:black;\"><</span><span style=\"color:black;\">i</span><span style=\"color:black;\">o</span><span style=\"color:black;\">s</span><span style=\"color:black;\">t</span><span style=\"color:black;\">r</span><span style=\"color:black;\">e</span><span style=\"color:black;\">a</span><span style=\"color:black;\">m</span><span style=\"color:black;\">></span><span style=\"color:lightgrey;\">↵\n",
       "</span><span style=\"color:lightgrey;\">↵\n",
       "</span><span style=\"color:black;\">u</span><span style=\"color:black;\">s</span><span style=\"color:black;\">i</span><span style=\"color:black;\">n</span><span style=\"color:black;\">g</span><span style=\"color:lightgrey;\">•</span><span style=\"color:black;\">n</span><span style=\"color:black;\">a</span><span style=\"color:black;\">m</span><span style=\"color:black;\">e</span><span style=\"color:black;\">s</span><span style=\"color:black;\">p</span><span style=\"color:black;\">a</span><span style=\"color:black;\">c</span><span style=\"color:black;\">e</span><span style=\"color:lightgrey;\">•</span><span style=\"color:black;\">:</span><span style=\"color:black;\">:</span><span style=\"color:black;\">s</span><span style=\"color:black;\">t</span><span style=\"color:black;\">d</span><span style=\"color:black;\">;</span><span style=\"color:lightgrey;\">↵\n",
       "</span><span style=\"color:lightgrey;\">↵\n",
       "</span><span style=\"color:black;\">i</span><span style=\"color:black;\">n</span><span style=\"color:black;\">t</span><span style=\"color:lightgrey;\">•</span><span style=\"color:black;\">m</span><span style=\"color:black;\">a</span><span style=\"color:black;\">i</span><span style=\"color:black;\">n</span><span style=\"color:black;\">(</span><span style=\"color:black;\">)</span><span style=\"color:lightgrey;\">•</span><span style=\"color:black;\">{</span><span style=\"color:lightgrey;\">↵\n",
       "</span><span style=\"color:lightgrey;\">•</span><span style=\"color:lightgrey;\">•</span><span style=\"color:black;\">i</span><span style=\"color:black;\">n</span><span style=\"color:black;\">t</span><span style=\"color:lightgrey;\">•</span><span style=\"color:black;\">a</span><span style=\"color:black;\">r</span><span style=\"color:black;\">r</span><span style=\"color:black;\">a</span><span style=\"color:black;\">y</span><span style=\"color:black;\">[</span><span style=\"color:black;\">1</span><span style=\"color:black;\">0</span><span style=\"color:black;\">]</span><span style=\"color:black;\">;</span><span style=\"color:lightgrey;\">↵\n",
       "</span><span style=\"color:lightgrey;\">↵\n",
       "</span><span style=\"color:lightgrey;\">•</span><span style=\"color:lightgrey;\">•</span><span style=\"color:black;\">f</span><span style=\"color:black;\">o</span><span style=\"color:black;\">r</span><span style=\"color:lightgrey;\">•</span><span style=\"color:black;\">(</span><span style=\"color:black;\">i</span><span style=\"color:black;\">n</span><span style=\"color:black;\">t</span><span style=\"color:lightgrey;\">•</span><span style=\"color:black;\">i</span><span style=\"color:lightgrey;\">•</span><span style=\"color:black;\">=</span><span style=\"color:lightgrey;\">•</span><span style=\"color:black;\">0</span><span style=\"color:black;\">;</span><span style=\"color:lightgrey;\">•</span><span style=\"color:black;\">i</span><span style=\"color:lightgrey;\">•</span><span style=\"color:black;\"><</span><span style=\"color:lightgrey;\">•</span><span style=\"color:black;\">1</span><span style=\"color:black;\">0</span><span style=\"color:black;\">;</span><span style=\"color:lightgrey;\">•</span><span style=\"color:black;\">i</span><span style=\"color:black;\">+</span><span style=\"color:black;\">+</span><span style=\"color:black;\">)</span><span style=\"color:lightgrey;\">↵\n",
       "</span><span style=\"color:lightgrey;\">•</span><span style=\"color:lightgrey;\">•</span><span style=\"color:lightgrey;\">•</span><span style=\"color:lightgrey;\">•</span><span style=\"color:black;\">c</span><span style=\"color:black;\">i</span><span style=\"color:black;\">n</span><span style=\"color:lightgrey;\">•</span><span style=\"color:black;\">></span><span style=\"color:black;\">></span><span style=\"color:lightgrey;\">•</span><span style=\"color:black;\">a</span><span style=\"color:black;\">r</span><span style=\"color:black;\">r</span><span style=\"color:black;\">a</span><span style=\"color:black;\">y</span><span style=\"color:black;\">[</span><span style=\"color:black;\">i</span><span style=\"color:black;\">]</span><span style=\"color:black;\">;</span><span style=\"color:lightgrey;\">↵\n",
       "</span><span style=\"color:lightgrey;\">↵\n",
       "</span><span style=\"color:lightgrey;\">•</span><span style=\"color:lightgrey;\">•</span><span style=\"color:black;\">s</span><span style=\"color:black;\">o</span><span style=\"color:black;\">r</span><span style=\"color:black;\">t</span><span style=\"color:black;\">(</span><span style=\"color:black;\">a</span><span style=\"color:black;\">r</span><span style=\"color:black;\">r</span><span style=\"color:black;\">a</span><span style=\"color:black;\">y</span><span style=\"color:black;\">,</span><span style=\"color:lightgrey;\">•</span><span style=\"color:black;\">a</span><span style=\"color:black;\">r</span><span style=\"color:black;\">r</span><span style=\"color:black;\">a</span><span style=\"color:black;\">y</span><span style=\"color:lightgrey;\">•</span><span style=\"color:black;\">+</span><span style=\"color:lightgrey;\">•</span><span style=\"color:black;\">1</span><span style=\"color:black;\">0</span><span style=\"color:black;\">)</span><span style=\"color:black;\">;</span><span style=\"color:lightgrey;\">↵\n",
       "</span><span style=\"color:lightgrey;\">↵\n",
       "</span><span style=\"color:green;\">•</span><span style=\"color:green;\">•</span><span style=\"color:green;\">f</span><span style=\"color:green;\">o</span><span style=\"color:green;\">r</span><span style=\"color:green;\">•</span><span style=\"color:green;\">(</span><span style=\"color:green;\">i</span><span style=\"color:green;\">n</span><span style=\"color:green;\">t</span><span style=\"color:green;\">•</span><span style=\"color:green;\">i</span><span style=\"color:green;\">•</span><span style=\"color:green;\">=</span><span style=\"color:green;\">•</span><span style=\"color:green;\">9</span><span style=\"color:green;\">;</span><span style=\"color:green;\">•</span><span style=\"color:green;\">i</span><span style=\"color:green;\">•</span><span style=\"color:green;\">></span><span style=\"color:green;\">•</span><span style=\"color:green;\">6</span><span style=\"color:green;\">;</span><span style=\"color:green;\">•</span><span style=\"color:green;\">i</span><span style=\"color:green;\">-</span><span style=\"color:green;\">-</span><span style=\"color:green;\">)</span><span style=\"color:green;\">↵\n",
       "</span><span style=\"color:lightgrey;\">•</span><span style=\"color:lightgrey;\">•</span><span style=\"color:lightgrey;\">•</span><span style=\"color:lightgrey;\">•</span><span style=\"color:black;\">c</span><span style=\"color:black;\">o</span><span style=\"color:black;\">u</span><span style=\"color:black;\">t</span><span style=\"color:lightgrey;\">•</span><span style=\"color:black;\"><</span><span style=\"color:black;\"><</span><span style=\"color:lightgrey;\">•</span><span style=\"color:black;\">a</span><span style=\"color:black;\">r</span><span style=\"color:black;\">r</span><span style=\"color:black;\">a</span><span style=\"color:black;\">y</span><span style=\"color:black;\">[</span><span style=\"color:black;\">i</span><span style=\"color:black;\">]</span><span style=\"color:lightgrey;\">•</span><span style=\"color:black;\"><</span><span style=\"color:black;\"><</span><span style=\"color:lightgrey;\">•</span><span style=\"color:black;\">e</span><span style=\"color:black;\">n</span><span style=\"color:black;\">d</span><span style=\"color:black;\">l</span><span style=\"color:black;\">;</span><span style=\"color:lightgrey;\">↵\n",
       "</span><span style=\"color:lightgrey;\">•</span><span style=\"color:lightgrey;\">•</span><span style=\"color:black;\">r</span><span style=\"color:black;\">e</span><span style=\"color:black;\">t</span><span style=\"color:black;\">u</span><span style=\"color:black;\">r</span><span style=\"color:black;\">n</span><span style=\"color:lightgrey;\">•</span><span style=\"color:black;\">0</span><span style=\"color:black;\">;</span><span style=\"color:lightgrey;\">↵\n",
       "</span><span style=\"color:black;\">}</span></pre>"
      ],
      "text/plain": [
       "<IPython.core.display.HTML object>"
      ]
     },
     "metadata": {},
     "output_type": "display_data"
    },
    {
     "data": {
      "text/html": [
       "<h6>Codex Prediction</h6>"
      ],
      "text/plain": [
       "<IPython.core.display.HTML object>"
      ]
     },
     "metadata": {},
     "output_type": "display_data"
    },
    {
     "data": {
      "text/html": [
       "<pre><span style=\"color:red;\">f</span><span style=\"color:red;\">o</span><span style=\"color:red;\">r</span><span style=\"color:red;\">•</span><span style=\"color:red;\">(</span><span style=\"color:red;\">i</span><span style=\"color:red;\">n</span><span style=\"color:red;\">t</span><span style=\"color:red;\">•</span><span style=\"color:red;\">i</span><span style=\"color:red;\">•</span><span style=\"color:red;\">=</span><span style=\"color:red;\">•</span><span style=\"color:red;\">9</span><span style=\"color:red;\">;</span><span style=\"color:red;\">•</span><span style=\"color:red;\">i</span><span style=\"color:red;\">•</span><span style=\"color:red;\">></span><span style=\"color:red;\">•</span><span style=\"color:red;\">6</span><span style=\"color:red;\">;</span><span style=\"color:red;\">•</span><span style=\"color:red;\">i</span><span style=\"color:red;\">-</span><span style=\"color:red;\">-</span><span style=\"color:red;\">)</span></pre>"
      ],
      "text/plain": [
       "<IPython.core.display.HTML object>"
      ]
     },
     "metadata": {},
     "output_type": "display_data"
    },
    {
     "data": {
      "text/html": [
       "<h2>Example 8</h2>"
      ],
      "text/plain": [
       "<IPython.core.display.HTML object>"
      ]
     },
     "metadata": {},
     "output_type": "display_data"
    },
    {
     "data": {
      "text/html": [
       "<h6>Original Source Code</h6>"
      ],
      "text/plain": [
       "<IPython.core.display.HTML object>"
      ]
     },
     "metadata": {},
     "output_type": "display_data"
    },
    {
     "data": {
      "text/html": [
       "<pre><span style=\"color:black;\">#</span><span style=\"color:black;\">i</span><span style=\"color:black;\">n</span><span style=\"color:black;\">c</span><span style=\"color:black;\">l</span><span style=\"color:black;\">u</span><span style=\"color:black;\">d</span><span style=\"color:black;\">e</span><span style=\"color:lightgrey;\">•</span><span style=\"color:black;\"><</span><span style=\"color:black;\">i</span><span style=\"color:black;\">o</span><span style=\"color:black;\">s</span><span style=\"color:black;\">t</span><span style=\"color:black;\">r</span><span style=\"color:black;\">e</span><span style=\"color:black;\">a</span><span style=\"color:black;\">m</span><span style=\"color:black;\">></span><span style=\"color:lightgrey;\">↵\n",
       "</span><span style=\"color:black;\">u</span><span style=\"color:black;\">s</span><span style=\"color:black;\">i</span><span style=\"color:black;\">n</span><span style=\"color:black;\">g</span><span style=\"color:lightgrey;\">•</span><span style=\"color:black;\">n</span><span style=\"color:black;\">a</span><span style=\"color:black;\">m</span><span style=\"color:black;\">e</span><span style=\"color:black;\">s</span><span style=\"color:black;\">p</span><span style=\"color:black;\">a</span><span style=\"color:black;\">c</span><span style=\"color:black;\">e</span><span style=\"color:lightgrey;\">•</span><span style=\"color:black;\">s</span><span style=\"color:black;\">t</span><span style=\"color:black;\">d</span><span style=\"color:black;\">;</span><span style=\"color:lightgrey;\">↵\n",
       "</span><span style=\"color:lightgrey;\">↵\n",
       "</span><span style=\"color:black;\">i</span><span style=\"color:black;\">n</span><span style=\"color:black;\">t</span><span style=\"color:lightgrey;\">•</span><span style=\"color:black;\">m</span><span style=\"color:black;\">a</span><span style=\"color:black;\">i</span><span style=\"color:black;\">n</span><span style=\"color:black;\">(</span><span style=\"color:black;\">)</span><span style=\"color:lightgrey;\">•</span><span style=\"color:black;\">{</span><span style=\"color:lightgrey;\">↵\n",
       "</span><span style=\"color:lightgrey;\">•</span><span style=\"color:lightgrey;\">•</span><span style=\"color:black;\">b</span><span style=\"color:black;\">o</span><span style=\"color:black;\">o</span><span style=\"color:black;\">l</span><span style=\"color:lightgrey;\">•</span><span style=\"color:black;\">f</span><span style=\"color:black;\">l</span><span style=\"color:black;\">a</span><span style=\"color:black;\">g</span><span style=\"color:black;\">;</span><span style=\"color:lightgrey;\">↵\n",
       "</span><span style=\"color:lightgrey;\">•</span><span style=\"color:lightgrey;\">•</span><span style=\"color:black;\">i</span><span style=\"color:black;\">n</span><span style=\"color:black;\">t</span><span style=\"color:lightgrey;\">•</span><span style=\"color:black;\">r</span><span style=\"color:black;\">e</span><span style=\"color:black;\">s</span><span style=\"color:black;\">u</span><span style=\"color:black;\">l</span><span style=\"color:black;\">t</span><span style=\"color:black;\">[</span><span style=\"color:black;\">3</span><span style=\"color:black;\">]</span><span style=\"color:black;\">,</span><span style=\"color:lightgrey;\">•</span><span style=\"color:black;\">b</span><span style=\"color:black;\">u</span><span style=\"color:black;\">f</span><span style=\"color:black;\">,</span><span style=\"color:lightgrey;\">•</span><span style=\"color:black;\">t</span><span style=\"color:black;\">e</span><span style=\"color:black;\">m</span><span style=\"color:black;\">p</span><span style=\"color:black;\">[</span><span style=\"color:black;\">1</span><span style=\"color:black;\">0</span><span style=\"color:black;\">]</span><span style=\"color:black;\">;</span><span style=\"color:lightgrey;\">↵\n",
       "</span><span style=\"color:lightgrey;\">•</span><span style=\"color:lightgrey;\">•</span><span style=\"color:black;\">f</span><span style=\"color:black;\">o</span><span style=\"color:black;\">r</span><span style=\"color:lightgrey;\">•</span><span style=\"color:black;\">(</span><span style=\"color:black;\">i</span><span style=\"color:black;\">n</span><span style=\"color:black;\">t</span><span style=\"color:lightgrey;\">•</span><span style=\"color:black;\">i</span><span style=\"color:lightgrey;\">•</span><span style=\"color:black;\">=</span><span style=\"color:lightgrey;\">•</span><span style=\"color:black;\">0</span><span style=\"color:black;\">;</span><span style=\"color:lightgrey;\">•</span><span style=\"color:black;\">i</span><span style=\"color:lightgrey;\">•</span><span style=\"color:black;\"><</span><span style=\"color:lightgrey;\">•</span><span style=\"color:black;\">1</span><span style=\"color:black;\">0</span><span style=\"color:black;\">;</span><span style=\"color:lightgrey;\">•</span><span style=\"color:black;\">i</span><span style=\"color:black;\">+</span><span style=\"color:black;\">+</span><span style=\"color:black;\">)</span><span style=\"color:lightgrey;\">•</span><span style=\"color:black;\">{</span><span style=\"color:lightgrey;\">↵\n",
       "</span><span style=\"color:lightgrey;\">•</span><span style=\"color:lightgrey;\">•</span><span style=\"color:lightgrey;\">•</span><span style=\"color:lightgrey;\">•</span><span style=\"color:black;\">c</span><span style=\"color:black;\">i</span><span style=\"color:black;\">n</span><span style=\"color:lightgrey;\">•</span><span style=\"color:black;\">></span><span style=\"color:black;\">></span><span style=\"color:lightgrey;\">•</span><span style=\"color:black;\">t</span><span style=\"color:black;\">e</span><span style=\"color:black;\">m</span><span style=\"color:black;\">p</span><span style=\"color:black;\">[</span><span style=\"color:black;\">i</span><span style=\"color:black;\">]</span><span style=\"color:black;\">;</span><span style=\"color:lightgrey;\">↵\n",
       "</span><span style=\"color:lightgrey;\">•</span><span style=\"color:lightgrey;\">•</span><span style=\"color:black;\">}</span><span style=\"color:lightgrey;\">↵\n",
       "</span><span style=\"color:lightgrey;\">•</span><span style=\"color:lightgrey;\">•</span><span style=\"color:black;\">f</span><span style=\"color:black;\">o</span><span style=\"color:black;\">r</span><span style=\"color:lightgrey;\">•</span><span style=\"color:black;\">(</span><span style=\"color:black;\">i</span><span style=\"color:black;\">n</span><span style=\"color:black;\">t</span><span style=\"color:lightgrey;\">•</span><span style=\"color:black;\">l</span><span style=\"color:lightgrey;\">•</span><span style=\"color:black;\">=</span><span style=\"color:lightgrey;\">•</span><span style=\"color:black;\">0</span><span style=\"color:black;\">;</span><span style=\"color:lightgrey;\">•</span><span style=\"color:black;\">l</span><span style=\"color:lightgrey;\">•</span><span style=\"color:black;\"><</span><span style=\"color:lightgrey;\">•</span><span style=\"color:black;\">3</span><span style=\"color:black;\">;</span><span style=\"color:lightgrey;\">•</span><span style=\"color:black;\">l</span><span style=\"color:black;\">+</span><span style=\"color:black;\">+</span><span style=\"color:black;\">)</span><span style=\"color:lightgrey;\">•</span><span style=\"color:black;\">{</span><span style=\"color:lightgrey;\">↵\n",
       "</span><span style=\"color:lightgrey;\">•</span><span style=\"color:lightgrey;\">•</span><span style=\"color:lightgrey;\">•</span><span style=\"color:lightgrey;\">•</span><span style=\"color:black;\">w</span><span style=\"color:black;\">h</span><span style=\"color:black;\">i</span><span style=\"color:black;\">l</span><span style=\"color:black;\">e</span><span style=\"color:lightgrey;\">•</span><span style=\"color:black;\">(</span><span style=\"color:black;\">1</span><span style=\"color:black;\">)</span><span style=\"color:lightgrey;\">•</span><span style=\"color:black;\">{</span><span style=\"color:lightgrey;\">↵\n",
       "</span><span style=\"color:lightgrey;\">•</span><span style=\"color:lightgrey;\">•</span><span style=\"color:lightgrey;\">•</span><span style=\"color:lightgrey;\">•</span><span style=\"color:lightgrey;\">•</span><span style=\"color:lightgrey;\">•</span><span style=\"color:black;\">f</span><span style=\"color:black;\">o</span><span style=\"color:black;\">r</span><span style=\"color:lightgrey;\">•</span><span style=\"color:black;\">(</span><span style=\"color:black;\">i</span><span style=\"color:black;\">n</span><span style=\"color:black;\">t</span><span style=\"color:lightgrey;\">•</span><span style=\"color:black;\">j</span><span style=\"color:lightgrey;\">•</span><span style=\"color:black;\">=</span><span style=\"color:lightgrey;\">•</span><span style=\"color:black;\">l</span><span style=\"color:black;\">;</span><span style=\"color:lightgrey;\">•</span><span style=\"color:black;\">j</span><span style=\"color:lightgrey;\">•</span><span style=\"color:black;\"><</span><span style=\"color:lightgrey;\">•</span><span style=\"color:black;\">9</span><span style=\"color:black;\">;</span><span style=\"color:lightgrey;\">•</span><span style=\"color:black;\">j</span><span style=\"color:black;\">+</span><span style=\"color:black;\">+</span><span style=\"color:black;\">)</span><span style=\"color:lightgrey;\">•</span><span style=\"color:black;\">{</span><span style=\"color:lightgrey;\">↵\n",
       "</span><span style=\"color:lightgrey;\">•</span><span style=\"color:lightgrey;\">•</span><span style=\"color:lightgrey;\">•</span><span style=\"color:lightgrey;\">•</span><span style=\"color:lightgrey;\">•</span><span style=\"color:lightgrey;\">•</span><span style=\"color:lightgrey;\">•</span><span style=\"color:lightgrey;\">•</span><span style=\"color:black;\">i</span><span style=\"color:black;\">f</span><span style=\"color:lightgrey;\">•</span><span style=\"color:black;\">(</span><span style=\"color:black;\">t</span><span style=\"color:black;\">e</span><span style=\"color:black;\">m</span><span style=\"color:black;\">p</span><span style=\"color:black;\">[</span><span style=\"color:black;\">j</span><span style=\"color:black;\">]</span><span style=\"color:lightgrey;\">•</span><span style=\"color:black;\"><</span><span style=\"color:lightgrey;\">•</span><span style=\"color:black;\">t</span><span style=\"color:black;\">e</span><span style=\"color:black;\">m</span><span style=\"color:black;\">p</span><span style=\"color:black;\">[</span><span style=\"color:black;\">j</span><span style=\"color:lightgrey;\">•</span><span style=\"color:black;\">+</span><span style=\"color:lightgrey;\">•</span><span style=\"color:black;\">1</span><span style=\"color:black;\">]</span><span style=\"color:black;\">)</span><span style=\"color:lightgrey;\">•</span><span style=\"color:black;\">{</span><span style=\"color:lightgrey;\">↵\n",
       "</span><span style=\"color:lightgrey;\">•</span><span style=\"color:lightgrey;\">•</span><span style=\"color:lightgrey;\">•</span><span style=\"color:lightgrey;\">•</span><span style=\"color:lightgrey;\">•</span><span style=\"color:lightgrey;\">•</span><span style=\"color:lightgrey;\">•</span><span style=\"color:lightgrey;\">•</span><span style=\"color:lightgrey;\">•</span><span style=\"color:lightgrey;\">•</span><span style=\"color:black;\">b</span><span style=\"color:black;\">u</span><span style=\"color:black;\">f</span><span style=\"color:lightgrey;\">•</span><span style=\"color:black;\">=</span><span style=\"color:lightgrey;\">•</span><span style=\"color:black;\">t</span><span style=\"color:black;\">e</span><span style=\"color:black;\">m</span><span style=\"color:black;\">p</span><span style=\"color:black;\">[</span><span style=\"color:black;\">j</span><span style=\"color:lightgrey;\">•</span><span style=\"color:black;\">+</span><span style=\"color:lightgrey;\">•</span><span style=\"color:black;\">1</span><span style=\"color:black;\">]</span><span style=\"color:black;\">;</span><span style=\"color:lightgrey;\">↵\n",
       "</span><span style=\"color:lightgrey;\">•</span><span style=\"color:lightgrey;\">•</span><span style=\"color:lightgrey;\">•</span><span style=\"color:lightgrey;\">•</span><span style=\"color:lightgrey;\">•</span><span style=\"color:lightgrey;\">•</span><span style=\"color:lightgrey;\">•</span><span style=\"color:lightgrey;\">•</span><span style=\"color:lightgrey;\">•</span><span style=\"color:lightgrey;\">•</span><span style=\"color:black;\">t</span><span style=\"color:black;\">e</span><span style=\"color:black;\">m</span><span style=\"color:black;\">p</span><span style=\"color:black;\">[</span><span style=\"color:black;\">j</span><span style=\"color:lightgrey;\">•</span><span style=\"color:black;\">+</span><span style=\"color:lightgrey;\">•</span><span style=\"color:black;\">1</span><span style=\"color:black;\">]</span><span style=\"color:lightgrey;\">•</span><span style=\"color:black;\">=</span><span style=\"color:lightgrey;\">•</span><span style=\"color:black;\">t</span><span style=\"color:black;\">e</span><span style=\"color:black;\">m</span><span style=\"color:black;\">p</span><span style=\"color:black;\">[</span><span style=\"color:black;\">j</span><span style=\"color:black;\">]</span><span style=\"color:black;\">;</span><span style=\"color:lightgrey;\">↵\n",
       "</span><span style=\"color:lightgrey;\">•</span><span style=\"color:lightgrey;\">•</span><span style=\"color:lightgrey;\">•</span><span style=\"color:lightgrey;\">•</span><span style=\"color:lightgrey;\">•</span><span style=\"color:lightgrey;\">•</span><span style=\"color:lightgrey;\">•</span><span style=\"color:lightgrey;\">•</span><span style=\"color:lightgrey;\">•</span><span style=\"color:lightgrey;\">•</span><span style=\"color:black;\">t</span><span style=\"color:black;\">e</span><span style=\"color:black;\">m</span><span style=\"color:black;\">p</span><span style=\"color:black;\">[</span><span style=\"color:black;\">j</span><span style=\"color:black;\">]</span><span style=\"color:lightgrey;\">•</span><span style=\"color:black;\">=</span><span style=\"color:lightgrey;\">•</span><span style=\"color:black;\">b</span><span style=\"color:black;\">u</span><span style=\"color:black;\">f</span><span style=\"color:black;\">;</span><span style=\"color:lightgrey;\">↵\n",
       "</span><span style=\"color:lightgrey;\">•</span><span style=\"color:lightgrey;\">•</span><span style=\"color:lightgrey;\">•</span><span style=\"color:lightgrey;\">•</span><span style=\"color:lightgrey;\">•</span><span style=\"color:lightgrey;\">•</span><span style=\"color:lightgrey;\">•</span><span style=\"color:lightgrey;\">•</span><span style=\"color:black;\">}</span><span style=\"color:lightgrey;\">↵\n",
       "</span><span style=\"color:lightgrey;\">•</span><span style=\"color:lightgrey;\">•</span><span style=\"color:lightgrey;\">•</span><span style=\"color:lightgrey;\">•</span><span style=\"color:lightgrey;\">•</span><span style=\"color:lightgrey;\">•</span><span style=\"color:black;\">}</span><span style=\"color:lightgrey;\">↵\n",
       "</span><span style=\"color:lightgrey;\">•</span><span style=\"color:lightgrey;\">•</span><span style=\"color:lightgrey;\">•</span><span style=\"color:lightgrey;\">•</span><span style=\"color:lightgrey;\">•</span><span style=\"color:lightgrey;\">•</span><span style=\"color:black;\">f</span><span style=\"color:black;\">l</span><span style=\"color:black;\">a</span><span style=\"color:black;\">g</span><span style=\"color:lightgrey;\">•</span><span style=\"color:black;\">=</span><span style=\"color:lightgrey;\">•</span><span style=\"color:black;\">f</span><span style=\"color:black;\">a</span><span style=\"color:black;\">l</span><span style=\"color:black;\">s</span><span style=\"color:black;\">e</span><span style=\"color:black;\">;</span><span style=\"color:lightgrey;\">↵\n",
       "</span><span style=\"color:red;\">•</span><span style=\"color:red;\">•</span><span style=\"color:red;\">•</span><span style=\"color:red;\">•</span><span style=\"color:red;\">•</span><span style=\"color:red;\">•</span><span style=\"color:red;\">f</span><span style=\"color:red;\">o</span><span style=\"color:red;\">r</span><span style=\"color:red;\">•</span><span style=\"color:red;\">(</span><span style=\"color:red;\">i</span><span style=\"color:red;\">n</span><span style=\"color:red;\">t</span><span style=\"color:red;\">•</span><span style=\"color:red;\">k</span><span style=\"color:red;\">•</span><span style=\"color:red;\">=</span><span style=\"color:red;\">•</span><span style=\"color:red;\">0</span><span style=\"color:red;\">;</span><span style=\"color:red;\">•</span><span style=\"color:red;\">k</span><span style=\"color:red;\">•</span><span style=\"color:red;\"><</span><span style=\"color:red;\">•</span><span style=\"color:red;\">9</span><span style=\"color:red;\">;</span><span style=\"color:red;\">•</span><span style=\"color:red;\">k</span><span style=\"color:red;\">+</span><span style=\"color:red;\">+</span><span style=\"color:red;\">)</span><span style=\"color:red;\">•</span><span style=\"color:red;\">{</span><span style=\"color:red;\">↵\n",
       "</span><span style=\"color:lightgrey;\">•</span><span style=\"color:lightgrey;\">•</span><span style=\"color:lightgrey;\">•</span><span style=\"color:lightgrey;\">•</span><span style=\"color:lightgrey;\">•</span><span style=\"color:lightgrey;\">•</span><span style=\"color:lightgrey;\">•</span><span style=\"color:lightgrey;\">•</span><span style=\"color:black;\">i</span><span style=\"color:black;\">f</span><span style=\"color:lightgrey;\">•</span><span style=\"color:black;\">(</span><span style=\"color:black;\">t</span><span style=\"color:black;\">e</span><span style=\"color:black;\">m</span><span style=\"color:black;\">p</span><span style=\"color:black;\">[</span><span style=\"color:black;\">l</span><span style=\"color:black;\">]</span><span style=\"color:lightgrey;\">•</span><span style=\"color:black;\"><</span><span style=\"color:lightgrey;\">•</span><span style=\"color:black;\">t</span><span style=\"color:black;\">e</span><span style=\"color:black;\">m</span><span style=\"color:black;\">p</span><span style=\"color:black;\">[</span><span style=\"color:black;\">k</span><span style=\"color:black;\">]</span><span style=\"color:black;\">)</span><span style=\"color:lightgrey;\">↵\n",
       "</span><span style=\"color:lightgrey;\">•</span><span style=\"color:lightgrey;\">•</span><span style=\"color:lightgrey;\">•</span><span style=\"color:lightgrey;\">•</span><span style=\"color:lightgrey;\">•</span><span style=\"color:lightgrey;\">•</span><span style=\"color:lightgrey;\">•</span><span style=\"color:lightgrey;\">•</span><span style=\"color:lightgrey;\">•</span><span style=\"color:lightgrey;\">•</span><span style=\"color:black;\">f</span><span style=\"color:black;\">l</span><span style=\"color:black;\">a</span><span style=\"color:black;\">g</span><span style=\"color:lightgrey;\">•</span><span style=\"color:black;\">=</span><span style=\"color:lightgrey;\">•</span><span style=\"color:black;\">t</span><span style=\"color:black;\">r</span><span style=\"color:black;\">u</span><span style=\"color:black;\">e</span><span style=\"color:black;\">;</span><span style=\"color:lightgrey;\">↵\n",
       "</span><span style=\"color:lightgrey;\">•</span><span style=\"color:lightgrey;\">•</span><span style=\"color:lightgrey;\">•</span><span style=\"color:lightgrey;\">•</span><span style=\"color:lightgrey;\">•</span><span style=\"color:lightgrey;\">•</span><span style=\"color:black;\">}</span><span style=\"color:lightgrey;\">↵\n",
       "</span><span style=\"color:lightgrey;\">•</span><span style=\"color:lightgrey;\">•</span><span style=\"color:lightgrey;\">•</span><span style=\"color:lightgrey;\">•</span><span style=\"color:lightgrey;\">•</span><span style=\"color:lightgrey;\">•</span><span style=\"color:black;\">i</span><span style=\"color:black;\">f</span><span style=\"color:lightgrey;\">•</span><span style=\"color:black;\">(</span><span style=\"color:black;\">f</span><span style=\"color:black;\">l</span><span style=\"color:black;\">a</span><span style=\"color:black;\">g</span><span style=\"color:lightgrey;\">•</span><span style=\"color:black;\">!</span><span style=\"color:black;\">=</span><span style=\"color:lightgrey;\">•</span><span style=\"color:black;\">t</span><span style=\"color:black;\">r</span><span style=\"color:black;\">u</span><span style=\"color:black;\">e</span><span style=\"color:black;\">)</span><span style=\"color:lightgrey;\">•</span><span style=\"color:black;\">{</span><span style=\"color:lightgrey;\">↵\n",
       "</span><span style=\"color:lightgrey;\">•</span><span style=\"color:lightgrey;\">•</span><span style=\"color:lightgrey;\">•</span><span style=\"color:lightgrey;\">•</span><span style=\"color:lightgrey;\">•</span><span style=\"color:lightgrey;\">•</span><span style=\"color:lightgrey;\">•</span><span style=\"color:lightgrey;\">•</span><span style=\"color:black;\">r</span><span style=\"color:black;\">e</span><span style=\"color:black;\">s</span><span style=\"color:black;\">u</span><span style=\"color:black;\">l</span><span style=\"color:black;\">t</span><span style=\"color:black;\">[</span><span style=\"color:black;\">l</span><span style=\"color:black;\">]</span><span style=\"color:lightgrey;\">•</span><span style=\"color:black;\">=</span><span style=\"color:lightgrey;\">•</span><span style=\"color:black;\">t</span><span style=\"color:black;\">e</span><span style=\"color:black;\">m</span><span style=\"color:black;\">p</span><span style=\"color:black;\">[</span><span style=\"color:black;\">l</span><span style=\"color:black;\">]</span><span style=\"color:black;\">;</span><span style=\"color:lightgrey;\">↵\n",
       "</span><span style=\"color:lightgrey;\">•</span><span style=\"color:lightgrey;\">•</span><span style=\"color:lightgrey;\">•</span><span style=\"color:lightgrey;\">•</span><span style=\"color:lightgrey;\">•</span><span style=\"color:lightgrey;\">•</span><span style=\"color:lightgrey;\">•</span><span style=\"color:lightgrey;\">•</span><span style=\"color:black;\">b</span><span style=\"color:black;\">r</span><span style=\"color:black;\">e</span><span style=\"color:black;\">a</span><span style=\"color:black;\">k</span><span style=\"color:black;\">;</span><span style=\"color:lightgrey;\">↵\n",
       "</span><span style=\"color:lightgrey;\">•</span><span style=\"color:lightgrey;\">•</span><span style=\"color:lightgrey;\">•</span><span style=\"color:lightgrey;\">•</span><span style=\"color:lightgrey;\">•</span><span style=\"color:lightgrey;\">•</span><span style=\"color:black;\">}</span><span style=\"color:lightgrey;\">↵\n",
       "</span><span style=\"color:lightgrey;\">•</span><span style=\"color:lightgrey;\">•</span><span style=\"color:lightgrey;\">•</span><span style=\"color:lightgrey;\">•</span><span style=\"color:black;\">}</span><span style=\"color:lightgrey;\">↵\n",
       "</span><span style=\"color:lightgrey;\">•</span><span style=\"color:lightgrey;\">•</span><span style=\"color:black;\">}</span><span style=\"color:lightgrey;\">↵\n",
       "</span><span style=\"color:lightgrey;\">•</span><span style=\"color:lightgrey;\">•</span><span style=\"color:black;\">c</span><span style=\"color:black;\">o</span><span style=\"color:black;\">u</span><span style=\"color:black;\">t</span><span style=\"color:lightgrey;\">•</span><span style=\"color:black;\"><</span><span style=\"color:black;\"><</span><span style=\"color:lightgrey;\">•</span><span style=\"color:black;\">r</span><span style=\"color:black;\">e</span><span style=\"color:black;\">s</span><span style=\"color:black;\">u</span><span style=\"color:black;\">l</span><span style=\"color:black;\">t</span><span style=\"color:black;\">[</span><span style=\"color:black;\">0</span><span style=\"color:black;\">]</span><span style=\"color:lightgrey;\">•</span><span style=\"color:black;\"><</span><span style=\"color:black;\"><</span><span style=\"color:lightgrey;\">•</span><span style=\"color:black;\">e</span><span style=\"color:black;\">n</span><span style=\"color:black;\">d</span><span style=\"color:black;\">l</span><span style=\"color:black;\">;</span><span style=\"color:lightgrey;\">↵\n",
       "</span><span style=\"color:lightgrey;\">•</span><span style=\"color:lightgrey;\">•</span><span style=\"color:black;\">c</span><span style=\"color:black;\">o</span><span style=\"color:black;\">u</span><span style=\"color:black;\">t</span><span style=\"color:lightgrey;\">•</span><span style=\"color:black;\"><</span><span style=\"color:black;\"><</span><span style=\"color:lightgrey;\">•</span><span style=\"color:black;\">r</span><span style=\"color:black;\">e</span><span style=\"color:black;\">s</span><span style=\"color:black;\">u</span><span style=\"color:black;\">l</span><span style=\"color:black;\">t</span><span style=\"color:black;\">[</span><span style=\"color:black;\">1</span><span style=\"color:black;\">]</span><span style=\"color:lightgrey;\">•</span><span style=\"color:black;\"><</span><span style=\"color:black;\"><</span><span style=\"color:lightgrey;\">•</span><span style=\"color:black;\">e</span><span style=\"color:black;\">n</span><span style=\"color:black;\">d</span><span style=\"color:black;\">l</span><span style=\"color:black;\">;</span><span style=\"color:lightgrey;\">↵\n",
       "</span><span style=\"color:lightgrey;\">•</span><span style=\"color:lightgrey;\">•</span><span style=\"color:black;\">c</span><span style=\"color:black;\">o</span><span style=\"color:black;\">u</span><span style=\"color:black;\">t</span><span style=\"color:lightgrey;\">•</span><span style=\"color:black;\"><</span><span style=\"color:black;\"><</span><span style=\"color:lightgrey;\">•</span><span style=\"color:black;\">r</span><span style=\"color:black;\">e</span><span style=\"color:black;\">s</span><span style=\"color:black;\">u</span><span style=\"color:black;\">l</span><span style=\"color:black;\">t</span><span style=\"color:black;\">[</span><span style=\"color:black;\">2</span><span style=\"color:black;\">]</span><span style=\"color:lightgrey;\">•</span><span style=\"color:black;\"><</span><span style=\"color:black;\"><</span><span style=\"color:lightgrey;\">•</span><span style=\"color:black;\">e</span><span style=\"color:black;\">n</span><span style=\"color:black;\">d</span><span style=\"color:black;\">l</span><span style=\"color:black;\">;</span><span style=\"color:lightgrey;\">↵\n",
       "</span><span style=\"color:lightgrey;\">•</span><span style=\"color:lightgrey;\">•</span><span style=\"color:black;\">r</span><span style=\"color:black;\">e</span><span style=\"color:black;\">t</span><span style=\"color:black;\">u</span><span style=\"color:black;\">r</span><span style=\"color:black;\">n</span><span style=\"color:lightgrey;\">•</span><span style=\"color:black;\">0</span><span style=\"color:black;\">;</span><span style=\"color:lightgrey;\">↵\n",
       "</span><span style=\"color:black;\">}</span></pre>"
      ],
      "text/plain": [
       "<IPython.core.display.HTML object>"
      ]
     },
     "metadata": {},
     "output_type": "display_data"
    },
    {
     "data": {
      "text/html": [
       "<h6>Changed Source Code</h6>"
      ],
      "text/plain": [
       "<IPython.core.display.HTML object>"
      ]
     },
     "metadata": {},
     "output_type": "display_data"
    },
    {
     "data": {
      "text/html": [
       "<pre><span style=\"color:black;\">#</span><span style=\"color:black;\">i</span><span style=\"color:black;\">n</span><span style=\"color:black;\">c</span><span style=\"color:black;\">l</span><span style=\"color:black;\">u</span><span style=\"color:black;\">d</span><span style=\"color:black;\">e</span><span style=\"color:lightgrey;\">•</span><span style=\"color:black;\"><</span><span style=\"color:black;\">i</span><span style=\"color:black;\">o</span><span style=\"color:black;\">s</span><span style=\"color:black;\">t</span><span style=\"color:black;\">r</span><span style=\"color:black;\">e</span><span style=\"color:black;\">a</span><span style=\"color:black;\">m</span><span style=\"color:black;\">></span><span style=\"color:lightgrey;\">↵\n",
       "</span><span style=\"color:black;\">u</span><span style=\"color:black;\">s</span><span style=\"color:black;\">i</span><span style=\"color:black;\">n</span><span style=\"color:black;\">g</span><span style=\"color:lightgrey;\">•</span><span style=\"color:black;\">n</span><span style=\"color:black;\">a</span><span style=\"color:black;\">m</span><span style=\"color:black;\">e</span><span style=\"color:black;\">s</span><span style=\"color:black;\">p</span><span style=\"color:black;\">a</span><span style=\"color:black;\">c</span><span style=\"color:black;\">e</span><span style=\"color:lightgrey;\">•</span><span style=\"color:black;\">s</span><span style=\"color:black;\">t</span><span style=\"color:black;\">d</span><span style=\"color:black;\">;</span><span style=\"color:lightgrey;\">↵\n",
       "</span><span style=\"color:lightgrey;\">↵\n",
       "</span><span style=\"color:black;\">i</span><span style=\"color:black;\">n</span><span style=\"color:black;\">t</span><span style=\"color:lightgrey;\">•</span><span style=\"color:black;\">m</span><span style=\"color:black;\">a</span><span style=\"color:black;\">i</span><span style=\"color:black;\">n</span><span style=\"color:black;\">(</span><span style=\"color:black;\">)</span><span style=\"color:lightgrey;\">•</span><span style=\"color:black;\">{</span><span style=\"color:lightgrey;\">↵\n",
       "</span><span style=\"color:lightgrey;\">•</span><span style=\"color:lightgrey;\">•</span><span style=\"color:black;\">b</span><span style=\"color:black;\">o</span><span style=\"color:black;\">o</span><span style=\"color:black;\">l</span><span style=\"color:lightgrey;\">•</span><span style=\"color:black;\">f</span><span style=\"color:black;\">l</span><span style=\"color:black;\">a</span><span style=\"color:black;\">g</span><span style=\"color:black;\">;</span><span style=\"color:lightgrey;\">↵\n",
       "</span><span style=\"color:lightgrey;\">•</span><span style=\"color:lightgrey;\">•</span><span style=\"color:black;\">i</span><span style=\"color:black;\">n</span><span style=\"color:black;\">t</span><span style=\"color:lightgrey;\">•</span><span style=\"color:black;\">r</span><span style=\"color:black;\">e</span><span style=\"color:black;\">s</span><span style=\"color:black;\">u</span><span style=\"color:black;\">l</span><span style=\"color:black;\">t</span><span style=\"color:black;\">[</span><span style=\"color:black;\">3</span><span style=\"color:black;\">]</span><span style=\"color:black;\">,</span><span style=\"color:lightgrey;\">•</span><span style=\"color:black;\">b</span><span style=\"color:black;\">u</span><span style=\"color:black;\">f</span><span style=\"color:black;\">,</span><span style=\"color:lightgrey;\">•</span><span style=\"color:black;\">t</span><span style=\"color:black;\">e</span><span style=\"color:black;\">m</span><span style=\"color:black;\">p</span><span style=\"color:black;\">[</span><span style=\"color:black;\">1</span><span style=\"color:black;\">0</span><span style=\"color:black;\">]</span><span style=\"color:black;\">;</span><span style=\"color:lightgrey;\">↵\n",
       "</span><span style=\"color:lightgrey;\">•</span><span style=\"color:lightgrey;\">•</span><span style=\"color:black;\">f</span><span style=\"color:black;\">o</span><span style=\"color:black;\">r</span><span style=\"color:lightgrey;\">•</span><span style=\"color:black;\">(</span><span style=\"color:black;\">i</span><span style=\"color:black;\">n</span><span style=\"color:black;\">t</span><span style=\"color:lightgrey;\">•</span><span style=\"color:black;\">i</span><span style=\"color:lightgrey;\">•</span><span style=\"color:black;\">=</span><span style=\"color:lightgrey;\">•</span><span style=\"color:black;\">0</span><span style=\"color:black;\">;</span><span style=\"color:lightgrey;\">•</span><span style=\"color:black;\">i</span><span style=\"color:lightgrey;\">•</span><span style=\"color:black;\"><</span><span style=\"color:lightgrey;\">•</span><span style=\"color:black;\">1</span><span style=\"color:black;\">0</span><span style=\"color:black;\">;</span><span style=\"color:lightgrey;\">•</span><span style=\"color:black;\">i</span><span style=\"color:black;\">+</span><span style=\"color:black;\">+</span><span style=\"color:black;\">)</span><span style=\"color:lightgrey;\">•</span><span style=\"color:black;\">{</span><span style=\"color:lightgrey;\">↵\n",
       "</span><span style=\"color:lightgrey;\">•</span><span style=\"color:lightgrey;\">•</span><span style=\"color:lightgrey;\">•</span><span style=\"color:lightgrey;\">•</span><span style=\"color:black;\">c</span><span style=\"color:black;\">i</span><span style=\"color:black;\">n</span><span style=\"color:lightgrey;\">•</span><span style=\"color:black;\">></span><span style=\"color:black;\">></span><span style=\"color:lightgrey;\">•</span><span style=\"color:black;\">t</span><span style=\"color:black;\">e</span><span style=\"color:black;\">m</span><span style=\"color:black;\">p</span><span style=\"color:black;\">[</span><span style=\"color:black;\">i</span><span style=\"color:black;\">]</span><span style=\"color:black;\">;</span><span style=\"color:lightgrey;\">↵\n",
       "</span><span style=\"color:lightgrey;\">•</span><span style=\"color:lightgrey;\">•</span><span style=\"color:black;\">}</span><span style=\"color:lightgrey;\">↵\n",
       "</span><span style=\"color:lightgrey;\">•</span><span style=\"color:lightgrey;\">•</span><span style=\"color:black;\">f</span><span style=\"color:black;\">o</span><span style=\"color:black;\">r</span><span style=\"color:lightgrey;\">•</span><span style=\"color:black;\">(</span><span style=\"color:black;\">i</span><span style=\"color:black;\">n</span><span style=\"color:black;\">t</span><span style=\"color:lightgrey;\">•</span><span style=\"color:black;\">l</span><span style=\"color:lightgrey;\">•</span><span style=\"color:black;\">=</span><span style=\"color:lightgrey;\">•</span><span style=\"color:black;\">0</span><span style=\"color:black;\">;</span><span style=\"color:lightgrey;\">•</span><span style=\"color:black;\">l</span><span style=\"color:lightgrey;\">•</span><span style=\"color:black;\"><</span><span style=\"color:lightgrey;\">•</span><span style=\"color:black;\">3</span><span style=\"color:black;\">;</span><span style=\"color:lightgrey;\">•</span><span style=\"color:black;\">l</span><span style=\"color:black;\">+</span><span style=\"color:black;\">+</span><span style=\"color:black;\">)</span><span style=\"color:lightgrey;\">•</span><span style=\"color:black;\">{</span><span style=\"color:lightgrey;\">↵\n",
       "</span><span style=\"color:lightgrey;\">•</span><span style=\"color:lightgrey;\">•</span><span style=\"color:lightgrey;\">•</span><span style=\"color:lightgrey;\">•</span><span style=\"color:black;\">w</span><span style=\"color:black;\">h</span><span style=\"color:black;\">i</span><span style=\"color:black;\">l</span><span style=\"color:black;\">e</span><span style=\"color:lightgrey;\">•</span><span style=\"color:black;\">(</span><span style=\"color:black;\">1</span><span style=\"color:black;\">)</span><span style=\"color:lightgrey;\">•</span><span style=\"color:black;\">{</span><span style=\"color:lightgrey;\">↵\n",
       "</span><span style=\"color:lightgrey;\">•</span><span style=\"color:lightgrey;\">•</span><span style=\"color:lightgrey;\">•</span><span style=\"color:lightgrey;\">•</span><span style=\"color:lightgrey;\">•</span><span style=\"color:lightgrey;\">•</span><span style=\"color:black;\">f</span><span style=\"color:black;\">o</span><span style=\"color:black;\">r</span><span style=\"color:lightgrey;\">•</span><span style=\"color:black;\">(</span><span style=\"color:black;\">i</span><span style=\"color:black;\">n</span><span style=\"color:black;\">t</span><span style=\"color:lightgrey;\">•</span><span style=\"color:black;\">j</span><span style=\"color:lightgrey;\">•</span><span style=\"color:black;\">=</span><span style=\"color:lightgrey;\">•</span><span style=\"color:black;\">l</span><span style=\"color:black;\">;</span><span style=\"color:lightgrey;\">•</span><span style=\"color:black;\">j</span><span style=\"color:lightgrey;\">•</span><span style=\"color:black;\"><</span><span style=\"color:lightgrey;\">•</span><span style=\"color:black;\">9</span><span style=\"color:black;\">;</span><span style=\"color:lightgrey;\">•</span><span style=\"color:black;\">j</span><span style=\"color:black;\">+</span><span style=\"color:black;\">+</span><span style=\"color:black;\">)</span><span style=\"color:lightgrey;\">•</span><span style=\"color:black;\">{</span><span style=\"color:lightgrey;\">↵\n",
       "</span><span style=\"color:lightgrey;\">•</span><span style=\"color:lightgrey;\">•</span><span style=\"color:lightgrey;\">•</span><span style=\"color:lightgrey;\">•</span><span style=\"color:lightgrey;\">•</span><span style=\"color:lightgrey;\">•</span><span style=\"color:lightgrey;\">•</span><span style=\"color:lightgrey;\">•</span><span style=\"color:black;\">i</span><span style=\"color:black;\">f</span><span style=\"color:lightgrey;\">•</span><span style=\"color:black;\">(</span><span style=\"color:black;\">t</span><span style=\"color:black;\">e</span><span style=\"color:black;\">m</span><span style=\"color:black;\">p</span><span style=\"color:black;\">[</span><span style=\"color:black;\">j</span><span style=\"color:black;\">]</span><span style=\"color:lightgrey;\">•</span><span style=\"color:black;\"><</span><span style=\"color:lightgrey;\">•</span><span style=\"color:black;\">t</span><span style=\"color:black;\">e</span><span style=\"color:black;\">m</span><span style=\"color:black;\">p</span><span style=\"color:black;\">[</span><span style=\"color:black;\">j</span><span style=\"color:lightgrey;\">•</span><span style=\"color:black;\">+</span><span style=\"color:lightgrey;\">•</span><span style=\"color:black;\">1</span><span style=\"color:black;\">]</span><span style=\"color:black;\">)</span><span style=\"color:lightgrey;\">•</span><span style=\"color:black;\">{</span><span style=\"color:lightgrey;\">↵\n",
       "</span><span style=\"color:lightgrey;\">•</span><span style=\"color:lightgrey;\">•</span><span style=\"color:lightgrey;\">•</span><span style=\"color:lightgrey;\">•</span><span style=\"color:lightgrey;\">•</span><span style=\"color:lightgrey;\">•</span><span style=\"color:lightgrey;\">•</span><span style=\"color:lightgrey;\">•</span><span style=\"color:lightgrey;\">•</span><span style=\"color:lightgrey;\">•</span><span style=\"color:black;\">b</span><span style=\"color:black;\">u</span><span style=\"color:black;\">f</span><span style=\"color:lightgrey;\">•</span><span style=\"color:black;\">=</span><span style=\"color:lightgrey;\">•</span><span style=\"color:black;\">t</span><span style=\"color:black;\">e</span><span style=\"color:black;\">m</span><span style=\"color:black;\">p</span><span style=\"color:black;\">[</span><span style=\"color:black;\">j</span><span style=\"color:lightgrey;\">•</span><span style=\"color:black;\">+</span><span style=\"color:lightgrey;\">•</span><span style=\"color:black;\">1</span><span style=\"color:black;\">]</span><span style=\"color:black;\">;</span><span style=\"color:lightgrey;\">↵\n",
       "</span><span style=\"color:lightgrey;\">•</span><span style=\"color:lightgrey;\">•</span><span style=\"color:lightgrey;\">•</span><span style=\"color:lightgrey;\">•</span><span style=\"color:lightgrey;\">•</span><span style=\"color:lightgrey;\">•</span><span style=\"color:lightgrey;\">•</span><span style=\"color:lightgrey;\">•</span><span style=\"color:lightgrey;\">•</span><span style=\"color:lightgrey;\">•</span><span style=\"color:black;\">t</span><span style=\"color:black;\">e</span><span style=\"color:black;\">m</span><span style=\"color:black;\">p</span><span style=\"color:black;\">[</span><span style=\"color:black;\">j</span><span style=\"color:lightgrey;\">•</span><span style=\"color:black;\">+</span><span style=\"color:lightgrey;\">•</span><span style=\"color:black;\">1</span><span style=\"color:black;\">]</span><span style=\"color:lightgrey;\">•</span><span style=\"color:black;\">=</span><span style=\"color:lightgrey;\">•</span><span style=\"color:black;\">t</span><span style=\"color:black;\">e</span><span style=\"color:black;\">m</span><span style=\"color:black;\">p</span><span style=\"color:black;\">[</span><span style=\"color:black;\">j</span><span style=\"color:black;\">]</span><span style=\"color:black;\">;</span><span style=\"color:lightgrey;\">↵\n",
       "</span><span style=\"color:lightgrey;\">•</span><span style=\"color:lightgrey;\">•</span><span style=\"color:lightgrey;\">•</span><span style=\"color:lightgrey;\">•</span><span style=\"color:lightgrey;\">•</span><span style=\"color:lightgrey;\">•</span><span style=\"color:lightgrey;\">•</span><span style=\"color:lightgrey;\">•</span><span style=\"color:lightgrey;\">•</span><span style=\"color:lightgrey;\">•</span><span style=\"color:black;\">t</span><span style=\"color:black;\">e</span><span style=\"color:black;\">m</span><span style=\"color:black;\">p</span><span style=\"color:black;\">[</span><span style=\"color:black;\">j</span><span style=\"color:black;\">]</span><span style=\"color:lightgrey;\">•</span><span style=\"color:black;\">=</span><span style=\"color:lightgrey;\">•</span><span style=\"color:black;\">b</span><span style=\"color:black;\">u</span><span style=\"color:black;\">f</span><span style=\"color:black;\">;</span><span style=\"color:lightgrey;\">↵\n",
       "</span><span style=\"color:lightgrey;\">•</span><span style=\"color:lightgrey;\">•</span><span style=\"color:lightgrey;\">•</span><span style=\"color:lightgrey;\">•</span><span style=\"color:lightgrey;\">•</span><span style=\"color:lightgrey;\">•</span><span style=\"color:lightgrey;\">•</span><span style=\"color:lightgrey;\">•</span><span style=\"color:black;\">}</span><span style=\"color:lightgrey;\">↵\n",
       "</span><span style=\"color:lightgrey;\">•</span><span style=\"color:lightgrey;\">•</span><span style=\"color:lightgrey;\">•</span><span style=\"color:lightgrey;\">•</span><span style=\"color:lightgrey;\">•</span><span style=\"color:lightgrey;\">•</span><span style=\"color:black;\">}</span><span style=\"color:lightgrey;\">↵\n",
       "</span><span style=\"color:lightgrey;\">•</span><span style=\"color:lightgrey;\">•</span><span style=\"color:lightgrey;\">•</span><span style=\"color:lightgrey;\">•</span><span style=\"color:lightgrey;\">•</span><span style=\"color:lightgrey;\">•</span><span style=\"color:black;\">f</span><span style=\"color:black;\">l</span><span style=\"color:black;\">a</span><span style=\"color:black;\">g</span><span style=\"color:lightgrey;\">•</span><span style=\"color:black;\">=</span><span style=\"color:lightgrey;\">•</span><span style=\"color:black;\">f</span><span style=\"color:black;\">a</span><span style=\"color:black;\">l</span><span style=\"color:black;\">s</span><span style=\"color:black;\">e</span><span style=\"color:black;\">;</span><span style=\"color:lightgrey;\">↵\n",
       "</span><span style=\"color:green;\">•</span><span style=\"color:green;\">•</span><span style=\"color:green;\">•</span><span style=\"color:green;\">•</span><span style=\"color:green;\">•</span><span style=\"color:green;\">•</span><span style=\"color:green;\">f</span><span style=\"color:green;\">o</span><span style=\"color:green;\">r</span><span style=\"color:green;\">•</span><span style=\"color:green;\">(</span><span style=\"color:green;\">i</span><span style=\"color:green;\">n</span><span style=\"color:green;\">t</span><span style=\"color:green;\">•</span><span style=\"color:green;\">k</span><span style=\"color:green;\">•</span><span style=\"color:green;\">=</span><span style=\"color:green;\">•</span><span style=\"color:green;\">l</span><span style=\"color:green;\">;</span><span style=\"color:green;\">•</span><span style=\"color:green;\">k</span><span style=\"color:green;\">•</span><span style=\"color:green;\"><</span><span style=\"color:green;\">•</span><span style=\"color:green;\">9</span><span style=\"color:green;\">;</span><span style=\"color:green;\">•</span><span style=\"color:green;\">k</span><span style=\"color:green;\">+</span><span style=\"color:green;\">+</span><span style=\"color:green;\">)</span><span style=\"color:green;\">•</span><span style=\"color:green;\">{</span><span style=\"color:green;\">↵\n",
       "</span><span style=\"color:lightgrey;\">•</span><span style=\"color:lightgrey;\">•</span><span style=\"color:lightgrey;\">•</span><span style=\"color:lightgrey;\">•</span><span style=\"color:lightgrey;\">•</span><span style=\"color:lightgrey;\">•</span><span style=\"color:lightgrey;\">•</span><span style=\"color:lightgrey;\">•</span><span style=\"color:black;\">i</span><span style=\"color:black;\">f</span><span style=\"color:lightgrey;\">•</span><span style=\"color:black;\">(</span><span style=\"color:black;\">t</span><span style=\"color:black;\">e</span><span style=\"color:black;\">m</span><span style=\"color:black;\">p</span><span style=\"color:black;\">[</span><span style=\"color:black;\">l</span><span style=\"color:black;\">]</span><span style=\"color:lightgrey;\">•</span><span style=\"color:black;\"><</span><span style=\"color:lightgrey;\">•</span><span style=\"color:black;\">t</span><span style=\"color:black;\">e</span><span style=\"color:black;\">m</span><span style=\"color:black;\">p</span><span style=\"color:black;\">[</span><span style=\"color:black;\">k</span><span style=\"color:black;\">]</span><span style=\"color:black;\">)</span><span style=\"color:lightgrey;\">↵\n",
       "</span><span style=\"color:lightgrey;\">•</span><span style=\"color:lightgrey;\">•</span><span style=\"color:lightgrey;\">•</span><span style=\"color:lightgrey;\">•</span><span style=\"color:lightgrey;\">•</span><span style=\"color:lightgrey;\">•</span><span style=\"color:lightgrey;\">•</span><span style=\"color:lightgrey;\">•</span><span style=\"color:lightgrey;\">•</span><span style=\"color:lightgrey;\">•</span><span style=\"color:black;\">f</span><span style=\"color:black;\">l</span><span style=\"color:black;\">a</span><span style=\"color:black;\">g</span><span style=\"color:lightgrey;\">•</span><span style=\"color:black;\">=</span><span style=\"color:lightgrey;\">•</span><span style=\"color:black;\">t</span><span style=\"color:black;\">r</span><span style=\"color:black;\">u</span><span style=\"color:black;\">e</span><span style=\"color:black;\">;</span><span style=\"color:lightgrey;\">↵\n",
       "</span><span style=\"color:lightgrey;\">•</span><span style=\"color:lightgrey;\">•</span><span style=\"color:lightgrey;\">•</span><span style=\"color:lightgrey;\">•</span><span style=\"color:lightgrey;\">•</span><span style=\"color:lightgrey;\">•</span><span style=\"color:black;\">}</span><span style=\"color:lightgrey;\">↵\n",
       "</span><span style=\"color:lightgrey;\">•</span><span style=\"color:lightgrey;\">•</span><span style=\"color:lightgrey;\">•</span><span style=\"color:lightgrey;\">•</span><span style=\"color:lightgrey;\">•</span><span style=\"color:lightgrey;\">•</span><span style=\"color:black;\">i</span><span style=\"color:black;\">f</span><span style=\"color:lightgrey;\">•</span><span style=\"color:black;\">(</span><span style=\"color:black;\">f</span><span style=\"color:black;\">l</span><span style=\"color:black;\">a</span><span style=\"color:black;\">g</span><span style=\"color:lightgrey;\">•</span><span style=\"color:black;\">!</span><span style=\"color:black;\">=</span><span style=\"color:lightgrey;\">•</span><span style=\"color:black;\">t</span><span style=\"color:black;\">r</span><span style=\"color:black;\">u</span><span style=\"color:black;\">e</span><span style=\"color:black;\">)</span><span style=\"color:lightgrey;\">•</span><span style=\"color:black;\">{</span><span style=\"color:lightgrey;\">↵\n",
       "</span><span style=\"color:lightgrey;\">•</span><span style=\"color:lightgrey;\">•</span><span style=\"color:lightgrey;\">•</span><span style=\"color:lightgrey;\">•</span><span style=\"color:lightgrey;\">•</span><span style=\"color:lightgrey;\">•</span><span style=\"color:lightgrey;\">•</span><span style=\"color:lightgrey;\">•</span><span style=\"color:black;\">r</span><span style=\"color:black;\">e</span><span style=\"color:black;\">s</span><span style=\"color:black;\">u</span><span style=\"color:black;\">l</span><span style=\"color:black;\">t</span><span style=\"color:black;\">[</span><span style=\"color:black;\">l</span><span style=\"color:black;\">]</span><span style=\"color:lightgrey;\">•</span><span style=\"color:black;\">=</span><span style=\"color:lightgrey;\">•</span><span style=\"color:black;\">t</span><span style=\"color:black;\">e</span><span style=\"color:black;\">m</span><span style=\"color:black;\">p</span><span style=\"color:black;\">[</span><span style=\"color:black;\">l</span><span style=\"color:black;\">]</span><span style=\"color:black;\">;</span><span style=\"color:lightgrey;\">↵\n",
       "</span><span style=\"color:lightgrey;\">•</span><span style=\"color:lightgrey;\">•</span><span style=\"color:lightgrey;\">•</span><span style=\"color:lightgrey;\">•</span><span style=\"color:lightgrey;\">•</span><span style=\"color:lightgrey;\">•</span><span style=\"color:lightgrey;\">•</span><span style=\"color:lightgrey;\">•</span><span style=\"color:black;\">b</span><span style=\"color:black;\">r</span><span style=\"color:black;\">e</span><span style=\"color:black;\">a</span><span style=\"color:black;\">k</span><span style=\"color:black;\">;</span><span style=\"color:lightgrey;\">↵\n",
       "</span><span style=\"color:lightgrey;\">•</span><span style=\"color:lightgrey;\">•</span><span style=\"color:lightgrey;\">•</span><span style=\"color:lightgrey;\">•</span><span style=\"color:lightgrey;\">•</span><span style=\"color:lightgrey;\">•</span><span style=\"color:black;\">}</span><span style=\"color:lightgrey;\">↵\n",
       "</span><span style=\"color:lightgrey;\">•</span><span style=\"color:lightgrey;\">•</span><span style=\"color:lightgrey;\">•</span><span style=\"color:lightgrey;\">•</span><span style=\"color:black;\">}</span><span style=\"color:lightgrey;\">↵\n",
       "</span><span style=\"color:lightgrey;\">•</span><span style=\"color:lightgrey;\">•</span><span style=\"color:black;\">}</span><span style=\"color:lightgrey;\">↵\n",
       "</span><span style=\"color:lightgrey;\">•</span><span style=\"color:lightgrey;\">•</span><span style=\"color:black;\">c</span><span style=\"color:black;\">o</span><span style=\"color:black;\">u</span><span style=\"color:black;\">t</span><span style=\"color:lightgrey;\">•</span><span style=\"color:black;\"><</span><span style=\"color:black;\"><</span><span style=\"color:lightgrey;\">•</span><span style=\"color:black;\">r</span><span style=\"color:black;\">e</span><span style=\"color:black;\">s</span><span style=\"color:black;\">u</span><span style=\"color:black;\">l</span><span style=\"color:black;\">t</span><span style=\"color:black;\">[</span><span style=\"color:black;\">0</span><span style=\"color:black;\">]</span><span style=\"color:lightgrey;\">•</span><span style=\"color:black;\"><</span><span style=\"color:black;\"><</span><span style=\"color:lightgrey;\">•</span><span style=\"color:black;\">e</span><span style=\"color:black;\">n</span><span style=\"color:black;\">d</span><span style=\"color:black;\">l</span><span style=\"color:black;\">;</span><span style=\"color:lightgrey;\">↵\n",
       "</span><span style=\"color:lightgrey;\">•</span><span style=\"color:lightgrey;\">•</span><span style=\"color:black;\">c</span><span style=\"color:black;\">o</span><span style=\"color:black;\">u</span><span style=\"color:black;\">t</span><span style=\"color:lightgrey;\">•</span><span style=\"color:black;\"><</span><span style=\"color:black;\"><</span><span style=\"color:lightgrey;\">•</span><span style=\"color:black;\">r</span><span style=\"color:black;\">e</span><span style=\"color:black;\">s</span><span style=\"color:black;\">u</span><span style=\"color:black;\">l</span><span style=\"color:black;\">t</span><span style=\"color:black;\">[</span><span style=\"color:black;\">1</span><span style=\"color:black;\">]</span><span style=\"color:lightgrey;\">•</span><span style=\"color:black;\"><</span><span style=\"color:black;\"><</span><span style=\"color:lightgrey;\">•</span><span style=\"color:black;\">e</span><span style=\"color:black;\">n</span><span style=\"color:black;\">d</span><span style=\"color:black;\">l</span><span style=\"color:black;\">;</span><span style=\"color:lightgrey;\">↵\n",
       "</span><span style=\"color:lightgrey;\">•</span><span style=\"color:lightgrey;\">•</span><span style=\"color:black;\">c</span><span style=\"color:black;\">o</span><span style=\"color:black;\">u</span><span style=\"color:black;\">t</span><span style=\"color:lightgrey;\">•</span><span style=\"color:black;\"><</span><span style=\"color:black;\"><</span><span style=\"color:lightgrey;\">•</span><span style=\"color:black;\">r</span><span style=\"color:black;\">e</span><span style=\"color:black;\">s</span><span style=\"color:black;\">u</span><span style=\"color:black;\">l</span><span style=\"color:black;\">t</span><span style=\"color:black;\">[</span><span style=\"color:black;\">2</span><span style=\"color:black;\">]</span><span style=\"color:lightgrey;\">•</span><span style=\"color:black;\"><</span><span style=\"color:black;\"><</span><span style=\"color:lightgrey;\">•</span><span style=\"color:black;\">e</span><span style=\"color:black;\">n</span><span style=\"color:black;\">d</span><span style=\"color:black;\">l</span><span style=\"color:black;\">;</span><span style=\"color:lightgrey;\">↵\n",
       "</span><span style=\"color:lightgrey;\">•</span><span style=\"color:lightgrey;\">•</span><span style=\"color:black;\">r</span><span style=\"color:black;\">e</span><span style=\"color:black;\">t</span><span style=\"color:black;\">u</span><span style=\"color:black;\">r</span><span style=\"color:black;\">n</span><span style=\"color:lightgrey;\">•</span><span style=\"color:black;\">0</span><span style=\"color:black;\">;</span><span style=\"color:lightgrey;\">↵\n",
       "</span><span style=\"color:black;\">}</span></pre>"
      ],
      "text/plain": [
       "<IPython.core.display.HTML object>"
      ]
     },
     "metadata": {},
     "output_type": "display_data"
    },
    {
     "data": {
      "text/html": [
       "<h6>Codex Prediction</h6>"
      ],
      "text/plain": [
       "<IPython.core.display.HTML object>"
      ]
     },
     "metadata": {},
     "output_type": "display_data"
    },
    {
     "data": {
      "text/html": [
       "<pre><span style=\"color:red;\">f</span><span style=\"color:red;\">o</span><span style=\"color:red;\">r</span><span style=\"color:red;\">•</span><span style=\"color:red;\">(</span><span style=\"color:red;\">i</span><span style=\"color:red;\">n</span><span style=\"color:red;\">t</span><span style=\"color:red;\">•</span><span style=\"color:red;\">k</span><span style=\"color:red;\">•</span><span style=\"color:red;\">=</span><span style=\"color:red;\">•</span><span style=\"color:red;\">0</span><span style=\"color:red;\">;</span><span style=\"color:red;\">•</span><span style=\"color:red;\">k</span><span style=\"color:red;\">•</span><span style=\"color:red;\"><</span><span style=\"color:red;\">•</span><span style=\"color:red;\">1</span><span style=\"color:red;\">0</span><span style=\"color:red;\">;</span><span style=\"color:red;\">•</span><span style=\"color:red;\">k</span><span style=\"color:red;\">+</span><span style=\"color:red;\">+</span><span style=\"color:red;\">)</span></pre>"
      ],
      "text/plain": [
       "<IPython.core.display.HTML object>"
      ]
     },
     "metadata": {},
     "output_type": "display_data"
    },
    {
     "data": {
      "text/html": [
       "<h2>Example 9</h2>"
      ],
      "text/plain": [
       "<IPython.core.display.HTML object>"
      ]
     },
     "metadata": {},
     "output_type": "display_data"
    },
    {
     "data": {
      "text/html": [
       "<h6>Original Source Code</h6>"
      ],
      "text/plain": [
       "<IPython.core.display.HTML object>"
      ]
     },
     "metadata": {},
     "output_type": "display_data"
    },
    {
     "data": {
      "text/html": [
       "<pre><span style=\"color:black;\">#</span><span style=\"color:black;\">i</span><span style=\"color:black;\">n</span><span style=\"color:black;\">c</span><span style=\"color:black;\">l</span><span style=\"color:black;\">u</span><span style=\"color:black;\">d</span><span style=\"color:black;\">e</span><span style=\"color:lightgrey;\">•</span><span style=\"color:black;\"><</span><span style=\"color:black;\">a</span><span style=\"color:black;\">l</span><span style=\"color:black;\">g</span><span style=\"color:black;\">o</span><span style=\"color:black;\">r</span><span style=\"color:black;\">i</span><span style=\"color:black;\">t</span><span style=\"color:black;\">h</span><span style=\"color:black;\">m</span><span style=\"color:black;\">></span><span style=\"color:lightgrey;\">↵\n",
       "</span><span style=\"color:black;\">#</span><span style=\"color:black;\">i</span><span style=\"color:black;\">n</span><span style=\"color:black;\">c</span><span style=\"color:black;\">l</span><span style=\"color:black;\">u</span><span style=\"color:black;\">d</span><span style=\"color:black;\">e</span><span style=\"color:lightgrey;\">•</span><span style=\"color:black;\"><</span><span style=\"color:black;\">c</span><span style=\"color:black;\">s</span><span style=\"color:black;\">t</span><span style=\"color:black;\">d</span><span style=\"color:black;\">i</span><span style=\"color:black;\">o</span><span style=\"color:black;\">></span><span style=\"color:lightgrey;\">↵\n",
       "</span><span style=\"color:lightgrey;\">↵\n",
       "</span><span style=\"color:black;\">u</span><span style=\"color:black;\">s</span><span style=\"color:black;\">i</span><span style=\"color:black;\">n</span><span style=\"color:black;\">g</span><span style=\"color:lightgrey;\">•</span><span style=\"color:black;\">n</span><span style=\"color:black;\">a</span><span style=\"color:black;\">m</span><span style=\"color:black;\">e</span><span style=\"color:black;\">s</span><span style=\"color:black;\">p</span><span style=\"color:black;\">a</span><span style=\"color:black;\">c</span><span style=\"color:black;\">e</span><span style=\"color:lightgrey;\">•</span><span style=\"color:black;\">s</span><span style=\"color:black;\">t</span><span style=\"color:black;\">d</span><span style=\"color:black;\">;</span><span style=\"color:lightgrey;\">↵\n",
       "</span><span style=\"color:lightgrey;\">↵\n",
       "</span><span style=\"color:black;\">i</span><span style=\"color:black;\">n</span><span style=\"color:black;\">t</span><span style=\"color:lightgrey;\">•</span><span style=\"color:black;\">m</span><span style=\"color:black;\">a</span><span style=\"color:black;\">i</span><span style=\"color:black;\">n</span><span style=\"color:black;\">(</span><span style=\"color:black;\">v</span><span style=\"color:black;\">o</span><span style=\"color:black;\">i</span><span style=\"color:black;\">d</span><span style=\"color:black;\">)</span><span style=\"color:lightgrey;\">•</span><span style=\"color:black;\">{</span><span style=\"color:lightgrey;\">↵\n",
       "</span><span style=\"color:lightgrey;\">•</span><span style=\"color:lightgrey;\">•</span><span style=\"color:black;\">i</span><span style=\"color:black;\">n</span><span style=\"color:black;\">t</span><span style=\"color:lightgrey;\">•</span><span style=\"color:black;\">i</span><span style=\"color:black;\">,</span><span style=\"color:lightgrey;\">•</span><span style=\"color:black;\">a</span><span style=\"color:black;\">r</span><span style=\"color:black;\">r</span><span style=\"color:black;\">a</span><span style=\"color:black;\">y</span><span style=\"color:black;\">[</span><span style=\"color:black;\">1</span><span style=\"color:black;\">0</span><span style=\"color:black;\">]</span><span style=\"color:black;\">;</span><span style=\"color:lightgrey;\">↵\n",
       "</span><span style=\"color:lightgrey;\">↵\n",
       "</span><span style=\"color:lightgrey;\">•</span><span style=\"color:lightgrey;\">•</span><span style=\"color:black;\">f</span><span style=\"color:black;\">o</span><span style=\"color:black;\">r</span><span style=\"color:lightgrey;\">•</span><span style=\"color:black;\">(</span><span style=\"color:black;\">i</span><span style=\"color:lightgrey;\">•</span><span style=\"color:black;\">=</span><span style=\"color:lightgrey;\">•</span><span style=\"color:black;\">0</span><span style=\"color:black;\">;</span><span style=\"color:lightgrey;\">•</span><span style=\"color:black;\">i</span><span style=\"color:lightgrey;\">•</span><span style=\"color:black;\"><</span><span style=\"color:lightgrey;\">•</span><span style=\"color:black;\">1</span><span style=\"color:black;\">0</span><span style=\"color:black;\">;</span><span style=\"color:lightgrey;\">•</span><span style=\"color:black;\">i</span><span style=\"color:black;\">+</span><span style=\"color:black;\">+</span><span style=\"color:black;\">)</span><span style=\"color:lightgrey;\">↵\n",
       "</span><span style=\"color:lightgrey;\">•</span><span style=\"color:lightgrey;\">•</span><span style=\"color:lightgrey;\">•</span><span style=\"color:lightgrey;\">•</span><span style=\"color:black;\">s</span><span style=\"color:black;\">c</span><span style=\"color:black;\">a</span><span style=\"color:black;\">n</span><span style=\"color:black;\">f</span><span style=\"color:black;\">(</span><span style=\"color:black;\">\"</span><span style=\"color:black;\">%</span><span style=\"color:black;\">d</span><span style=\"color:black;\">\"</span><span style=\"color:black;\">,</span><span style=\"color:lightgrey;\">•</span><span style=\"color:black;\">&</span><span style=\"color:black;\">a</span><span style=\"color:black;\">r</span><span style=\"color:black;\">r</span><span style=\"color:black;\">a</span><span style=\"color:black;\">y</span><span style=\"color:black;\">[</span><span style=\"color:black;\">i</span><span style=\"color:black;\">]</span><span style=\"color:black;\">)</span><span style=\"color:black;\">;</span><span style=\"color:lightgrey;\">↵\n",
       "</span><span style=\"color:lightgrey;\">•</span><span style=\"color:lightgrey;\">•</span><span style=\"color:black;\">s</span><span style=\"color:black;\">o</span><span style=\"color:black;\">r</span><span style=\"color:black;\">t</span><span style=\"color:black;\">(</span><span style=\"color:black;\">a</span><span style=\"color:black;\">r</span><span style=\"color:black;\">r</span><span style=\"color:black;\">a</span><span style=\"color:black;\">y</span><span style=\"color:black;\">,</span><span style=\"color:lightgrey;\">•</span><span style=\"color:black;\">a</span><span style=\"color:black;\">r</span><span style=\"color:black;\">r</span><span style=\"color:black;\">a</span><span style=\"color:black;\">y</span><span style=\"color:lightgrey;\">•</span><span style=\"color:black;\">+</span><span style=\"color:lightgrey;\">•</span><span style=\"color:black;\">1</span><span style=\"color:black;\">0</span><span style=\"color:black;\">)</span><span style=\"color:black;\">;</span><span style=\"color:lightgrey;\">↵\n",
       "</span><span style=\"color:red;\">•</span><span style=\"color:red;\">•</span><span style=\"color:red;\">f</span><span style=\"color:red;\">o</span><span style=\"color:red;\">r</span><span style=\"color:red;\">•</span><span style=\"color:red;\">(</span><span style=\"color:red;\">i</span><span style=\"color:red;\">•</span><span style=\"color:red;\">=</span><span style=\"color:red;\">•</span><span style=\"color:red;\">9</span><span style=\"color:red;\">;</span><span style=\"color:red;\">•</span><span style=\"color:red;\">i</span><span style=\"color:red;\">•</span><span style=\"color:red;\">></span><span style=\"color:red;\">=</span><span style=\"color:red;\">•</span><span style=\"color:red;\">7</span><span style=\"color:red;\">;</span><span style=\"color:red;\">•</span><span style=\"color:red;\">i</span><span style=\"color:red;\">+</span><span style=\"color:red;\">+</span><span style=\"color:red;\">)</span><span style=\"color:red;\">↵\n",
       "</span><span style=\"color:lightgrey;\">•</span><span style=\"color:lightgrey;\">•</span><span style=\"color:lightgrey;\">•</span><span style=\"color:lightgrey;\">•</span><span style=\"color:black;\">p</span><span style=\"color:black;\">r</span><span style=\"color:black;\">i</span><span style=\"color:black;\">n</span><span style=\"color:black;\">t</span><span style=\"color:black;\">f</span><span style=\"color:black;\">(</span><span style=\"color:black;\">\"</span><span style=\"color:black;\">%</span><span style=\"color:black;\">d</span><span style=\"color:black;\">\\</span><span style=\"color:black;\">n</span><span style=\"color:black;\">\"</span><span style=\"color:black;\">,</span><span style=\"color:lightgrey;\">•</span><span style=\"color:black;\">a</span><span style=\"color:black;\">r</span><span style=\"color:black;\">r</span><span style=\"color:black;\">a</span><span style=\"color:black;\">y</span><span style=\"color:black;\">[</span><span style=\"color:black;\">i</span><span style=\"color:black;\">]</span><span style=\"color:black;\">)</span><span style=\"color:black;\">;</span><span style=\"color:lightgrey;\">↵\n",
       "</span><span style=\"color:lightgrey;\">↵\n",
       "</span><span style=\"color:lightgrey;\">•</span><span style=\"color:lightgrey;\">•</span><span style=\"color:black;\">r</span><span style=\"color:black;\">e</span><span style=\"color:black;\">t</span><span style=\"color:black;\">u</span><span style=\"color:black;\">r</span><span style=\"color:black;\">n</span><span style=\"color:lightgrey;\">•</span><span style=\"color:black;\">0</span><span style=\"color:black;\">;</span><span style=\"color:lightgrey;\">↵\n",
       "</span><span style=\"color:black;\">}</span></pre>"
      ],
      "text/plain": [
       "<IPython.core.display.HTML object>"
      ]
     },
     "metadata": {},
     "output_type": "display_data"
    },
    {
     "data": {
      "text/html": [
       "<h6>Changed Source Code</h6>"
      ],
      "text/plain": [
       "<IPython.core.display.HTML object>"
      ]
     },
     "metadata": {},
     "output_type": "display_data"
    },
    {
     "data": {
      "text/html": [
       "<pre><span style=\"color:black;\">#</span><span style=\"color:black;\">i</span><span style=\"color:black;\">n</span><span style=\"color:black;\">c</span><span style=\"color:black;\">l</span><span style=\"color:black;\">u</span><span style=\"color:black;\">d</span><span style=\"color:black;\">e</span><span style=\"color:lightgrey;\">•</span><span style=\"color:black;\"><</span><span style=\"color:black;\">a</span><span style=\"color:black;\">l</span><span style=\"color:black;\">g</span><span style=\"color:black;\">o</span><span style=\"color:black;\">r</span><span style=\"color:black;\">i</span><span style=\"color:black;\">t</span><span style=\"color:black;\">h</span><span style=\"color:black;\">m</span><span style=\"color:black;\">></span><span style=\"color:lightgrey;\">↵\n",
       "</span><span style=\"color:black;\">#</span><span style=\"color:black;\">i</span><span style=\"color:black;\">n</span><span style=\"color:black;\">c</span><span style=\"color:black;\">l</span><span style=\"color:black;\">u</span><span style=\"color:black;\">d</span><span style=\"color:black;\">e</span><span style=\"color:lightgrey;\">•</span><span style=\"color:black;\"><</span><span style=\"color:black;\">c</span><span style=\"color:black;\">s</span><span style=\"color:black;\">t</span><span style=\"color:black;\">d</span><span style=\"color:black;\">i</span><span style=\"color:black;\">o</span><span style=\"color:black;\">></span><span style=\"color:lightgrey;\">↵\n",
       "</span><span style=\"color:lightgrey;\">↵\n",
       "</span><span style=\"color:black;\">u</span><span style=\"color:black;\">s</span><span style=\"color:black;\">i</span><span style=\"color:black;\">n</span><span style=\"color:black;\">g</span><span style=\"color:lightgrey;\">•</span><span style=\"color:black;\">n</span><span style=\"color:black;\">a</span><span style=\"color:black;\">m</span><span style=\"color:black;\">e</span><span style=\"color:black;\">s</span><span style=\"color:black;\">p</span><span style=\"color:black;\">a</span><span style=\"color:black;\">c</span><span style=\"color:black;\">e</span><span style=\"color:lightgrey;\">•</span><span style=\"color:black;\">s</span><span style=\"color:black;\">t</span><span style=\"color:black;\">d</span><span style=\"color:black;\">;</span><span style=\"color:lightgrey;\">↵\n",
       "</span><span style=\"color:lightgrey;\">↵\n",
       "</span><span style=\"color:black;\">i</span><span style=\"color:black;\">n</span><span style=\"color:black;\">t</span><span style=\"color:lightgrey;\">•</span><span style=\"color:black;\">m</span><span style=\"color:black;\">a</span><span style=\"color:black;\">i</span><span style=\"color:black;\">n</span><span style=\"color:black;\">(</span><span style=\"color:black;\">v</span><span style=\"color:black;\">o</span><span style=\"color:black;\">i</span><span style=\"color:black;\">d</span><span style=\"color:black;\">)</span><span style=\"color:lightgrey;\">•</span><span style=\"color:black;\">{</span><span style=\"color:lightgrey;\">↵\n",
       "</span><span style=\"color:lightgrey;\">•</span><span style=\"color:lightgrey;\">•</span><span style=\"color:black;\">i</span><span style=\"color:black;\">n</span><span style=\"color:black;\">t</span><span style=\"color:lightgrey;\">•</span><span style=\"color:black;\">i</span><span style=\"color:black;\">,</span><span style=\"color:lightgrey;\">•</span><span style=\"color:black;\">a</span><span style=\"color:black;\">r</span><span style=\"color:black;\">r</span><span style=\"color:black;\">a</span><span style=\"color:black;\">y</span><span style=\"color:black;\">[</span><span style=\"color:black;\">1</span><span style=\"color:black;\">0</span><span style=\"color:black;\">]</span><span style=\"color:black;\">;</span><span style=\"color:lightgrey;\">↵\n",
       "</span><span style=\"color:lightgrey;\">↵\n",
       "</span><span style=\"color:lightgrey;\">•</span><span style=\"color:lightgrey;\">•</span><span style=\"color:black;\">f</span><span style=\"color:black;\">o</span><span style=\"color:black;\">r</span><span style=\"color:lightgrey;\">•</span><span style=\"color:black;\">(</span><span style=\"color:black;\">i</span><span style=\"color:lightgrey;\">•</span><span style=\"color:black;\">=</span><span style=\"color:lightgrey;\">•</span><span style=\"color:black;\">0</span><span style=\"color:black;\">;</span><span style=\"color:lightgrey;\">•</span><span style=\"color:black;\">i</span><span style=\"color:lightgrey;\">•</span><span style=\"color:black;\"><</span><span style=\"color:lightgrey;\">•</span><span style=\"color:black;\">1</span><span style=\"color:black;\">0</span><span style=\"color:black;\">;</span><span style=\"color:lightgrey;\">•</span><span style=\"color:black;\">i</span><span style=\"color:black;\">+</span><span style=\"color:black;\">+</span><span style=\"color:black;\">)</span><span style=\"color:lightgrey;\">↵\n",
       "</span><span style=\"color:lightgrey;\">•</span><span style=\"color:lightgrey;\">•</span><span style=\"color:lightgrey;\">•</span><span style=\"color:lightgrey;\">•</span><span style=\"color:black;\">s</span><span style=\"color:black;\">c</span><span style=\"color:black;\">a</span><span style=\"color:black;\">n</span><span style=\"color:black;\">f</span><span style=\"color:black;\">(</span><span style=\"color:black;\">\"</span><span style=\"color:black;\">%</span><span style=\"color:black;\">d</span><span style=\"color:black;\">\"</span><span style=\"color:black;\">,</span><span style=\"color:lightgrey;\">•</span><span style=\"color:black;\">&</span><span style=\"color:black;\">a</span><span style=\"color:black;\">r</span><span style=\"color:black;\">r</span><span style=\"color:black;\">a</span><span style=\"color:black;\">y</span><span style=\"color:black;\">[</span><span style=\"color:black;\">i</span><span style=\"color:black;\">]</span><span style=\"color:black;\">)</span><span style=\"color:black;\">;</span><span style=\"color:lightgrey;\">↵\n",
       "</span><span style=\"color:lightgrey;\">•</span><span style=\"color:lightgrey;\">•</span><span style=\"color:black;\">s</span><span style=\"color:black;\">o</span><span style=\"color:black;\">r</span><span style=\"color:black;\">t</span><span style=\"color:black;\">(</span><span style=\"color:black;\">a</span><span style=\"color:black;\">r</span><span style=\"color:black;\">r</span><span style=\"color:black;\">a</span><span style=\"color:black;\">y</span><span style=\"color:black;\">,</span><span style=\"color:lightgrey;\">•</span><span style=\"color:black;\">a</span><span style=\"color:black;\">r</span><span style=\"color:black;\">r</span><span style=\"color:black;\">a</span><span style=\"color:black;\">y</span><span style=\"color:lightgrey;\">•</span><span style=\"color:black;\">+</span><span style=\"color:lightgrey;\">•</span><span style=\"color:black;\">1</span><span style=\"color:black;\">0</span><span style=\"color:black;\">)</span><span style=\"color:black;\">;</span><span style=\"color:lightgrey;\">↵\n",
       "</span><span style=\"color:green;\">•</span><span style=\"color:green;\">•</span><span style=\"color:green;\">f</span><span style=\"color:green;\">o</span><span style=\"color:green;\">r</span><span style=\"color:green;\">•</span><span style=\"color:green;\">(</span><span style=\"color:green;\">i</span><span style=\"color:green;\">•</span><span style=\"color:green;\">=</span><span style=\"color:green;\">•</span><span style=\"color:green;\">9</span><span style=\"color:green;\">;</span><span style=\"color:green;\">•</span><span style=\"color:green;\">i</span><span style=\"color:green;\">•</span><span style=\"color:green;\">></span><span style=\"color:green;\">=</span><span style=\"color:green;\">•</span><span style=\"color:green;\">7</span><span style=\"color:green;\">;</span><span style=\"color:green;\">•</span><span style=\"color:green;\">i</span><span style=\"color:green;\">-</span><span style=\"color:green;\">-</span><span style=\"color:green;\">)</span><span style=\"color:green;\">↵\n",
       "</span><span style=\"color:lightgrey;\">•</span><span style=\"color:lightgrey;\">•</span><span style=\"color:lightgrey;\">•</span><span style=\"color:lightgrey;\">•</span><span style=\"color:black;\">p</span><span style=\"color:black;\">r</span><span style=\"color:black;\">i</span><span style=\"color:black;\">n</span><span style=\"color:black;\">t</span><span style=\"color:black;\">f</span><span style=\"color:black;\">(</span><span style=\"color:black;\">\"</span><span style=\"color:black;\">%</span><span style=\"color:black;\">d</span><span style=\"color:black;\">\\</span><span style=\"color:black;\">n</span><span style=\"color:black;\">\"</span><span style=\"color:black;\">,</span><span style=\"color:lightgrey;\">•</span><span style=\"color:black;\">a</span><span style=\"color:black;\">r</span><span style=\"color:black;\">r</span><span style=\"color:black;\">a</span><span style=\"color:black;\">y</span><span style=\"color:black;\">[</span><span style=\"color:black;\">i</span><span style=\"color:black;\">]</span><span style=\"color:black;\">)</span><span style=\"color:black;\">;</span><span style=\"color:lightgrey;\">↵\n",
       "</span><span style=\"color:lightgrey;\">↵\n",
       "</span><span style=\"color:lightgrey;\">•</span><span style=\"color:lightgrey;\">•</span><span style=\"color:black;\">r</span><span style=\"color:black;\">e</span><span style=\"color:black;\">t</span><span style=\"color:black;\">u</span><span style=\"color:black;\">r</span><span style=\"color:black;\">n</span><span style=\"color:lightgrey;\">•</span><span style=\"color:black;\">0</span><span style=\"color:black;\">;</span><span style=\"color:lightgrey;\">↵\n",
       "</span><span style=\"color:black;\">}</span><span style=\"color:lightgrey;\">↵\n",
       "</span></pre>"
      ],
      "text/plain": [
       "<IPython.core.display.HTML object>"
      ]
     },
     "metadata": {},
     "output_type": "display_data"
    },
    {
     "data": {
      "text/html": [
       "<h6>Codex Prediction</h6>"
      ],
      "text/plain": [
       "<IPython.core.display.HTML object>"
      ]
     },
     "metadata": {},
     "output_type": "display_data"
    },
    {
     "data": {
      "text/html": [
       "<pre><span style=\"color:red;\">f</span><span style=\"color:red;\">o</span><span style=\"color:red;\">r</span><span style=\"color:red;\">•</span><span style=\"color:red;\">(</span><span style=\"color:red;\">i</span><span style=\"color:red;\">•</span><span style=\"color:red;\">=</span><span style=\"color:red;\">•</span><span style=\"color:red;\">0</span><span style=\"color:red;\">;</span><span style=\"color:red;\">•</span><span style=\"color:red;\">i</span><span style=\"color:red;\">•</span><span style=\"color:red;\"><</span><span style=\"color:red;\">•</span><span style=\"color:red;\">3</span><span style=\"color:red;\">;</span><span style=\"color:red;\">•</span><span style=\"color:red;\">i</span><span style=\"color:red;\">+</span><span style=\"color:red;\">+</span><span style=\"color:red;\">)</span></pre>"
      ],
      "text/plain": [
       "<IPython.core.display.HTML object>"
      ]
     },
     "metadata": {},
     "output_type": "display_data"
    }
   ],
   "source": [
    "for i in range(10):\n",
    "    display(HTML(f\"<h2>Example {i}</h2>\"))\n",
    "    \n",
    "    display(HTML(f\"<h6>Original Source Code</h6>\"))\n",
    "    display(HTML(codex_df[\"original_src_html\"].iloc[i]))\n",
    "\n",
    "    display(HTML(f\"<h6>Changed Source Code</h6>\"))\n",
    "    display(HTML(codex_df[\"changed_src_html\"].iloc[i]))\n",
    "\n",
    "    display(HTML(f\"<h6>Codex Prediction</h6>\"))\n",
    "    display(HTML(codex_df[\"codex_src_html\"].iloc[i]))"
   ]
  },
  {
   "cell_type": "code",
   "execution_count": null,
   "id": "6c83e57c",
   "metadata": {},
   "outputs": [],
   "source": []
  }
 ],
 "metadata": {
  "kernelspec": {
   "display_name": "Python 3 (ipykernel)",
   "language": "python",
   "name": "python3"
  },
  "language_info": {
   "codemirror_mode": {
    "name": "ipython",
    "version": 3
   },
   "file_extension": ".py",
   "mimetype": "text/x-python",
   "name": "python",
   "nbconvert_exporter": "python",
   "pygments_lexer": "ipython3",
   "version": "3.10.9"
  }
 },
 "nbformat": 4,
 "nbformat_minor": 5
}
