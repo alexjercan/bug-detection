{
 "cells": [
  {
   "cell_type": "markdown",
   "id": "318ee376",
   "metadata": {},
   "source": [
    "# Experiments"
   ]
  },
  {
   "cell_type": "code",
   "execution_count": 1,
   "id": "a17f51ac",
   "metadata": {},
   "outputs": [],
   "source": [
    "import logging\n",
    "import os\n",
    "\n",
    "import argparse\n",
    "import pandas as pd\n",
    "import resource\n",
    "import subprocess\n",
    "import time\n",
    "import torch\n",
    "import traceback\n",
    "import uuid\n",
    "from tqdm.auto import tqdm\n",
    "from transformers import AutoModelForCausalLM, AutoTokenizer\n",
    "from typing import Optional\n",
    "\n",
    "GENERATED_ROOT_PATH = os.path.join(\"..\", \"input\", \"bugnet\")\n",
    "GENERATED_PAIRS_PATH = os.path.join(GENERATED_ROOT_PATH, \"generated_pairs.csv\")\n",
    "CODEGEN_PAIRS_PATH = os.path.join(GENERATED_ROOT_PATH, \"codegen_results.csv\")"
   ]
  },
  {
   "cell_type": "code",
   "execution_count": 2,
   "id": "1871006a",
   "metadata": {},
   "outputs": [],
   "source": [
    "def make_prompt_simple(source: str, language: str) -> str:\n",
    "    if language == \"C++\":\n",
    "        comment = \"//\"\n",
    "    elif language == \"Python\":\n",
    "        comment = \"#\"\n",
    "    else:\n",
    "        raise NotImplementedError(f\"{language} not implemented yet\")\n",
    "\n",
    "    lines = source.splitlines()\n",
    "    lines.append(f\"{comment} Propose code to fix the bug\")\n",
    "    lines.append(\"\")\n",
    "\n",
    "    return \"\\n\".join(lines)\n",
    "\n",
    "def make_prompt_multishot(pairs_df: pd.DataFrame, source: str, count: int = 5) -> str:\n",
    "    pairs_df = pairs_df.iloc[:count]\n",
    "\n",
    "    result = \"\"\n",
    "    for _, row in pairs_df.iterrows():\n",
    "        result = result + row[\"original_src\"] + \"\\n\\n\" + row[\"changed_src\"] + \"\\n\\n\"\n",
    "\n",
    "    result = result + source + \"\\n\"\n",
    "\n",
    "    return result"
   ]
  },
  {
   "cell_type": "code",
   "execution_count": 3,
   "id": "f7ca1452",
   "metadata": {},
   "outputs": [],
   "source": [
    "# Load the CodeGen model (small - finetuned on Python)\n",
    "device = \"cuda\" if torch.cuda.is_available() else \"cpu\"\n",
    "tokenizer = AutoTokenizer.from_pretrained(\"Salesforce/codegen-350M-mono\")\n",
    "model = AutoModelForCausalLM.from_pretrained(\"Salesforce/codegen-350M-mono\").to(\n",
    "    device\n",
    ")"
   ]
  },
  {
   "cell_type": "code",
   "execution_count": 4,
   "id": "bc89e900",
   "metadata": {},
   "outputs": [
    {
     "data": {
      "text/html": [
       "<div>\n",
       "<style scoped>\n",
       "    .dataframe tbody tr th:only-of-type {\n",
       "        vertical-align: middle;\n",
       "    }\n",
       "\n",
       "    .dataframe tbody tr th {\n",
       "        vertical-align: top;\n",
       "    }\n",
       "\n",
       "    .dataframe thead th {\n",
       "        text-align: right;\n",
       "    }\n",
       "</style>\n",
       "<table border=\"1\" class=\"dataframe\">\n",
       "  <thead>\n",
       "    <tr style=\"text-align: right;\">\n",
       "      <th></th>\n",
       "      <th>problem_id</th>\n",
       "      <th>language</th>\n",
       "      <th>original_status</th>\n",
       "      <th>original_src</th>\n",
       "      <th>changed_src</th>\n",
       "      <th>change</th>\n",
       "      <th>i1</th>\n",
       "      <th>i2</th>\n",
       "      <th>j1</th>\n",
       "      <th>j2</th>\n",
       "      <th>error</th>\n",
       "      <th>stderr</th>\n",
       "    </tr>\n",
       "  </thead>\n",
       "  <tbody>\n",
       "    <tr>\n",
       "      <th>0</th>\n",
       "      <td>p00001</td>\n",
       "      <td>C++</td>\n",
       "      <td>Runtime Error</td>\n",
       "      <td>#include &lt;algorithm&gt;\\n#include &lt;cstdio&gt;\\n\\nusi...</td>\n",
       "      <td>#include &lt;algorithm&gt;\\n#include &lt;cstdio&gt;\\n\\nusi...</td>\n",
       "      <td>replace</td>\n",
       "      <td>11</td>\n",
       "      <td>12</td>\n",
       "      <td>11</td>\n",
       "      <td>12</td>\n",
       "      <td>-11</td>\n",
       "      <td></td>\n",
       "    </tr>\n",
       "    <tr>\n",
       "      <th>1</th>\n",
       "      <td>p00001</td>\n",
       "      <td>C++</td>\n",
       "      <td>Time Limit Exceeded</td>\n",
       "      <td>#include &lt;algorithm&gt;\\n#include &lt;bitset&gt;\\n#incl...</td>\n",
       "      <td>#include &lt;algorithm&gt;\\n#include &lt;bitset&gt;\\n#incl...</td>\n",
       "      <td>replace</td>\n",
       "      <td>35</td>\n",
       "      <td>38</td>\n",
       "      <td>35</td>\n",
       "      <td>36</td>\n",
       "      <td>TLE</td>\n",
       "      <td></td>\n",
       "    </tr>\n",
       "    <tr>\n",
       "      <th>2</th>\n",
       "      <td>p00001</td>\n",
       "      <td>C++</td>\n",
       "      <td>Time Limit Exceeded</td>\n",
       "      <td>#include &lt;algorithm&gt;\\n#include &lt;iostream&gt;\\n#in...</td>\n",
       "      <td>#include &lt;algorithm&gt;\\n#include &lt;iostream&gt;\\n#in...</td>\n",
       "      <td>replace</td>\n",
       "      <td>12</td>\n",
       "      <td>13</td>\n",
       "      <td>12</td>\n",
       "      <td>13</td>\n",
       "      <td>TLE</td>\n",
       "      <td></td>\n",
       "    </tr>\n",
       "    <tr>\n",
       "      <th>3</th>\n",
       "      <td>p00001</td>\n",
       "      <td>C++</td>\n",
       "      <td>Runtime Error</td>\n",
       "      <td>#include &lt;algorithm&gt;\\n#include &lt;iostream&gt;\\nusi...</td>\n",
       "      <td>#include &lt;algorithm&gt;\\n#include &lt;iostream&gt;\\nusi...</td>\n",
       "      <td>replace</td>\n",
       "      <td>9</td>\n",
       "      <td>10</td>\n",
       "      <td>9</td>\n",
       "      <td>10</td>\n",
       "      <td>-11</td>\n",
       "      <td></td>\n",
       "    </tr>\n",
       "    <tr>\n",
       "      <th>4</th>\n",
       "      <td>p00001</td>\n",
       "      <td>C++</td>\n",
       "      <td>Time Limit Exceeded</td>\n",
       "      <td>#include &lt;algorithm&gt;\\n#include &lt;iostream&gt;\\n\\nu...</td>\n",
       "      <td>#include &lt;algorithm&gt;\\n#include &lt;iostream&gt;\\n\\nu...</td>\n",
       "      <td>replace</td>\n",
       "      <td>9</td>\n",
       "      <td>14</td>\n",
       "      <td>9</td>\n",
       "      <td>10</td>\n",
       "      <td>TLE</td>\n",
       "      <td></td>\n",
       "    </tr>\n",
       "  </tbody>\n",
       "</table>\n",
       "</div>"
      ],
      "text/plain": [
       "  problem_id language      original_status  \\\n",
       "0     p00001      C++        Runtime Error   \n",
       "1     p00001      C++  Time Limit Exceeded   \n",
       "2     p00001      C++  Time Limit Exceeded   \n",
       "3     p00001      C++        Runtime Error   \n",
       "4     p00001      C++  Time Limit Exceeded   \n",
       "\n",
       "                                        original_src  \\\n",
       "0  #include <algorithm>\\n#include <cstdio>\\n\\nusi...   \n",
       "1  #include <algorithm>\\n#include <bitset>\\n#incl...   \n",
       "2  #include <algorithm>\\n#include <iostream>\\n#in...   \n",
       "3  #include <algorithm>\\n#include <iostream>\\nusi...   \n",
       "4  #include <algorithm>\\n#include <iostream>\\n\\nu...   \n",
       "\n",
       "                                         changed_src   change  i1  i2  j1  j2  \\\n",
       "0  #include <algorithm>\\n#include <cstdio>\\n\\nusi...  replace  11  12  11  12   \n",
       "1  #include <algorithm>\\n#include <bitset>\\n#incl...  replace  35  38  35  36   \n",
       "2  #include <algorithm>\\n#include <iostream>\\n#in...  replace  12  13  12  13   \n",
       "3  #include <algorithm>\\n#include <iostream>\\nusi...  replace   9  10   9  10   \n",
       "4  #include <algorithm>\\n#include <iostream>\\n\\nu...  replace   9  14   9  10   \n",
       "\n",
       "  error stderr  \n",
       "0   -11         \n",
       "1   TLE         \n",
       "2   TLE         \n",
       "3   -11         \n",
       "4   TLE         "
      ]
     },
     "execution_count": 4,
     "metadata": {},
     "output_type": "execute_result"
    }
   ],
   "source": [
    "# Load the submission pairs\n",
    "submission_pairs_df = pd.read_csv(GENERATED_PAIRS_PATH, keep_default_na=False)\n",
    "pairs_df = submission_pairs_df.groupby(\"language\").head(100)\n",
    "pairs_df.head()"
   ]
  },
  {
   "cell_type": "markdown",
   "id": "97c38a1e",
   "metadata": {},
   "source": [
    "## Simple Prompt"
   ]
  },
  {
   "cell_type": "code",
   "execution_count": 5,
   "id": "2bb86e6e",
   "metadata": {},
   "outputs": [
    {
     "data": {
      "text/plain": [
       "'#include <algorithm>\\n#include <cstdio>\\n\\nusing namespace std;\\n\\nint main(void) {\\n  int i, array[10];\\n\\n  for (i = 0; i < 10; i++)\\n    scanf(\"%d\", &array[i]);\\n  sort(array, array + 10);\\n  for (i = 9; i >= 7; i++)\\n    printf(\"%d\\\\n\", array[i]);\\n\\n  return 0;\\n}\\n// Propose code to fix the bug\\n'"
      ]
     },
     "execution_count": 5,
     "metadata": {},
     "output_type": "execute_result"
    }
   ],
   "source": [
    "# Create a prompt using simple function\n",
    "pair_id, row = next(pairs_df.iterrows())\n",
    "prompt = make_prompt_simple(row[\"original_src\"], row[\"language\"])\n",
    "prompt"
   ]
  },
  {
   "cell_type": "code",
   "execution_count": 6,
   "id": "f960a3df",
   "metadata": {},
   "outputs": [
    {
     "name": "stdout",
     "output_type": "stream",
     "text": [
      "torch.Size([1, 118])\n"
     ]
    },
    {
     "data": {
      "text/plain": [
       "'#include <algorithm>\\n#include <cstdio>\\n\\nusing namespace std;\\n\\nint main(void) {\\n  int i, array[10];\\n\\n  for (i = 0; i < 10; i++)\\n    scanf(\"%d\", &array[i]);\\n  sort(array, array + 10);\\n  for (i = 9; i >= 7; i++)\\n    printf(\"%d\\\\n\", array[i]);\\n\\n  return 0;\\n}\\n// Propose code to fix the bug\\n'"
      ]
     },
     "execution_count": 6,
     "metadata": {},
     "output_type": "execute_result"
    }
   ],
   "source": [
    "# Tokenize the inputs and check if the tokens are correct\n",
    "inputs = tokenizer(prompt, return_tensors=\"pt\").to(device)\n",
    "print(inputs[\"input_ids\"].shape)\n",
    "\n",
    "tokenizer.decode(inputs[\"input_ids\"][0])"
   ]
  },
  {
   "cell_type": "code",
   "execution_count": 7,
   "id": "d9d2cf06",
   "metadata": {},
   "outputs": [
    {
     "data": {
      "text/plain": [
       "'\\nint main(void) {\\n  int i, array[10];\\n\\n  for (i = 0; i < 10; i++)\\n    scanf(\"%d\", &array[i]);\\n  sort(array, array + 10);\\n  for (i = 9; i >= 7; i++)\\n    printf(\"%d\\\\n\", array[i]);\\n\\n  return 0;\\n}\\n\\n\"\"\"\\n\\n#include <algorithm>\\n#include <cstdio>\\n\\n#include <string>\\n\\n#include <algorithm>\\n#include <cstdio>\\n\\n#include <string>\\n\\n#include <algorithm>\\n#include <cstdio>\\n\\n#include <string>\\n\\n#include <algorithm>\\n#include <cstdio>\\n\\n#include <string>\\n\\n#include <algorithm>\\n#include <cstdio>\\n\\n#include <string>\\n\\n#include <algorithm>\\n#include <cstdio>\\n\\n#include <string>\\n\\n#include <algorithm>\\n#include <cstdio>\\n\\n#include <string>\\n\\n#include <algorithm>\\n#include <cstdio>\\n\\n#include <string>\\n\\n#include <algorithm>\\n#include <cstdio>\\n\\n#include <string>\\n\\n#include <algorithm>\\n#include <cstdio>\\n\\n#include <string>\\n\\n#include <algorithm>\\n#include <cstdio>\\n\\n#include <string>\\n\\n#include <algorithm>\\n#include <cstdio>\\n\\n#include <string>\\n\\n#include <algorithm>\\n#include <cstdio>\\n\\n#include <string>\\n\\n#include <'"
      ]
     },
     "execution_count": 7,
     "metadata": {},
     "output_type": "execute_result"
    }
   ],
   "source": [
    "# Generate a prediction using CodeGen\n",
    "sample = model.generate(**inputs, max_length=512, pad_token_id=tokenizer.eos_token_id)\n",
    "result = tokenizer.decode(sample[0])\n",
    "predicted = result.removeprefix(prompt)\n",
    "predicted"
   ]
  },
  {
   "cell_type": "markdown",
   "id": "7811a1f2",
   "metadata": {},
   "source": [
    "## Multishot Prompt"
   ]
  },
  {
   "cell_type": "code",
   "execution_count": 8,
   "id": "d5fc0e75",
   "metadata": {},
   "outputs": [
    {
     "data": {
      "text/plain": [
       "'#include <algorithm>\\n#include <cstdio>\\n\\nusing namespace std;\\n\\nint main(void) {\\n  int i, array[10];\\n\\n'"
      ]
     },
     "execution_count": 8,
     "metadata": {},
     "output_type": "execute_result"
    }
   ],
   "source": [
    "# Create a prompt using simple function\n",
    "pair_id, row = next(pairs_df.iterrows())\n",
    "prompt = make_prompt_multishot(pairs_df, row[\"original_src\"], count=3)\n",
    "prompt[:100]"
   ]
  },
  {
   "cell_type": "code",
   "execution_count": 9,
   "id": "2995d30a",
   "metadata": {},
   "outputs": [
    {
     "name": "stdout",
     "output_type": "stream",
     "text": [
      "torch.Size([1, 1119])\n"
     ]
    },
    {
     "data": {
      "text/plain": [
       "True"
      ]
     },
     "execution_count": 9,
     "metadata": {},
     "output_type": "execute_result"
    }
   ],
   "source": [
    "# Tokenize the inputs and check if the tokens are correct\n",
    "inputs = tokenizer(prompt, return_tensors=\"pt\").to(device)\n",
    "print(inputs[\"input_ids\"].shape)\n",
    "\n",
    "tokenizer.decode(inputs[\"input_ids\"][0]) == prompt"
   ]
  },
  {
   "cell_type": "code",
   "execution_count": 10,
   "id": "4d39d666",
   "metadata": {},
   "outputs": [
    {
     "data": {
      "text/plain": [
       "'\\n#include <algorithm>\\n#include <cctype>\\n#include <climits>\\n#include <cmath>\\n#include <complex>\\n#include <cstdio>\\n#include <ctime>\\n#include <deque>\\n#include <functional>\\n#include <iomanip>\\n#include <iostream>\\n#include <list>\\n#include <map>\\n#include <numeric>\\n#include <queue>\\n#include <set>\\n#include <sstream>\\n#include <stack>\\n#include <string>\\n\\ntypedef long long ll;\\n\\nusing namespace std;\\n\\nint main(void) {\\n  int i, array[10];\\n\\n  for (i = 0; i < 10; i++) {\\n    cin >> i;\\n  }\\n\\n  sort(array, array + 10, greater<int>());\\n\\n  cout << i << endl << array[0] << endl << array[1] << endl << array[2] << endl << array[3] << endl << array[4] << endl << array[5] << endl << array[6] << endl << array[7] << endl << array[8] << endl << array[9] << endl << endl << array[10];\\n  return 0;\\n}\\n\\n#include <algorithm>\\n#include <cctype>\\n#include <climits>\\n#include <cmath>\\n#include <complex>\\n#include <cstdio>\\n#include <ctime>\\n#include <deque>\\n#include <functional>\\n#include <iomanip>\\n#include <iostream>\\n#include <list>\\n#include <map>\\n#include <numeric>\\n#include <queue>\\n#include <set>\\n#include <sstream>\\n#include <stack>\\n#include <string>\\n\\ntypedef long long ll;\\n\\nusing namespace std;\\n\\nint main(void) {\\n  int i, array[10];\\n\\n  for (i = 0; i < 10; i++) {\\n    cin >> i;\\n  }\\n\\n  sort(array, array + 10, greater<int>());\\n\\n  cout << i << endl << array[0] << endl << array[1] << endl << array[2] << endl << array[3] << endl << array[4] << endl << array[5] << endl << array[6] << endl << array[7] << endl << array[8] << endl << array[9] << endl << endl << array[10];\\n  return 0;\\n}\\n\\n#include <algorithm>\\n#include <cctype>\\n#include <climits>\\n#include <cmath>\\n#include <complex>\\n#include <cstdio>\\n#include <ctime>\\n#include <deque>\\n#include <functional>\\n#include <iomanip>\\n#include <iostream>\\n#include <list>\\n#include <map>\\n#include <numeric>\\n#include <queue>\\n#include <set>\\n#include <sstream>\\n#include <stack>\\n#include <string>\\n\\ntypedef long long ll;\\n\\nusing namespace std;\\n\\nint main(void) {\\n  int i, array[10];\\n\\n  for (i = 0; i < 10; i++) {\\n    cin >> i;\\n  }\\n\\n  sort(array, array + 10, greater<int>());\\n\\n  cout << i << endl << array[0] << endl << array[1] << endl << array[2] << endl << array[3] << endl << array[4] << endl << array[5] << endl << array[6] << endl << array[7] << endl << array[8] << endl << array[9] << endl << endl << array[10];\\n  return 0;\\n}\\n\\n#include <algorithm>\\n#include <'"
      ]
     },
     "execution_count": 10,
     "metadata": {},
     "output_type": "execute_result"
    }
   ],
   "source": [
    "# Generate a prediction using CodeGen\n",
    "sample = model.generate(**inputs, max_length=2048, pad_token_id=tokenizer.eos_token_id)\n",
    "result = tokenizer.decode(sample[0])\n",
    "predicted = result.removeprefix(prompt)\n",
    "predicted"
   ]
  },
  {
   "cell_type": "code",
   "execution_count": null,
   "id": "cbc4166f",
   "metadata": {},
   "outputs": [],
   "source": []
  }
 ],
 "metadata": {
  "kernelspec": {
   "display_name": "Python 3 (ipykernel)",
   "language": "python",
   "name": "python3"
  },
  "language_info": {
   "codemirror_mode": {
    "name": "ipython",
    "version": 3
   },
   "file_extension": ".py",
   "mimetype": "text/x-python",
   "name": "python",
   "nbconvert_exporter": "python",
   "pygments_lexer": "ipython3",
   "version": "3.10.7"
  }
 },
 "nbformat": 4,
 "nbformat_minor": 5
}
