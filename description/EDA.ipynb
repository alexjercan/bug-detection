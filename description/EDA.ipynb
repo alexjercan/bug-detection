{
 "cells": [
  {
   "cell_type": "markdown",
   "id": "2246e479",
   "metadata": {},
   "source": [
    "# OpenAI-GPT predicted solutions"
   ]
  },
  {
   "cell_type": "code",
   "execution_count": 46,
   "id": "13da3c8a",
   "metadata": {},
   "outputs": [],
   "source": [
    "import os\n",
    "import pickle\n",
    "\n",
    "import pandas as pd\n",
    "import matplotlib.pyplot as plt\n",
    "import seaborn as sns\n",
    "from IPython.display import HTML\n",
    "from nltk.tokenize import word_tokenize\n",
    "from typing import List, Tuple\n",
    "\n",
    "from main import make_prompt_simple\n",
    "\n",
    "GENERATED_ROOT_PATH = os.path.join(\"..\", \"input\", \"bugnet\")\n",
    "GENERATED_PAIRS_PATH = os.path.join(GENERATED_ROOT_PATH, \"generated_pairs.csv\")\n",
    "\n",
    "MODEL = \"gpt2\"\n",
    "\n",
    "CSV_PATH = os.path.join(GENERATED_ROOT_PATH, f\"{MODEL}_description_results.csv\")\n",
    "PKL_PATH = os.path.join(GENERATED_ROOT_PATH, f\"{MODEL}_description_results.pkl\")"
   ]
  },
  {
   "cell_type": "code",
   "execution_count": 47,
   "id": "3385f0cb",
   "metadata": {},
   "outputs": [
    {
     "data": {
      "text/html": [
       "<div>\n",
       "<style scoped>\n",
       "    .dataframe tbody tr th:only-of-type {\n",
       "        vertical-align: middle;\n",
       "    }\n",
       "\n",
       "    .dataframe tbody tr th {\n",
       "        vertical-align: top;\n",
       "    }\n",
       "\n",
       "    .dataframe thead th {\n",
       "        text-align: right;\n",
       "    }\n",
       "</style>\n",
       "<table border=\"1\" class=\"dataframe\">\n",
       "  <thead>\n",
       "    <tr style=\"text-align: right;\">\n",
       "      <th></th>\n",
       "      <th>problem_id</th>\n",
       "      <th>language</th>\n",
       "      <th>original_status</th>\n",
       "      <th>original_src</th>\n",
       "      <th>changed_src</th>\n",
       "      <th>change</th>\n",
       "      <th>i1</th>\n",
       "      <th>i2</th>\n",
       "      <th>j1</th>\n",
       "      <th>j2</th>\n",
       "      <th>error</th>\n",
       "      <th>stderr</th>\n",
       "      <th>predicted</th>\n",
       "    </tr>\n",
       "  </thead>\n",
       "  <tbody>\n",
       "    <tr>\n",
       "      <th>0</th>\n",
       "      <td>p00001</td>\n",
       "      <td>C++</td>\n",
       "      <td>Runtime Error</td>\n",
       "      <td>#include &lt;algorithm&gt;\\n#include &lt;cstdio&gt;\\n\\nusi...</td>\n",
       "      <td>#include &lt;algorithm&gt;\\n#include &lt;cstdio&gt;\\n\\nusi...</td>\n",
       "      <td>replace</td>\n",
       "      <td>11</td>\n",
       "      <td>12</td>\n",
       "      <td>11</td>\n",
       "      <td>12</td>\n",
       "      <td>-11</td>\n",
       "      <td></td>\n",
       "      <td>is the best? caused cause when the game gameb...</td>\n",
       "    </tr>\n",
       "    <tr>\n",
       "      <th>1</th>\n",
       "      <td>p00001</td>\n",
       "      <td>Python</td>\n",
       "      <td>Runtime Error</td>\n",
       "      <td>num = [int(input()) for i in range(10)]\\nnum.s...</td>\n",
       "      <td>num = [int(input()) for i in range(10)]\\nnum.s...</td>\n",
       "      <td>replace</td>\n",
       "      <td>2</td>\n",
       "      <td>3</td>\n",
       "      <td>2</td>\n",
       "      <td>3</td>\n",
       "      <td>TypeError: 'type' object is not subscriptable</td>\n",
       "      <td>Traceback (most recent call last):\\n  File \"/h...</td>\n",
       "      <td>is the best? caused cause when the game gameb...</td>\n",
       "    </tr>\n",
       "  </tbody>\n",
       "</table>\n",
       "</div>"
      ],
      "text/plain": [
       "  problem_id language original_status  \\\n",
       "0     p00001      C++   Runtime Error   \n",
       "1     p00001   Python   Runtime Error   \n",
       "\n",
       "                                        original_src  \\\n",
       "0  #include <algorithm>\\n#include <cstdio>\\n\\nusi...   \n",
       "1  num = [int(input()) for i in range(10)]\\nnum.s...   \n",
       "\n",
       "                                         changed_src   change  i1  i2  j1  j2  \\\n",
       "0  #include <algorithm>\\n#include <cstdio>\\n\\nusi...  replace  11  12  11  12   \n",
       "1  num = [int(input()) for i in range(10)]\\nnum.s...  replace   2   3   2   3   \n",
       "\n",
       "                                           error  \\\n",
       "0                                            -11   \n",
       "1  TypeError: 'type' object is not subscriptable   \n",
       "\n",
       "                                              stderr  \\\n",
       "0                                                      \n",
       "1  Traceback (most recent call last):\\n  File \"/h...   \n",
       "\n",
       "                                           predicted  \n",
       "0   is the best? caused cause when the game gameb...  \n",
       "1   is the best? caused cause when the game gameb...  "
      ]
     },
     "execution_count": 47,
     "metadata": {},
     "output_type": "execute_result"
    }
   ],
   "source": [
    "df = pd.read_csv(CSV_PATH, keep_default_na=False)\n",
    "\n",
    "with open(PKL_PATH, \"rb\") as f:\n",
    "    attentions = pickle.load(f)\n",
    "\n",
    "df.head()"
   ]
  },
  {
   "cell_type": "code",
   "execution_count": 48,
   "id": "ba81e875",
   "metadata": {},
   "outputs": [
    {
     "name": "stdout",
     "output_type": "stream",
     "text": [
      "The exact accuracy of the openai model is 0.0\n"
     ]
    }
   ],
   "source": [
    "df[\"correct_exact\"] = df[\"error\"].isin(df[\"predicted\"])\n",
    "\n",
    "correct = df[\"correct_exact\"].sum()\n",
    "print(f\"The exact accuracy of the openai model is {correct / len(df)}\")"
   ]
  },
  {
   "cell_type": "code",
   "execution_count": 49,
   "id": "e2be91dd",
   "metadata": {},
   "outputs": [
    {
     "name": "stdout",
     "output_type": "stream",
     "text": [
      "The partial accuracy of the openai model is 0.5\n"
     ]
    }
   ],
   "source": [
    "def check_if_correct(row: pd.Series) -> bool:\n",
    "    error = row[\"error\"]\n",
    "    predicted = row[\"predicted\"]\n",
    "    \n",
    "    words = word_tokenize(error)\n",
    "    return any(w in predicted for w in words)\n",
    "\n",
    "df[\"correct_partial\"] = df.apply(check_if_correct, axis=\"columns\")\n",
    "\n",
    "correct = df[\"correct_partial\"].sum()\n",
    "print(f\"The partial accuracy of the openai model is {correct / len(df)}\")"
   ]
  },
  {
   "cell_type": "code",
   "execution_count": 20,
   "id": "b6cc511b",
   "metadata": {},
   "outputs": [],
   "source": [
    "def get_bug_type(row: pd.Series) -> str:\n",
    "    line = \"\\n\".join(row[\"changed_src\"].splitlines()[row[\"j1\"] : row[\"j2\"]])\n",
    "    language = row[\"language\"]\n",
    "\n",
    "    if language == \"Python\":\n",
    "        return (\n",
    "            \"input\"\n",
    "            if \"input\" in line\n",
    "            else \"output\"\n",
    "            if \"print\" in line\n",
    "            else \"algorithm\"\n",
    "        )\n",
    "\n",
    "    if language == \"C++\":\n",
    "        return (\n",
    "            \"input\"\n",
    "            if (\"cin\" in line or \"scanf\" in line)\n",
    "            else \"output\"\n",
    "            if (\"cout\" in line or \"printf\" in line)\n",
    "            else \"algorithm\"\n",
    "        )\n",
    "\n",
    "    raise NotImplementedError(f\"{language} not implemented yet\")\n",
    "\n",
    "df[\"type\"] = df.apply(get_bug_type, axis=\"columns\")"
   ]
  },
  {
   "cell_type": "code",
   "execution_count": 21,
   "id": "55ae2ae2",
   "metadata": {},
   "outputs": [
    {
     "name": "stdout",
     "output_type": "stream",
     "text": [
      "Exact match accuracy\n"
     ]
    },
    {
     "data": {
      "text/html": [
       "<div>\n",
       "<style scoped>\n",
       "    .dataframe tbody tr th:only-of-type {\n",
       "        vertical-align: middle;\n",
       "    }\n",
       "\n",
       "    .dataframe tbody tr th {\n",
       "        vertical-align: top;\n",
       "    }\n",
       "\n",
       "    .dataframe thead th {\n",
       "        text-align: right;\n",
       "    }\n",
       "</style>\n",
       "<table border=\"1\" class=\"dataframe\">\n",
       "  <thead>\n",
       "    <tr style=\"text-align: right;\">\n",
       "      <th></th>\n",
       "      <th></th>\n",
       "      <th>sum</th>\n",
       "      <th>count</th>\n",
       "      <th>accuracy</th>\n",
       "    </tr>\n",
       "    <tr>\n",
       "      <th>language</th>\n",
       "      <th>type</th>\n",
       "      <th></th>\n",
       "      <th></th>\n",
       "      <th></th>\n",
       "    </tr>\n",
       "  </thead>\n",
       "  <tbody>\n",
       "    <tr>\n",
       "      <th>C++</th>\n",
       "      <th>algorithm</th>\n",
       "      <td>0</td>\n",
       "      <td>1</td>\n",
       "      <td>0.0</td>\n",
       "    </tr>\n",
       "    <tr>\n",
       "      <th>Python</th>\n",
       "      <th>algorithm</th>\n",
       "      <td>0</td>\n",
       "      <td>1</td>\n",
       "      <td>0.0</td>\n",
       "    </tr>\n",
       "  </tbody>\n",
       "</table>\n",
       "</div>"
      ],
      "text/plain": [
       "                    sum  count  accuracy\n",
       "language type                           \n",
       "C++      algorithm    0      1       0.0\n",
       "Python   algorithm    0      1       0.0"
      ]
     },
     "execution_count": 21,
     "metadata": {},
     "output_type": "execute_result"
    }
   ],
   "source": [
    "lang_df = df.groupby([\"language\", \"type\"])[\"correct_exact\"].agg(\n",
    "    [\"sum\", \"count\"]\n",
    ")\n",
    "lang_df[\"accuracy\"] = lang_df[\"sum\"] / lang_df[\"count\"]\n",
    "\n",
    "print(\"Exact match accuracy\")\n",
    "lang_df"
   ]
  },
  {
   "cell_type": "code",
   "execution_count": 22,
   "id": "41ab1a15",
   "metadata": {},
   "outputs": [
    {
     "name": "stdout",
     "output_type": "stream",
     "text": [
      "Partial accuracy\n"
     ]
    },
    {
     "data": {
      "text/html": [
       "<div>\n",
       "<style scoped>\n",
       "    .dataframe tbody tr th:only-of-type {\n",
       "        vertical-align: middle;\n",
       "    }\n",
       "\n",
       "    .dataframe tbody tr th {\n",
       "        vertical-align: top;\n",
       "    }\n",
       "\n",
       "    .dataframe thead th {\n",
       "        text-align: right;\n",
       "    }\n",
       "</style>\n",
       "<table border=\"1\" class=\"dataframe\">\n",
       "  <thead>\n",
       "    <tr style=\"text-align: right;\">\n",
       "      <th></th>\n",
       "      <th></th>\n",
       "      <th>sum</th>\n",
       "      <th>count</th>\n",
       "      <th>accuracy</th>\n",
       "    </tr>\n",
       "    <tr>\n",
       "      <th>language</th>\n",
       "      <th>type</th>\n",
       "      <th></th>\n",
       "      <th></th>\n",
       "      <th></th>\n",
       "    </tr>\n",
       "  </thead>\n",
       "  <tbody>\n",
       "    <tr>\n",
       "      <th>C++</th>\n",
       "      <th>algorithm</th>\n",
       "      <td>0</td>\n",
       "      <td>1</td>\n",
       "      <td>0.0</td>\n",
       "    </tr>\n",
       "    <tr>\n",
       "      <th>Python</th>\n",
       "      <th>algorithm</th>\n",
       "      <td>1</td>\n",
       "      <td>1</td>\n",
       "      <td>1.0</td>\n",
       "    </tr>\n",
       "  </tbody>\n",
       "</table>\n",
       "</div>"
      ],
      "text/plain": [
       "                    sum  count  accuracy\n",
       "language type                           \n",
       "C++      algorithm    0      1       0.0\n",
       "Python   algorithm    1      1       1.0"
      ]
     },
     "execution_count": 22,
     "metadata": {},
     "output_type": "execute_result"
    }
   ],
   "source": [
    "lang_df = df.groupby([\"language\", \"type\"])[\"correct_partial\"].agg(\n",
    "    [\"sum\", \"count\"]\n",
    ")\n",
    "lang_df[\"accuracy\"] = lang_df[\"sum\"] / lang_df[\"count\"]\n",
    "\n",
    "print(\"Partial accuracy\")\n",
    "lang_df"
   ]
  },
  {
   "cell_type": "code",
   "execution_count": 23,
   "id": "f8edcdf3",
   "metadata": {},
   "outputs": [],
   "source": [
    "def is_in_interval(i: int, interval: Tuple[int, int]) -> bool:\n",
    "    i1, i2 = interval\n",
    "    return i1 <= i and i <= i2\n",
    "\n",
    "def is_in_intervals(i: int, intervals: List[Tuple[int, int]]) -> bool:\n",
    "    return any(is_in_interval(i, interval) for interval in intervals)\n",
    "\n",
    "def color_source_lines(source_code: str, intervals: List[Tuple[int, int]], color: str='red'):\n",
    "    lines = source_code.splitlines(keepends=True)\n",
    "    \n",
    "    text = \"\"\n",
    "    for i, line_str in enumerate(lines):\n",
    "        for char in line_str:\n",
    "            norm_color = 'black'\n",
    "            if char == ' ':\n",
    "                char = \"•\"\n",
    "                norm_color = 'lightgrey'\n",
    "            if char == '\\n':\n",
    "                char = \"↵\\n\"\n",
    "                norm_color = 'lightgrey'\n",
    "            text += f'<span style=\"color:{color if is_in_intervals(i, intervals) else norm_color};\">{char}</span>'\n",
    "\n",
    "    return \"<pre>\" + text + \"</pre>\"\n",
    "\n",
    "def color_source_chars(source_code: str, intervals: List[Tuple[int, int]], color: str='red'):\n",
    "    text = \"\"\n",
    "    for i, char in enumerate(source_code):\n",
    "        norm_color = 'black'\n",
    "        if char == ' ':\n",
    "            char = \"•\"\n",
    "            norm_color = 'lightgrey'\n",
    "        if char == '\\n':\n",
    "            char = \"↵\\n\"\n",
    "            norm_color = 'lightgrey'\n",
    "        text += f'<span style=\"color:{color if is_in_intervals(i, intervals) else norm_color};\">{char}</span>'\n",
    "\n",
    "    return \"<pre>\" + text + \"</pre>\""
   ]
  },
  {
   "cell_type": "code",
   "execution_count": 24,
   "id": "f0f469e2",
   "metadata": {},
   "outputs": [],
   "source": [
    "def find_intervals(words: List[str], text: str) -> List[Tuple[int, int]]:\n",
    "    intervals = []\n",
    "    for word in words:\n",
    "        start_index = 0\n",
    "\n",
    "        while True:\n",
    "            index = text.find(word, start_index)\n",
    "            if index == -1:\n",
    "                break\n",
    "                \n",
    "            start_index = index + len(word)            \n",
    "            intervals.append((index, start_index - 1))\n",
    "    \n",
    "    return intervals"
   ]
  },
  {
   "cell_type": "code",
   "execution_count": 25,
   "id": "9646f23d",
   "metadata": {},
   "outputs": [],
   "source": [
    "df[\"original_src_html\"] = df.apply(\n",
    "    lambda row: color_source_lines(row[\"original_src\"], [(row[\"i1\"], row[\"i2\"])], color=\"red\"), \n",
    "    axis=\"columns\",\n",
    ")\n",
    "\n",
    "df[\"src_html\"] = df.apply(\n",
    "    lambda row: color_source_chars(row[\"predicted\"], find_intervals(word_tokenize(row[\"error\"]), row[\"predicted\"]), color=\"red\"), \n",
    "    axis=\"columns\",\n",
    ")"
   ]
  },
  {
   "cell_type": "code",
   "execution_count": 26,
   "id": "46a207a2",
   "metadata": {
    "scrolled": false
   },
   "outputs": [
    {
     "data": {
      "text/html": [
       "<h2>Example 0</h2>"
      ],
      "text/plain": [
       "<IPython.core.display.HTML object>"
      ]
     },
     "metadata": {},
     "output_type": "display_data"
    },
    {
     "data": {
      "text/html": [
       "<h6>Original Source Code</h6>"
      ],
      "text/plain": [
       "<IPython.core.display.HTML object>"
      ]
     },
     "metadata": {},
     "output_type": "display_data"
    },
    {
     "data": {
      "text/html": [
       "<pre><span style=\"color:black;\">n</span><span style=\"color:black;\">u</span><span style=\"color:black;\">m</span><span style=\"color:lightgrey;\">•</span><span style=\"color:black;\">=</span><span style=\"color:lightgrey;\">•</span><span style=\"color:black;\">[</span><span style=\"color:black;\">i</span><span style=\"color:black;\">n</span><span style=\"color:black;\">t</span><span style=\"color:black;\">(</span><span style=\"color:black;\">i</span><span style=\"color:black;\">n</span><span style=\"color:black;\">p</span><span style=\"color:black;\">u</span><span style=\"color:black;\">t</span><span style=\"color:black;\">(</span><span style=\"color:black;\">)</span><span style=\"color:black;\">)</span><span style=\"color:lightgrey;\">•</span><span style=\"color:black;\">f</span><span style=\"color:black;\">o</span><span style=\"color:black;\">r</span><span style=\"color:lightgrey;\">•</span><span style=\"color:black;\">i</span><span style=\"color:lightgrey;\">•</span><span style=\"color:black;\">i</span><span style=\"color:black;\">n</span><span style=\"color:lightgrey;\">•</span><span style=\"color:black;\">r</span><span style=\"color:black;\">a</span><span style=\"color:black;\">n</span><span style=\"color:black;\">g</span><span style=\"color:black;\">e</span><span style=\"color:black;\">(</span><span style=\"color:black;\">1</span><span style=\"color:black;\">0</span><span style=\"color:black;\">)</span><span style=\"color:black;\">]</span><span style=\"color:lightgrey;\">↵\n",
       "</span><span style=\"color:black;\">n</span><span style=\"color:black;\">u</span><span style=\"color:black;\">m</span><span style=\"color:black;\">.</span><span style=\"color:black;\">s</span><span style=\"color:black;\">o</span><span style=\"color:black;\">r</span><span style=\"color:black;\">t</span><span style=\"color:black;\">(</span><span style=\"color:black;\">r</span><span style=\"color:black;\">e</span><span style=\"color:black;\">v</span><span style=\"color:black;\">e</span><span style=\"color:black;\">r</span><span style=\"color:black;\">s</span><span style=\"color:black;\">e</span><span style=\"color:black;\">=</span><span style=\"color:black;\">T</span><span style=\"color:black;\">r</span><span style=\"color:black;\">u</span><span style=\"color:black;\">e</span><span style=\"color:black;\">)</span><span style=\"color:lightgrey;\">↵\n",
       "</span><span style=\"color:red;\">f</span><span style=\"color:red;\">o</span><span style=\"color:red;\">r</span><span style=\"color:red;\">•</span><span style=\"color:red;\">i</span><span style=\"color:red;\">•</span><span style=\"color:red;\">i</span><span style=\"color:red;\">n</span><span style=\"color:red;\">•</span><span style=\"color:red;\">r</span><span style=\"color:red;\">a</span><span style=\"color:red;\">n</span><span style=\"color:red;\">g</span><span style=\"color:red;\">e</span><span style=\"color:red;\">[</span><span style=\"color:red;\">0</span><span style=\"color:red;\">:</span><span style=\"color:red;\">3</span><span style=\"color:red;\">]</span><span style=\"color:red;\">:</span><span style=\"color:red;\">↵\n",
       "</span><span style=\"color:red;\">•</span><span style=\"color:red;\">•</span><span style=\"color:red;\">•</span><span style=\"color:red;\">•</span><span style=\"color:red;\">p</span><span style=\"color:red;\">r</span><span style=\"color:red;\">i</span><span style=\"color:red;\">n</span><span style=\"color:red;\">t</span><span style=\"color:red;\">(</span><span style=\"color:red;\">n</span><span style=\"color:red;\">u</span><span style=\"color:red;\">m</span><span style=\"color:red;\">[</span><span style=\"color:red;\">i</span><span style=\"color:red;\">]</span><span style=\"color:red;\">)</span><span style=\"color:red;\">↵\n",
       "</span></pre>"
      ],
      "text/plain": [
       "<IPython.core.display.HTML object>"
      ]
     },
     "metadata": {},
     "output_type": "display_data"
    },
    {
     "data": {
      "text/html": [
       "<h6>True Error Message</h6>"
      ],
      "text/plain": [
       "<IPython.core.display.HTML object>"
      ]
     },
     "metadata": {},
     "output_type": "display_data"
    },
    {
     "data": {
      "text/html": [
       "TypeError: 'type' object is not subscriptable"
      ],
      "text/plain": [
       "<IPython.core.display.HTML object>"
      ]
     },
     "metadata": {},
     "output_type": "display_data"
    },
    {
     "data": {
      "text/html": [
       "<h6>OpenAI Prediction</h6>"
      ],
      "text/plain": [
       "<IPython.core.display.HTML object>"
      ]
     },
     "metadata": {},
     "output_type": "display_data"
    },
    {
     "data": {
      "text/html": [
       "<pre><span style=\"color:lightgrey;\">•</span><span style=\"color:red;\">i</span><span style=\"color:red;\">s</span><span style=\"color:lightgrey;\">•</span><span style=\"color:black;\">t</span><span style=\"color:black;\">h</span><span style=\"color:black;\">e</span><span style=\"color:lightgrey;\">•</span><span style=\"color:black;\">b</span><span style=\"color:black;\">e</span><span style=\"color:black;\">s</span><span style=\"color:black;\">t</span><span style=\"color:black;\">?</span><span style=\"color:lightgrey;\">•</span><span style=\"color:black;\">c</span><span style=\"color:black;\">a</span><span style=\"color:black;\">u</span><span style=\"color:black;\">s</span><span style=\"color:black;\">e</span><span style=\"color:black;\">d</span><span style=\"color:lightgrey;\">•</span><span style=\"color:black;\">c</span><span style=\"color:black;\">a</span><span style=\"color:black;\">u</span><span style=\"color:black;\">s</span><span style=\"color:black;\">e</span><span style=\"color:lightgrey;\">•</span><span style=\"color:black;\">w</span><span style=\"color:black;\">h</span><span style=\"color:black;\">e</span><span style=\"color:black;\">n</span><span style=\"color:lightgrey;\">•</span><span style=\"color:black;\">t</span><span style=\"color:black;\">h</span><span style=\"color:black;\">e</span><span style=\"color:lightgrey;\">•</span><span style=\"color:black;\">g</span><span style=\"color:black;\">a</span><span style=\"color:black;\">m</span><span style=\"color:black;\">e</span><span style=\"color:lightgrey;\">•</span><span style=\"color:black;\">g</span><span style=\"color:black;\">a</span><span style=\"color:black;\">m</span><span style=\"color:black;\">e</span><span style=\"color:black;\">b</span><span style=\"color:black;\">a</span><span style=\"color:black;\">s</span><span style=\"color:black;\">e</span><span style=\"color:lightgrey;\">↵\n",
       "</span><span style=\"color:black;\">?</span><span style=\"color:black;\">`</span><span style=\"color:lightgrey;\">↵\n",
       "</span><span style=\"color:lightgrey;\">↵\n",
       "</span><span style=\"color:black;\">_</span><span style=\"color:lightgrey;\">•</span><span style=\"color:black;\">1</span><span style=\"color:black;\">1</span><span style=\"color:black;\">]</span><span style=\"color:black;\">n</span><span style=\"color:black;\">u</span><span style=\"color:black;\">m</span><span style=\"color:black;\">.</span><span style=\"color:lightgrey;\">•</span><span style=\"color:black;\">f</span><span style=\"color:black;\">o</span><span style=\"color:black;\">r</span><span style=\"color:lightgrey;\">•</span><span style=\"color:black;\">i</span><span style=\"color:lightgrey;\">•</span><span style=\"color:black;\">i</span><span style=\"color:black;\">n</span><span style=\"color:lightgrey;\">•</span><span style=\"color:black;\">r</span><span style=\"color:black;\">a</span><span style=\"color:black;\">n</span><span style=\"color:black;\">g</span><span style=\"color:black;\">e</span><span style=\"color:black;\">(</span><span style=\"color:black;\">1</span><span style=\"color:black;\">)</span><span style=\"color:black;\">]</span><span style=\"color:lightgrey;\">↵\n",
       "</span><span style=\"color:lightgrey;\">↵\n",
       "</span><span style=\"color:lightgrey;\">•</span><span style=\"color:black;\">+</span><span style=\"color:black;\">=</span><span style=\"color:black;\">p</span><span style=\"color:black;\">u</span><span style=\"color:black;\">s</span><span style=\"color:black;\">h</span><span style=\"color:black;\">(</span><span style=\"color:black;\">i</span><span style=\"color:black;\">n</span><span style=\"color:black;\">p</span><span style=\"color:black;\">u</span><span style=\"color:black;\">t</span><span style=\"color:black;\">(</span><span style=\"color:black;\">T</span><span style=\"color:black;\">r</span><span style=\"color:black;\">u</span><span style=\"color:black;\">e</span><span style=\"color:black;\">)</span><span style=\"color:lightgrey;\">↵\n",
       "</span><span style=\"color:lightgrey;\">↵\n",
       "</span><span style=\"color:lightgrey;\">•</span><span style=\"color:black;\">i</span><span style=\"color:lightgrey;\">•</span><span style=\"color:black;\">i</span><span style=\"color:black;\">n</span><span style=\"color:lightgrey;\">•</span><span style=\"color:black;\">r</span><span style=\"color:black;\">a</span><span style=\"color:black;\">n</span><span style=\"color:black;\">g</span><span style=\"color:black;\">e</span><span style=\"color:black;\">(</span><span style=\"color:black;\">0</span><span style=\"color:black;\">.</span><span style=\"color:black;\">.</span><span style=\"color:black;\">n</span><span style=\"color:black;\">u</span><span style=\"color:black;\">m</span><span style=\"color:black;\">]</span><span style=\"color:lightgrey;\">↵\n",
       "</span><span style=\"color:lightgrey;\">↵\n",
       "</span><span style=\"color:black;\"> </span><span style=\"color:black;\"> </span><span style=\"color:lightgrey;\">↵\n",
       "</span><span style=\"color:black;\">(</span><span style=\"color:black;\">n</span><span style=\"color:black;\">u</span><span style=\"color:black;\">m</span><span style=\"color:black;\">)</span><span style=\"color:black;\">i</span><span style=\"color:black;\">]</span><span style=\"color:black;\">)</span><span style=\"color:lightgrey;\">↵\n",
       "</span><span style=\"color:black;\">f</span><span style=\"color:black;\">o</span><span style=\"color:black;\">r</span><span style=\"color:black;\">`</span><span style=\"color:lightgrey;\">↵\n",
       "</span></pre>"
      ],
      "text/plain": [
       "<IPython.core.display.HTML object>"
      ]
     },
     "metadata": {},
     "output_type": "display_data"
    }
   ],
   "source": [
    "correct_df = df[df[\"correct_partial\"]]\n",
    "for i in range(min(len(correct_df), 10)):\n",
    "    display(HTML(f\"<h2>Example {i}</h2>\"))\n",
    "    \n",
    "    display(HTML(f\"<h6>Original Source Code</h6>\"))\n",
    "    display(HTML(correct_df[\"original_src_html\"].iloc[i]))\n",
    "\n",
    "    display(HTML(f\"<h6>True Error Message</h6>\"))\n",
    "    display(HTML(correct_df[\"error\"].iloc[i]))\n",
    "\n",
    "    display(HTML(f\"<h6>OpenAI Prediction</h6>\"))\n",
    "    display(HTML(correct_df[\"src_html\"].iloc[i]))"
   ]
  },
  {
   "cell_type": "code",
   "execution_count": 57,
   "id": "11919943",
   "metadata": {},
   "outputs": [],
   "source": [
    "from bertviz import head_view\n",
    "from transformers import AutoTokenizer\n",
    "\n",
    "tokenizer = AutoTokenizer.from_pretrained(MODEL)\n",
    "\n",
    "def show(pairs_df: pd.DataFrame, attentions: List[List], index: int):\n",
    "    text = pairs_df.iloc[index][\"original_src\"]\n",
    "    input_text = make_prompt_simple(text)\n",
    "    inputs = tokenizer.encode(input_text, return_tensors='pt')  # Tokenize input text\n",
    "    tokens = tokenizer.convert_ids_to_tokens(inputs[0])  # Convert input ids to token strings\n",
    "    attention = attentions[index]\n",
    "    \n",
    "    return head_view(attention[:1], tokens)  # Display model view\n",
    "\n",
    "# show(df, attentions, 0) # Laggy AF"
   ]
  },
  {
   "cell_type": "code",
   "execution_count": null,
   "id": "3f06d049",
   "metadata": {},
   "outputs": [],
   "source": []
  }
 ],
 "metadata": {
  "kernelspec": {
   "display_name": "Python 3 (ipykernel)",
   "language": "python",
   "name": "python3"
  },
  "language_info": {
   "codemirror_mode": {
    "name": "ipython",
    "version": 3
   },
   "file_extension": ".py",
   "mimetype": "text/x-python",
   "name": "python",
   "nbconvert_exporter": "python",
   "pygments_lexer": "ipython3",
   "version": "3.10.7"
  }
 },
 "nbformat": 4,
 "nbformat_minor": 5
}
