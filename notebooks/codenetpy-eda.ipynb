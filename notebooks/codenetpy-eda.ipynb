{
 "cells": [
  {
   "cell_type": "markdown",
   "id": "c946ea6e",
   "metadata": {
    "papermill": {
     "duration": 0.010531,
     "end_time": "2022-03-11T12:54:28.086954",
     "exception": false,
     "start_time": "2022-03-11T12:54:28.076423",
     "status": "completed"
    },
    "tags": []
   },
   "source": [
    "# CodeNetPy Dataset\n",
    "\n",
    "In this notebook I intend to make it very easy to visualize all the necessary information about a specific problem. The base dataset I will be using in this notebook is [CodeNet](https://github.com/IBM/Project_CodeNet) which is a large collection of source files and problem descriptions with metadata. The solutions are written in multiple programming languages (55+ according to the paper) and each problem has multiple submissions. Most of the submissions are written in the six most common languages (C++, Python, Java, C, Ruby, C#). As expected most of the solutions are in C++. One interesting aspect of the dataset is that it includes failed submissions, with various status codes such as Compilation Errors, Runtime Errors, Time Limit Exceeded, Memory Limit Exceeded, etc. This will prove useful since we are looking into bug detection in source code files.\n",
    "\n",
    "To be able to run the notebook you have to run the `codenet.py` script first. It will download and preprocess the CodeNetPy dataset.\n",
    "\n",
    "```console\n",
    "python3 codenet.py\n",
    "```\n",
    "\n",
    "## Table of Contents\n",
    "1. [Imports](#Imports)\n",
    "1. [Download CodeNet](#Download-CodeNet)\n",
    "1. [Missing Values](#Missing-Values)\n",
    "1. [Generate Source Code Pairs](#Generate-Source-Code-Pairs)\n",
    "1. [Generate Error Pairs](#Generate-Error-Pairs)\n",
    "1. [Examples of buggy code](#Examples-of-buggy-code)\n",
    "\n",
    "## Imports"
   ]
  },
  {
   "cell_type": "code",
   "execution_count": 1,
   "id": "7c6ec3d2",
   "metadata": {
    "ExecuteTime": {
     "end_time": "2022-04-09T16:20:09.607620Z",
     "start_time": "2022-04-09T16:20:09.220339Z"
    },
    "execution": {
     "iopub.execute_input": "2022-03-11T12:54:28.111520Z",
     "iopub.status.busy": "2022-03-11T12:54:28.109880Z",
     "iopub.status.idle": "2022-03-11T12:54:28.175183Z",
     "shell.execute_reply": "2022-03-11T12:54:28.175633Z",
     "shell.execute_reply.started": "2022-03-11T12:49:24.637186Z"
    },
    "papermill": {
     "duration": 0.079005,
     "end_time": "2022-03-11T12:54:28.175932",
     "exception": false,
     "start_time": "2022-03-11T12:54:28.096927",
     "status": "completed"
    },
    "tags": []
   },
   "outputs": [],
   "source": [
    "import json\n",
    "\n",
    "import numpy as np\n",
    "import pandas as pd\n",
    "\n",
    "from difflib import SequenceMatcher\n",
    "from IPython.display import HTML\n",
    "\n",
    "pd.set_option('display.max_columns', None)\n",
    "\n",
    "problem_list_clean_path = \"../../input/generated/problem_list_clean.csv\"\n",
    "generated_pairs_path = \"../../input/generated/generated_pairs.csv\"\n",
    "codenetpy_path = \"../../input/generated/codenetpy.json\"\n",
    "filter_codenetpy_path = \"../../input/generated/filter_codenetpy.json\""
   ]
  },
  {
   "cell_type": "markdown",
   "id": "763793ab",
   "metadata": {
    "papermill": {
     "duration": 0.009029,
     "end_time": "2022-03-11T12:54:28.194323",
     "exception": false,
     "start_time": "2022-03-11T12:54:28.185294",
     "status": "completed"
    },
    "tags": []
   },
   "source": [
    "## Download CodeNet\n",
    "\n",
    "To generate the same dataset as the one used in this project you can download the CodeNet dataset as described in IBM's GitHub repository and run the data processing pipeline from [this](https://github.com/alexjercan/bug-detection) GitHub repo."
   ]
  },
  {
   "cell_type": "markdown",
   "id": "92bca386",
   "metadata": {
    "papermill": {
     "duration": 0.008967,
     "end_time": "2022-03-11T12:54:28.212626",
     "exception": false,
     "start_time": "2022-03-11T12:54:28.203659",
     "status": "completed"
    },
    "tags": []
   },
   "source": [
    "## Missing Values\n",
    "\n",
    "The dataset also includes a description file for most of the problems. We can see which problems have or don't have a description associated. The description file can be useful to predict what the problem topic is about, graphs, dp, greedy, etc.\n",
    "\n",
    "In the case of missing input files, I think it is also better to just drop the submissions, most of the description files are written in Chinese and we cannot really extract any useful information from them. Since there are so few files with no input we can drop them. By looking in the description files there are like 2 problems with no input from the stdin.\n",
    "\n",
    "To conclude the missing values section, 54/56 of the missing names in the problems list are due to missing description files 1/56 is just a href which links to a 404 web page and the last one is a test problem, the later 2 problems having no submissions anyway. I think it is a fair decision to drop these samples as they are not useful. There will be 130 remaining problems with no input/output samples and 128 of them have description files in Chinese which makes it harder to extract samples, and 2 of them only require printing of values (similar to problem p00000). In this case I also think that it is ok to drop those 2 problems that don't need input alongside the rest of problems that have no input examples extracted, because we don't have to remember that there is one or two problems that can cause some bugs later on.\n",
    "\n",
    "In the next cell we can look at the cleaned problem list dataframe that is contained in the CodeNetPy dataset."
   ]
  },
  {
   "cell_type": "code",
   "execution_count": 2,
   "id": "8051d321",
   "metadata": {
    "ExecuteTime": {
     "end_time": "2022-04-09T16:20:09.639916Z",
     "start_time": "2022-04-09T16:20:09.608908Z"
    },
    "execution": {
     "iopub.execute_input": "2022-03-11T12:54:28.236545Z",
     "iopub.status.busy": "2022-03-11T12:54:28.235970Z",
     "iopub.status.idle": "2022-03-11T12:54:28.292309Z",
     "shell.execute_reply": "2022-03-11T12:54:28.291814Z",
     "shell.execute_reply.started": "2022-03-11T12:49:24.743272Z"
    },
    "papermill": {
     "duration": 0.07067,
     "end_time": "2022-03-11T12:54:28.292442",
     "exception": false,
     "start_time": "2022-03-11T12:54:28.221772",
     "status": "completed"
    },
    "tags": []
   },
   "outputs": [
    {
     "name": "stdout",
     "output_type": "stream",
     "text": [
      "We have 3867 problems\n",
      "The distribution of the datasets is\n",
      "AIZU       0.613654\n",
      "AtCoder    0.386346\n",
      "Name: dataset, dtype: float64\n"
     ]
    },
    {
     "data": {
      "text/html": [
       "<div>\n",
       "<style scoped>\n",
       "    .dataframe tbody tr th:only-of-type {\n",
       "        vertical-align: middle;\n",
       "    }\n",
       "\n",
       "    .dataframe tbody tr th {\n",
       "        vertical-align: top;\n",
       "    }\n",
       "\n",
       "    .dataframe thead th {\n",
       "        text-align: right;\n",
       "    }\n",
       "</style>\n",
       "<table border=\"1\" class=\"dataframe\">\n",
       "  <thead>\n",
       "    <tr style=\"text-align: right;\">\n",
       "      <th></th>\n",
       "      <th>name</th>\n",
       "      <th>dataset</th>\n",
       "      <th>time_limit</th>\n",
       "      <th>memory_limit</th>\n",
       "      <th>rating</th>\n",
       "      <th>tags</th>\n",
       "      <th>complexity</th>\n",
       "    </tr>\n",
       "    <tr>\n",
       "      <th>id</th>\n",
       "      <th></th>\n",
       "      <th></th>\n",
       "      <th></th>\n",
       "      <th></th>\n",
       "      <th></th>\n",
       "      <th></th>\n",
       "      <th></th>\n",
       "    </tr>\n",
       "  </thead>\n",
       "  <tbody>\n",
       "    <tr>\n",
       "      <th>p00001</th>\n",
       "      <td>List of Top 3 Hills</td>\n",
       "      <td>AIZU</td>\n",
       "      <td>1000.0</td>\n",
       "      <td>131072.0</td>\n",
       "      <td>NaN</td>\n",
       "      <td>NaN</td>\n",
       "      <td>NaN</td>\n",
       "    </tr>\n",
       "    <tr>\n",
       "      <th>p00002</th>\n",
       "      <td>Digit Number</td>\n",
       "      <td>AIZU</td>\n",
       "      <td>1000.0</td>\n",
       "      <td>131072.0</td>\n",
       "      <td>NaN</td>\n",
       "      <td>NaN</td>\n",
       "      <td>NaN</td>\n",
       "    </tr>\n",
       "    <tr>\n",
       "      <th>p00003</th>\n",
       "      <td>Is it a Right Triangle?</td>\n",
       "      <td>AIZU</td>\n",
       "      <td>1000.0</td>\n",
       "      <td>131072.0</td>\n",
       "      <td>NaN</td>\n",
       "      <td>NaN</td>\n",
       "      <td>NaN</td>\n",
       "    </tr>\n",
       "    <tr>\n",
       "      <th>p00004</th>\n",
       "      <td>Simultaneous Equation</td>\n",
       "      <td>AIZU</td>\n",
       "      <td>1000.0</td>\n",
       "      <td>131072.0</td>\n",
       "      <td>NaN</td>\n",
       "      <td>NaN</td>\n",
       "      <td>NaN</td>\n",
       "    </tr>\n",
       "    <tr>\n",
       "      <th>p00005</th>\n",
       "      <td>GCD and LCM</td>\n",
       "      <td>AIZU</td>\n",
       "      <td>1000.0</td>\n",
       "      <td>131072.0</td>\n",
       "      <td>NaN</td>\n",
       "      <td>NaN</td>\n",
       "      <td>NaN</td>\n",
       "    </tr>\n",
       "  </tbody>\n",
       "</table>\n",
       "</div>"
      ],
      "text/plain": [
       "                           name dataset  time_limit  memory_limit  rating  \\\n",
       "id                                                                          \n",
       "p00001      List of Top 3 Hills    AIZU      1000.0      131072.0     NaN   \n",
       "p00002             Digit Number    AIZU      1000.0      131072.0     NaN   \n",
       "p00003  Is it a Right Triangle?    AIZU      1000.0      131072.0     NaN   \n",
       "p00004    Simultaneous Equation    AIZU      1000.0      131072.0     NaN   \n",
       "p00005              GCD and LCM    AIZU      1000.0      131072.0     NaN   \n",
       "\n",
       "        tags  complexity  \n",
       "id                        \n",
       "p00001   NaN         NaN  \n",
       "p00002   NaN         NaN  \n",
       "p00003   NaN         NaN  \n",
       "p00004   NaN         NaN  \n",
       "p00005   NaN         NaN  "
      ]
     },
     "metadata": {},
     "output_type": "display_data"
    },
    {
     "data": {
      "text/plain": [
       "name               0\n",
       "dataset            0\n",
       "time_limit         0\n",
       "memory_limit       0\n",
       "rating          3867\n",
       "tags            3867\n",
       "complexity      3867\n",
       "dtype: int64"
      ]
     },
     "metadata": {},
     "output_type": "display_data"
    }
   ],
   "source": [
    "problem_list_df = pd.read_csv(problem_list_clean_path, index_col='id')\n",
    "problem_ids = problem_list_df.index.unique()\n",
    "\n",
    "print(f'We have {len(problem_list_df)} problems')\n",
    "print('The distribution of the datasets is')\n",
    "print(problem_list_df['dataset'].value_counts(normalize=True))\n",
    "display(problem_list_df.head())\n",
    "display(problem_list_df.isna().sum())"
   ]
  },
  {
   "cell_type": "markdown",
   "id": "a39a252e",
   "metadata": {
    "papermill": {
     "duration": 0.01014,
     "end_time": "2022-03-11T12:54:28.313629",
     "exception": false,
     "start_time": "2022-03-11T12:54:28.303489",
     "status": "completed"
    },
    "tags": []
   },
   "source": [
    "## Generate Source Code Pairs\n",
    "- for each problem:\n",
    "- group solutions by user and select the solutions that are consecutive and of the form (Error, Accepted) and sort by the submission date; heuristic to search a smaller space, since a user might submit a correct solution after a wrong one\n",
    "- build a df from this list and save it\n",
    "\n",
    "Here we want to generate submission pairs that will allow us to find code fixes within the dataset. With this information we will be able to find the instructions that have to be modified, either deleted, inserted or changed, so that the old code starts to work. You would imagine that solutions that were submitted successively should be similar in terms of content and only have a few changes between each other. The small mistakes can be patched by knowing the accepted submission in that chain and give us the errors produced, and thus removed by the correct instruction. These are the submissions that we are interested in and look into finding patterns and further cleaning those that will not prove helpful."
   ]
  },
  {
   "cell_type": "code",
   "execution_count": 3,
   "id": "00c9502d",
   "metadata": {
    "ExecuteTime": {
     "end_time": "2022-04-09T16:20:09.750176Z",
     "start_time": "2022-04-09T16:20:09.641688Z"
    },
    "execution": {
     "iopub.execute_input": "2022-03-11T12:54:28.337383Z",
     "iopub.status.busy": "2022-03-11T12:54:28.336739Z",
     "iopub.status.idle": "2022-03-11T12:54:28.504060Z",
     "shell.execute_reply": "2022-03-11T12:54:28.503588Z",
     "shell.execute_reply.started": "2022-03-11T12:49:24.819230Z"
    },
    "papermill": {
     "duration": 0.180134,
     "end_time": "2022-03-11T12:54:28.504185",
     "exception": false,
     "start_time": "2022-03-11T12:54:28.324051",
     "status": "completed"
    },
    "tags": []
   },
   "outputs": [
    {
     "data": {
      "text/html": [
       "<div>\n",
       "<style scoped>\n",
       "    .dataframe tbody tr th:only-of-type {\n",
       "        vertical-align: middle;\n",
       "    }\n",
       "\n",
       "    .dataframe tbody tr th {\n",
       "        vertical-align: top;\n",
       "    }\n",
       "\n",
       "    .dataframe thead th {\n",
       "        text-align: right;\n",
       "    }\n",
       "</style>\n",
       "<table border=\"1\" class=\"dataframe\">\n",
       "  <thead>\n",
       "    <tr style=\"text-align: right;\">\n",
       "      <th></th>\n",
       "      <th>original_id</th>\n",
       "      <th>changed_id</th>\n",
       "      <th>original_status</th>\n",
       "      <th>problem_id</th>\n",
       "      <th>language</th>\n",
       "      <th>filename_ext</th>\n",
       "    </tr>\n",
       "  </thead>\n",
       "  <tbody>\n",
       "    <tr>\n",
       "      <th>0</th>\n",
       "      <td>s000016565</td>\n",
       "      <td>s604436209</td>\n",
       "      <td>Runtime Error</td>\n",
       "      <td>p03106</td>\n",
       "      <td>Python</td>\n",
       "      <td>py</td>\n",
       "    </tr>\n",
       "    <tr>\n",
       "      <th>1</th>\n",
       "      <td>s000023530</td>\n",
       "      <td>s834210063</td>\n",
       "      <td>Runtime Error</td>\n",
       "      <td>p02684</td>\n",
       "      <td>Python</td>\n",
       "      <td>py</td>\n",
       "    </tr>\n",
       "    <tr>\n",
       "      <th>2</th>\n",
       "      <td>s000041036</td>\n",
       "      <td>s454210115</td>\n",
       "      <td>Runtime Error</td>\n",
       "      <td>p02584</td>\n",
       "      <td>Python</td>\n",
       "      <td>py</td>\n",
       "    </tr>\n",
       "    <tr>\n",
       "      <th>3</th>\n",
       "      <td>s000041460</td>\n",
       "      <td>s952454189</td>\n",
       "      <td>Time Limit Exceeded</td>\n",
       "      <td>p02658</td>\n",
       "      <td>Python</td>\n",
       "      <td>py</td>\n",
       "    </tr>\n",
       "    <tr>\n",
       "      <th>4</th>\n",
       "      <td>s000054326</td>\n",
       "      <td>s226572665</td>\n",
       "      <td>Time Limit Exceeded</td>\n",
       "      <td>p02701</td>\n",
       "      <td>Python</td>\n",
       "      <td>py</td>\n",
       "    </tr>\n",
       "    <tr>\n",
       "      <th>...</th>\n",
       "      <td>...</td>\n",
       "      <td>...</td>\n",
       "      <td>...</td>\n",
       "      <td>...</td>\n",
       "      <td>...</td>\n",
       "      <td>...</td>\n",
       "    </tr>\n",
       "    <tr>\n",
       "      <th>54587</th>\n",
       "      <td>s999855642</td>\n",
       "      <td>s185899176</td>\n",
       "      <td>Runtime Error</td>\n",
       "      <td>p02645</td>\n",
       "      <td>Python</td>\n",
       "      <td>py</td>\n",
       "    </tr>\n",
       "    <tr>\n",
       "      <th>54588</th>\n",
       "      <td>s999876744</td>\n",
       "      <td>s590378402</td>\n",
       "      <td>Time Limit Exceeded</td>\n",
       "      <td>p02642</td>\n",
       "      <td>Python</td>\n",
       "      <td>py</td>\n",
       "    </tr>\n",
       "    <tr>\n",
       "      <th>54589</th>\n",
       "      <td>s999891212</td>\n",
       "      <td>s835176880</td>\n",
       "      <td>Runtime Error</td>\n",
       "      <td>p03103</td>\n",
       "      <td>Python</td>\n",
       "      <td>py</td>\n",
       "    </tr>\n",
       "    <tr>\n",
       "      <th>54590</th>\n",
       "      <td>s999921259</td>\n",
       "      <td>s180756175</td>\n",
       "      <td>Time Limit Exceeded</td>\n",
       "      <td>p02713</td>\n",
       "      <td>Python</td>\n",
       "      <td>py</td>\n",
       "    </tr>\n",
       "    <tr>\n",
       "      <th>54591</th>\n",
       "      <td>s999971803</td>\n",
       "      <td>s030030532</td>\n",
       "      <td>Runtime Error</td>\n",
       "      <td>p03043</td>\n",
       "      <td>Python</td>\n",
       "      <td>py</td>\n",
       "    </tr>\n",
       "  </tbody>\n",
       "</table>\n",
       "<p>54592 rows × 6 columns</p>\n",
       "</div>"
      ],
      "text/plain": [
       "      original_id  changed_id      original_status problem_id language  \\\n",
       "0      s000016565  s604436209        Runtime Error     p03106   Python   \n",
       "1      s000023530  s834210063        Runtime Error     p02684   Python   \n",
       "2      s000041036  s454210115        Runtime Error     p02584   Python   \n",
       "3      s000041460  s952454189  Time Limit Exceeded     p02658   Python   \n",
       "4      s000054326  s226572665  Time Limit Exceeded     p02701   Python   \n",
       "...           ...         ...                  ...        ...      ...   \n",
       "54587  s999855642  s185899176        Runtime Error     p02645   Python   \n",
       "54588  s999876744  s590378402  Time Limit Exceeded     p02642   Python   \n",
       "54589  s999891212  s835176880        Runtime Error     p03103   Python   \n",
       "54590  s999921259  s180756175  Time Limit Exceeded     p02713   Python   \n",
       "54591  s999971803  s030030532        Runtime Error     p03043   Python   \n",
       "\n",
       "      filename_ext  \n",
       "0               py  \n",
       "1               py  \n",
       "2               py  \n",
       "3               py  \n",
       "4               py  \n",
       "...            ...  \n",
       "54587           py  \n",
       "54588           py  \n",
       "54589           py  \n",
       "54590           py  \n",
       "54591           py  \n",
       "\n",
       "[54592 rows x 6 columns]"
      ]
     },
     "metadata": {},
     "output_type": "display_data"
    },
    {
     "name": "stdout",
     "output_type": "stream",
     "text": [
      "<class 'pandas.core.frame.DataFrame'>\n",
      "RangeIndex: 54592 entries, 0 to 54591\n",
      "Data columns (total 6 columns):\n",
      " #   Column           Non-Null Count  Dtype \n",
      "---  ------           --------------  ----- \n",
      " 0   original_id      54592 non-null  object\n",
      " 1   changed_id       54592 non-null  object\n",
      " 2   original_status  54592 non-null  object\n",
      " 3   problem_id       54592 non-null  object\n",
      " 4   language         54592 non-null  object\n",
      " 5   filename_ext     54592 non-null  object\n",
      "dtypes: object(6)\n",
      "memory usage: 2.5+ MB\n"
     ]
    },
    {
     "data": {
      "text/plain": [
       "None"
      ]
     },
     "metadata": {},
     "output_type": "display_data"
    },
    {
     "data": {
      "text/plain": [
       "Python    54592\n",
       "Name: language, dtype: int64"
      ]
     },
     "metadata": {},
     "output_type": "display_data"
    },
    {
     "data": {
      "text/plain": [
       "Runtime Error             34126\n",
       "Time Limit Exceeded       18385\n",
       "WA: Presentation Error     1938\n",
       "Memory Limit Exceeded       134\n",
       "Output Limit Exceeded         8\n",
       "Judge Not Available           1\n",
       "Name: original_status, dtype: int64"
      ]
     },
     "metadata": {},
     "output_type": "display_data"
    },
    {
     "name": "stdout",
     "output_type": "stream",
     "text": [
      "We are left with 54592 submissions in total\n"
     ]
    }
   ],
   "source": [
    "generated_pairs_df = pd.read_csv(generated_pairs_path)\n",
    "\n",
    "display(generated_pairs_df)\n",
    "display(generated_pairs_df.info())\n",
    "display(generated_pairs_df.language.value_counts())\n",
    "display(generated_pairs_df.original_status.value_counts())\n",
    "\n",
    "print(f'We are left with {len(generated_pairs_df)} submissions in total')"
   ]
  },
  {
   "cell_type": "markdown",
   "id": "5320bb19",
   "metadata": {
    "papermill": {
     "duration": 0.016609,
     "end_time": "2022-03-11T12:54:29.324319",
     "exception": false,
     "start_time": "2022-03-11T12:54:29.307710",
     "status": "completed"
    },
    "tags": []
   },
   "source": [
    "## Generate Error Pairs\n",
    "\n",
    "In this section we are going to generate the error classes for each of the found changes. To be able to create an error message for each change we have to generate the corresponding source code files to analyze what error would be produced by each modification. After this step we can run the source code and obtain the error message for the analyzed instruction. Next we repeat this step for the rest of the instruction changed in a single file. This way we obtained 250K labels that contain errors, compared to the previous attempt where we considered only the files that had a single instruction changed, where we obtained only 5K examples. Now, out of the entire set of generated pairs, a third contained instructions that did not matter toward the acceptance of the problem. These instructions, when analyzed, obtained a return code with the value of zero, indicating that the execution was successful. Out of the remaining buggy instructions, half are syntax errors, and the other more frequent errors are Python related problems, with some indentation bugs and type bugs."
   ]
  },
  {
   "cell_type": "code",
   "execution_count": 2,
   "id": "8bbad9a8",
   "metadata": {
    "ExecuteTime": {
     "end_time": "2022-04-09T16:20:10.604187Z",
     "start_time": "2022-04-09T16:20:09.751406Z"
    },
    "execution": {
     "iopub.execute_input": "2022-03-11T12:54:29.359134Z",
     "iopub.status.busy": "2022-03-11T12:54:29.358560Z",
     "iopub.status.idle": "2022-03-11T12:54:32.520959Z",
     "shell.execute_reply": "2022-03-11T12:54:32.521389Z",
     "shell.execute_reply.started": "2022-03-11T12:49:25.958276Z"
    },
    "papermill": {
     "duration": 3.182257,
     "end_time": "2022-03-11T12:54:32.521543",
     "exception": false,
     "start_time": "2022-03-11T12:54:29.339286",
     "status": "completed"
    },
    "tags": []
   },
   "outputs": [
    {
     "data": {
      "text/html": [
       "<div>\n",
       "<style scoped>\n",
       "    .dataframe tbody tr th:only-of-type {\n",
       "        vertical-align: middle;\n",
       "    }\n",
       "\n",
       "    .dataframe tbody tr th {\n",
       "        vertical-align: top;\n",
       "    }\n",
       "\n",
       "    .dataframe thead th {\n",
       "        text-align: right;\n",
       "    }\n",
       "</style>\n",
       "<table border=\"1\" class=\"dataframe\">\n",
       "  <thead>\n",
       "    <tr style=\"text-align: right;\">\n",
       "      <th></th>\n",
       "      <th>original_src</th>\n",
       "      <th>changed_src</th>\n",
       "      <th>problem_id</th>\n",
       "      <th>original_id</th>\n",
       "      <th>changed_id</th>\n",
       "      <th>language</th>\n",
       "      <th>filename_ext</th>\n",
       "      <th>original_status</th>\n",
       "      <th>returncode</th>\n",
       "      <th>error_class</th>\n",
       "      <th>error_class_extra</th>\n",
       "      <th>error</th>\n",
       "      <th>output</th>\n",
       "    </tr>\n",
       "  </thead>\n",
       "  <tbody>\n",
       "    <tr>\n",
       "      <th>0</th>\n",
       "      <td>l=[]\\nwhile True:\\n    try:\\n        l.append(...</td>\n",
       "      <td>l=[]\\nwhile True:\\n    try:\\n        l.append(...</td>\n",
       "      <td>p00001</td>\n",
       "      <td>s196059089</td>\n",
       "      <td>s508355022</td>\n",
       "      <td>Python</td>\n",
       "      <td>py</td>\n",
       "      <td>Runtime Error</td>\n",
       "      <td>1</td>\n",
       "      <td>SyntaxError</td>\n",
       "      <td>SyntaxError: Missing parentheses in call to 'p...</td>\n",
       "      <td>File \"/home/alex/Documents/research/bug-dete...</td>\n",
       "      <td></td>\n",
       "    </tr>\n",
       "    <tr>\n",
       "      <th>1</th>\n",
       "      <td>data = []\\nfor i in range(0,10):\\n    data.app...</td>\n",
       "      <td>data = []\\nfor i in range(0,10):\\n    data.app...</td>\n",
       "      <td>p00001</td>\n",
       "      <td>s840313913</td>\n",
       "      <td>s627573591</td>\n",
       "      <td>Python</td>\n",
       "      <td>py</td>\n",
       "      <td>WA: Presentation Error</td>\n",
       "      <td>0</td>\n",
       "      <td>0</td>\n",
       "      <td></td>\n",
       "      <td></td>\n",
       "      <td>\\n3776\\n2848\\n2840\\n</td>\n",
       "    </tr>\n",
       "    <tr>\n",
       "      <th>2</th>\n",
       "      <td>first = 0;\\nsecond = 0;\\nthird = 0;\\nfor var i...</td>\n",
       "      <td>first = 0;\\nsecond = 0;\\nthird = 0;\\nfor var i...</td>\n",
       "      <td>p00001</td>\n",
       "      <td>s973623080</td>\n",
       "      <td>s521689663</td>\n",
       "      <td>Python</td>\n",
       "      <td>py</td>\n",
       "      <td>Runtime Error</td>\n",
       "      <td>1</td>\n",
       "      <td>TypeError</td>\n",
       "      <td>TypeError: '&gt;' not supported between instances...</td>\n",
       "      <td>Traceback (most recent call last):\\n  File \"/h...</td>\n",
       "      <td></td>\n",
       "    </tr>\n",
       "    <tr>\n",
       "      <th>3</th>\n",
       "      <td>for i in range(10):\\n    s.append(int(input())...</td>\n",
       "      <td>s=[]\\nfor i in range(10):\\n    s.append(int(in...</td>\n",
       "      <td>p00001</td>\n",
       "      <td>s393051088</td>\n",
       "      <td>s459982723</td>\n",
       "      <td>Python</td>\n",
       "      <td>py</td>\n",
       "      <td>Runtime Error</td>\n",
       "      <td>1</td>\n",
       "      <td>NameError</td>\n",
       "      <td>NameError: name 's' is not defined</td>\n",
       "      <td>Traceback (most recent call last):\\n  File \"/h...</td>\n",
       "      <td></td>\n",
       "    </tr>\n",
       "    <tr>\n",
       "      <th>4</th>\n",
       "      <td># -*- coding: utf-8 -*-\\n\\nimport sys\\n\\ndef t...</td>\n",
       "      <td># -*- coding: utf-8 -*-\\n\\nimport sys\\n\\ndef t...</td>\n",
       "      <td>p00001</td>\n",
       "      <td>s803831828</td>\n",
       "      <td>s403126268</td>\n",
       "      <td>Python</td>\n",
       "      <td>py</td>\n",
       "      <td>Runtime Error</td>\n",
       "      <td>1</td>\n",
       "      <td>NameError</td>\n",
       "      <td>NameError: name 'argv' is not defined</td>\n",
       "      <td>Traceback (most recent call last):\\n  File \"/h...</td>\n",
       "      <td></td>\n",
       "    </tr>\n",
       "    <tr>\n",
       "      <th>...</th>\n",
       "      <td>...</td>\n",
       "      <td>...</td>\n",
       "      <td>...</td>\n",
       "      <td>...</td>\n",
       "      <td>...</td>\n",
       "      <td>...</td>\n",
       "      <td>...</td>\n",
       "      <td>...</td>\n",
       "      <td>...</td>\n",
       "      <td>...</td>\n",
       "      <td>...</td>\n",
       "      <td>...</td>\n",
       "      <td>...</td>\n",
       "    </tr>\n",
       "    <tr>\n",
       "      <th>54587</th>\n",
       "      <td>N = int(input())\\nL = list(map(int, input().sp...</td>\n",
       "      <td>N = int(input())\\nL = list(map(int, input().sp...</td>\n",
       "      <td>p04047</td>\n",
       "      <td>s420396881</td>\n",
       "      <td>s036877571</td>\n",
       "      <td>Python</td>\n",
       "      <td>py</td>\n",
       "      <td>Runtime Error</td>\n",
       "      <td>1</td>\n",
       "      <td>IndexError</td>\n",
       "      <td>IndexError: list index out of range</td>\n",
       "      <td>Traceback (most recent call last):\\n  File \"/h...</td>\n",
       "      <td></td>\n",
       "    </tr>\n",
       "    <tr>\n",
       "      <th>54588</th>\n",
       "      <td>\\nnum = int(input())\\nli = int(input().split()...</td>\n",
       "      <td>n = int(input())\\nli = [int(x) for x in input(...</td>\n",
       "      <td>p04047</td>\n",
       "      <td>s838662080</td>\n",
       "      <td>s028090472</td>\n",
       "      <td>Python</td>\n",
       "      <td>py</td>\n",
       "      <td>Runtime Error</td>\n",
       "      <td>1</td>\n",
       "      <td>TypeError</td>\n",
       "      <td>TypeError: int() argument must be a string, a ...</td>\n",
       "      <td>Traceback (most recent call last):\\n  File \"/h...</td>\n",
       "      <td></td>\n",
       "    </tr>\n",
       "    <tr>\n",
       "      <th>54589</th>\n",
       "      <td>from collections import Counter\\n \\nn = int(in...</td>\n",
       "      <td>n = int(input())\\n \\narr = list(map(int, input...</td>\n",
       "      <td>p04047</td>\n",
       "      <td>s112597968</td>\n",
       "      <td>s888016571</td>\n",
       "      <td>Python</td>\n",
       "      <td>py</td>\n",
       "      <td>Runtime Error</td>\n",
       "      <td>1</td>\n",
       "      <td>TypeError</td>\n",
       "      <td>TypeError: unsupported operand type(s) for +=:...</td>\n",
       "      <td>Traceback (most recent call last):\\n  File \"/h...</td>\n",
       "      <td></td>\n",
       "    </tr>\n",
       "    <tr>\n",
       "      <th>54590</th>\n",
       "      <td>N,X = input().split()\\nN,X = int(N), int(X)\\na...</td>\n",
       "      <td>N,X = input().split()\\nN,X = int(N), int(X)\\na...</td>\n",
       "      <td>p04048</td>\n",
       "      <td>s311100241</td>\n",
       "      <td>s323769427</td>\n",
       "      <td>Python</td>\n",
       "      <td>py</td>\n",
       "      <td>Runtime Error</td>\n",
       "      <td>1</td>\n",
       "      <td>TabError</td>\n",
       "      <td>TabError: inconsistent use of tabs and spaces ...</td>\n",
       "      <td>File \"/home/alex/Documents/research/bug-dete...</td>\n",
       "      <td></td>\n",
       "    </tr>\n",
       "    <tr>\n",
       "      <th>54591</th>\n",
       "      <td>import math\\nn, x = map(int, input().split())\\...</td>\n",
       "      <td>import math\\nn, x = map(int, input().split())\\...</td>\n",
       "      <td>p04048</td>\n",
       "      <td>s297220978</td>\n",
       "      <td>s109261748</td>\n",
       "      <td>Python</td>\n",
       "      <td>py</td>\n",
       "      <td>Runtime Error</td>\n",
       "      <td>1</td>\n",
       "      <td>NameError</td>\n",
       "      <td>NameError: name 'gcd' is not defined</td>\n",
       "      <td>Traceback (most recent call last):\\n  File \"/h...</td>\n",
       "      <td></td>\n",
       "    </tr>\n",
       "  </tbody>\n",
       "</table>\n",
       "<p>54592 rows × 13 columns</p>\n",
       "</div>"
      ],
      "text/plain": [
       "                                            original_src  \\\n",
       "0      l=[]\\nwhile True:\\n    try:\\n        l.append(...   \n",
       "1      data = []\\nfor i in range(0,10):\\n    data.app...   \n",
       "2      first = 0;\\nsecond = 0;\\nthird = 0;\\nfor var i...   \n",
       "3      for i in range(10):\\n    s.append(int(input())...   \n",
       "4      # -*- coding: utf-8 -*-\\n\\nimport sys\\n\\ndef t...   \n",
       "...                                                  ...   \n",
       "54587  N = int(input())\\nL = list(map(int, input().sp...   \n",
       "54588  \\nnum = int(input())\\nli = int(input().split()...   \n",
       "54589  from collections import Counter\\n \\nn = int(in...   \n",
       "54590  N,X = input().split()\\nN,X = int(N), int(X)\\na...   \n",
       "54591  import math\\nn, x = map(int, input().split())\\...   \n",
       "\n",
       "                                             changed_src problem_id  \\\n",
       "0      l=[]\\nwhile True:\\n    try:\\n        l.append(...     p00001   \n",
       "1      data = []\\nfor i in range(0,10):\\n    data.app...     p00001   \n",
       "2      first = 0;\\nsecond = 0;\\nthird = 0;\\nfor var i...     p00001   \n",
       "3      s=[]\\nfor i in range(10):\\n    s.append(int(in...     p00001   \n",
       "4      # -*- coding: utf-8 -*-\\n\\nimport sys\\n\\ndef t...     p00001   \n",
       "...                                                  ...        ...   \n",
       "54587  N = int(input())\\nL = list(map(int, input().sp...     p04047   \n",
       "54588  n = int(input())\\nli = [int(x) for x in input(...     p04047   \n",
       "54589  n = int(input())\\n \\narr = list(map(int, input...     p04047   \n",
       "54590  N,X = input().split()\\nN,X = int(N), int(X)\\na...     p04048   \n",
       "54591  import math\\nn, x = map(int, input().split())\\...     p04048   \n",
       "\n",
       "      original_id  changed_id language filename_ext         original_status  \\\n",
       "0      s196059089  s508355022   Python           py           Runtime Error   \n",
       "1      s840313913  s627573591   Python           py  WA: Presentation Error   \n",
       "2      s973623080  s521689663   Python           py           Runtime Error   \n",
       "3      s393051088  s459982723   Python           py           Runtime Error   \n",
       "4      s803831828  s403126268   Python           py           Runtime Error   \n",
       "...           ...         ...      ...          ...                     ...   \n",
       "54587  s420396881  s036877571   Python           py           Runtime Error   \n",
       "54588  s838662080  s028090472   Python           py           Runtime Error   \n",
       "54589  s112597968  s888016571   Python           py           Runtime Error   \n",
       "54590  s311100241  s323769427   Python           py           Runtime Error   \n",
       "54591  s297220978  s109261748   Python           py           Runtime Error   \n",
       "\n",
       "       returncode  error_class  \\\n",
       "0               1  SyntaxError   \n",
       "1               0            0   \n",
       "2               1    TypeError   \n",
       "3               1    NameError   \n",
       "4               1    NameError   \n",
       "...           ...          ...   \n",
       "54587           1   IndexError   \n",
       "54588           1    TypeError   \n",
       "54589           1    TypeError   \n",
       "54590           1     TabError   \n",
       "54591           1    NameError   \n",
       "\n",
       "                                       error_class_extra  \\\n",
       "0      SyntaxError: Missing parentheses in call to 'p...   \n",
       "1                                                          \n",
       "2      TypeError: '>' not supported between instances...   \n",
       "3                     NameError: name 's' is not defined   \n",
       "4                  NameError: name 'argv' is not defined   \n",
       "...                                                  ...   \n",
       "54587                IndexError: list index out of range   \n",
       "54588  TypeError: int() argument must be a string, a ...   \n",
       "54589  TypeError: unsupported operand type(s) for +=:...   \n",
       "54590  TabError: inconsistent use of tabs and spaces ...   \n",
       "54591               NameError: name 'gcd' is not defined   \n",
       "\n",
       "                                                   error                output  \n",
       "0        File \"/home/alex/Documents/research/bug-dete...                        \n",
       "1                                                         \\n3776\\n2848\\n2840\\n  \n",
       "2      Traceback (most recent call last):\\n  File \"/h...                        \n",
       "3      Traceback (most recent call last):\\n  File \"/h...                        \n",
       "4      Traceback (most recent call last):\\n  File \"/h...                        \n",
       "...                                                  ...                   ...  \n",
       "54587  Traceback (most recent call last):\\n  File \"/h...                        \n",
       "54588  Traceback (most recent call last):\\n  File \"/h...                        \n",
       "54589  Traceback (most recent call last):\\n  File \"/h...                        \n",
       "54590    File \"/home/alex/Documents/research/bug-dete...                        \n",
       "54591  Traceback (most recent call last):\\n  File \"/h...                        \n",
       "\n",
       "[54592 rows x 13 columns]"
      ]
     },
     "metadata": {},
     "output_type": "display_data"
    },
    {
     "name": "stdout",
     "output_type": "stream",
     "text": [
      "<class 'pandas.core.frame.DataFrame'>\n",
      "RangeIndex: 54592 entries, 0 to 54591\n",
      "Data columns (total 13 columns):\n",
      " #   Column             Non-Null Count  Dtype \n",
      "---  ------             --------------  ----- \n",
      " 0   original_src       54592 non-null  object\n",
      " 1   changed_src        54592 non-null  object\n",
      " 2   problem_id         54592 non-null  object\n",
      " 3   original_id        54592 non-null  object\n",
      " 4   changed_id         54592 non-null  object\n",
      " 5   language           54592 non-null  object\n",
      " 6   filename_ext       54592 non-null  object\n",
      " 7   original_status    54592 non-null  object\n",
      " 8   returncode         54592 non-null  int64 \n",
      " 9   error_class        54592 non-null  object\n",
      " 10  error_class_extra  54592 non-null  object\n",
      " 11  error              54592 non-null  object\n",
      " 12  output             54592 non-null  object\n",
      "dtypes: int64(1), object(12)\n",
      "memory usage: 5.4+ MB\n"
     ]
    },
    {
     "data": {
      "text/plain": [
       "None"
      ]
     },
     "metadata": {},
     "output_type": "display_data"
    },
    {
     "data": {
      "text/plain": [
       "0                            28406\n",
       "SyntaxError                   8686\n",
       "NameError                     5262\n",
       "TypeError                     4202\n",
       "ValueError                    2444\n",
       "IndentationError              1081\n",
       "IndexError                     999\n",
       "AttributeError                 913\n",
       "EOFError                       852\n",
       "TLEError                       525\n",
       "ModuleNotFoundError            357\n",
       "TabError                       265\n",
       "ImportError                    132\n",
       "ZeroDivisionError               79\n",
       "KeyError                        66\n",
       "SyntaxWarning                   62\n",
       "FileNotFoundError               62\n",
       "UnboundLocalError               61\n",
       "1                               58\n",
       "DeprecationWarning              35\n",
       "RecursionError                  13\n",
       "OverflowError                   12\n",
       "RuntimeError                     6\n",
       "-11                              5\n",
       "2                                3\n",
       "OSError                          3\n",
       "SparseEfficiencyWarning          1\n",
       "255                              1\n",
       "VisibleDeprecationWarning        1\n",
       "Name: error_class, dtype: int64"
      ]
     },
     "execution_count": 2,
     "metadata": {},
     "output_type": "execute_result"
    }
   ],
   "source": [
    "with open(codenetpy_path, 'r') as f:\n",
    "    data = json.load(f)\n",
    "\n",
    "codenetpy_df = pd.DataFrame(data)\n",
    "\n",
    "display(codenetpy_df)\n",
    "display(codenetpy_df.info())\n",
    "\n",
    "codenetpy_df['error_class'].value_counts()"
   ]
  },
  {
   "cell_type": "code",
   "execution_count": 3,
   "id": "c17af6ad",
   "metadata": {},
   "outputs": [
    {
     "name": "stdout",
     "output_type": "stream",
     "text": [
      "Number of return code != 0 sources 26137 from the total of 54592\n",
      "47.88% of the sources are labeled as having return code of error during execution\n"
     ]
    }
   ],
   "source": [
    "err_codenetpy_df = codenetpy_df[codenetpy_df[\"returncode\"] != 0]\n",
    "\n",
    "print(f\"Number of return code != 0 sources {len(err_codenetpy_df)} from the total of {len(codenetpy_df)}\")\n",
    "print(f\"{len(err_codenetpy_df)/len(codenetpy_df)*100:.2f}% of the sources are labeled as having return code of error during execution\")\n"
   ]
  },
  {
   "cell_type": "markdown",
   "id": "0dc94a25",
   "metadata": {},
   "source": [
    "Even with ground truth return code status there are still some sources that give correct results. These sources will return answers to stdout, such as \"Yes\", \"0\", etc. which we try to interpret as errors. First fix is to remove any sources that have the error class not in a particular set of errors such as SyntaxError, NameError, etc. Let's say we filter what does not contain \"Error\" in the name. Probably those are examples of wrong answer."
   ]
  },
  {
   "cell_type": "code",
   "execution_count": 4,
   "id": "fc207a2a",
   "metadata": {},
   "outputs": [
    {
     "data": {
      "text/plain": [
       "SyntaxError            8686\n",
       "NameError              5262\n",
       "TypeError              4202\n",
       "ValueError             2444\n",
       "IndentationError       1081\n",
       "IndexError              999\n",
       "AttributeError          913\n",
       "EOFError                852\n",
       "TLEError                525\n",
       "ModuleNotFoundError     357\n",
       "TabError                265\n",
       "ImportError             132\n",
       "ZeroDivisionError        79\n",
       "KeyError                 66\n",
       "FileNotFoundError        62\n",
       "UnboundLocalError        61\n",
       "RecursionError           13\n",
       "OverflowError            12\n",
       "RuntimeError              6\n",
       "OSError                   3\n",
       "Name: error_class, dtype: int64"
      ]
     },
     "execution_count": 4,
     "metadata": {},
     "output_type": "execute_result"
    }
   ],
   "source": [
    "err_codenetpy_df = err_codenetpy_df[err_codenetpy_df[\"error_class\"].str.contains(\"Error\")]\n",
    "\n",
    "err_codenetpy_df['error_class'].value_counts()"
   ]
  },
  {
   "cell_type": "code",
   "execution_count": 5,
   "id": "9b82eed7",
   "metadata": {
    "scrolled": false
   },
   "outputs": [
    {
     "data": {
      "text/html": [
       "<div>\n",
       "<style scoped>\n",
       "    .dataframe tbody tr th:only-of-type {\n",
       "        vertical-align: middle;\n",
       "    }\n",
       "\n",
       "    .dataframe tbody tr th {\n",
       "        vertical-align: top;\n",
       "    }\n",
       "\n",
       "    .dataframe thead th {\n",
       "        text-align: right;\n",
       "    }\n",
       "</style>\n",
       "<table border=\"1\" class=\"dataframe\">\n",
       "  <thead>\n",
       "    <tr style=\"text-align: right;\">\n",
       "      <th></th>\n",
       "      <th>original_src</th>\n",
       "      <th>changed_src</th>\n",
       "      <th>problem_id</th>\n",
       "      <th>original_id</th>\n",
       "      <th>changed_id</th>\n",
       "      <th>language</th>\n",
       "      <th>filename_ext</th>\n",
       "      <th>original_status</th>\n",
       "      <th>returncode</th>\n",
       "      <th>error_class</th>\n",
       "      <th>error_class_extra</th>\n",
       "      <th>error</th>\n",
       "      <th>output</th>\n",
       "    </tr>\n",
       "  </thead>\n",
       "  <tbody>\n",
       "    <tr>\n",
       "      <th>0</th>\n",
       "      <td>import sys\\nmountains = [int(line.readline()) ...</td>\n",
       "      <td>mountains = [int(input()) for _ in range(10)]\\...</td>\n",
       "      <td>p00001</td>\n",
       "      <td>s068025056</td>\n",
       "      <td>s198062921</td>\n",
       "      <td>Python</td>\n",
       "      <td>py</td>\n",
       "      <td>Runtime Error</td>\n",
       "      <td>1</td>\n",
       "      <td>AttributeError</td>\n",
       "      <td>AttributeError: 'str' object has no attribute ...</td>\n",
       "      <td>Traceback (most recent call last):\\n  File \"/h...</td>\n",
       "      <td></td>\n",
       "    </tr>\n",
       "    <tr>\n",
       "      <th>1</th>\n",
       "      <td># -*- coding: utf-8 -*-\\n\\nimport sys\\n\\ndef t...</td>\n",
       "      <td># -*- coding: utf-8 -*-\\n\\nimport sys\\n\\ndef t...</td>\n",
       "      <td>p00001</td>\n",
       "      <td>s803831828</td>\n",
       "      <td>s403126268</td>\n",
       "      <td>Python</td>\n",
       "      <td>py</td>\n",
       "      <td>Runtime Error</td>\n",
       "      <td>1</td>\n",
       "      <td>NameError</td>\n",
       "      <td>NameError: name 'argv' is not defined</td>\n",
       "      <td>Traceback (most recent call last):\\n  File \"/h...</td>\n",
       "      <td></td>\n",
       "    </tr>\n",
       "    <tr>\n",
       "      <th>2</th>\n",
       "      <td>a = []\\nfor i in range(10):\\n    a.append(inpu...</td>\n",
       "      <td>a = []\\nfor i in range(10):\\n    a.append(inpu...</td>\n",
       "      <td>p00001</td>\n",
       "      <td>s209735121</td>\n",
       "      <td>s412417225</td>\n",
       "      <td>Python</td>\n",
       "      <td>py</td>\n",
       "      <td>Runtime Error</td>\n",
       "      <td>1</td>\n",
       "      <td>TypeError</td>\n",
       "      <td>TypeError: 'NoneType' object is not subscriptable</td>\n",
       "      <td>Traceback (most recent call last):\\n  File \"/h...</td>\n",
       "      <td></td>\n",
       "    </tr>\n",
       "    <tr>\n",
       "      <th>3</th>\n",
       "      <td>import sys\\nheights = sorted([ int(h) for h in...</td>\n",
       "      <td>import sys\\nheights = sorted([ int(h) for h in...</td>\n",
       "      <td>p00001</td>\n",
       "      <td>s286499566</td>\n",
       "      <td>s804982567</td>\n",
       "      <td>Python</td>\n",
       "      <td>py</td>\n",
       "      <td>Runtime Error</td>\n",
       "      <td>1</td>\n",
       "      <td>NameError</td>\n",
       "      <td>NameError: name 'reverce' is not defined</td>\n",
       "      <td>Traceback (most recent call last):\\n  File \"/h...</td>\n",
       "      <td></td>\n",
       "    </tr>\n",
       "    <tr>\n",
       "      <th>4</th>\n",
       "      <td>for i in range(10):\\n    s.append(int(input())...</td>\n",
       "      <td>s=[]\\nfor i in range(10):\\n    s.append(int(in...</td>\n",
       "      <td>p00001</td>\n",
       "      <td>s393051088</td>\n",
       "      <td>s459982723</td>\n",
       "      <td>Python</td>\n",
       "      <td>py</td>\n",
       "      <td>Runtime Error</td>\n",
       "      <td>1</td>\n",
       "      <td>NameError</td>\n",
       "      <td>NameError: name 's' is not defined</td>\n",
       "      <td>Traceback (most recent call last):\\n  File \"/h...</td>\n",
       "      <td></td>\n",
       "    </tr>\n",
       "    <tr>\n",
       "      <th>...</th>\n",
       "      <td>...</td>\n",
       "      <td>...</td>\n",
       "      <td>...</td>\n",
       "      <td>...</td>\n",
       "      <td>...</td>\n",
       "      <td>...</td>\n",
       "      <td>...</td>\n",
       "      <td>...</td>\n",
       "      <td>...</td>\n",
       "      <td>...</td>\n",
       "      <td>...</td>\n",
       "      <td>...</td>\n",
       "      <td>...</td>\n",
       "    </tr>\n",
       "    <tr>\n",
       "      <th>39839</th>\n",
       "      <td>try:\\n  k=input()\\nexcept EOFError:\\n  print(\"...</td>\n",
       "      <td>k = int(input())\\nli= list(map(int, input().sp...</td>\n",
       "      <td>p04047</td>\n",
       "      <td>s131254454</td>\n",
       "      <td>s616077020</td>\n",
       "      <td>Python</td>\n",
       "      <td>py</td>\n",
       "      <td>Runtime Error</td>\n",
       "      <td>1</td>\n",
       "      <td>AttributeError</td>\n",
       "      <td>AttributeError: 'str' object has no attribute ...</td>\n",
       "      <td>Traceback (most recent call last):\\n  File \"/h...</td>\n",
       "      <td></td>\n",
       "    </tr>\n",
       "    <tr>\n",
       "      <th>39840</th>\n",
       "      <td>import math\\nn, x = map(int, input().split())\\...</td>\n",
       "      <td>import math\\nn, x = map(int, input().split())\\...</td>\n",
       "      <td>p04048</td>\n",
       "      <td>s297220978</td>\n",
       "      <td>s109261748</td>\n",
       "      <td>Python</td>\n",
       "      <td>py</td>\n",
       "      <td>Runtime Error</td>\n",
       "      <td>1</td>\n",
       "      <td>NameError</td>\n",
       "      <td>NameError: name 'gcd' is not defined</td>\n",
       "      <td>Traceback (most recent call last):\\n  File \"/h...</td>\n",
       "      <td></td>\n",
       "    </tr>\n",
       "    <tr>\n",
       "      <th>39841</th>\n",
       "      <td>\\nnum = int(input())\\nli = int(input().split()...</td>\n",
       "      <td>n = int(input())\\nli = [int(x) for x in input(...</td>\n",
       "      <td>p04047</td>\n",
       "      <td>s838662080</td>\n",
       "      <td>s028090472</td>\n",
       "      <td>Python</td>\n",
       "      <td>py</td>\n",
       "      <td>Runtime Error</td>\n",
       "      <td>1</td>\n",
       "      <td>TypeError</td>\n",
       "      <td>TypeError: int() argument must be a string, a ...</td>\n",
       "      <td>Traceback (most recent call last):\\n  File \"/h...</td>\n",
       "      <td></td>\n",
       "    </tr>\n",
       "    <tr>\n",
       "      <th>39842</th>\n",
       "      <td>N = int(input())\\nL = list(map(int, input().sp...</td>\n",
       "      <td>N = int(input())\\nL = list(map(int, input().sp...</td>\n",
       "      <td>p04047</td>\n",
       "      <td>s420396881</td>\n",
       "      <td>s036877571</td>\n",
       "      <td>Python</td>\n",
       "      <td>py</td>\n",
       "      <td>Runtime Error</td>\n",
       "      <td>1</td>\n",
       "      <td>IndexError</td>\n",
       "      <td>IndexError: list index out of range</td>\n",
       "      <td>Traceback (most recent call last):\\n  File \"/h...</td>\n",
       "      <td></td>\n",
       "    </tr>\n",
       "    <tr>\n",
       "      <th>39843</th>\n",
       "      <td>from collections import Counter\\n \\nn = int(in...</td>\n",
       "      <td>n = int(input())\\n \\narr = list(map(int, input...</td>\n",
       "      <td>p04047</td>\n",
       "      <td>s112597968</td>\n",
       "      <td>s888016571</td>\n",
       "      <td>Python</td>\n",
       "      <td>py</td>\n",
       "      <td>Runtime Error</td>\n",
       "      <td>1</td>\n",
       "      <td>TypeError</td>\n",
       "      <td>TypeError: unsupported operand type(s) for +=:...</td>\n",
       "      <td>Traceback (most recent call last):\\n  File \"/h...</td>\n",
       "      <td></td>\n",
       "    </tr>\n",
       "  </tbody>\n",
       "</table>\n",
       "<p>39844 rows × 13 columns</p>\n",
       "</div>"
      ],
      "text/plain": [
       "                                            original_src  \\\n",
       "0      import sys\\nmountains = [int(line.readline()) ...   \n",
       "1      # -*- coding: utf-8 -*-\\n\\nimport sys\\n\\ndef t...   \n",
       "2      a = []\\nfor i in range(10):\\n    a.append(inpu...   \n",
       "3      import sys\\nheights = sorted([ int(h) for h in...   \n",
       "4      for i in range(10):\\n    s.append(int(input())...   \n",
       "...                                                  ...   \n",
       "39839  try:\\n  k=input()\\nexcept EOFError:\\n  print(\"...   \n",
       "39840  import math\\nn, x = map(int, input().split())\\...   \n",
       "39841  \\nnum = int(input())\\nli = int(input().split()...   \n",
       "39842  N = int(input())\\nL = list(map(int, input().sp...   \n",
       "39843  from collections import Counter\\n \\nn = int(in...   \n",
       "\n",
       "                                             changed_src problem_id  \\\n",
       "0      mountains = [int(input()) for _ in range(10)]\\...     p00001   \n",
       "1      # -*- coding: utf-8 -*-\\n\\nimport sys\\n\\ndef t...     p00001   \n",
       "2      a = []\\nfor i in range(10):\\n    a.append(inpu...     p00001   \n",
       "3      import sys\\nheights = sorted([ int(h) for h in...     p00001   \n",
       "4      s=[]\\nfor i in range(10):\\n    s.append(int(in...     p00001   \n",
       "...                                                  ...        ...   \n",
       "39839  k = int(input())\\nli= list(map(int, input().sp...     p04047   \n",
       "39840  import math\\nn, x = map(int, input().split())\\...     p04048   \n",
       "39841  n = int(input())\\nli = [int(x) for x in input(...     p04047   \n",
       "39842  N = int(input())\\nL = list(map(int, input().sp...     p04047   \n",
       "39843  n = int(input())\\n \\narr = list(map(int, input...     p04047   \n",
       "\n",
       "      original_id  changed_id language filename_ext original_status  \\\n",
       "0      s068025056  s198062921   Python           py   Runtime Error   \n",
       "1      s803831828  s403126268   Python           py   Runtime Error   \n",
       "2      s209735121  s412417225   Python           py   Runtime Error   \n",
       "3      s286499566  s804982567   Python           py   Runtime Error   \n",
       "4      s393051088  s459982723   Python           py   Runtime Error   \n",
       "...           ...         ...      ...          ...             ...   \n",
       "39839  s131254454  s616077020   Python           py   Runtime Error   \n",
       "39840  s297220978  s109261748   Python           py   Runtime Error   \n",
       "39841  s838662080  s028090472   Python           py   Runtime Error   \n",
       "39842  s420396881  s036877571   Python           py   Runtime Error   \n",
       "39843  s112597968  s888016571   Python           py   Runtime Error   \n",
       "\n",
       "       returncode     error_class  \\\n",
       "0               1  AttributeError   \n",
       "1               1       NameError   \n",
       "2               1       TypeError   \n",
       "3               1       NameError   \n",
       "4               1       NameError   \n",
       "...           ...             ...   \n",
       "39839           1  AttributeError   \n",
       "39840           1       NameError   \n",
       "39841           1       TypeError   \n",
       "39842           1      IndexError   \n",
       "39843           1       TypeError   \n",
       "\n",
       "                                       error_class_extra  \\\n",
       "0      AttributeError: 'str' object has no attribute ...   \n",
       "1                  NameError: name 'argv' is not defined   \n",
       "2      TypeError: 'NoneType' object is not subscriptable   \n",
       "3               NameError: name 'reverce' is not defined   \n",
       "4                     NameError: name 's' is not defined   \n",
       "...                                                  ...   \n",
       "39839  AttributeError: 'str' object has no attribute ...   \n",
       "39840               NameError: name 'gcd' is not defined   \n",
       "39841  TypeError: int() argument must be a string, a ...   \n",
       "39842                IndexError: list index out of range   \n",
       "39843  TypeError: unsupported operand type(s) for +=:...   \n",
       "\n",
       "                                                   error output  \n",
       "0      Traceback (most recent call last):\\n  File \"/h...         \n",
       "1      Traceback (most recent call last):\\n  File \"/h...         \n",
       "2      Traceback (most recent call last):\\n  File \"/h...         \n",
       "3      Traceback (most recent call last):\\n  File \"/h...         \n",
       "4      Traceback (most recent call last):\\n  File \"/h...         \n",
       "...                                                  ...    ...  \n",
       "39839  Traceback (most recent call last):\\n  File \"/h...         \n",
       "39840  Traceback (most recent call last):\\n  File \"/h...         \n",
       "39841  Traceback (most recent call last):\\n  File \"/h...         \n",
       "39842  Traceback (most recent call last):\\n  File \"/h...         \n",
       "39843  Traceback (most recent call last):\\n  File \"/h...         \n",
       "\n",
       "[39844 rows x 13 columns]"
      ]
     },
     "metadata": {},
     "output_type": "display_data"
    },
    {
     "name": "stdout",
     "output_type": "stream",
     "text": [
      "<class 'pandas.core.frame.DataFrame'>\n",
      "RangeIndex: 39844 entries, 0 to 39843\n",
      "Data columns (total 13 columns):\n",
      " #   Column             Non-Null Count  Dtype \n",
      "---  ------             --------------  ----- \n",
      " 0   original_src       39844 non-null  object\n",
      " 1   changed_src        39844 non-null  object\n",
      " 2   problem_id         39844 non-null  object\n",
      " 3   original_id        39844 non-null  object\n",
      " 4   changed_id         39844 non-null  object\n",
      " 5   language           39844 non-null  object\n",
      " 6   filename_ext       39844 non-null  object\n",
      " 7   original_status    39844 non-null  object\n",
      " 8   returncode         39844 non-null  int64 \n",
      " 9   error_class        39844 non-null  object\n",
      " 10  error_class_extra  39844 non-null  object\n",
      " 11  error              39844 non-null  object\n",
      " 12  output             39844 non-null  object\n",
      "dtypes: int64(1), object(12)\n",
      "memory usage: 4.0+ MB\n"
     ]
    },
    {
     "data": {
      "text/plain": [
       "None"
      ]
     },
     "metadata": {},
     "output_type": "display_data"
    },
    {
     "data": {
      "text/plain": [
       "0                          24564\n",
       "NameError                   4919\n",
       "TypeError                   3999\n",
       "ValueError                  2341\n",
       "IndexError                   929\n",
       "AttributeError               847\n",
       "EOFError                     794\n",
       "TLEError                     458\n",
       "SyntaxError                  300\n",
       "ModuleNotFoundError          223\n",
       "ImportError                   83\n",
       "ZeroDivisionError             72\n",
       "KeyError                      59\n",
       "SyntaxWarning                 56\n",
       "UnboundLocalError             55\n",
       "1                             47\n",
       "FileNotFoundError             42\n",
       "DeprecationWarning            22\n",
       "OverflowError                 10\n",
       "RecursionError                10\n",
       "-11                            4\n",
       "RuntimeError                   3\n",
       "2                              3\n",
       "OSError                        2\n",
       "SparseEfficiencyWarning        1\n",
       "255                            1\n",
       "Name: error_class, dtype: int64"
      ]
     },
     "execution_count": 5,
     "metadata": {},
     "output_type": "execute_result"
    }
   ],
   "source": [
    "with open(filter_codenetpy_path, 'r') as f:\n",
    "    data = json.load(f)\n",
    "\n",
    "filter_codenetpy_df = pd.DataFrame(data)\n",
    "\n",
    "display(filter_codenetpy_df)\n",
    "display(filter_codenetpy_df.info())\n",
    "\n",
    "filter_codenetpy_df['error_class'].value_counts()"
   ]
  },
  {
   "cell_type": "code",
   "execution_count": 6,
   "id": "26dd8153",
   "metadata": {},
   "outputs": [
    {
     "name": "stdout",
     "output_type": "stream",
     "text": [
      "Number of return code != 0 sources 15244 from the total of 39844\n",
      "38.26% of the sources are labeled as having return code of error during execution\n"
     ]
    }
   ],
   "source": [
    "err_filter_codenetpy_df = filter_codenetpy_df[filter_codenetpy_df[\"returncode\"] != 0]\n",
    "\n",
    "print(f\"Number of return code != 0 sources {len(err_filter_codenetpy_df)} from the total of {len(filter_codenetpy_df)}\")\n",
    "print(f\"{len(err_filter_codenetpy_df)/len(filter_codenetpy_df)*100:.2f}% of the sources are labeled as having return code of error during execution\")"
   ]
  },
  {
   "cell_type": "code",
   "execution_count": 9,
   "id": "a322c5e2",
   "metadata": {},
   "outputs": [
    {
     "name": "stdout",
     "output_type": "stream",
     "text": [
      "<class 'pandas.core.frame.DataFrame'>\n",
      "Int64Index: 15146 entries, 0 to 39843\n",
      "Data columns (total 13 columns):\n",
      " #   Column             Non-Null Count  Dtype \n",
      "---  ------             --------------  ----- \n",
      " 0   original_src       15146 non-null  object\n",
      " 1   changed_src        15146 non-null  object\n",
      " 2   problem_id         15146 non-null  object\n",
      " 3   original_id        15146 non-null  object\n",
      " 4   changed_id         15146 non-null  object\n",
      " 5   language           15146 non-null  object\n",
      " 6   filename_ext       15146 non-null  object\n",
      " 7   original_status    15146 non-null  object\n",
      " 8   returncode         15146 non-null  int64 \n",
      " 9   error_class        15146 non-null  object\n",
      " 10  error_class_extra  15146 non-null  object\n",
      " 11  error              15146 non-null  object\n",
      " 12  output             15146 non-null  object\n",
      "dtypes: int64(1), object(12)\n",
      "memory usage: 1.6+ MB\n"
     ]
    },
    {
     "data": {
      "text/plain": [
       "None"
      ]
     },
     "metadata": {},
     "output_type": "display_data"
    },
    {
     "data": {
      "text/plain": [
       "NameError              4919\n",
       "TypeError              3999\n",
       "ValueError             2341\n",
       "IndexError              929\n",
       "AttributeError          847\n",
       "EOFError                794\n",
       "TLEError                458\n",
       "SyntaxError             300\n",
       "ModuleNotFoundError     223\n",
       "ImportError              83\n",
       "ZeroDivisionError        72\n",
       "KeyError                 59\n",
       "UnboundLocalError        55\n",
       "FileNotFoundError        42\n",
       "OverflowError            10\n",
       "RecursionError           10\n",
       "RuntimeError              3\n",
       "OSError                   2\n",
       "Name: error_class, dtype: int64"
      ]
     },
     "execution_count": 9,
     "metadata": {},
     "output_type": "execute_result"
    }
   ],
   "source": [
    "err_filter_codenetpy_df = err_filter_codenetpy_df[err_filter_codenetpy_df[\"error_class\"].str.contains(\"Error\")]\n",
    "\n",
    "display(err_filter_codenetpy_df.info())\n",
    "err_filter_codenetpy_df['error_class'].value_counts()"
   ]
  },
  {
   "cell_type": "code",
   "execution_count": 8,
   "id": "04aed728",
   "metadata": {
    "scrolled": false
   },
   "outputs": [
    {
     "data": {
      "text/html": [
       "<div>\n",
       "<style scoped>\n",
       "    .dataframe tbody tr th:only-of-type {\n",
       "        vertical-align: middle;\n",
       "    }\n",
       "\n",
       "    .dataframe tbody tr th {\n",
       "        vertical-align: top;\n",
       "    }\n",
       "\n",
       "    .dataframe thead th {\n",
       "        text-align: right;\n",
       "    }\n",
       "</style>\n",
       "<table border=\"1\" class=\"dataframe\">\n",
       "  <thead>\n",
       "    <tr style=\"text-align: right;\">\n",
       "      <th></th>\n",
       "      <th>original_src</th>\n",
       "      <th>changed_src</th>\n",
       "      <th>problem_id</th>\n",
       "      <th>original_id</th>\n",
       "      <th>changed_id</th>\n",
       "      <th>language</th>\n",
       "      <th>filename_ext</th>\n",
       "      <th>original_status</th>\n",
       "      <th>returncode</th>\n",
       "      <th>error_class</th>\n",
       "      <th>error_class_extra</th>\n",
       "      <th>error</th>\n",
       "      <th>output</th>\n",
       "    </tr>\n",
       "  </thead>\n",
       "  <tbody>\n",
       "    <tr>\n",
       "      <th>0</th>\n",
       "      <td>l=[]\\nwhile True:\\n    try:\\n        l.append(...</td>\n",
       "      <td>l=[]\\nwhile True:\\n    try:\\n        l.append(...</td>\n",
       "      <td>p00001</td>\n",
       "      <td>s196059089</td>\n",
       "      <td>s508355022</td>\n",
       "      <td>Python</td>\n",
       "      <td>py</td>\n",
       "      <td>Runtime Error</td>\n",
       "      <td>1</td>\n",
       "      <td>SyntaxError</td>\n",
       "      <td>SyntaxError: Missing parentheses in call to 'p...</td>\n",
       "      <td>File \"/home/alex/Documents/research/bug-dete...</td>\n",
       "      <td></td>\n",
       "    </tr>\n",
       "    <tr>\n",
       "      <th>5</th>\n",
       "      <td>height = []\\nwhile 1:\\n    h = raw_input()\\n  ...</td>\n",
       "      <td>height = []\\nwhile 1:\\n    try:\\n        heigh...</td>\n",
       "      <td>p00001</td>\n",
       "      <td>s700829087</td>\n",
       "      <td>s365381008</td>\n",
       "      <td>Python</td>\n",
       "      <td>py</td>\n",
       "      <td>Runtime Error</td>\n",
       "      <td>1</td>\n",
       "      <td>SyntaxError</td>\n",
       "      <td>SyntaxError: Missing parentheses in call to 'p...</td>\n",
       "      <td>File \"/home/alex/Documents/research/bug-dete...</td>\n",
       "      <td></td>\n",
       "    </tr>\n",
       "    <tr>\n",
       "      <th>6</th>\n",
       "      <td>cnt = 10\\ntop3 = [0,0,0]\\n\\nfor x in xrange(cn...</td>\n",
       "      <td>\\ncnt = 10\\ntop3 = [0,0,0]\\n\\nfor x in xrange(...</td>\n",
       "      <td>p00001</td>\n",
       "      <td>s473008139</td>\n",
       "      <td>s013491427</td>\n",
       "      <td>Python</td>\n",
       "      <td>py</td>\n",
       "      <td>Runtime Error</td>\n",
       "      <td>1</td>\n",
       "      <td>SyntaxError</td>\n",
       "      <td>SyntaxError: Missing parentheses in call to 'p...</td>\n",
       "      <td>File \"/home/alex/Documents/research/bug-dete...</td>\n",
       "      <td></td>\n",
       "    </tr>\n",
       "    <tr>\n",
       "      <th>8</th>\n",
       "      <td>import sys\\ne = sys.stdin.readlines():\\nfor i ...</td>\n",
       "      <td>import sys\\ne = sys.stdin.readlines()\\ne = [in...</td>\n",
       "      <td>p00001</td>\n",
       "      <td>s239033172</td>\n",
       "      <td>s000171711</td>\n",
       "      <td>Python</td>\n",
       "      <td>py</td>\n",
       "      <td>Runtime Error</td>\n",
       "      <td>1</td>\n",
       "      <td>SyntaxError</td>\n",
       "      <td>SyntaxError: invalid syntax</td>\n",
       "      <td>File \"/home/alex/Documents/research/bug-dete...</td>\n",
       "      <td></td>\n",
       "    </tr>\n",
       "    <tr>\n",
       "      <th>11</th>\n",
       "      <td>try:\\n    while True:\\nexcept EOFError:</td>\n",
       "      <td>a=[int(input()) for i in range(10)]\\na.sort(re...</td>\n",
       "      <td>p00001</td>\n",
       "      <td>s761743786</td>\n",
       "      <td>s244934112</td>\n",
       "      <td>Python</td>\n",
       "      <td>py</td>\n",
       "      <td>Runtime Error</td>\n",
       "      <td>1</td>\n",
       "      <td>IndentationError</td>\n",
       "      <td>IndentationError: expected an indented block</td>\n",
       "      <td>File \"/home/alex/Documents/research/bug-dete...</td>\n",
       "      <td></td>\n",
       "    </tr>\n",
       "    <tr>\n",
       "      <th>...</th>\n",
       "      <td>...</td>\n",
       "      <td>...</td>\n",
       "      <td>...</td>\n",
       "      <td>...</td>\n",
       "      <td>...</td>\n",
       "      <td>...</td>\n",
       "      <td>...</td>\n",
       "      <td>...</td>\n",
       "      <td>...</td>\n",
       "      <td>...</td>\n",
       "      <td>...</td>\n",
       "      <td>...</td>\n",
       "      <td>...</td>\n",
       "    </tr>\n",
       "    <tr>\n",
       "      <th>54571</th>\n",
       "      <td>import sys,math,collections,itertools,bisect\\n...</td>\n",
       "      <td>import sys,math,collections,itertools,bisect\\n...</td>\n",
       "      <td>p04045</td>\n",
       "      <td>s123932140</td>\n",
       "      <td>s101021309</td>\n",
       "      <td>Python</td>\n",
       "      <td>py</td>\n",
       "      <td>Runtime Error</td>\n",
       "      <td>0</td>\n",
       "      <td>0</td>\n",
       "      <td></td>\n",
       "      <td></td>\n",
       "      <td>2000\\n</td>\n",
       "    </tr>\n",
       "    <tr>\n",
       "      <th>54575</th>\n",
       "      <td>N, K = map(int, input().split())\\nP = list(map...</td>\n",
       "      <td>N, K = map(int, input().split())\\nP = list(map...</td>\n",
       "      <td>p04045</td>\n",
       "      <td>s236534621</td>\n",
       "      <td>s993724080</td>\n",
       "      <td>Python</td>\n",
       "      <td>py</td>\n",
       "      <td>Runtime Error</td>\n",
       "      <td>0</td>\n",
       "      <td>0</td>\n",
       "      <td></td>\n",
       "      <td></td>\n",
       "      <td>2000\\n</td>\n",
       "    </tr>\n",
       "    <tr>\n",
       "      <th>54577</th>\n",
       "      <td>def digit():\\n    N, K = [int(n) for n in inpu...</td>\n",
       "      <td>def has_no(s, digits):\\n    for ch in s:\\n    ...</td>\n",
       "      <td>p04045</td>\n",
       "      <td>s345758312</td>\n",
       "      <td>s307175024</td>\n",
       "      <td>Python</td>\n",
       "      <td>py</td>\n",
       "      <td>Runtime Error</td>\n",
       "      <td>1</td>\n",
       "      <td>SyntaxError</td>\n",
       "      <td>SyntaxError: invalid syntax</td>\n",
       "      <td>File \"/home/alex/Documents/research/bug-dete...</td>\n",
       "      <td></td>\n",
       "    </tr>\n",
       "    <tr>\n",
       "      <th>54586</th>\n",
       "      <td>n = int(input())\\na = sorted(map(int, input()....</td>\n",
       "      <td>n = int(input())\\na = sorted(list(map(int, inp...</td>\n",
       "      <td>p04047</td>\n",
       "      <td>s604076487</td>\n",
       "      <td>s034960174</td>\n",
       "      <td>Python</td>\n",
       "      <td>py</td>\n",
       "      <td>Runtime Error</td>\n",
       "      <td>1</td>\n",
       "      <td>SyntaxError</td>\n",
       "      <td>SyntaxError: invalid syntax</td>\n",
       "      <td>File \"/home/alex/Documents/research/bug-dete...</td>\n",
       "      <td></td>\n",
       "    </tr>\n",
       "    <tr>\n",
       "      <th>54590</th>\n",
       "      <td>N,X = input().split()\\nN,X = int(N), int(X)\\na...</td>\n",
       "      <td>N,X = input().split()\\nN,X = int(N), int(X)\\na...</td>\n",
       "      <td>p04048</td>\n",
       "      <td>s311100241</td>\n",
       "      <td>s323769427</td>\n",
       "      <td>Python</td>\n",
       "      <td>py</td>\n",
       "      <td>Runtime Error</td>\n",
       "      <td>1</td>\n",
       "      <td>TabError</td>\n",
       "      <td>TabError: inconsistent use of tabs and spaces ...</td>\n",
       "      <td>File \"/home/alex/Documents/research/bug-dete...</td>\n",
       "      <td></td>\n",
       "    </tr>\n",
       "  </tbody>\n",
       "</table>\n",
       "<p>14748 rows × 13 columns</p>\n",
       "</div>"
      ],
      "text/plain": [
       "                                            original_src  \\\n",
       "0      l=[]\\nwhile True:\\n    try:\\n        l.append(...   \n",
       "5      height = []\\nwhile 1:\\n    h = raw_input()\\n  ...   \n",
       "6      cnt = 10\\ntop3 = [0,0,0]\\n\\nfor x in xrange(cn...   \n",
       "8      import sys\\ne = sys.stdin.readlines():\\nfor i ...   \n",
       "11               try:\\n    while True:\\nexcept EOFError:   \n",
       "...                                                  ...   \n",
       "54571  import sys,math,collections,itertools,bisect\\n...   \n",
       "54575  N, K = map(int, input().split())\\nP = list(map...   \n",
       "54577  def digit():\\n    N, K = [int(n) for n in inpu...   \n",
       "54586  n = int(input())\\na = sorted(map(int, input()....   \n",
       "54590  N,X = input().split()\\nN,X = int(N), int(X)\\na...   \n",
       "\n",
       "                                             changed_src problem_id  \\\n",
       "0      l=[]\\nwhile True:\\n    try:\\n        l.append(...     p00001   \n",
       "5      height = []\\nwhile 1:\\n    try:\\n        heigh...     p00001   \n",
       "6      \\ncnt = 10\\ntop3 = [0,0,0]\\n\\nfor x in xrange(...     p00001   \n",
       "8      import sys\\ne = sys.stdin.readlines()\\ne = [in...     p00001   \n",
       "11     a=[int(input()) for i in range(10)]\\na.sort(re...     p00001   \n",
       "...                                                  ...        ...   \n",
       "54571  import sys,math,collections,itertools,bisect\\n...     p04045   \n",
       "54575  N, K = map(int, input().split())\\nP = list(map...     p04045   \n",
       "54577  def has_no(s, digits):\\n    for ch in s:\\n    ...     p04045   \n",
       "54586  n = int(input())\\na = sorted(list(map(int, inp...     p04047   \n",
       "54590  N,X = input().split()\\nN,X = int(N), int(X)\\na...     p04048   \n",
       "\n",
       "      original_id  changed_id language filename_ext original_status  \\\n",
       "0      s196059089  s508355022   Python           py   Runtime Error   \n",
       "5      s700829087  s365381008   Python           py   Runtime Error   \n",
       "6      s473008139  s013491427   Python           py   Runtime Error   \n",
       "8      s239033172  s000171711   Python           py   Runtime Error   \n",
       "11     s761743786  s244934112   Python           py   Runtime Error   \n",
       "...           ...         ...      ...          ...             ...   \n",
       "54571  s123932140  s101021309   Python           py   Runtime Error   \n",
       "54575  s236534621  s993724080   Python           py   Runtime Error   \n",
       "54577  s345758312  s307175024   Python           py   Runtime Error   \n",
       "54586  s604076487  s034960174   Python           py   Runtime Error   \n",
       "54590  s311100241  s323769427   Python           py   Runtime Error   \n",
       "\n",
       "       returncode       error_class  \\\n",
       "0               1       SyntaxError   \n",
       "5               1       SyntaxError   \n",
       "6               1       SyntaxError   \n",
       "8               1       SyntaxError   \n",
       "11              1  IndentationError   \n",
       "...           ...               ...   \n",
       "54571           0                 0   \n",
       "54575           0                 0   \n",
       "54577           1       SyntaxError   \n",
       "54586           1       SyntaxError   \n",
       "54590           1          TabError   \n",
       "\n",
       "                                       error_class_extra  \\\n",
       "0      SyntaxError: Missing parentheses in call to 'p...   \n",
       "5      SyntaxError: Missing parentheses in call to 'p...   \n",
       "6      SyntaxError: Missing parentheses in call to 'p...   \n",
       "8                            SyntaxError: invalid syntax   \n",
       "11          IndentationError: expected an indented block   \n",
       "...                                                  ...   \n",
       "54571                                                      \n",
       "54575                                                      \n",
       "54577                        SyntaxError: invalid syntax   \n",
       "54586                        SyntaxError: invalid syntax   \n",
       "54590  TabError: inconsistent use of tabs and spaces ...   \n",
       "\n",
       "                                                   error  output  \n",
       "0        File \"/home/alex/Documents/research/bug-dete...          \n",
       "5        File \"/home/alex/Documents/research/bug-dete...          \n",
       "6        File \"/home/alex/Documents/research/bug-dete...          \n",
       "8        File \"/home/alex/Documents/research/bug-dete...          \n",
       "11       File \"/home/alex/Documents/research/bug-dete...          \n",
       "...                                                  ...     ...  \n",
       "54571                                                     2000\\n  \n",
       "54575                                                     2000\\n  \n",
       "54577    File \"/home/alex/Documents/research/bug-dete...          \n",
       "54586    File \"/home/alex/Documents/research/bug-dete...          \n",
       "54590    File \"/home/alex/Documents/research/bug-dete...          \n",
       "\n",
       "[14748 rows x 13 columns]"
      ]
     },
     "metadata": {},
     "output_type": "display_data"
    },
    {
     "name": "stdout",
     "output_type": "stream",
     "text": [
      "<class 'pandas.core.frame.DataFrame'>\n",
      "Int64Index: 14748 entries, 0 to 54590\n",
      "Data columns (total 13 columns):\n",
      " #   Column             Non-Null Count  Dtype \n",
      "---  ------             --------------  ----- \n",
      " 0   original_src       14748 non-null  object\n",
      " 1   changed_src        14748 non-null  object\n",
      " 2   problem_id         14748 non-null  object\n",
      " 3   original_id        14748 non-null  object\n",
      " 4   changed_id         14748 non-null  object\n",
      " 5   language           14748 non-null  object\n",
      " 6   filename_ext       14748 non-null  object\n",
      " 7   original_status    14748 non-null  object\n",
      " 8   returncode         14748 non-null  int64 \n",
      " 9   error_class        14748 non-null  object\n",
      " 10  error_class_extra  14748 non-null  object\n",
      " 11  error              14748 non-null  object\n",
      " 12  output             14748 non-null  object\n",
      "dtypes: int64(1), object(12)\n",
      "memory usage: 1.6+ MB\n"
     ]
    },
    {
     "data": {
      "text/plain": [
       "None"
      ]
     },
     "metadata": {},
     "output_type": "display_data"
    },
    {
     "data": {
      "text/plain": [
       "SyntaxError                  8386\n",
       "0                            3842\n",
       "IndentationError             1081\n",
       "NameError                     343\n",
       "TabError                      265\n",
       "TypeError                     203\n",
       "ModuleNotFoundError           134\n",
       "ValueError                    103\n",
       "IndexError                     70\n",
       "TLEError                       67\n",
       "AttributeError                 66\n",
       "EOFError                       58\n",
       "ImportError                    49\n",
       "FileNotFoundError              20\n",
       "DeprecationWarning             13\n",
       "1                              11\n",
       "KeyError                        7\n",
       "ZeroDivisionError               7\n",
       "UnboundLocalError               6\n",
       "SyntaxWarning                   6\n",
       "RuntimeError                    3\n",
       "RecursionError                  3\n",
       "OverflowError                   2\n",
       "-11                             1\n",
       "VisibleDeprecationWarning       1\n",
       "OSError                         1\n",
       "Name: error_class, dtype: int64"
      ]
     },
     "execution_count": 8,
     "metadata": {},
     "output_type": "execute_result"
    }
   ],
   "source": [
    "diff_df = codenetpy_df[~codenetpy_df[\"original_id\"].isin(filter_codenetpy_df[\"original_id\"])]\n",
    "\n",
    "display(diff_df)\n",
    "display(diff_df.info())\n",
    "\n",
    "diff_df[\"error_class\"].value_counts()"
   ]
  },
  {
   "cell_type": "markdown",
   "id": "41671334",
   "metadata": {},
   "source": [
    "Looks like flake did not find that many sources with bugs using static analysis. It only found 27 sources?? How is flake not finding indent and syntax errors? Ok I think I forgot to flush :). 47961 is the new number. Maybe will have to check some parameters for flake to be less strict. There are also a lot of 0 return codes, because I don't have the full inputs/output tests. The runtime errors probably happened on some hidden tests.\n",
    "Using setting for flake and black it will remove 14747 sources (Ignore long lines E501, blank spaces E303, ambiguous name E741, format F and warnings W)\n",
    "\n",
    "\n",
    "One  way to keep only runtime errors it to keep the errors:\n",
    "- TypeError\n",
    "- ValueError\n",
    "- IndexError\n",
    "- AttributeError (maybe, if not using something like mypy)\n",
    "- TLEError\n",
    "- ZeroDivisionError\n",
    "- KeyError\n",
    "- UnboundLocalError (what is this lol? global variables?)\n",
    "- FileNotFoundError (how to fix this though? kind of hard to predict missing input files)\n",
    "- RecursionError\n",
    "- OverflowError\n",
    "- RuntimeError\n",
    "- OSError\n",
    "\n",
    "It's a big difference between the counts of these errors."
   ]
  },
  {
   "cell_type": "markdown",
   "id": "b963edc7",
   "metadata": {},
   "source": [
    "## Examples of buggy code\n",
    "\n",
    "In this section we will look at samples of buggy and accepted submissions. The diff between the two types of submissions will be showed in red (for buggy) and blue (for accepted). For each case we will also look at the error description message associated with the buggy sample."
   ]
  },
  {
   "cell_type": "code",
   "execution_count": 5,
   "id": "9d042af2",
   "metadata": {
    "ExecuteTime": {
     "end_time": "2022-04-09T16:20:10.747975Z",
     "start_time": "2022-04-09T16:20:10.606040Z"
    },
    "scrolled": false
   },
   "outputs": [
    {
     "data": {
      "text/html": [
       "<h1>Example 0</h1>"
      ],
      "text/plain": [
       "<IPython.core.display.HTML object>"
      ]
     },
     "metadata": {},
     "output_type": "display_data"
    },
    {
     "data": {
      "text/html": [
       "<h2>The source code that is buggy:\n",
       "</h2>"
      ],
      "text/plain": [
       "<IPython.core.display.HTML object>"
      ]
     },
     "metadata": {},
     "output_type": "display_data"
    },
    {
     "data": {
      "text/html": [
       "<pre><span style=\"color:black;\">l</span><span style=\"color:black;\">=</span><span style=\"color:black;\">[</span><span style=\"color:black;\">]</span><span style=\"color:lightgrey;\">↵\n",
       "</span><span style=\"color:black;\">w</span><span style=\"color:black;\">h</span><span style=\"color:black;\">i</span><span style=\"color:black;\">l</span><span style=\"color:black;\">e</span><span style=\"color:lightgrey;\">•</span><span style=\"color:black;\">T</span><span style=\"color:black;\">r</span><span style=\"color:black;\">u</span><span style=\"color:black;\">e</span><span style=\"color:black;\">:</span><span style=\"color:lightgrey;\">↵\n",
       "</span><span style=\"color:lightgrey;\">•</span><span style=\"color:lightgrey;\">•</span><span style=\"color:lightgrey;\">•</span><span style=\"color:lightgrey;\">•</span><span style=\"color:black;\">t</span><span style=\"color:black;\">r</span><span style=\"color:black;\">y</span><span style=\"color:black;\">:</span><span style=\"color:lightgrey;\">↵\n",
       "</span><span style=\"color:lightgrey;\">•</span><span style=\"color:lightgrey;\">•</span><span style=\"color:lightgrey;\">•</span><span style=\"color:lightgrey;\">•</span><span style=\"color:lightgrey;\">•</span><span style=\"color:lightgrey;\">•</span><span style=\"color:lightgrey;\">•</span><span style=\"color:lightgrey;\">•</span><span style=\"color:black;\">l</span><span style=\"color:black;\">.</span><span style=\"color:black;\">a</span><span style=\"color:black;\">p</span><span style=\"color:black;\">p</span><span style=\"color:black;\">e</span><span style=\"color:black;\">n</span><span style=\"color:black;\">d</span><span style=\"color:black;\">(</span><span style=\"color:black;\">i</span><span style=\"color:black;\">n</span><span style=\"color:black;\">p</span><span style=\"color:black;\">u</span><span style=\"color:black;\">t</span><span style=\"color:black;\">(</span><span style=\"color:black;\">)</span><span style=\"color:black;\">)</span><span style=\"color:lightgrey;\">↵\n",
       "</span><span style=\"color:lightgrey;\">•</span><span style=\"color:lightgrey;\">•</span><span style=\"color:lightgrey;\">•</span><span style=\"color:lightgrey;\">•</span><span style=\"color:black;\">e</span><span style=\"color:black;\">x</span><span style=\"color:black;\">c</span><span style=\"color:black;\">e</span><span style=\"color:black;\">p</span><span style=\"color:black;\">t</span><span style=\"color:lightgrey;\">•</span><span style=\"color:red;\">S</span><span style=\"color:red;\">y</span><span style=\"color:red;\">n</span><span style=\"color:red;\">t</span><span style=\"color:red;\">a</span><span style=\"color:red;\">x</span><span style=\"color:black;\">E</span><span style=\"color:black;\">r</span><span style=\"color:black;\">r</span><span style=\"color:black;\">o</span><span style=\"color:black;\">r</span><span style=\"color:black;\">:</span><span style=\"color:lightgrey;\">↵\n",
       "</span><span style=\"color:lightgrey;\">•</span><span style=\"color:lightgrey;\">•</span><span style=\"color:lightgrey;\">•</span><span style=\"color:lightgrey;\">•</span><span style=\"color:lightgrey;\">•</span><span style=\"color:lightgrey;\">•</span><span style=\"color:lightgrey;\">•</span><span style=\"color:lightgrey;\">•</span><span style=\"color:black;\">b</span><span style=\"color:black;\">r</span><span style=\"color:black;\">e</span><span style=\"color:black;\">a</span><span style=\"color:black;\">k</span><span style=\"color:lightgrey;\">↵\n",
       "</span><span style=\"color:black;\">l</span><span style=\"color:black;\">.</span><span style=\"color:black;\">s</span><span style=\"color:black;\">o</span><span style=\"color:black;\">r</span><span style=\"color:black;\">t</span><span style=\"color:black;\">(</span><span style=\"color:black;\">r</span><span style=\"color:black;\">e</span><span style=\"color:black;\">v</span><span style=\"color:black;\">e</span><span style=\"color:black;\">r</span><span style=\"color:black;\">s</span><span style=\"color:black;\">e</span><span style=\"color:lightgrey;\">•</span><span style=\"color:black;\">=</span><span style=\"color:lightgrey;\">•</span><span style=\"color:black;\">T</span><span style=\"color:black;\">r</span><span style=\"color:black;\">u</span><span style=\"color:black;\">e</span><span style=\"color:black;\">)</span><span style=\"color:lightgrey;\">↵\n",
       "</span><span style=\"color:black;\">f</span><span style=\"color:black;\">o</span><span style=\"color:black;\">r</span><span style=\"color:lightgrey;\">•</span><span style=\"color:black;\">i</span><span style=\"color:lightgrey;\">•</span><span style=\"color:black;\">i</span><span style=\"color:black;\">n</span><span style=\"color:lightgrey;\">•</span><span style=\"color:black;\">r</span><span style=\"color:black;\">a</span><span style=\"color:black;\">n</span><span style=\"color:black;\">g</span><span style=\"color:black;\">e</span><span style=\"color:black;\">(</span><span style=\"color:black;\">3</span><span style=\"color:black;\">)</span><span style=\"color:black;\">:</span><span style=\"color:lightgrey;\">↵\n",
       "</span><span style=\"color:lightgrey;\">•</span><span style=\"color:lightgrey;\">•</span><span style=\"color:lightgrey;\">•</span><span style=\"color:lightgrey;\">•</span><span style=\"color:black;\">p</span><span style=\"color:black;\">r</span><span style=\"color:black;\">i</span><span style=\"color:black;\">n</span><span style=\"color:black;\">t</span><span style=\"color:lightgrey;\">•</span><span style=\"color:black;\">l</span><span style=\"color:black;\">[</span><span style=\"color:black;\">i</span><span style=\"color:black;\">]</span></pre>"
      ],
      "text/plain": [
       "<IPython.core.display.HTML object>"
      ]
     },
     "metadata": {},
     "output_type": "display_data"
    },
    {
     "data": {
      "text/html": [
       "<h2>The source code that is accepted:\n",
       "</h2>"
      ],
      "text/plain": [
       "<IPython.core.display.HTML object>"
      ]
     },
     "metadata": {},
     "output_type": "display_data"
    },
    {
     "data": {
      "text/html": [
       "<pre><span style=\"color:black;\">l</span><span style=\"color:black;\">=</span><span style=\"color:black;\">[</span><span style=\"color:black;\">]</span><span style=\"color:lightgrey;\">↵\n",
       "</span><span style=\"color:black;\">w</span><span style=\"color:black;\">h</span><span style=\"color:black;\">i</span><span style=\"color:black;\">l</span><span style=\"color:black;\">e</span><span style=\"color:lightgrey;\">•</span><span style=\"color:black;\">T</span><span style=\"color:black;\">r</span><span style=\"color:black;\">u</span><span style=\"color:black;\">e</span><span style=\"color:black;\">:</span><span style=\"color:lightgrey;\">↵\n",
       "</span><span style=\"color:lightgrey;\">•</span><span style=\"color:lightgrey;\">•</span><span style=\"color:lightgrey;\">•</span><span style=\"color:lightgrey;\">•</span><span style=\"color:black;\">t</span><span style=\"color:black;\">r</span><span style=\"color:black;\">y</span><span style=\"color:black;\">:</span><span style=\"color:lightgrey;\">↵\n",
       "</span><span style=\"color:lightgrey;\">•</span><span style=\"color:lightgrey;\">•</span><span style=\"color:lightgrey;\">•</span><span style=\"color:lightgrey;\">•</span><span style=\"color:lightgrey;\">•</span><span style=\"color:lightgrey;\">•</span><span style=\"color:lightgrey;\">•</span><span style=\"color:lightgrey;\">•</span><span style=\"color:black;\">l</span><span style=\"color:black;\">.</span><span style=\"color:black;\">a</span><span style=\"color:black;\">p</span><span style=\"color:black;\">p</span><span style=\"color:black;\">e</span><span style=\"color:black;\">n</span><span style=\"color:black;\">d</span><span style=\"color:black;\">(</span><span style=\"color:black;\">i</span><span style=\"color:black;\">n</span><span style=\"color:black;\">p</span><span style=\"color:black;\">u</span><span style=\"color:black;\">t</span><span style=\"color:black;\">(</span><span style=\"color:black;\">)</span><span style=\"color:black;\">)</span><span style=\"color:lightgrey;\">↵\n",
       "</span><span style=\"color:lightgrey;\">•</span><span style=\"color:lightgrey;\">•</span><span style=\"color:lightgrey;\">•</span><span style=\"color:lightgrey;\">•</span><span style=\"color:black;\">e</span><span style=\"color:black;\">x</span><span style=\"color:black;\">c</span><span style=\"color:black;\">e</span><span style=\"color:black;\">p</span><span style=\"color:black;\">t</span><span style=\"color:lightgrey;\">•</span><span style=\"color:blue;\">E</span><span style=\"color:blue;\">O</span><span style=\"color:blue;\">F</span><span style=\"color:black;\">E</span><span style=\"color:black;\">r</span><span style=\"color:black;\">r</span><span style=\"color:black;\">o</span><span style=\"color:black;\">r</span><span style=\"color:black;\">:</span><span style=\"color:lightgrey;\">↵\n",
       "</span><span style=\"color:lightgrey;\">•</span><span style=\"color:lightgrey;\">•</span><span style=\"color:lightgrey;\">•</span><span style=\"color:lightgrey;\">•</span><span style=\"color:lightgrey;\">•</span><span style=\"color:lightgrey;\">•</span><span style=\"color:lightgrey;\">•</span><span style=\"color:lightgrey;\">•</span><span style=\"color:black;\">b</span><span style=\"color:black;\">r</span><span style=\"color:black;\">e</span><span style=\"color:black;\">a</span><span style=\"color:black;\">k</span><span style=\"color:lightgrey;\">↵\n",
       "</span><span style=\"color:black;\">l</span><span style=\"color:black;\">.</span><span style=\"color:black;\">s</span><span style=\"color:black;\">o</span><span style=\"color:black;\">r</span><span style=\"color:black;\">t</span><span style=\"color:black;\">(</span><span style=\"color:black;\">r</span><span style=\"color:black;\">e</span><span style=\"color:black;\">v</span><span style=\"color:black;\">e</span><span style=\"color:black;\">r</span><span style=\"color:black;\">s</span><span style=\"color:black;\">e</span><span style=\"color:lightgrey;\">•</span><span style=\"color:black;\">=</span><span style=\"color:lightgrey;\">•</span><span style=\"color:black;\">T</span><span style=\"color:black;\">r</span><span style=\"color:black;\">u</span><span style=\"color:black;\">e</span><span style=\"color:black;\">)</span><span style=\"color:lightgrey;\">↵\n",
       "</span><span style=\"color:black;\">f</span><span style=\"color:black;\">o</span><span style=\"color:black;\">r</span><span style=\"color:lightgrey;\">•</span><span style=\"color:black;\">i</span><span style=\"color:lightgrey;\">•</span><span style=\"color:black;\">i</span><span style=\"color:black;\">n</span><span style=\"color:lightgrey;\">•</span><span style=\"color:black;\">r</span><span style=\"color:black;\">a</span><span style=\"color:black;\">n</span><span style=\"color:black;\">g</span><span style=\"color:black;\">e</span><span style=\"color:black;\">(</span><span style=\"color:black;\">3</span><span style=\"color:black;\">)</span><span style=\"color:black;\">:</span><span style=\"color:lightgrey;\">↵\n",
       "</span><span style=\"color:lightgrey;\">•</span><span style=\"color:lightgrey;\">•</span><span style=\"color:lightgrey;\">•</span><span style=\"color:lightgrey;\">•</span><span style=\"color:black;\">p</span><span style=\"color:black;\">r</span><span style=\"color:black;\">i</span><span style=\"color:black;\">n</span><span style=\"color:black;\">t</span><span style=\"color:lightgrey;\">•</span><span style=\"color:black;\">l</span><span style=\"color:black;\">[</span><span style=\"color:black;\">i</span><span style=\"color:black;\">]</span></pre>"
      ],
      "text/plain": [
       "<IPython.core.display.HTML object>"
      ]
     },
     "metadata": {},
     "output_type": "display_data"
    },
    {
     "data": {
      "text/html": [
       "<h2>The bug that should be assigned to the original_src:\n",
       "</h2>"
      ],
      "text/plain": [
       "<IPython.core.display.HTML object>"
      ]
     },
     "metadata": {},
     "output_type": "display_data"
    },
    {
     "data": {
      "text/html": [
       "<pre>SyntaxError: Missing parentheses in call to 'print'. Did you mean print(l[i])?</pre>"
      ],
      "text/plain": [
       "<IPython.core.display.HTML object>"
      ]
     },
     "metadata": {},
     "output_type": "display_data"
    },
    {
     "data": {
      "text/html": [
       "<h1>Example 1</h1>"
      ],
      "text/plain": [
       "<IPython.core.display.HTML object>"
      ]
     },
     "metadata": {},
     "output_type": "display_data"
    },
    {
     "data": {
      "text/html": [
       "<h2>The source code that is buggy:\n",
       "</h2>"
      ],
      "text/plain": [
       "<IPython.core.display.HTML object>"
      ]
     },
     "metadata": {},
     "output_type": "display_data"
    },
    {
     "data": {
      "text/html": [
       "<pre><span style=\"color:black;\">f</span><span style=\"color:black;\">i</span><span style=\"color:black;\">r</span><span style=\"color:black;\">s</span><span style=\"color:black;\">t</span><span style=\"color:lightgrey;\">•</span><span style=\"color:black;\">=</span><span style=\"color:lightgrey;\">•</span><span style=\"color:black;\">0</span><span style=\"color:black;\">;</span><span style=\"color:lightgrey;\">↵\n",
       "</span><span style=\"color:black;\">s</span><span style=\"color:black;\">e</span><span style=\"color:black;\">c</span><span style=\"color:black;\">o</span><span style=\"color:black;\">n</span><span style=\"color:black;\">d</span><span style=\"color:lightgrey;\">•</span><span style=\"color:black;\">=</span><span style=\"color:lightgrey;\">•</span><span style=\"color:black;\">0</span><span style=\"color:black;\">;</span><span style=\"color:lightgrey;\">↵\n",
       "</span><span style=\"color:black;\">t</span><span style=\"color:black;\">h</span><span style=\"color:black;\">i</span><span style=\"color:black;\">r</span><span style=\"color:black;\">d</span><span style=\"color:lightgrey;\">•</span><span style=\"color:black;\">=</span><span style=\"color:lightgrey;\">•</span><span style=\"color:black;\">0</span><span style=\"color:black;\">;</span><span style=\"color:lightgrey;\">↵\n",
       "</span><span style=\"color:black;\">f</span><span style=\"color:black;\">o</span><span style=\"color:black;\">r</span><span style=\"color:lightgrey;\">•</span><span style=\"color:black;\">v</span><span style=\"color:black;\">a</span><span style=\"color:black;\">r</span><span style=\"color:lightgrey;\">•</span><span style=\"color:black;\">i</span><span style=\"color:black;\">n</span><span style=\"color:lightgrey;\">•</span><span style=\"color:black;\">r</span><span style=\"color:black;\">a</span><span style=\"color:black;\">n</span><span style=\"color:black;\">g</span><span style=\"color:black;\">e</span><span style=\"color:black;\">(</span><span style=\"color:black;\">0</span><span style=\"color:black;\">,</span><span style=\"color:black;\">1</span><span style=\"color:black;\">0</span><span style=\"color:black;\">)</span><span style=\"color:black;\">:</span><span style=\"color:lightgrey;\">↵\n",
       "</span><span style=\"color:black;\">\t</span><span style=\"color:black;\">N</span><span style=\"color:lightgrey;\">•</span><span style=\"color:black;\">=</span><span style=\"color:lightgrey;\">•</span><span style=\"color:black;\">i</span><span style=\"color:black;\">n</span><span style=\"color:red;\">p</span><span style=\"color:black;\">u</span><span style=\"color:black;\">t</span><span style=\"color:black;\">(</span><span style=\"color:black;\">)</span><span style=\"color:red;\">↵\n",
       "</span><span style=\"color:black;\">\t</span><span style=\"color:black;\">i</span><span style=\"color:black;\">f</span><span style=\"color:lightgrey;\">•</span><span style=\"color:black;\">(</span><span style=\"color:black;\">N</span><span style=\"color:black;\">></span><span style=\"color:black;\">f</span><span style=\"color:black;\">i</span><span style=\"color:black;\">r</span><span style=\"color:black;\">s</span><span style=\"color:black;\">t</span><span style=\"color:black;\">)</span><span style=\"color:black;\">:</span><span style=\"color:lightgrey;\">↵\n",
       "</span><span style=\"color:black;\">\t</span><span style=\"color:black;\">\t</span><span style=\"color:black;\">t</span><span style=\"color:black;\">h</span><span style=\"color:black;\">i</span><span style=\"color:black;\">r</span><span style=\"color:black;\">d</span><span style=\"color:lightgrey;\">•</span><span style=\"color:black;\">=</span><span style=\"color:lightgrey;\">•</span><span style=\"color:black;\">s</span><span style=\"color:black;\">e</span><span style=\"color:black;\">c</span><span style=\"color:black;\">o</span><span style=\"color:black;\">n</span><span style=\"color:black;\">d</span><span style=\"color:lightgrey;\">↵\n",
       "</span><span style=\"color:black;\">\t</span><span style=\"color:black;\">\t</span><span style=\"color:black;\">s</span><span style=\"color:black;\">e</span><span style=\"color:black;\">c</span><span style=\"color:black;\">o</span><span style=\"color:black;\">n</span><span style=\"color:black;\">d</span><span style=\"color:lightgrey;\">•</span><span style=\"color:black;\">=</span><span style=\"color:lightgrey;\">•</span><span style=\"color:black;\">f</span><span style=\"color:black;\">i</span><span style=\"color:black;\">r</span><span style=\"color:black;\">s</span><span style=\"color:black;\">t</span><span style=\"color:lightgrey;\">↵\n",
       "</span><span style=\"color:black;\">\t</span><span style=\"color:black;\">\t</span><span style=\"color:black;\">f</span><span style=\"color:black;\">i</span><span style=\"color:black;\">r</span><span style=\"color:black;\">s</span><span style=\"color:black;\">t</span><span style=\"color:lightgrey;\">•</span><span style=\"color:black;\">=</span><span style=\"color:lightgrey;\">•</span><span style=\"color:black;\">N</span><span style=\"color:lightgrey;\">↵\n",
       "</span><span style=\"color:black;\">\t</span><span style=\"color:black;\">e</span><span style=\"color:black;\">l</span><span style=\"color:black;\">i</span><span style=\"color:black;\">f</span><span style=\"color:lightgrey;\">•</span><span style=\"color:black;\">(</span><span style=\"color:black;\">N</span><span style=\"color:black;\">></span><span style=\"color:black;\">s</span><span style=\"color:black;\">e</span><span style=\"color:black;\">c</span><span style=\"color:black;\">o</span><span style=\"color:black;\">n</span><span style=\"color:black;\">d</span><span style=\"color:black;\">)</span><span style=\"color:black;\">:</span><span style=\"color:lightgrey;\">↵\n",
       "</span><span style=\"color:black;\">\t</span><span style=\"color:black;\">\t</span><span style=\"color:black;\">t</span><span style=\"color:black;\">h</span><span style=\"color:black;\">i</span><span style=\"color:black;\">r</span><span style=\"color:black;\">d</span><span style=\"color:lightgrey;\">•</span><span style=\"color:black;\">=</span><span style=\"color:lightgrey;\">•</span><span style=\"color:black;\">s</span><span style=\"color:black;\">e</span><span style=\"color:black;\">c</span><span style=\"color:black;\">o</span><span style=\"color:black;\">n</span><span style=\"color:black;\">d</span><span style=\"color:lightgrey;\">↵\n",
       "</span><span style=\"color:black;\">\t</span><span style=\"color:black;\">\t</span><span style=\"color:black;\">s</span><span style=\"color:black;\">e</span><span style=\"color:black;\">c</span><span style=\"color:black;\">o</span><span style=\"color:black;\">n</span><span style=\"color:black;\">d</span><span style=\"color:lightgrey;\">•</span><span style=\"color:black;\">=</span><span style=\"color:lightgrey;\">•</span><span style=\"color:black;\">N</span><span style=\"color:lightgrey;\">↵\n",
       "</span><span style=\"color:black;\">\t</span><span style=\"color:black;\">e</span><span style=\"color:black;\">l</span><span style=\"color:black;\">i</span><span style=\"color:black;\">f</span><span style=\"color:lightgrey;\">•</span><span style=\"color:black;\">(</span><span style=\"color:black;\">N</span><span style=\"color:black;\">></span><span style=\"color:black;\">t</span><span style=\"color:black;\">h</span><span style=\"color:black;\">i</span><span style=\"color:black;\">r</span><span style=\"color:black;\">d</span><span style=\"color:black;\">)</span><span style=\"color:black;\">:</span><span style=\"color:lightgrey;\">↵\n",
       "</span><span style=\"color:black;\">\t</span><span style=\"color:black;\">\t</span><span style=\"color:black;\">t</span><span style=\"color:black;\">h</span><span style=\"color:black;\">i</span><span style=\"color:black;\">r</span><span style=\"color:black;\">d</span><span style=\"color:lightgrey;\">•</span><span style=\"color:black;\">=</span><span style=\"color:lightgrey;\">•</span><span style=\"color:black;\">N</span><span style=\"color:lightgrey;\">↵\n",
       "</span><span style=\"color:black;\">p</span><span style=\"color:black;\">r</span><span style=\"color:black;\">i</span><span style=\"color:black;\">n</span><span style=\"color:black;\">t</span><span style=\"color:lightgrey;\">•</span><span style=\"color:black;\">(</span><span style=\"color:black;\">f</span><span style=\"color:black;\">i</span><span style=\"color:black;\">r</span><span style=\"color:black;\">s</span><span style=\"color:black;\">t</span><span style=\"color:black;\">)</span><span style=\"color:lightgrey;\">↵\n",
       "</span><span style=\"color:black;\">p</span><span style=\"color:black;\">r</span><span style=\"color:black;\">i</span><span style=\"color:black;\">n</span><span style=\"color:black;\">t</span><span style=\"color:lightgrey;\">•</span><span style=\"color:black;\">(</span><span style=\"color:black;\">s</span><span style=\"color:black;\">e</span><span style=\"color:black;\">c</span><span style=\"color:black;\">o</span><span style=\"color:black;\">n</span><span style=\"color:black;\">d</span><span style=\"color:black;\">)</span><span style=\"color:lightgrey;\">↵\n",
       "</span><span style=\"color:black;\">p</span><span style=\"color:black;\">r</span><span style=\"color:black;\">i</span><span style=\"color:black;\">n</span><span style=\"color:black;\">t</span><span style=\"color:lightgrey;\">•</span><span style=\"color:black;\">(</span><span style=\"color:black;\">t</span><span style=\"color:black;\">h</span><span style=\"color:black;\">i</span><span style=\"color:black;\">r</span><span style=\"color:black;\">d</span><span style=\"color:black;\">)</span><span style=\"color:lightgrey;\">↵\n",
       "</span></pre>"
      ],
      "text/plain": [
       "<IPython.core.display.HTML object>"
      ]
     },
     "metadata": {},
     "output_type": "display_data"
    },
    {
     "data": {
      "text/html": [
       "<h2>The source code that is accepted:\n",
       "</h2>"
      ],
      "text/plain": [
       "<IPython.core.display.HTML object>"
      ]
     },
     "metadata": {},
     "output_type": "display_data"
    },
    {
     "data": {
      "text/html": [
       "<pre><span style=\"color:black;\">f</span><span style=\"color:black;\">i</span><span style=\"color:black;\">r</span><span style=\"color:black;\">s</span><span style=\"color:black;\">t</span><span style=\"color:lightgrey;\">•</span><span style=\"color:black;\">=</span><span style=\"color:lightgrey;\">•</span><span style=\"color:black;\">0</span><span style=\"color:black;\">;</span><span style=\"color:lightgrey;\">↵\n",
       "</span><span style=\"color:black;\">s</span><span style=\"color:black;\">e</span><span style=\"color:black;\">c</span><span style=\"color:black;\">o</span><span style=\"color:black;\">n</span><span style=\"color:black;\">d</span><span style=\"color:lightgrey;\">•</span><span style=\"color:black;\">=</span><span style=\"color:lightgrey;\">•</span><span style=\"color:black;\">0</span><span style=\"color:black;\">;</span><span style=\"color:lightgrey;\">↵\n",
       "</span><span style=\"color:black;\">t</span><span style=\"color:black;\">h</span><span style=\"color:black;\">i</span><span style=\"color:black;\">r</span><span style=\"color:black;\">d</span><span style=\"color:lightgrey;\">•</span><span style=\"color:black;\">=</span><span style=\"color:lightgrey;\">•</span><span style=\"color:black;\">0</span><span style=\"color:black;\">;</span><span style=\"color:lightgrey;\">↵\n",
       "</span><span style=\"color:black;\">f</span><span style=\"color:black;\">o</span><span style=\"color:black;\">r</span><span style=\"color:lightgrey;\">•</span><span style=\"color:black;\">v</span><span style=\"color:black;\">a</span><span style=\"color:black;\">r</span><span style=\"color:lightgrey;\">•</span><span style=\"color:black;\">i</span><span style=\"color:black;\">n</span><span style=\"color:lightgrey;\">•</span><span style=\"color:black;\">r</span><span style=\"color:black;\">a</span><span style=\"color:black;\">n</span><span style=\"color:black;\">g</span><span style=\"color:black;\">e</span><span style=\"color:black;\">(</span><span style=\"color:black;\">0</span><span style=\"color:black;\">,</span><span style=\"color:black;\">1</span><span style=\"color:black;\">0</span><span style=\"color:black;\">)</span><span style=\"color:black;\">:</span><span style=\"color:lightgrey;\">↵\n",
       "</span><span style=\"color:black;\">\t</span><span style=\"color:black;\">N</span><span style=\"color:lightgrey;\">•</span><span style=\"color:black;\">=</span><span style=\"color:lightgrey;\">•</span><span style=\"color:black;\">i</span><span style=\"color:black;\">n</span><span style=\"color:blue;\">t</span><span style=\"color:blue;\">(</span><span style=\"color:blue;\">i</span><span style=\"color:blue;\">n</span><span style=\"color:blue;\">p</span><span style=\"color:black;\">u</span><span style=\"color:black;\">t</span><span style=\"color:black;\">(</span><span style=\"color:black;\">)</span><span style=\"color:blue;\">)</span><span style=\"color:blue;\">↵\n",
       "</span><span style=\"color:black;\">\t</span><span style=\"color:black;\">i</span><span style=\"color:black;\">f</span><span style=\"color:lightgrey;\">•</span><span style=\"color:black;\">(</span><span style=\"color:black;\">N</span><span style=\"color:black;\">></span><span style=\"color:black;\">f</span><span style=\"color:black;\">i</span><span style=\"color:black;\">r</span><span style=\"color:black;\">s</span><span style=\"color:black;\">t</span><span style=\"color:black;\">)</span><span style=\"color:black;\">:</span><span style=\"color:lightgrey;\">↵\n",
       "</span><span style=\"color:black;\">\t</span><span style=\"color:black;\">\t</span><span style=\"color:black;\">t</span><span style=\"color:black;\">h</span><span style=\"color:black;\">i</span><span style=\"color:black;\">r</span><span style=\"color:black;\">d</span><span style=\"color:lightgrey;\">•</span><span style=\"color:black;\">=</span><span style=\"color:lightgrey;\">•</span><span style=\"color:black;\">s</span><span style=\"color:black;\">e</span><span style=\"color:black;\">c</span><span style=\"color:black;\">o</span><span style=\"color:black;\">n</span><span style=\"color:black;\">d</span><span style=\"color:lightgrey;\">↵\n",
       "</span><span style=\"color:black;\">\t</span><span style=\"color:black;\">\t</span><span style=\"color:black;\">s</span><span style=\"color:black;\">e</span><span style=\"color:black;\">c</span><span style=\"color:black;\">o</span><span style=\"color:black;\">n</span><span style=\"color:black;\">d</span><span style=\"color:lightgrey;\">•</span><span style=\"color:black;\">=</span><span style=\"color:lightgrey;\">•</span><span style=\"color:black;\">f</span><span style=\"color:black;\">i</span><span style=\"color:black;\">r</span><span style=\"color:black;\">s</span><span style=\"color:black;\">t</span><span style=\"color:lightgrey;\">↵\n",
       "</span><span style=\"color:black;\">\t</span><span style=\"color:black;\">\t</span><span style=\"color:black;\">f</span><span style=\"color:black;\">i</span><span style=\"color:black;\">r</span><span style=\"color:black;\">s</span><span style=\"color:black;\">t</span><span style=\"color:lightgrey;\">•</span><span style=\"color:black;\">=</span><span style=\"color:lightgrey;\">•</span><span style=\"color:black;\">N</span><span style=\"color:lightgrey;\">↵\n",
       "</span><span style=\"color:black;\">\t</span><span style=\"color:black;\">e</span><span style=\"color:black;\">l</span><span style=\"color:black;\">i</span><span style=\"color:black;\">f</span><span style=\"color:lightgrey;\">•</span><span style=\"color:black;\">(</span><span style=\"color:black;\">N</span><span style=\"color:black;\">></span><span style=\"color:black;\">s</span><span style=\"color:black;\">e</span><span style=\"color:black;\">c</span><span style=\"color:black;\">o</span><span style=\"color:black;\">n</span><span style=\"color:black;\">d</span><span style=\"color:black;\">)</span><span style=\"color:black;\">:</span><span style=\"color:lightgrey;\">↵\n",
       "</span><span style=\"color:black;\">\t</span><span style=\"color:black;\">\t</span><span style=\"color:black;\">t</span><span style=\"color:black;\">h</span><span style=\"color:black;\">i</span><span style=\"color:black;\">r</span><span style=\"color:black;\">d</span><span style=\"color:lightgrey;\">•</span><span style=\"color:black;\">=</span><span style=\"color:lightgrey;\">•</span><span style=\"color:black;\">s</span><span style=\"color:black;\">e</span><span style=\"color:black;\">c</span><span style=\"color:black;\">o</span><span style=\"color:black;\">n</span><span style=\"color:black;\">d</span><span style=\"color:lightgrey;\">↵\n",
       "</span><span style=\"color:black;\">\t</span><span style=\"color:black;\">\t</span><span style=\"color:black;\">s</span><span style=\"color:black;\">e</span><span style=\"color:black;\">c</span><span style=\"color:black;\">o</span><span style=\"color:black;\">n</span><span style=\"color:black;\">d</span><span style=\"color:lightgrey;\">•</span><span style=\"color:black;\">=</span><span style=\"color:lightgrey;\">•</span><span style=\"color:black;\">N</span><span style=\"color:lightgrey;\">↵\n",
       "</span><span style=\"color:black;\">\t</span><span style=\"color:black;\">e</span><span style=\"color:black;\">l</span><span style=\"color:black;\">i</span><span style=\"color:black;\">f</span><span style=\"color:lightgrey;\">•</span><span style=\"color:black;\">(</span><span style=\"color:black;\">N</span><span style=\"color:black;\">></span><span style=\"color:black;\">t</span><span style=\"color:black;\">h</span><span style=\"color:black;\">i</span><span style=\"color:black;\">r</span><span style=\"color:black;\">d</span><span style=\"color:black;\">)</span><span style=\"color:black;\">:</span><span style=\"color:lightgrey;\">↵\n",
       "</span><span style=\"color:black;\">\t</span><span style=\"color:black;\">\t</span><span style=\"color:black;\">t</span><span style=\"color:black;\">h</span><span style=\"color:black;\">i</span><span style=\"color:black;\">r</span><span style=\"color:black;\">d</span><span style=\"color:lightgrey;\">•</span><span style=\"color:black;\">=</span><span style=\"color:lightgrey;\">•</span><span style=\"color:black;\">N</span><span style=\"color:lightgrey;\">↵\n",
       "</span><span style=\"color:black;\">p</span><span style=\"color:black;\">r</span><span style=\"color:black;\">i</span><span style=\"color:black;\">n</span><span style=\"color:black;\">t</span><span style=\"color:lightgrey;\">•</span><span style=\"color:black;\">(</span><span style=\"color:black;\">f</span><span style=\"color:black;\">i</span><span style=\"color:black;\">r</span><span style=\"color:black;\">s</span><span style=\"color:black;\">t</span><span style=\"color:black;\">)</span><span style=\"color:lightgrey;\">↵\n",
       "</span><span style=\"color:black;\">p</span><span style=\"color:black;\">r</span><span style=\"color:black;\">i</span><span style=\"color:black;\">n</span><span style=\"color:black;\">t</span><span style=\"color:lightgrey;\">•</span><span style=\"color:black;\">(</span><span style=\"color:black;\">s</span><span style=\"color:black;\">e</span><span style=\"color:black;\">c</span><span style=\"color:black;\">o</span><span style=\"color:black;\">n</span><span style=\"color:black;\">d</span><span style=\"color:black;\">)</span><span style=\"color:lightgrey;\">↵\n",
       "</span><span style=\"color:black;\">p</span><span style=\"color:black;\">r</span><span style=\"color:black;\">i</span><span style=\"color:black;\">n</span><span style=\"color:black;\">t</span><span style=\"color:lightgrey;\">•</span><span style=\"color:black;\">(</span><span style=\"color:black;\">t</span><span style=\"color:black;\">h</span><span style=\"color:black;\">i</span><span style=\"color:black;\">r</span><span style=\"color:black;\">d</span><span style=\"color:black;\">)</span><span style=\"color:lightgrey;\">↵\n",
       "</span></pre>"
      ],
      "text/plain": [
       "<IPython.core.display.HTML object>"
      ]
     },
     "metadata": {},
     "output_type": "display_data"
    },
    {
     "data": {
      "text/html": [
       "<h2>The bug that should be assigned to the original_src:\n",
       "</h2>"
      ],
      "text/plain": [
       "<IPython.core.display.HTML object>"
      ]
     },
     "metadata": {},
     "output_type": "display_data"
    },
    {
     "data": {
      "text/html": [
       "<pre>TypeError: '>' not supported between instances of 'str' and 'int'</pre>"
      ],
      "text/plain": [
       "<IPython.core.display.HTML object>"
      ]
     },
     "metadata": {},
     "output_type": "display_data"
    },
    {
     "data": {
      "text/html": [
       "<h1>Example 2</h1>"
      ],
      "text/plain": [
       "<IPython.core.display.HTML object>"
      ]
     },
     "metadata": {},
     "output_type": "display_data"
    },
    {
     "data": {
      "text/html": [
       "<h2>The source code that is buggy:\n",
       "</h2>"
      ],
      "text/plain": [
       "<IPython.core.display.HTML object>"
      ]
     },
     "metadata": {},
     "output_type": "display_data"
    },
    {
     "data": {
      "text/html": [
       "<pre><span style=\"color:red;\">f</span><span style=\"color:black;\">o</span><span style=\"color:black;\">r</span><span style=\"color:lightgrey;\">•</span><span style=\"color:black;\">i</span><span style=\"color:lightgrey;\">•</span><span style=\"color:black;\">i</span><span style=\"color:black;\">n</span><span style=\"color:lightgrey;\">•</span><span style=\"color:black;\">r</span><span style=\"color:black;\">a</span><span style=\"color:black;\">n</span><span style=\"color:black;\">g</span><span style=\"color:black;\">e</span><span style=\"color:black;\">(</span><span style=\"color:black;\">1</span><span style=\"color:black;\">0</span><span style=\"color:black;\">)</span><span style=\"color:black;\">:</span><span style=\"color:lightgrey;\">↵\n",
       "</span><span style=\"color:lightgrey;\">•</span><span style=\"color:lightgrey;\">•</span><span style=\"color:lightgrey;\">•</span><span style=\"color:lightgrey;\">•</span><span style=\"color:black;\">s</span><span style=\"color:black;\">.</span><span style=\"color:black;\">a</span><span style=\"color:black;\">p</span><span style=\"color:black;\">p</span><span style=\"color:black;\">e</span><span style=\"color:black;\">n</span><span style=\"color:black;\">d</span><span style=\"color:black;\">(</span><span style=\"color:black;\">i</span><span style=\"color:black;\">n</span><span style=\"color:black;\">t</span><span style=\"color:black;\">(</span><span style=\"color:black;\">i</span><span style=\"color:black;\">n</span><span style=\"color:black;\">p</span><span style=\"color:black;\">u</span><span style=\"color:black;\">t</span><span style=\"color:black;\">(</span><span style=\"color:black;\">)</span><span style=\"color:black;\">)</span><span style=\"color:black;\">)</span><span style=\"color:lightgrey;\">↵\n",
       "</span><span style=\"color:black;\">s</span><span style=\"color:black;\">.</span><span style=\"color:black;\">s</span><span style=\"color:black;\">o</span><span style=\"color:black;\">r</span><span style=\"color:black;\">t</span><span style=\"color:black;\">(</span><span style=\"color:black;\">)</span><span style=\"color:lightgrey;\">↵\n",
       "</span><span style=\"color:black;\">f</span><span style=\"color:black;\">o</span><span style=\"color:black;\">r</span><span style=\"color:lightgrey;\">•</span><span style=\"color:black;\">i</span><span style=\"color:lightgrey;\">•</span><span style=\"color:black;\">i</span><span style=\"color:black;\">n</span><span style=\"color:lightgrey;\">•</span><span style=\"color:black;\">r</span><span style=\"color:black;\">a</span><span style=\"color:black;\">n</span><span style=\"color:black;\">g</span><span style=\"color:black;\">e</span><span style=\"color:black;\">(</span><span style=\"color:black;\">3</span><span style=\"color:black;\">)</span><span style=\"color:black;\">:</span><span style=\"color:lightgrey;\">↵\n",
       "</span><span style=\"color:lightgrey;\">•</span><span style=\"color:lightgrey;\">•</span><span style=\"color:lightgrey;\">•</span><span style=\"color:lightgrey;\">•</span><span style=\"color:black;\">p</span><span style=\"color:black;\">r</span><span style=\"color:black;\">i</span><span style=\"color:black;\">n</span><span style=\"color:black;\">t</span><span style=\"color:black;\">(</span><span style=\"color:black;\">s</span><span style=\"color:black;\">[</span><span style=\"color:red;\">i</span><span style=\"color:black;\">]</span><span style=\"color:black;\">)</span></pre>"
      ],
      "text/plain": [
       "<IPython.core.display.HTML object>"
      ]
     },
     "metadata": {},
     "output_type": "display_data"
    },
    {
     "data": {
      "text/html": [
       "<h2>The source code that is accepted:\n",
       "</h2>"
      ],
      "text/plain": [
       "<IPython.core.display.HTML object>"
      ]
     },
     "metadata": {},
     "output_type": "display_data"
    },
    {
     "data": {
      "text/html": [
       "<pre><span style=\"color:blue;\">s</span><span style=\"color:blue;\">=</span><span style=\"color:blue;\">[</span><span style=\"color:blue;\">]</span><span style=\"color:blue;\">↵\n",
       "</span><span style=\"color:blue;\">f</span><span style=\"color:black;\">o</span><span style=\"color:black;\">r</span><span style=\"color:lightgrey;\">•</span><span style=\"color:black;\">i</span><span style=\"color:lightgrey;\">•</span><span style=\"color:black;\">i</span><span style=\"color:black;\">n</span><span style=\"color:lightgrey;\">•</span><span style=\"color:black;\">r</span><span style=\"color:black;\">a</span><span style=\"color:black;\">n</span><span style=\"color:black;\">g</span><span style=\"color:black;\">e</span><span style=\"color:black;\">(</span><span style=\"color:black;\">1</span><span style=\"color:black;\">0</span><span style=\"color:black;\">)</span><span style=\"color:black;\">:</span><span style=\"color:lightgrey;\">↵\n",
       "</span><span style=\"color:lightgrey;\">•</span><span style=\"color:lightgrey;\">•</span><span style=\"color:lightgrey;\">•</span><span style=\"color:lightgrey;\">•</span><span style=\"color:black;\">s</span><span style=\"color:black;\">.</span><span style=\"color:black;\">a</span><span style=\"color:black;\">p</span><span style=\"color:black;\">p</span><span style=\"color:black;\">e</span><span style=\"color:black;\">n</span><span style=\"color:black;\">d</span><span style=\"color:black;\">(</span><span style=\"color:black;\">i</span><span style=\"color:black;\">n</span><span style=\"color:black;\">t</span><span style=\"color:black;\">(</span><span style=\"color:black;\">i</span><span style=\"color:black;\">n</span><span style=\"color:black;\">p</span><span style=\"color:black;\">u</span><span style=\"color:black;\">t</span><span style=\"color:black;\">(</span><span style=\"color:black;\">)</span><span style=\"color:black;\">)</span><span style=\"color:black;\">)</span><span style=\"color:lightgrey;\">↵\n",
       "</span><span style=\"color:black;\">s</span><span style=\"color:black;\">.</span><span style=\"color:black;\">s</span><span style=\"color:black;\">o</span><span style=\"color:black;\">r</span><span style=\"color:black;\">t</span><span style=\"color:black;\">(</span><span style=\"color:black;\">)</span><span style=\"color:lightgrey;\">↵\n",
       "</span><span style=\"color:black;\">f</span><span style=\"color:black;\">o</span><span style=\"color:black;\">r</span><span style=\"color:lightgrey;\">•</span><span style=\"color:black;\">i</span><span style=\"color:lightgrey;\">•</span><span style=\"color:black;\">i</span><span style=\"color:black;\">n</span><span style=\"color:lightgrey;\">•</span><span style=\"color:black;\">r</span><span style=\"color:black;\">a</span><span style=\"color:black;\">n</span><span style=\"color:black;\">g</span><span style=\"color:black;\">e</span><span style=\"color:black;\">(</span><span style=\"color:black;\">3</span><span style=\"color:black;\">)</span><span style=\"color:black;\">:</span><span style=\"color:lightgrey;\">↵\n",
       "</span><span style=\"color:lightgrey;\">•</span><span style=\"color:lightgrey;\">•</span><span style=\"color:lightgrey;\">•</span><span style=\"color:lightgrey;\">•</span><span style=\"color:black;\">p</span><span style=\"color:black;\">r</span><span style=\"color:black;\">i</span><span style=\"color:black;\">n</span><span style=\"color:black;\">t</span><span style=\"color:black;\">(</span><span style=\"color:black;\">s</span><span style=\"color:black;\">[</span><span style=\"color:blue;\">9</span><span style=\"color:blue;\">-</span><span style=\"color:blue;\">i</span><span style=\"color:black;\">]</span><span style=\"color:black;\">)</span></pre>"
      ],
      "text/plain": [
       "<IPython.core.display.HTML object>"
      ]
     },
     "metadata": {},
     "output_type": "display_data"
    },
    {
     "data": {
      "text/html": [
       "<h2>The bug that should be assigned to the original_src:\n",
       "</h2>"
      ],
      "text/plain": [
       "<IPython.core.display.HTML object>"
      ]
     },
     "metadata": {},
     "output_type": "display_data"
    },
    {
     "data": {
      "text/html": [
       "<pre>NameError: name 's' is not defined</pre>"
      ],
      "text/plain": [
       "<IPython.core.display.HTML object>"
      ]
     },
     "metadata": {},
     "output_type": "display_data"
    },
    {
     "data": {
      "text/html": [
       "<h1>Example 3</h1>"
      ],
      "text/plain": [
       "<IPython.core.display.HTML object>"
      ]
     },
     "metadata": {},
     "output_type": "display_data"
    },
    {
     "data": {
      "text/html": [
       "<h2>The source code that is buggy:\n",
       "</h2>"
      ],
      "text/plain": [
       "<IPython.core.display.HTML object>"
      ]
     },
     "metadata": {},
     "output_type": "display_data"
    },
    {
     "data": {
      "text/html": [
       "<pre><span style=\"color:black;\">#</span><span style=\"color:lightgrey;\">•</span><span style=\"color:black;\">-</span><span style=\"color:black;\">*</span><span style=\"color:black;\">-</span><span style=\"color:lightgrey;\">•</span><span style=\"color:black;\">c</span><span style=\"color:black;\">o</span><span style=\"color:black;\">d</span><span style=\"color:black;\">i</span><span style=\"color:black;\">n</span><span style=\"color:black;\">g</span><span style=\"color:black;\">:</span><span style=\"color:lightgrey;\">•</span><span style=\"color:black;\">u</span><span style=\"color:black;\">t</span><span style=\"color:black;\">f</span><span style=\"color:black;\">-</span><span style=\"color:black;\">8</span><span style=\"color:lightgrey;\">•</span><span style=\"color:black;\">-</span><span style=\"color:black;\">*</span><span style=\"color:black;\">-</span><span style=\"color:lightgrey;\">↵\n",
       "</span><span style=\"color:lightgrey;\">↵\n",
       "</span><span style=\"color:black;\">i</span><span style=\"color:black;\">m</span><span style=\"color:black;\">p</span><span style=\"color:black;\">o</span><span style=\"color:black;\">r</span><span style=\"color:black;\">t</span><span style=\"color:lightgrey;\">•</span><span style=\"color:black;\">s</span><span style=\"color:black;\">y</span><span style=\"color:black;\">s</span><span style=\"color:lightgrey;\">↵\n",
       "</span><span style=\"color:lightgrey;\">↵\n",
       "</span><span style=\"color:black;\">d</span><span style=\"color:black;\">e</span><span style=\"color:black;\">f</span><span style=\"color:lightgrey;\">•</span><span style=\"color:black;\">t</span><span style=\"color:black;\">o</span><span style=\"color:black;\">p</span><span style=\"color:black;\">_</span><span style=\"color:black;\">k</span><span style=\"color:black;\">_</span><span style=\"color:black;\">s</span><span style=\"color:black;\">o</span><span style=\"color:black;\">r</span><span style=\"color:black;\">t</span><span style=\"color:black;\">(</span><span style=\"color:black;\">d</span><span style=\"color:black;\">a</span><span style=\"color:black;\">t</span><span style=\"color:black;\">a</span><span style=\"color:black;\">,</span><span style=\"color:lightgrey;\">•</span><span style=\"color:black;\">k</span><span style=\"color:black;\">=</span><span style=\"color:black;\">3</span><span style=\"color:black;\">,</span><span style=\"color:lightgrey;\">•</span><span style=\"color:black;\">r</span><span style=\"color:black;\">e</span><span style=\"color:black;\">v</span><span style=\"color:black;\">e</span><span style=\"color:black;\">r</span><span style=\"color:black;\">s</span><span style=\"color:black;\">e</span><span style=\"color:black;\">=</span><span style=\"color:black;\">T</span><span style=\"color:black;\">r</span><span style=\"color:black;\">u</span><span style=\"color:black;\">e</span><span style=\"color:black;\">)</span><span style=\"color:black;\">:</span><span style=\"color:lightgrey;\">↵\n",
       "</span><span style=\"color:lightgrey;\">•</span><span style=\"color:lightgrey;\">•</span><span style=\"color:lightgrey;\">•</span><span style=\"color:lightgrey;\">•</span><span style=\"color:black;\">d</span><span style=\"color:black;\">a</span><span style=\"color:black;\">t</span><span style=\"color:black;\">a</span><span style=\"color:black;\">.</span><span style=\"color:black;\">s</span><span style=\"color:black;\">o</span><span style=\"color:black;\">r</span><span style=\"color:black;\">t</span><span style=\"color:black;\">(</span><span style=\"color:black;\">r</span><span style=\"color:black;\">e</span><span style=\"color:black;\">v</span><span style=\"color:black;\">e</span><span style=\"color:black;\">r</span><span style=\"color:black;\">s</span><span style=\"color:black;\">e</span><span style=\"color:black;\">=</span><span style=\"color:black;\">T</span><span style=\"color:black;\">r</span><span style=\"color:black;\">u</span><span style=\"color:black;\">e</span><span style=\"color:black;\">)</span><span style=\"color:lightgrey;\">↵\n",
       "</span><span style=\"color:lightgrey;\">•</span><span style=\"color:lightgrey;\">•</span><span style=\"color:lightgrey;\">•</span><span style=\"color:lightgrey;\">•</span><span style=\"color:black;\">r</span><span style=\"color:black;\">e</span><span style=\"color:black;\">t</span><span style=\"color:black;\">u</span><span style=\"color:black;\">r</span><span style=\"color:black;\">n</span><span style=\"color:lightgrey;\">•</span><span style=\"color:black;\">d</span><span style=\"color:black;\">a</span><span style=\"color:black;\">t</span><span style=\"color:black;\">a</span><span style=\"color:black;\">[</span><span style=\"color:black;\">:</span><span style=\"color:black;\">k</span><span style=\"color:black;\">]</span><span style=\"color:lightgrey;\">↵\n",
       "</span><span style=\"color:lightgrey;\">↵\n",
       "</span><span style=\"color:black;\">d</span><span style=\"color:black;\">e</span><span style=\"color:black;\">f</span><span style=\"color:lightgrey;\">•</span><span style=\"color:black;\">m</span><span style=\"color:black;\">a</span><span style=\"color:black;\">i</span><span style=\"color:black;\">n</span><span style=\"color:black;\">(</span><span style=\"color:black;\">)</span><span style=\"color:black;\">:</span><span style=\"color:lightgrey;\">↵\n",
       "</span><span style=\"color:lightgrey;\">•</span><span style=\"color:lightgrey;\">•</span><span style=\"color:lightgrey;\">•</span><span style=\"color:lightgrey;\">•</span><span style=\"color:black;\">d</span><span style=\"color:black;\">a</span><span style=\"color:black;\">t</span><span style=\"color:black;\">a</span><span style=\"color:lightgrey;\">•</span><span style=\"color:black;\">=</span><span style=\"color:lightgrey;\">•</span><span style=\"color:black;\">[</span><span style=\"color:black;\">]</span><span style=\"color:lightgrey;\">↵\n",
       "</span><span style=\"color:lightgrey;\">•</span><span style=\"color:lightgrey;\">•</span><span style=\"color:lightgrey;\">•</span><span style=\"color:lightgrey;\">•</span><span style=\"color:black;\">f</span><span style=\"color:black;\">o</span><span style=\"color:black;\">r</span><span style=\"color:lightgrey;\">•</span><span style=\"color:black;\">l</span><span style=\"color:black;\">i</span><span style=\"color:black;\">n</span><span style=\"color:black;\">e</span><span style=\"color:lightgrey;\">•</span><span style=\"color:black;\">i</span><span style=\"color:black;\">n</span><span style=\"color:lightgrey;\">•</span><span style=\"color:black;\">s</span><span style=\"color:black;\">y</span><span style=\"color:black;\">s</span><span style=\"color:black;\">.</span><span style=\"color:black;\">s</span><span style=\"color:black;\">t</span><span style=\"color:black;\">d</span><span style=\"color:black;\">i</span><span style=\"color:black;\">n</span><span style=\"color:black;\">:</span><span style=\"color:lightgrey;\">↵\n",
       "</span><span style=\"color:lightgrey;\">•</span><span style=\"color:lightgrey;\">•</span><span style=\"color:lightgrey;\">•</span><span style=\"color:lightgrey;\">•</span><span style=\"color:lightgrey;\">•</span><span style=\"color:lightgrey;\">•</span><span style=\"color:lightgrey;\">•</span><span style=\"color:lightgrey;\">•</span><span style=\"color:black;\">d</span><span style=\"color:black;\">a</span><span style=\"color:black;\">t</span><span style=\"color:black;\">a</span><span style=\"color:black;\">.</span><span style=\"color:black;\">a</span><span style=\"color:black;\">p</span><span style=\"color:black;\">p</span><span style=\"color:black;\">e</span><span style=\"color:black;\">n</span><span style=\"color:black;\">d</span><span style=\"color:black;\">(</span><span style=\"color:black;\">i</span><span style=\"color:black;\">n</span><span style=\"color:black;\">t</span><span style=\"color:black;\">(</span><span style=\"color:black;\">l</span><span style=\"color:black;\">i</span><span style=\"color:black;\">n</span><span style=\"color:black;\">e</span><span style=\"color:black;\">)</span><span style=\"color:black;\">)</span><span style=\"color:lightgrey;\">↵\n",
       "</span><span style=\"color:lightgrey;\">↵\n",
       "</span><span style=\"color:lightgrey;\">•</span><span style=\"color:lightgrey;\">•</span><span style=\"color:lightgrey;\">•</span><span style=\"color:lightgrey;\">•</span><span style=\"color:red;\">d</span><span style=\"color:red;\">a</span><span style=\"color:red;\">t</span><span style=\"color:red;\">a</span><span style=\"color:red;\">•</span><span style=\"color:red;\">=</span><span style=\"color:red;\">•</span><span style=\"color:red;\">[</span><span style=\"color:red;\">i</span><span style=\"color:red;\">n</span><span style=\"color:red;\">t</span><span style=\"color:red;\">(</span><span style=\"color:red;\">v</span><span style=\"color:red;\">)</span><span style=\"color:red;\">•</span><span style=\"color:red;\">f</span><span style=\"color:red;\">o</span><span style=\"color:red;\">r</span><span style=\"color:red;\">•</span><span style=\"color:red;\">v</span><span style=\"color:red;\">•</span><span style=\"color:red;\">i</span><span style=\"color:red;\">n</span><span style=\"color:red;\">•</span><span style=\"color:red;\">a</span><span style=\"color:red;\">r</span><span style=\"color:red;\">g</span><span style=\"color:red;\">v</span><span style=\"color:red;\">[</span><span style=\"color:red;\">1</span><span style=\"color:red;\">:</span><span style=\"color:red;\">]</span><span style=\"color:red;\">]</span><span style=\"color:red;\">↵\n",
       "</span><span style=\"color:red;\">•</span><span style=\"color:red;\">•</span><span style=\"color:red;\">•</span><span style=\"color:red;\">•</span><span style=\"color:black;\">f</span><span style=\"color:black;\">o</span><span style=\"color:black;\">r</span><span style=\"color:lightgrey;\">•</span><span style=\"color:black;\">h</span><span style=\"color:lightgrey;\">•</span><span style=\"color:black;\">i</span><span style=\"color:black;\">n</span><span style=\"color:lightgrey;\">•</span><span style=\"color:black;\">t</span><span style=\"color:black;\">o</span><span style=\"color:black;\">p</span><span style=\"color:black;\">_</span><span style=\"color:black;\">k</span><span style=\"color:black;\">_</span><span style=\"color:black;\">s</span><span style=\"color:black;\">o</span><span style=\"color:black;\">r</span><span style=\"color:black;\">t</span><span style=\"color:black;\">(</span><span style=\"color:black;\">d</span><span style=\"color:black;\">a</span><span style=\"color:black;\">t</span><span style=\"color:black;\">a</span><span style=\"color:black;\">)</span><span style=\"color:black;\">:</span><span style=\"color:lightgrey;\">↵\n",
       "</span><span style=\"color:lightgrey;\">•</span><span style=\"color:lightgrey;\">•</span><span style=\"color:lightgrey;\">•</span><span style=\"color:lightgrey;\">•</span><span style=\"color:lightgrey;\">•</span><span style=\"color:lightgrey;\">•</span><span style=\"color:lightgrey;\">•</span><span style=\"color:lightgrey;\">•</span><span style=\"color:black;\">p</span><span style=\"color:black;\">r</span><span style=\"color:black;\">i</span><span style=\"color:black;\">n</span><span style=\"color:black;\">t</span><span style=\"color:black;\">(</span><span style=\"color:black;\">h</span><span style=\"color:black;\">)</span><span style=\"color:lightgrey;\">↵\n",
       "</span><span style=\"color:lightgrey;\">↵\n",
       "</span><span style=\"color:black;\">i</span><span style=\"color:black;\">f</span><span style=\"color:lightgrey;\">•</span><span style=\"color:black;\">_</span><span style=\"color:black;\">_</span><span style=\"color:black;\">n</span><span style=\"color:black;\">a</span><span style=\"color:black;\">m</span><span style=\"color:black;\">e</span><span style=\"color:black;\">_</span><span style=\"color:black;\">_</span><span style=\"color:lightgrey;\">•</span><span style=\"color:black;\">=</span><span style=\"color:black;\">=</span><span style=\"color:lightgrey;\">•</span><span style=\"color:black;\">'</span><span style=\"color:black;\">_</span><span style=\"color:black;\">_</span><span style=\"color:black;\">m</span><span style=\"color:black;\">a</span><span style=\"color:black;\">i</span><span style=\"color:black;\">n</span><span style=\"color:black;\">_</span><span style=\"color:black;\">_</span><span style=\"color:black;\">'</span><span style=\"color:black;\">:</span><span style=\"color:lightgrey;\">↵\n",
       "</span><span style=\"color:lightgrey;\">•</span><span style=\"color:lightgrey;\">•</span><span style=\"color:lightgrey;\">•</span><span style=\"color:lightgrey;\">•</span><span style=\"color:black;\">m</span><span style=\"color:black;\">a</span><span style=\"color:black;\">i</span><span style=\"color:black;\">n</span><span style=\"color:black;\">(</span><span style=\"color:black;\">)</span></pre>"
      ],
      "text/plain": [
       "<IPython.core.display.HTML object>"
      ]
     },
     "metadata": {},
     "output_type": "display_data"
    },
    {
     "data": {
      "text/html": [
       "<h2>The source code that is accepted:\n",
       "</h2>"
      ],
      "text/plain": [
       "<IPython.core.display.HTML object>"
      ]
     },
     "metadata": {},
     "output_type": "display_data"
    },
    {
     "data": {
      "text/html": [
       "<pre><span style=\"color:black;\">#</span><span style=\"color:lightgrey;\">•</span><span style=\"color:black;\">-</span><span style=\"color:black;\">*</span><span style=\"color:black;\">-</span><span style=\"color:lightgrey;\">•</span><span style=\"color:black;\">c</span><span style=\"color:black;\">o</span><span style=\"color:black;\">d</span><span style=\"color:black;\">i</span><span style=\"color:black;\">n</span><span style=\"color:black;\">g</span><span style=\"color:black;\">:</span><span style=\"color:lightgrey;\">•</span><span style=\"color:black;\">u</span><span style=\"color:black;\">t</span><span style=\"color:black;\">f</span><span style=\"color:black;\">-</span><span style=\"color:black;\">8</span><span style=\"color:lightgrey;\">•</span><span style=\"color:black;\">-</span><span style=\"color:black;\">*</span><span style=\"color:black;\">-</span><span style=\"color:lightgrey;\">↵\n",
       "</span><span style=\"color:lightgrey;\">↵\n",
       "</span><span style=\"color:black;\">i</span><span style=\"color:black;\">m</span><span style=\"color:black;\">p</span><span style=\"color:black;\">o</span><span style=\"color:black;\">r</span><span style=\"color:black;\">t</span><span style=\"color:lightgrey;\">•</span><span style=\"color:black;\">s</span><span style=\"color:black;\">y</span><span style=\"color:black;\">s</span><span style=\"color:lightgrey;\">↵\n",
       "</span><span style=\"color:lightgrey;\">↵\n",
       "</span><span style=\"color:black;\">d</span><span style=\"color:black;\">e</span><span style=\"color:black;\">f</span><span style=\"color:lightgrey;\">•</span><span style=\"color:black;\">t</span><span style=\"color:black;\">o</span><span style=\"color:black;\">p</span><span style=\"color:black;\">_</span><span style=\"color:black;\">k</span><span style=\"color:black;\">_</span><span style=\"color:black;\">s</span><span style=\"color:black;\">o</span><span style=\"color:black;\">r</span><span style=\"color:black;\">t</span><span style=\"color:black;\">(</span><span style=\"color:black;\">d</span><span style=\"color:black;\">a</span><span style=\"color:black;\">t</span><span style=\"color:black;\">a</span><span style=\"color:black;\">,</span><span style=\"color:lightgrey;\">•</span><span style=\"color:black;\">k</span><span style=\"color:black;\">=</span><span style=\"color:black;\">3</span><span style=\"color:black;\">,</span><span style=\"color:lightgrey;\">•</span><span style=\"color:black;\">r</span><span style=\"color:black;\">e</span><span style=\"color:black;\">v</span><span style=\"color:black;\">e</span><span style=\"color:black;\">r</span><span style=\"color:black;\">s</span><span style=\"color:black;\">e</span><span style=\"color:black;\">=</span><span style=\"color:black;\">T</span><span style=\"color:black;\">r</span><span style=\"color:black;\">u</span><span style=\"color:black;\">e</span><span style=\"color:black;\">)</span><span style=\"color:black;\">:</span><span style=\"color:lightgrey;\">↵\n",
       "</span><span style=\"color:lightgrey;\">•</span><span style=\"color:lightgrey;\">•</span><span style=\"color:lightgrey;\">•</span><span style=\"color:lightgrey;\">•</span><span style=\"color:black;\">d</span><span style=\"color:black;\">a</span><span style=\"color:black;\">t</span><span style=\"color:black;\">a</span><span style=\"color:black;\">.</span><span style=\"color:black;\">s</span><span style=\"color:black;\">o</span><span style=\"color:black;\">r</span><span style=\"color:black;\">t</span><span style=\"color:black;\">(</span><span style=\"color:black;\">r</span><span style=\"color:black;\">e</span><span style=\"color:black;\">v</span><span style=\"color:black;\">e</span><span style=\"color:black;\">r</span><span style=\"color:black;\">s</span><span style=\"color:black;\">e</span><span style=\"color:black;\">=</span><span style=\"color:black;\">T</span><span style=\"color:black;\">r</span><span style=\"color:black;\">u</span><span style=\"color:black;\">e</span><span style=\"color:black;\">)</span><span style=\"color:lightgrey;\">↵\n",
       "</span><span style=\"color:lightgrey;\">•</span><span style=\"color:lightgrey;\">•</span><span style=\"color:lightgrey;\">•</span><span style=\"color:lightgrey;\">•</span><span style=\"color:black;\">r</span><span style=\"color:black;\">e</span><span style=\"color:black;\">t</span><span style=\"color:black;\">u</span><span style=\"color:black;\">r</span><span style=\"color:black;\">n</span><span style=\"color:lightgrey;\">•</span><span style=\"color:black;\">d</span><span style=\"color:black;\">a</span><span style=\"color:black;\">t</span><span style=\"color:black;\">a</span><span style=\"color:black;\">[</span><span style=\"color:black;\">:</span><span style=\"color:black;\">k</span><span style=\"color:black;\">]</span><span style=\"color:lightgrey;\">↵\n",
       "</span><span style=\"color:lightgrey;\">↵\n",
       "</span><span style=\"color:black;\">d</span><span style=\"color:black;\">e</span><span style=\"color:black;\">f</span><span style=\"color:lightgrey;\">•</span><span style=\"color:black;\">m</span><span style=\"color:black;\">a</span><span style=\"color:black;\">i</span><span style=\"color:black;\">n</span><span style=\"color:black;\">(</span><span style=\"color:black;\">)</span><span style=\"color:black;\">:</span><span style=\"color:lightgrey;\">↵\n",
       "</span><span style=\"color:lightgrey;\">•</span><span style=\"color:lightgrey;\">•</span><span style=\"color:lightgrey;\">•</span><span style=\"color:lightgrey;\">•</span><span style=\"color:black;\">d</span><span style=\"color:black;\">a</span><span style=\"color:black;\">t</span><span style=\"color:black;\">a</span><span style=\"color:lightgrey;\">•</span><span style=\"color:black;\">=</span><span style=\"color:lightgrey;\">•</span><span style=\"color:black;\">[</span><span style=\"color:black;\">]</span><span style=\"color:lightgrey;\">↵\n",
       "</span><span style=\"color:lightgrey;\">•</span><span style=\"color:lightgrey;\">•</span><span style=\"color:lightgrey;\">•</span><span style=\"color:lightgrey;\">•</span><span style=\"color:black;\">f</span><span style=\"color:black;\">o</span><span style=\"color:black;\">r</span><span style=\"color:lightgrey;\">•</span><span style=\"color:black;\">l</span><span style=\"color:black;\">i</span><span style=\"color:black;\">n</span><span style=\"color:black;\">e</span><span style=\"color:lightgrey;\">•</span><span style=\"color:black;\">i</span><span style=\"color:black;\">n</span><span style=\"color:lightgrey;\">•</span><span style=\"color:black;\">s</span><span style=\"color:black;\">y</span><span style=\"color:black;\">s</span><span style=\"color:black;\">.</span><span style=\"color:black;\">s</span><span style=\"color:black;\">t</span><span style=\"color:black;\">d</span><span style=\"color:black;\">i</span><span style=\"color:black;\">n</span><span style=\"color:black;\">:</span><span style=\"color:lightgrey;\">↵\n",
       "</span><span style=\"color:lightgrey;\">•</span><span style=\"color:lightgrey;\">•</span><span style=\"color:lightgrey;\">•</span><span style=\"color:lightgrey;\">•</span><span style=\"color:lightgrey;\">•</span><span style=\"color:lightgrey;\">•</span><span style=\"color:lightgrey;\">•</span><span style=\"color:lightgrey;\">•</span><span style=\"color:black;\">d</span><span style=\"color:black;\">a</span><span style=\"color:black;\">t</span><span style=\"color:black;\">a</span><span style=\"color:black;\">.</span><span style=\"color:black;\">a</span><span style=\"color:black;\">p</span><span style=\"color:black;\">p</span><span style=\"color:black;\">e</span><span style=\"color:black;\">n</span><span style=\"color:black;\">d</span><span style=\"color:black;\">(</span><span style=\"color:black;\">i</span><span style=\"color:black;\">n</span><span style=\"color:black;\">t</span><span style=\"color:black;\">(</span><span style=\"color:black;\">l</span><span style=\"color:black;\">i</span><span style=\"color:black;\">n</span><span style=\"color:black;\">e</span><span style=\"color:black;\">)</span><span style=\"color:black;\">)</span><span style=\"color:lightgrey;\">↵\n",
       "</span><span style=\"color:lightgrey;\">↵\n",
       "</span><span style=\"color:lightgrey;\">•</span><span style=\"color:lightgrey;\">•</span><span style=\"color:lightgrey;\">•</span><span style=\"color:lightgrey;\">•</span><span style=\"color:black;\">f</span><span style=\"color:black;\">o</span><span style=\"color:black;\">r</span><span style=\"color:lightgrey;\">•</span><span style=\"color:black;\">h</span><span style=\"color:lightgrey;\">•</span><span style=\"color:black;\">i</span><span style=\"color:black;\">n</span><span style=\"color:lightgrey;\">•</span><span style=\"color:black;\">t</span><span style=\"color:black;\">o</span><span style=\"color:black;\">p</span><span style=\"color:black;\">_</span><span style=\"color:black;\">k</span><span style=\"color:black;\">_</span><span style=\"color:black;\">s</span><span style=\"color:black;\">o</span><span style=\"color:black;\">r</span><span style=\"color:black;\">t</span><span style=\"color:black;\">(</span><span style=\"color:black;\">d</span><span style=\"color:black;\">a</span><span style=\"color:black;\">t</span><span style=\"color:black;\">a</span><span style=\"color:black;\">)</span><span style=\"color:black;\">:</span><span style=\"color:lightgrey;\">↵\n",
       "</span><span style=\"color:lightgrey;\">•</span><span style=\"color:lightgrey;\">•</span><span style=\"color:lightgrey;\">•</span><span style=\"color:lightgrey;\">•</span><span style=\"color:lightgrey;\">•</span><span style=\"color:lightgrey;\">•</span><span style=\"color:lightgrey;\">•</span><span style=\"color:lightgrey;\">•</span><span style=\"color:black;\">p</span><span style=\"color:black;\">r</span><span style=\"color:black;\">i</span><span style=\"color:black;\">n</span><span style=\"color:black;\">t</span><span style=\"color:black;\">(</span><span style=\"color:black;\">h</span><span style=\"color:black;\">)</span><span style=\"color:lightgrey;\">↵\n",
       "</span><span style=\"color:lightgrey;\">↵\n",
       "</span><span style=\"color:black;\">i</span><span style=\"color:black;\">f</span><span style=\"color:lightgrey;\">•</span><span style=\"color:black;\">_</span><span style=\"color:black;\">_</span><span style=\"color:black;\">n</span><span style=\"color:black;\">a</span><span style=\"color:black;\">m</span><span style=\"color:black;\">e</span><span style=\"color:black;\">_</span><span style=\"color:black;\">_</span><span style=\"color:lightgrey;\">•</span><span style=\"color:black;\">=</span><span style=\"color:black;\">=</span><span style=\"color:lightgrey;\">•</span><span style=\"color:black;\">'</span><span style=\"color:black;\">_</span><span style=\"color:black;\">_</span><span style=\"color:black;\">m</span><span style=\"color:black;\">a</span><span style=\"color:black;\">i</span><span style=\"color:black;\">n</span><span style=\"color:black;\">_</span><span style=\"color:black;\">_</span><span style=\"color:black;\">'</span><span style=\"color:black;\">:</span><span style=\"color:lightgrey;\">↵\n",
       "</span><span style=\"color:lightgrey;\">•</span><span style=\"color:lightgrey;\">•</span><span style=\"color:lightgrey;\">•</span><span style=\"color:lightgrey;\">•</span><span style=\"color:black;\">m</span><span style=\"color:black;\">a</span><span style=\"color:black;\">i</span><span style=\"color:black;\">n</span><span style=\"color:black;\">(</span><span style=\"color:black;\">)</span></pre>"
      ],
      "text/plain": [
       "<IPython.core.display.HTML object>"
      ]
     },
     "metadata": {},
     "output_type": "display_data"
    },
    {
     "data": {
      "text/html": [
       "<h2>The bug that should be assigned to the original_src:\n",
       "</h2>"
      ],
      "text/plain": [
       "<IPython.core.display.HTML object>"
      ]
     },
     "metadata": {},
     "output_type": "display_data"
    },
    {
     "data": {
      "text/html": [
       "<pre>NameError: name 'argv' is not defined</pre>"
      ],
      "text/plain": [
       "<IPython.core.display.HTML object>"
      ]
     },
     "metadata": {},
     "output_type": "display_data"
    },
    {
     "data": {
      "text/html": [
       "<h1>Example 4</h1>"
      ],
      "text/plain": [
       "<IPython.core.display.HTML object>"
      ]
     },
     "metadata": {},
     "output_type": "display_data"
    },
    {
     "data": {
      "text/html": [
       "<h2>The source code that is buggy:\n",
       "</h2>"
      ],
      "text/plain": [
       "<IPython.core.display.HTML object>"
      ]
     },
     "metadata": {},
     "output_type": "display_data"
    },
    {
     "data": {
      "text/html": [
       "<pre><span style=\"color:black;\">h</span><span style=\"color:black;\">e</span><span style=\"color:black;\">i</span><span style=\"color:black;\">g</span><span style=\"color:black;\">h</span><span style=\"color:black;\">t</span><span style=\"color:lightgrey;\">•</span><span style=\"color:black;\">=</span><span style=\"color:lightgrey;\">•</span><span style=\"color:black;\">[</span><span style=\"color:black;\">]</span><span style=\"color:lightgrey;\">↵\n",
       "</span><span style=\"color:black;\">w</span><span style=\"color:black;\">h</span><span style=\"color:black;\">i</span><span style=\"color:black;\">l</span><span style=\"color:black;\">e</span><span style=\"color:lightgrey;\">•</span><span style=\"color:black;\">1</span><span style=\"color:black;\">:</span><span style=\"color:lightgrey;\">↵\n",
       "</span><span style=\"color:lightgrey;\">•</span><span style=\"color:lightgrey;\">•</span><span style=\"color:lightgrey;\">•</span><span style=\"color:lightgrey;\">•</span><span style=\"color:red;\">h</span><span style=\"color:red;\">•</span><span style=\"color:red;\">=</span><span style=\"color:red;\">•</span><span style=\"color:black;\">r</span><span style=\"color:red;\">a</span><span style=\"color:red;\">w</span><span style=\"color:red;\">_</span><span style=\"color:red;\">i</span><span style=\"color:red;\">n</span><span style=\"color:red;\">p</span><span style=\"color:red;\">u</span><span style=\"color:red;\">t</span><span style=\"color:red;\">(</span><span style=\"color:red;\">)</span><span style=\"color:lightgrey;\">↵\n",
       "</span><span style=\"color:lightgrey;\">•</span><span style=\"color:lightgrey;\">•</span><span style=\"color:lightgrey;\">•</span><span style=\"color:lightgrey;\">•</span><span style=\"color:red;\">i</span><span style=\"color:red;\">f</span><span style=\"color:red;\">•</span><span style=\"color:red;\">h</span><span style=\"color:red;\">•</span><span style=\"color:red;\">=</span><span style=\"color:red;\">=</span><span style=\"color:red;\">•</span><span style=\"color:red;\">'</span><span style=\"color:red;\">'</span><span style=\"color:red;\">:</span><span style=\"color:red;\">•</span><span style=\"color:red;\">b</span><span style=\"color:red;\">r</span><span style=\"color:red;\">e</span><span style=\"color:red;\">a</span><span style=\"color:red;\">k</span><span style=\"color:red;\">↵\n",
       "</span><span style=\"color:red;\">•</span><span style=\"color:red;\">•</span><span style=\"color:red;\">•</span><span style=\"color:red;\">•</span><span style=\"color:red;\">h</span><span style=\"color:red;\">•</span><span style=\"color:red;\">=</span><span style=\"color:red;\">•</span><span style=\"color:red;\">i</span><span style=\"color:red;\">n</span><span style=\"color:red;\">t</span><span style=\"color:red;\">(</span><span style=\"color:red;\">h</span><span style=\"color:red;\">)</span><span style=\"color:red;\">↵\n",
       "</span><span style=\"color:lightgrey;\">•</span><span style=\"color:lightgrey;\">•</span><span style=\"color:lightgrey;\">•</span><span style=\"color:lightgrey;\">•</span><span style=\"color:black;\">h</span><span style=\"color:black;\">e</span><span style=\"color:black;\">i</span><span style=\"color:black;\">g</span><span style=\"color:black;\">h</span><span style=\"color:black;\">t</span><span style=\"color:black;\">.</span><span style=\"color:black;\">a</span><span style=\"color:black;\">p</span><span style=\"color:black;\">p</span><span style=\"color:black;\">e</span><span style=\"color:black;\">n</span><span style=\"color:black;\">d</span><span style=\"color:black;\">(</span><span style=\"color:red;\">h</span><span style=\"color:black;\">)</span><span style=\"color:red;\">↵\n",
       "</span><span style=\"color:black;\">h</span><span style=\"color:black;\">e</span><span style=\"color:black;\">i</span><span style=\"color:black;\">g</span><span style=\"color:black;\">h</span><span style=\"color:black;\">t</span><span style=\"color:black;\">.</span><span style=\"color:black;\">s</span><span style=\"color:black;\">o</span><span style=\"color:black;\">r</span><span style=\"color:black;\">t</span><span style=\"color:black;\">(</span><span style=\"color:black;\">r</span><span style=\"color:black;\">e</span><span style=\"color:black;\">v</span><span style=\"color:black;\">e</span><span style=\"color:black;\">r</span><span style=\"color:black;\">s</span><span style=\"color:black;\">e</span><span style=\"color:black;\">=</span><span style=\"color:black;\">T</span><span style=\"color:black;\">r</span><span style=\"color:black;\">u</span><span style=\"color:black;\">e</span><span style=\"color:black;\">)</span><span style=\"color:lightgrey;\">↵\n",
       "</span><span style=\"color:black;\">f</span><span style=\"color:black;\">o</span><span style=\"color:black;\">r</span><span style=\"color:lightgrey;\">•</span><span style=\"color:black;\">i</span><span style=\"color:lightgrey;\">•</span><span style=\"color:black;\">i</span><span style=\"color:black;\">n</span><span style=\"color:lightgrey;\">•</span><span style=\"color:black;\">r</span><span style=\"color:black;\">a</span><span style=\"color:black;\">n</span><span style=\"color:black;\">g</span><span style=\"color:black;\">e</span><span style=\"color:black;\">(</span><span style=\"color:black;\">3</span><span style=\"color:black;\">)</span><span style=\"color:black;\">:</span><span style=\"color:lightgrey;\">↵\n",
       "</span><span style=\"color:lightgrey;\">•</span><span style=\"color:lightgrey;\">•</span><span style=\"color:lightgrey;\">•</span><span style=\"color:lightgrey;\">•</span><span style=\"color:black;\">p</span><span style=\"color:black;\">r</span><span style=\"color:black;\">i</span><span style=\"color:black;\">n</span><span style=\"color:black;\">t</span><span style=\"color:lightgrey;\">•</span><span style=\"color:black;\">h</span><span style=\"color:black;\">e</span><span style=\"color:black;\">i</span><span style=\"color:black;\">g</span><span style=\"color:black;\">h</span><span style=\"color:black;\">t</span><span style=\"color:black;\">[</span><span style=\"color:black;\">i</span><span style=\"color:black;\">]</span></pre>"
      ],
      "text/plain": [
       "<IPython.core.display.HTML object>"
      ]
     },
     "metadata": {},
     "output_type": "display_data"
    },
    {
     "data": {
      "text/html": [
       "<h2>The source code that is accepted:\n",
       "</h2>"
      ],
      "text/plain": [
       "<IPython.core.display.HTML object>"
      ]
     },
     "metadata": {},
     "output_type": "display_data"
    },
    {
     "data": {
      "text/html": [
       "<pre><span style=\"color:black;\">h</span><span style=\"color:black;\">e</span><span style=\"color:black;\">i</span><span style=\"color:black;\">g</span><span style=\"color:black;\">h</span><span style=\"color:black;\">t</span><span style=\"color:lightgrey;\">•</span><span style=\"color:black;\">=</span><span style=\"color:lightgrey;\">•</span><span style=\"color:black;\">[</span><span style=\"color:black;\">]</span><span style=\"color:lightgrey;\">↵\n",
       "</span><span style=\"color:black;\">w</span><span style=\"color:black;\">h</span><span style=\"color:black;\">i</span><span style=\"color:black;\">l</span><span style=\"color:black;\">e</span><span style=\"color:lightgrey;\">•</span><span style=\"color:black;\">1</span><span style=\"color:black;\">:</span><span style=\"color:lightgrey;\">↵\n",
       "</span><span style=\"color:lightgrey;\">•</span><span style=\"color:lightgrey;\">•</span><span style=\"color:lightgrey;\">•</span><span style=\"color:lightgrey;\">•</span><span style=\"color:blue;\">t</span><span style=\"color:black;\">r</span><span style=\"color:blue;\">y</span><span style=\"color:blue;\">:</span><span style=\"color:lightgrey;\">↵\n",
       "</span><span style=\"color:lightgrey;\">•</span><span style=\"color:lightgrey;\">•</span><span style=\"color:lightgrey;\">•</span><span style=\"color:lightgrey;\">•</span><span style=\"color:lightgrey;\">•</span><span style=\"color:lightgrey;\">•</span><span style=\"color:lightgrey;\">•</span><span style=\"color:lightgrey;\">•</span><span style=\"color:black;\">h</span><span style=\"color:black;\">e</span><span style=\"color:black;\">i</span><span style=\"color:black;\">g</span><span style=\"color:black;\">h</span><span style=\"color:black;\">t</span><span style=\"color:black;\">.</span><span style=\"color:black;\">a</span><span style=\"color:black;\">p</span><span style=\"color:black;\">p</span><span style=\"color:black;\">e</span><span style=\"color:black;\">n</span><span style=\"color:black;\">d</span><span style=\"color:black;\">(</span><span style=\"color:blue;\">i</span><span style=\"color:blue;\">n</span><span style=\"color:blue;\">p</span><span style=\"color:blue;\">u</span><span style=\"color:blue;\">t</span><span style=\"color:blue;\">(</span><span style=\"color:black;\">)</span><span style=\"color:blue;\">)</span><span style=\"color:blue;\">↵\n",
       "</span><span style=\"color:blue;\">•</span><span style=\"color:blue;\">•</span><span style=\"color:blue;\">•</span><span style=\"color:blue;\">•</span><span style=\"color:blue;\">e</span><span style=\"color:blue;\">x</span><span style=\"color:blue;\">c</span><span style=\"color:blue;\">e</span><span style=\"color:blue;\">p</span><span style=\"color:blue;\">t</span><span style=\"color:blue;\">•</span><span style=\"color:blue;\">E</span><span style=\"color:blue;\">O</span><span style=\"color:blue;\">F</span><span style=\"color:blue;\">E</span><span style=\"color:blue;\">r</span><span style=\"color:blue;\">r</span><span style=\"color:blue;\">o</span><span style=\"color:blue;\">r</span><span style=\"color:blue;\">:</span><span style=\"color:blue;\">↵\n",
       "</span><span style=\"color:blue;\">•</span><span style=\"color:blue;\">•</span><span style=\"color:blue;\">•</span><span style=\"color:blue;\">•</span><span style=\"color:blue;\">•</span><span style=\"color:blue;\">•</span><span style=\"color:blue;\">•</span><span style=\"color:blue;\">•</span><span style=\"color:blue;\">b</span><span style=\"color:blue;\">r</span><span style=\"color:blue;\">e</span><span style=\"color:blue;\">a</span><span style=\"color:blue;\">k</span><span style=\"color:blue;\">↵\n",
       "</span><span style=\"color:black;\">h</span><span style=\"color:black;\">e</span><span style=\"color:black;\">i</span><span style=\"color:black;\">g</span><span style=\"color:black;\">h</span><span style=\"color:black;\">t</span><span style=\"color:black;\">.</span><span style=\"color:black;\">s</span><span style=\"color:black;\">o</span><span style=\"color:black;\">r</span><span style=\"color:black;\">t</span><span style=\"color:black;\">(</span><span style=\"color:black;\">r</span><span style=\"color:black;\">e</span><span style=\"color:black;\">v</span><span style=\"color:black;\">e</span><span style=\"color:black;\">r</span><span style=\"color:black;\">s</span><span style=\"color:black;\">e</span><span style=\"color:black;\">=</span><span style=\"color:black;\">T</span><span style=\"color:black;\">r</span><span style=\"color:black;\">u</span><span style=\"color:black;\">e</span><span style=\"color:black;\">)</span><span style=\"color:lightgrey;\">↵\n",
       "</span><span style=\"color:black;\">f</span><span style=\"color:black;\">o</span><span style=\"color:black;\">r</span><span style=\"color:lightgrey;\">•</span><span style=\"color:black;\">i</span><span style=\"color:lightgrey;\">•</span><span style=\"color:black;\">i</span><span style=\"color:black;\">n</span><span style=\"color:lightgrey;\">•</span><span style=\"color:black;\">r</span><span style=\"color:black;\">a</span><span style=\"color:black;\">n</span><span style=\"color:black;\">g</span><span style=\"color:black;\">e</span><span style=\"color:black;\">(</span><span style=\"color:black;\">3</span><span style=\"color:black;\">)</span><span style=\"color:black;\">:</span><span style=\"color:lightgrey;\">↵\n",
       "</span><span style=\"color:lightgrey;\">•</span><span style=\"color:lightgrey;\">•</span><span style=\"color:lightgrey;\">•</span><span style=\"color:lightgrey;\">•</span><span style=\"color:black;\">p</span><span style=\"color:black;\">r</span><span style=\"color:black;\">i</span><span style=\"color:black;\">n</span><span style=\"color:black;\">t</span><span style=\"color:lightgrey;\">•</span><span style=\"color:black;\">h</span><span style=\"color:black;\">e</span><span style=\"color:black;\">i</span><span style=\"color:black;\">g</span><span style=\"color:black;\">h</span><span style=\"color:black;\">t</span><span style=\"color:black;\">[</span><span style=\"color:black;\">i</span><span style=\"color:black;\">]</span></pre>"
      ],
      "text/plain": [
       "<IPython.core.display.HTML object>"
      ]
     },
     "metadata": {},
     "output_type": "display_data"
    },
    {
     "data": {
      "text/html": [
       "<h2>The bug that should be assigned to the original_src:\n",
       "</h2>"
      ],
      "text/plain": [
       "<IPython.core.display.HTML object>"
      ]
     },
     "metadata": {},
     "output_type": "display_data"
    },
    {
     "data": {
      "text/html": [
       "<pre>SyntaxError: Missing parentheses in call to 'print'. Did you mean print(height[i])?</pre>"
      ],
      "text/plain": [
       "<IPython.core.display.HTML object>"
      ]
     },
     "metadata": {},
     "output_type": "display_data"
    },
    {
     "data": {
      "text/html": [
       "<h1>Example 5</h1>"
      ],
      "text/plain": [
       "<IPython.core.display.HTML object>"
      ]
     },
     "metadata": {},
     "output_type": "display_data"
    },
    {
     "data": {
      "text/html": [
       "<h2>The source code that is buggy:\n",
       "</h2>"
      ],
      "text/plain": [
       "<IPython.core.display.HTML object>"
      ]
     },
     "metadata": {},
     "output_type": "display_data"
    },
    {
     "data": {
      "text/html": [
       "<pre><span style=\"color:red;\">c</span><span style=\"color:black;\">n</span><span style=\"color:black;\">t</span><span style=\"color:lightgrey;\">•</span><span style=\"color:black;\">=</span><span style=\"color:lightgrey;\">•</span><span style=\"color:black;\">1</span><span style=\"color:black;\">0</span><span style=\"color:lightgrey;\">↵\n",
       "</span><span style=\"color:black;\">t</span><span style=\"color:black;\">o</span><span style=\"color:black;\">p</span><span style=\"color:black;\">3</span><span style=\"color:lightgrey;\">•</span><span style=\"color:black;\">=</span><span style=\"color:lightgrey;\">•</span><span style=\"color:black;\">[</span><span style=\"color:black;\">0</span><span style=\"color:black;\">,</span><span style=\"color:black;\">0</span><span style=\"color:black;\">,</span><span style=\"color:black;\">0</span><span style=\"color:black;\">]</span><span style=\"color:lightgrey;\">↵\n",
       "</span><span style=\"color:lightgrey;\">↵\n",
       "</span><span style=\"color:black;\">f</span><span style=\"color:black;\">o</span><span style=\"color:black;\">r</span><span style=\"color:lightgrey;\">•</span><span style=\"color:black;\">x</span><span style=\"color:lightgrey;\">•</span><span style=\"color:black;\">i</span><span style=\"color:black;\">n</span><span style=\"color:lightgrey;\">•</span><span style=\"color:black;\">x</span><span style=\"color:black;\">r</span><span style=\"color:black;\">a</span><span style=\"color:black;\">n</span><span style=\"color:black;\">g</span><span style=\"color:black;\">e</span><span style=\"color:black;\">(</span><span style=\"color:black;\">c</span><span style=\"color:black;\">n</span><span style=\"color:black;\">t</span><span style=\"color:black;\">)</span><span style=\"color:black;\">:</span><span style=\"color:lightgrey;\">↵\n",
       "</span><span style=\"color:lightgrey;\">•</span><span style=\"color:lightgrey;\">•</span><span style=\"color:lightgrey;\">•</span><span style=\"color:lightgrey;\">•</span><span style=\"color:black;\">n</span><span style=\"color:lightgrey;\">•</span><span style=\"color:black;\">=</span><span style=\"color:lightgrey;\">•</span><span style=\"color:black;\">i</span><span style=\"color:black;\">n</span><span style=\"color:black;\">t</span><span style=\"color:black;\">(</span><span style=\"color:lightgrey;\">•</span><span style=\"color:black;\">r</span><span style=\"color:black;\">a</span><span style=\"color:black;\">w</span><span style=\"color:black;\">_</span><span style=\"color:black;\">i</span><span style=\"color:black;\">n</span><span style=\"color:black;\">p</span><span style=\"color:black;\">u</span><span style=\"color:black;\">t</span><span style=\"color:black;\">(</span><span style=\"color:black;\">)</span><span style=\"color:lightgrey;\">•</span><span style=\"color:black;\">)</span><span style=\"color:lightgrey;\">↵\n",
       "</span><span style=\"color:lightgrey;\">↵\n",
       "</span><span style=\"color:lightgrey;\">•</span><span style=\"color:lightgrey;\">•</span><span style=\"color:lightgrey;\">•</span><span style=\"color:lightgrey;\">•</span><span style=\"color:black;\">i</span><span style=\"color:black;\">f</span><span style=\"color:lightgrey;\">•</span><span style=\"color:black;\">t</span><span style=\"color:black;\">o</span><span style=\"color:black;\">p</span><span style=\"color:black;\">3</span><span style=\"color:black;\">[</span><span style=\"color:black;\">2</span><span style=\"color:black;\">]</span><span style=\"color:lightgrey;\">•</span><span style=\"color:black;\">></span><span style=\"color:lightgrey;\">•</span><span style=\"color:black;\">n</span><span style=\"color:black;\">:</span><span style=\"color:lightgrey;\">•</span><span style=\"color:black;\">c</span><span style=\"color:black;\">o</span><span style=\"color:black;\">n</span><span style=\"color:black;\">t</span><span style=\"color:black;\">i</span><span style=\"color:black;\">n</span><span style=\"color:black;\">u</span><span style=\"color:black;\">e</span><span style=\"color:lightgrey;\">↵\n",
       "</span><span style=\"color:lightgrey;\">•</span><span style=\"color:lightgrey;\">•</span><span style=\"color:lightgrey;\">•</span><span style=\"color:lightgrey;\">•</span><span style=\"color:black;\">t</span><span style=\"color:black;\">o</span><span style=\"color:black;\">p</span><span style=\"color:black;\">3</span><span style=\"color:black;\">[</span><span style=\"color:black;\">2</span><span style=\"color:black;\">]</span><span style=\"color:lightgrey;\">•</span><span style=\"color:black;\">=</span><span style=\"color:lightgrey;\">•</span><span style=\"color:black;\">n</span><span style=\"color:lightgrey;\">↵\n",
       "</span><span style=\"color:lightgrey;\">↵\n",
       "</span><span style=\"color:lightgrey;\">•</span><span style=\"color:lightgrey;\">•</span><span style=\"color:lightgrey;\">•</span><span style=\"color:lightgrey;\">•</span><span style=\"color:black;\">i</span><span style=\"color:black;\">f</span><span style=\"color:lightgrey;\">•</span><span style=\"color:black;\">t</span><span style=\"color:black;\">o</span><span style=\"color:black;\">p</span><span style=\"color:black;\">3</span><span style=\"color:black;\">[</span><span style=\"color:black;\">1</span><span style=\"color:black;\">]</span><span style=\"color:lightgrey;\">•</span><span style=\"color:black;\">></span><span style=\"color:lightgrey;\">•</span><span style=\"color:black;\">t</span><span style=\"color:black;\">o</span><span style=\"color:black;\">p</span><span style=\"color:black;\">3</span><span style=\"color:black;\">[</span><span style=\"color:black;\">2</span><span style=\"color:black;\">]</span><span style=\"color:black;\">:</span><span style=\"color:lightgrey;\">•</span><span style=\"color:black;\">c</span><span style=\"color:black;\">o</span><span style=\"color:black;\">n</span><span style=\"color:black;\">t</span><span style=\"color:black;\">i</span><span style=\"color:black;\">n</span><span style=\"color:black;\">u</span><span style=\"color:black;\">e</span><span style=\"color:lightgrey;\">↵\n",
       "</span><span style=\"color:lightgrey;\">•</span><span style=\"color:lightgrey;\">•</span><span style=\"color:lightgrey;\">•</span><span style=\"color:lightgrey;\">•</span><span style=\"color:black;\">t</span><span style=\"color:black;\">o</span><span style=\"color:black;\">p</span><span style=\"color:black;\">3</span><span style=\"color:black;\">[</span><span style=\"color:black;\">1</span><span style=\"color:black;\">]</span><span style=\"color:black;\">,</span><span style=\"color:lightgrey;\">•</span><span style=\"color:black;\">t</span><span style=\"color:black;\">o</span><span style=\"color:black;\">p</span><span style=\"color:black;\">3</span><span style=\"color:black;\">[</span><span style=\"color:black;\">2</span><span style=\"color:black;\">]</span><span style=\"color:lightgrey;\">•</span><span style=\"color:black;\">=</span><span style=\"color:lightgrey;\">•</span><span style=\"color:black;\">t</span><span style=\"color:black;\">o</span><span style=\"color:black;\">p</span><span style=\"color:black;\">3</span><span style=\"color:black;\">[</span><span style=\"color:black;\">2</span><span style=\"color:black;\">]</span><span style=\"color:black;\">,</span><span style=\"color:lightgrey;\">•</span><span style=\"color:black;\">t</span><span style=\"color:black;\">o</span><span style=\"color:black;\">p</span><span style=\"color:black;\">3</span><span style=\"color:black;\">[</span><span style=\"color:black;\">1</span><span style=\"color:black;\">]</span><span style=\"color:lightgrey;\">↵\n",
       "</span><span style=\"color:lightgrey;\">↵\n",
       "</span><span style=\"color:lightgrey;\">•</span><span style=\"color:lightgrey;\">•</span><span style=\"color:lightgrey;\">•</span><span style=\"color:lightgrey;\">•</span><span style=\"color:black;\">i</span><span style=\"color:black;\">f</span><span style=\"color:lightgrey;\">•</span><span style=\"color:black;\">t</span><span style=\"color:black;\">o</span><span style=\"color:black;\">p</span><span style=\"color:black;\">3</span><span style=\"color:black;\">[</span><span style=\"color:black;\">0</span><span style=\"color:black;\">]</span><span style=\"color:lightgrey;\">•</span><span style=\"color:black;\">></span><span style=\"color:lightgrey;\">•</span><span style=\"color:black;\">t</span><span style=\"color:black;\">o</span><span style=\"color:black;\">p</span><span style=\"color:black;\">3</span><span style=\"color:black;\">[</span><span style=\"color:black;\">1</span><span style=\"color:black;\">]</span><span style=\"color:black;\">:</span><span style=\"color:lightgrey;\">•</span><span style=\"color:black;\">c</span><span style=\"color:black;\">o</span><span style=\"color:black;\">n</span><span style=\"color:black;\">t</span><span style=\"color:black;\">i</span><span style=\"color:black;\">n</span><span style=\"color:black;\">u</span><span style=\"color:black;\">e</span><span style=\"color:lightgrey;\">↵\n",
       "</span><span style=\"color:lightgrey;\">•</span><span style=\"color:lightgrey;\">•</span><span style=\"color:lightgrey;\">•</span><span style=\"color:lightgrey;\">•</span><span style=\"color:black;\">t</span><span style=\"color:black;\">o</span><span style=\"color:black;\">p</span><span style=\"color:black;\">3</span><span style=\"color:black;\">[</span><span style=\"color:black;\">0</span><span style=\"color:black;\">]</span><span style=\"color:black;\">,</span><span style=\"color:lightgrey;\">•</span><span style=\"color:black;\">t</span><span style=\"color:black;\">o</span><span style=\"color:black;\">p</span><span style=\"color:black;\">3</span><span style=\"color:black;\">[</span><span style=\"color:black;\">1</span><span style=\"color:black;\">]</span><span style=\"color:lightgrey;\">•</span><span style=\"color:black;\">=</span><span style=\"color:lightgrey;\">•</span><span style=\"color:black;\">t</span><span style=\"color:black;\">o</span><span style=\"color:black;\">p</span><span style=\"color:black;\">3</span><span style=\"color:black;\">[</span><span style=\"color:black;\">1</span><span style=\"color:black;\">]</span><span style=\"color:black;\">,</span><span style=\"color:lightgrey;\">•</span><span style=\"color:black;\">t</span><span style=\"color:black;\">o</span><span style=\"color:black;\">p</span><span style=\"color:black;\">3</span><span style=\"color:black;\">[</span><span style=\"color:black;\">0</span><span style=\"color:black;\">]</span><span style=\"color:lightgrey;\">↵\n",
       "</span><span style=\"color:lightgrey;\">↵\n",
       "</span><span style=\"color:black;\">p</span><span style=\"color:black;\">r</span><span style=\"color:black;\">i</span><span style=\"color:black;\">n</span><span style=\"color:black;\">t</span><span style=\"color:lightgrey;\">•</span><span style=\"color:black;\">t</span><span style=\"color:black;\">o</span><span style=\"color:black;\">p</span><span style=\"color:red;\">[</span><span style=\"color:red;\">0</span><span style=\"color:red;\">]</span><span style=\"color:red;\">,</span><span style=\"color:red;\">•</span><span style=\"color:red;\">t</span><span style=\"color:red;\">o</span><span style=\"color:red;\">p</span><span style=\"color:red;\">[</span><span style=\"color:red;\">1</span><span style=\"color:red;\">]</span><span style=\"color:red;\">,</span><span style=\"color:red;\">•</span><span style=\"color:red;\">t</span><span style=\"color:red;\">o</span><span style=\"color:red;\">p</span><span style=\"color:red;\">[</span><span style=\"color:red;\">2</span><span style=\"color:red;\">]</span><span style=\"color:red;\">↵\n",
       "</span><span style=\"color:red;\">↵\n",
       "</span></pre>"
      ],
      "text/plain": [
       "<IPython.core.display.HTML object>"
      ]
     },
     "metadata": {},
     "output_type": "display_data"
    },
    {
     "data": {
      "text/html": [
       "<h2>The source code that is accepted:\n",
       "</h2>"
      ],
      "text/plain": [
       "<IPython.core.display.HTML object>"
      ]
     },
     "metadata": {},
     "output_type": "display_data"
    },
    {
     "data": {
      "text/html": [
       "<pre><span style=\"color:blue;\">↵\n",
       "</span><span style=\"color:blue;\">c</span><span style=\"color:black;\">n</span><span style=\"color:black;\">t</span><span style=\"color:lightgrey;\">•</span><span style=\"color:black;\">=</span><span style=\"color:lightgrey;\">•</span><span style=\"color:black;\">1</span><span style=\"color:black;\">0</span><span style=\"color:lightgrey;\">↵\n",
       "</span><span style=\"color:black;\">t</span><span style=\"color:black;\">o</span><span style=\"color:black;\">p</span><span style=\"color:black;\">3</span><span style=\"color:lightgrey;\">•</span><span style=\"color:black;\">=</span><span style=\"color:lightgrey;\">•</span><span style=\"color:black;\">[</span><span style=\"color:black;\">0</span><span style=\"color:black;\">,</span><span style=\"color:black;\">0</span><span style=\"color:black;\">,</span><span style=\"color:black;\">0</span><span style=\"color:black;\">]</span><span style=\"color:lightgrey;\">↵\n",
       "</span><span style=\"color:lightgrey;\">↵\n",
       "</span><span style=\"color:black;\">f</span><span style=\"color:black;\">o</span><span style=\"color:black;\">r</span><span style=\"color:lightgrey;\">•</span><span style=\"color:black;\">x</span><span style=\"color:lightgrey;\">•</span><span style=\"color:black;\">i</span><span style=\"color:black;\">n</span><span style=\"color:lightgrey;\">•</span><span style=\"color:black;\">x</span><span style=\"color:black;\">r</span><span style=\"color:black;\">a</span><span style=\"color:black;\">n</span><span style=\"color:black;\">g</span><span style=\"color:black;\">e</span><span style=\"color:black;\">(</span><span style=\"color:black;\">c</span><span style=\"color:black;\">n</span><span style=\"color:black;\">t</span><span style=\"color:black;\">)</span><span style=\"color:black;\">:</span><span style=\"color:lightgrey;\">↵\n",
       "</span><span style=\"color:lightgrey;\">•</span><span style=\"color:lightgrey;\">•</span><span style=\"color:lightgrey;\">•</span><span style=\"color:lightgrey;\">•</span><span style=\"color:black;\">n</span><span style=\"color:lightgrey;\">•</span><span style=\"color:black;\">=</span><span style=\"color:lightgrey;\">•</span><span style=\"color:black;\">i</span><span style=\"color:black;\">n</span><span style=\"color:black;\">t</span><span style=\"color:black;\">(</span><span style=\"color:lightgrey;\">•</span><span style=\"color:black;\">r</span><span style=\"color:black;\">a</span><span style=\"color:black;\">w</span><span style=\"color:black;\">_</span><span style=\"color:black;\">i</span><span style=\"color:black;\">n</span><span style=\"color:black;\">p</span><span style=\"color:black;\">u</span><span style=\"color:black;\">t</span><span style=\"color:black;\">(</span><span style=\"color:black;\">)</span><span style=\"color:lightgrey;\">•</span><span style=\"color:black;\">)</span><span style=\"color:lightgrey;\">↵\n",
       "</span><span style=\"color:lightgrey;\">↵\n",
       "</span><span style=\"color:lightgrey;\">•</span><span style=\"color:lightgrey;\">•</span><span style=\"color:lightgrey;\">•</span><span style=\"color:lightgrey;\">•</span><span style=\"color:black;\">i</span><span style=\"color:black;\">f</span><span style=\"color:lightgrey;\">•</span><span style=\"color:black;\">t</span><span style=\"color:black;\">o</span><span style=\"color:black;\">p</span><span style=\"color:black;\">3</span><span style=\"color:black;\">[</span><span style=\"color:black;\">2</span><span style=\"color:black;\">]</span><span style=\"color:lightgrey;\">•</span><span style=\"color:black;\">></span><span style=\"color:lightgrey;\">•</span><span style=\"color:black;\">n</span><span style=\"color:black;\">:</span><span style=\"color:lightgrey;\">•</span><span style=\"color:black;\">c</span><span style=\"color:black;\">o</span><span style=\"color:black;\">n</span><span style=\"color:black;\">t</span><span style=\"color:black;\">i</span><span style=\"color:black;\">n</span><span style=\"color:black;\">u</span><span style=\"color:black;\">e</span><span style=\"color:lightgrey;\">↵\n",
       "</span><span style=\"color:lightgrey;\">•</span><span style=\"color:lightgrey;\">•</span><span style=\"color:lightgrey;\">•</span><span style=\"color:lightgrey;\">•</span><span style=\"color:black;\">t</span><span style=\"color:black;\">o</span><span style=\"color:black;\">p</span><span style=\"color:black;\">3</span><span style=\"color:black;\">[</span><span style=\"color:black;\">2</span><span style=\"color:black;\">]</span><span style=\"color:lightgrey;\">•</span><span style=\"color:black;\">=</span><span style=\"color:lightgrey;\">•</span><span style=\"color:black;\">n</span><span style=\"color:lightgrey;\">↵\n",
       "</span><span style=\"color:lightgrey;\">↵\n",
       "</span><span style=\"color:lightgrey;\">•</span><span style=\"color:lightgrey;\">•</span><span style=\"color:lightgrey;\">•</span><span style=\"color:lightgrey;\">•</span><span style=\"color:black;\">i</span><span style=\"color:black;\">f</span><span style=\"color:lightgrey;\">•</span><span style=\"color:black;\">t</span><span style=\"color:black;\">o</span><span style=\"color:black;\">p</span><span style=\"color:black;\">3</span><span style=\"color:black;\">[</span><span style=\"color:black;\">1</span><span style=\"color:black;\">]</span><span style=\"color:lightgrey;\">•</span><span style=\"color:black;\">></span><span style=\"color:lightgrey;\">•</span><span style=\"color:black;\">t</span><span style=\"color:black;\">o</span><span style=\"color:black;\">p</span><span style=\"color:black;\">3</span><span style=\"color:black;\">[</span><span style=\"color:black;\">2</span><span style=\"color:black;\">]</span><span style=\"color:black;\">:</span><span style=\"color:lightgrey;\">•</span><span style=\"color:black;\">c</span><span style=\"color:black;\">o</span><span style=\"color:black;\">n</span><span style=\"color:black;\">t</span><span style=\"color:black;\">i</span><span style=\"color:black;\">n</span><span style=\"color:black;\">u</span><span style=\"color:black;\">e</span><span style=\"color:lightgrey;\">↵\n",
       "</span><span style=\"color:lightgrey;\">•</span><span style=\"color:lightgrey;\">•</span><span style=\"color:lightgrey;\">•</span><span style=\"color:lightgrey;\">•</span><span style=\"color:black;\">t</span><span style=\"color:black;\">o</span><span style=\"color:black;\">p</span><span style=\"color:black;\">3</span><span style=\"color:black;\">[</span><span style=\"color:black;\">1</span><span style=\"color:black;\">]</span><span style=\"color:black;\">,</span><span style=\"color:lightgrey;\">•</span><span style=\"color:black;\">t</span><span style=\"color:black;\">o</span><span style=\"color:black;\">p</span><span style=\"color:black;\">3</span><span style=\"color:black;\">[</span><span style=\"color:black;\">2</span><span style=\"color:black;\">]</span><span style=\"color:lightgrey;\">•</span><span style=\"color:black;\">=</span><span style=\"color:lightgrey;\">•</span><span style=\"color:black;\">t</span><span style=\"color:black;\">o</span><span style=\"color:black;\">p</span><span style=\"color:black;\">3</span><span style=\"color:black;\">[</span><span style=\"color:black;\">2</span><span style=\"color:black;\">]</span><span style=\"color:black;\">,</span><span style=\"color:lightgrey;\">•</span><span style=\"color:black;\">t</span><span style=\"color:black;\">o</span><span style=\"color:black;\">p</span><span style=\"color:black;\">3</span><span style=\"color:black;\">[</span><span style=\"color:black;\">1</span><span style=\"color:black;\">]</span><span style=\"color:lightgrey;\">↵\n",
       "</span><span style=\"color:lightgrey;\">↵\n",
       "</span><span style=\"color:lightgrey;\">•</span><span style=\"color:lightgrey;\">•</span><span style=\"color:lightgrey;\">•</span><span style=\"color:lightgrey;\">•</span><span style=\"color:black;\">i</span><span style=\"color:black;\">f</span><span style=\"color:lightgrey;\">•</span><span style=\"color:black;\">t</span><span style=\"color:black;\">o</span><span style=\"color:black;\">p</span><span style=\"color:black;\">3</span><span style=\"color:black;\">[</span><span style=\"color:black;\">0</span><span style=\"color:black;\">]</span><span style=\"color:lightgrey;\">•</span><span style=\"color:black;\">></span><span style=\"color:lightgrey;\">•</span><span style=\"color:black;\">t</span><span style=\"color:black;\">o</span><span style=\"color:black;\">p</span><span style=\"color:black;\">3</span><span style=\"color:black;\">[</span><span style=\"color:black;\">1</span><span style=\"color:black;\">]</span><span style=\"color:black;\">:</span><span style=\"color:lightgrey;\">•</span><span style=\"color:black;\">c</span><span style=\"color:black;\">o</span><span style=\"color:black;\">n</span><span style=\"color:black;\">t</span><span style=\"color:black;\">i</span><span style=\"color:black;\">n</span><span style=\"color:black;\">u</span><span style=\"color:black;\">e</span><span style=\"color:lightgrey;\">↵\n",
       "</span><span style=\"color:lightgrey;\">•</span><span style=\"color:lightgrey;\">•</span><span style=\"color:lightgrey;\">•</span><span style=\"color:lightgrey;\">•</span><span style=\"color:black;\">t</span><span style=\"color:black;\">o</span><span style=\"color:black;\">p</span><span style=\"color:black;\">3</span><span style=\"color:black;\">[</span><span style=\"color:black;\">0</span><span style=\"color:black;\">]</span><span style=\"color:black;\">,</span><span style=\"color:lightgrey;\">•</span><span style=\"color:black;\">t</span><span style=\"color:black;\">o</span><span style=\"color:black;\">p</span><span style=\"color:black;\">3</span><span style=\"color:black;\">[</span><span style=\"color:black;\">1</span><span style=\"color:black;\">]</span><span style=\"color:lightgrey;\">•</span><span style=\"color:black;\">=</span><span style=\"color:lightgrey;\">•</span><span style=\"color:black;\">t</span><span style=\"color:black;\">o</span><span style=\"color:black;\">p</span><span style=\"color:black;\">3</span><span style=\"color:black;\">[</span><span style=\"color:black;\">1</span><span style=\"color:black;\">]</span><span style=\"color:black;\">,</span><span style=\"color:lightgrey;\">•</span><span style=\"color:black;\">t</span><span style=\"color:black;\">o</span><span style=\"color:black;\">p</span><span style=\"color:black;\">3</span><span style=\"color:black;\">[</span><span style=\"color:black;\">0</span><span style=\"color:black;\">]</span><span style=\"color:lightgrey;\">↵\n",
       "</span><span style=\"color:lightgrey;\">↵\n",
       "</span><span style=\"color:black;\">p</span><span style=\"color:black;\">r</span><span style=\"color:black;\">i</span><span style=\"color:black;\">n</span><span style=\"color:black;\">t</span><span style=\"color:lightgrey;\">•</span><span style=\"color:black;\">t</span><span style=\"color:black;\">o</span><span style=\"color:black;\">p</span><span style=\"color:blue;\">3</span><span style=\"color:blue;\">[</span><span style=\"color:blue;\">0</span><span style=\"color:blue;\">]</span><span style=\"color:blue;\">↵\n",
       "</span><span style=\"color:blue;\">p</span><span style=\"color:blue;\">r</span><span style=\"color:blue;\">i</span><span style=\"color:blue;\">n</span><span style=\"color:blue;\">t</span><span style=\"color:blue;\">•</span><span style=\"color:blue;\">t</span><span style=\"color:blue;\">o</span><span style=\"color:blue;\">p</span><span style=\"color:blue;\">3</span><span style=\"color:blue;\">[</span><span style=\"color:blue;\">1</span><span style=\"color:blue;\">]</span><span style=\"color:blue;\">↵\n",
       "</span><span style=\"color:blue;\">p</span><span style=\"color:blue;\">r</span><span style=\"color:blue;\">i</span><span style=\"color:blue;\">n</span><span style=\"color:blue;\">t</span><span style=\"color:blue;\">•</span><span style=\"color:blue;\">t</span><span style=\"color:blue;\">o</span><span style=\"color:blue;\">p</span><span style=\"color:blue;\">3</span><span style=\"color:blue;\">[</span><span style=\"color:blue;\">2</span><span style=\"color:blue;\">]</span><span style=\"color:blue;\">↵\n",
       "</span><span style=\"color:blue;\">↵\n",
       "</span></pre>"
      ],
      "text/plain": [
       "<IPython.core.display.HTML object>"
      ]
     },
     "metadata": {},
     "output_type": "display_data"
    },
    {
     "data": {
      "text/html": [
       "<h2>The bug that should be assigned to the original_src:\n",
       "</h2>"
      ],
      "text/plain": [
       "<IPython.core.display.HTML object>"
      ]
     },
     "metadata": {},
     "output_type": "display_data"
    },
    {
     "data": {
      "text/html": [
       "<pre>SyntaxError: Missing parentheses in call to 'print'. Did you mean print(top[0], top[1], top[2])?</pre>"
      ],
      "text/plain": [
       "<IPython.core.display.HTML object>"
      ]
     },
     "metadata": {},
     "output_type": "display_data"
    },
    {
     "data": {
      "text/html": [
       "<h1>Example 6</h1>"
      ],
      "text/plain": [
       "<IPython.core.display.HTML object>"
      ]
     },
     "metadata": {},
     "output_type": "display_data"
    },
    {
     "data": {
      "text/html": [
       "<h2>The source code that is buggy:\n",
       "</h2>"
      ],
      "text/plain": [
       "<IPython.core.display.HTML object>"
      ]
     },
     "metadata": {},
     "output_type": "display_data"
    },
    {
     "data": {
      "text/html": [
       "<pre><span style=\"color:red;\">m</span><span style=\"color:lightgrey;\">•</span><span style=\"color:black;\">=</span><span style=\"color:lightgrey;\">•</span><span style=\"color:black;\">[</span><span style=\"color:black;\">i</span><span style=\"color:black;\">n</span><span style=\"color:black;\">t</span><span style=\"color:black;\">(</span><span style=\"color:black;\">l</span><span style=\"color:black;\">)</span><span style=\"color:lightgrey;\">•</span><span style=\"color:black;\">f</span><span style=\"color:black;\">o</span><span style=\"color:black;\">r</span><span style=\"color:lightgrey;\">•</span><span style=\"color:black;\">l</span><span style=\"color:lightgrey;\">•</span><span style=\"color:black;\">i</span><span style=\"color:black;\">n</span><span style=\"color:lightgrey;\">•</span><span style=\"color:red;\">i</span><span style=\"color:black;\">n</span><span style=\"color:red;\">p</span><span style=\"color:red;\">u</span><span style=\"color:red;\">t</span><span style=\"color:red;\">(</span><span style=\"color:red;\">)</span><span style=\"color:black;\">]</span><span style=\"color:lightgrey;\">↵\n",
       "</span><span style=\"color:black;\">m</span><span style=\"color:black;\">.</span><span style=\"color:black;\">s</span><span style=\"color:black;\">o</span><span style=\"color:black;\">r</span><span style=\"color:black;\">t</span><span style=\"color:black;\">(</span><span style=\"color:black;\">)</span><span style=\"color:lightgrey;\">↵\n",
       "</span><span style=\"color:black;\">p</span><span style=\"color:black;\">r</span><span style=\"color:black;\">i</span><span style=\"color:black;\">n</span><span style=\"color:black;\">t</span><span style=\"color:black;\">(</span><span style=\"color:red;\">s</span><span style=\"color:red;\">o</span><span style=\"color:red;\">r</span><span style=\"color:red;\">t</span><span style=\"color:black;\">[</span><span style=\"color:black;\">-</span><span style=\"color:black;\">1</span><span style=\"color:black;\">]</span><span style=\"color:black;\">)</span><span style=\"color:lightgrey;\">↵\n",
       "</span><span style=\"color:black;\">p</span><span style=\"color:black;\">r</span><span style=\"color:black;\">i</span><span style=\"color:black;\">n</span><span style=\"color:black;\">t</span><span style=\"color:black;\">(</span><span style=\"color:red;\">s</span><span style=\"color:red;\">o</span><span style=\"color:red;\">r</span><span style=\"color:red;\">t</span><span style=\"color:black;\">[</span><span style=\"color:black;\">-</span><span style=\"color:black;\">2</span><span style=\"color:black;\">]</span><span style=\"color:black;\">)</span><span style=\"color:lightgrey;\">↵\n",
       "</span><span style=\"color:black;\">p</span><span style=\"color:black;\">r</span><span style=\"color:black;\">i</span><span style=\"color:black;\">n</span><span style=\"color:black;\">t</span><span style=\"color:black;\">(</span><span style=\"color:red;\">s</span><span style=\"color:red;\">o</span><span style=\"color:red;\">r</span><span style=\"color:red;\">t</span><span style=\"color:black;\">[</span><span style=\"color:black;\">-</span><span style=\"color:black;\">3</span><span style=\"color:black;\">]</span><span style=\"color:black;\">)</span></pre>"
      ],
      "text/plain": [
       "<IPython.core.display.HTML object>"
      ]
     },
     "metadata": {},
     "output_type": "display_data"
    },
    {
     "data": {
      "text/html": [
       "<h2>The source code that is accepted:\n",
       "</h2>"
      ],
      "text/plain": [
       "<IPython.core.display.HTML object>"
      ]
     },
     "metadata": {},
     "output_type": "display_data"
    },
    {
     "data": {
      "text/html": [
       "<pre><span style=\"color:blue;\">i</span><span style=\"color:blue;\">m</span><span style=\"color:blue;\">p</span><span style=\"color:blue;\">o</span><span style=\"color:blue;\">r</span><span style=\"color:blue;\">t</span><span style=\"color:blue;\">•</span><span style=\"color:blue;\">s</span><span style=\"color:blue;\">y</span><span style=\"color:blue;\">s</span><span style=\"color:blue;\">↵\n",
       "</span><span style=\"color:blue;\">m</span><span style=\"color:lightgrey;\">•</span><span style=\"color:black;\">=</span><span style=\"color:lightgrey;\">•</span><span style=\"color:black;\">[</span><span style=\"color:black;\">i</span><span style=\"color:black;\">n</span><span style=\"color:black;\">t</span><span style=\"color:black;\">(</span><span style=\"color:black;\">l</span><span style=\"color:black;\">)</span><span style=\"color:lightgrey;\">•</span><span style=\"color:black;\">f</span><span style=\"color:black;\">o</span><span style=\"color:black;\">r</span><span style=\"color:lightgrey;\">•</span><span style=\"color:black;\">l</span><span style=\"color:lightgrey;\">•</span><span style=\"color:black;\">i</span><span style=\"color:black;\">n</span><span style=\"color:lightgrey;\">•</span><span style=\"color:blue;\">s</span><span style=\"color:blue;\">y</span><span style=\"color:blue;\">s</span><span style=\"color:blue;\">.</span><span style=\"color:blue;\">s</span><span style=\"color:blue;\">t</span><span style=\"color:blue;\">d</span><span style=\"color:blue;\">i</span><span style=\"color:black;\">n</span><span style=\"color:black;\">]</span><span style=\"color:lightgrey;\">↵\n",
       "</span><span style=\"color:black;\">m</span><span style=\"color:black;\">.</span><span style=\"color:black;\">s</span><span style=\"color:black;\">o</span><span style=\"color:black;\">r</span><span style=\"color:black;\">t</span><span style=\"color:black;\">(</span><span style=\"color:black;\">)</span><span style=\"color:lightgrey;\">↵\n",
       "</span><span style=\"color:black;\">p</span><span style=\"color:black;\">r</span><span style=\"color:black;\">i</span><span style=\"color:black;\">n</span><span style=\"color:black;\">t</span><span style=\"color:black;\">(</span><span style=\"color:blue;\">m</span><span style=\"color:black;\">[</span><span style=\"color:black;\">-</span><span style=\"color:black;\">1</span><span style=\"color:black;\">]</span><span style=\"color:black;\">)</span><span style=\"color:lightgrey;\">↵\n",
       "</span><span style=\"color:black;\">p</span><span style=\"color:black;\">r</span><span style=\"color:black;\">i</span><span style=\"color:black;\">n</span><span style=\"color:black;\">t</span><span style=\"color:black;\">(</span><span style=\"color:blue;\">m</span><span style=\"color:black;\">[</span><span style=\"color:black;\">-</span><span style=\"color:black;\">2</span><span style=\"color:black;\">]</span><span style=\"color:black;\">)</span><span style=\"color:lightgrey;\">↵\n",
       "</span><span style=\"color:black;\">p</span><span style=\"color:black;\">r</span><span style=\"color:black;\">i</span><span style=\"color:black;\">n</span><span style=\"color:black;\">t</span><span style=\"color:black;\">(</span><span style=\"color:blue;\">m</span><span style=\"color:black;\">[</span><span style=\"color:black;\">-</span><span style=\"color:black;\">3</span><span style=\"color:black;\">]</span><span style=\"color:black;\">)</span></pre>"
      ],
      "text/plain": [
       "<IPython.core.display.HTML object>"
      ]
     },
     "metadata": {},
     "output_type": "display_data"
    },
    {
     "data": {
      "text/html": [
       "<h2>The bug that should be assigned to the original_src:\n",
       "</h2>"
      ],
      "text/plain": [
       "<IPython.core.display.HTML object>"
      ]
     },
     "metadata": {},
     "output_type": "display_data"
    },
    {
     "data": {
      "text/html": [
       "<pre>NameError: name 'sort' is not defined</pre>"
      ],
      "text/plain": [
       "<IPython.core.display.HTML object>"
      ]
     },
     "metadata": {},
     "output_type": "display_data"
    },
    {
     "data": {
      "text/html": [
       "<h1>Example 7</h1>"
      ],
      "text/plain": [
       "<IPython.core.display.HTML object>"
      ]
     },
     "metadata": {},
     "output_type": "display_data"
    },
    {
     "data": {
      "text/html": [
       "<h2>The source code that is buggy:\n",
       "</h2>"
      ],
      "text/plain": [
       "<IPython.core.display.HTML object>"
      ]
     },
     "metadata": {},
     "output_type": "display_data"
    },
    {
     "data": {
      "text/html": [
       "<pre><span style=\"color:black;\">i</span><span style=\"color:black;\">m</span><span style=\"color:black;\">p</span><span style=\"color:black;\">o</span><span style=\"color:black;\">r</span><span style=\"color:black;\">t</span><span style=\"color:lightgrey;\">•</span><span style=\"color:black;\">s</span><span style=\"color:black;\">y</span><span style=\"color:black;\">s</span><span style=\"color:lightgrey;\">↵\n",
       "</span><span style=\"color:black;\">e</span><span style=\"color:lightgrey;\">•</span><span style=\"color:black;\">=</span><span style=\"color:lightgrey;\">•</span><span style=\"color:black;\">s</span><span style=\"color:black;\">y</span><span style=\"color:black;\">s</span><span style=\"color:black;\">.</span><span style=\"color:black;\">s</span><span style=\"color:black;\">t</span><span style=\"color:black;\">d</span><span style=\"color:black;\">i</span><span style=\"color:black;\">n</span><span style=\"color:black;\">.</span><span style=\"color:black;\">r</span><span style=\"color:black;\">e</span><span style=\"color:black;\">a</span><span style=\"color:black;\">d</span><span style=\"color:black;\">l</span><span style=\"color:black;\">i</span><span style=\"color:black;\">n</span><span style=\"color:black;\">e</span><span style=\"color:black;\">s</span><span style=\"color:black;\">(</span><span style=\"color:black;\">)</span><span style=\"color:red;\">:</span><span style=\"color:lightgrey;\">↵\n",
       "</span><span style=\"color:black;\">f</span><span style=\"color:black;\">o</span><span style=\"color:black;\">r</span><span style=\"color:lightgrey;\">•</span><span style=\"color:black;\">i</span><span style=\"color:lightgrey;\">•</span><span style=\"color:black;\">i</span><span style=\"color:black;\">n</span><span style=\"color:lightgrey;\">•</span><span style=\"color:black;\">r</span><span style=\"color:black;\">a</span><span style=\"color:black;\">n</span><span style=\"color:black;\">g</span><span style=\"color:black;\">e</span><span style=\"color:black;\">(</span><span style=\"color:black;\">3</span><span style=\"color:black;\">)</span><span style=\"color:black;\">:</span><span style=\"color:lightgrey;\">↵\n",
       "</span><span style=\"color:lightgrey;\">•</span><span style=\"color:lightgrey;\">•</span><span style=\"color:lightgrey;\">•</span><span style=\"color:lightgrey;\">•</span><span style=\"color:black;\">m</span><span style=\"color:lightgrey;\">•</span><span style=\"color:black;\">=</span><span style=\"color:lightgrey;\">•</span><span style=\"color:black;\">m</span><span style=\"color:black;\">a</span><span style=\"color:black;\">x</span><span style=\"color:black;\">(</span><span style=\"color:black;\">e</span><span style=\"color:black;\">)</span><span style=\"color:lightgrey;\">↵\n",
       "</span><span style=\"color:lightgrey;\">•</span><span style=\"color:lightgrey;\">•</span><span style=\"color:lightgrey;\">•</span><span style=\"color:lightgrey;\">•</span><span style=\"color:black;\">e</span><span style=\"color:black;\">.</span><span style=\"color:black;\">r</span><span style=\"color:black;\">e</span><span style=\"color:black;\">m</span><span style=\"color:black;\">o</span><span style=\"color:black;\">v</span><span style=\"color:black;\">e</span><span style=\"color:black;\">(</span><span style=\"color:black;\">m</span><span style=\"color:black;\">)</span><span style=\"color:lightgrey;\">↵\n",
       "</span><span style=\"color:lightgrey;\">•</span><span style=\"color:lightgrey;\">•</span><span style=\"color:lightgrey;\">•</span><span style=\"color:lightgrey;\">•</span><span style=\"color:black;\">p</span><span style=\"color:black;\">r</span><span style=\"color:black;\">i</span><span style=\"color:black;\">n</span><span style=\"color:black;\">t</span><span style=\"color:lightgrey;\">•</span><span style=\"color:black;\">(</span><span style=\"color:black;\">m</span><span style=\"color:black;\">)</span><span style=\"color:lightgrey;\">↵\n",
       "</span></pre>"
      ],
      "text/plain": [
       "<IPython.core.display.HTML object>"
      ]
     },
     "metadata": {},
     "output_type": "display_data"
    },
    {
     "data": {
      "text/html": [
       "<h2>The source code that is accepted:\n",
       "</h2>"
      ],
      "text/plain": [
       "<IPython.core.display.HTML object>"
      ]
     },
     "metadata": {},
     "output_type": "display_data"
    },
    {
     "data": {
      "text/html": [
       "<pre><span style=\"color:black;\">i</span><span style=\"color:black;\">m</span><span style=\"color:black;\">p</span><span style=\"color:black;\">o</span><span style=\"color:black;\">r</span><span style=\"color:black;\">t</span><span style=\"color:lightgrey;\">•</span><span style=\"color:black;\">s</span><span style=\"color:black;\">y</span><span style=\"color:black;\">s</span><span style=\"color:lightgrey;\">↵\n",
       "</span><span style=\"color:black;\">e</span><span style=\"color:lightgrey;\">•</span><span style=\"color:black;\">=</span><span style=\"color:lightgrey;\">•</span><span style=\"color:black;\">s</span><span style=\"color:black;\">y</span><span style=\"color:black;\">s</span><span style=\"color:black;\">.</span><span style=\"color:black;\">s</span><span style=\"color:black;\">t</span><span style=\"color:black;\">d</span><span style=\"color:black;\">i</span><span style=\"color:black;\">n</span><span style=\"color:black;\">.</span><span style=\"color:black;\">r</span><span style=\"color:black;\">e</span><span style=\"color:black;\">a</span><span style=\"color:black;\">d</span><span style=\"color:black;\">l</span><span style=\"color:black;\">i</span><span style=\"color:black;\">n</span><span style=\"color:black;\">e</span><span style=\"color:black;\">s</span><span style=\"color:black;\">(</span><span style=\"color:black;\">)</span><span style=\"color:blue;\">↵\n",
       "</span><span style=\"color:blue;\">e</span><span style=\"color:blue;\">•</span><span style=\"color:blue;\">=</span><span style=\"color:blue;\">•</span><span style=\"color:blue;\">[</span><span style=\"color:blue;\">i</span><span style=\"color:blue;\">n</span><span style=\"color:blue;\">t</span><span style=\"color:blue;\">(</span><span style=\"color:blue;\">i</span><span style=\"color:blue;\">)</span><span style=\"color:blue;\">•</span><span style=\"color:blue;\">f</span><span style=\"color:blue;\">o</span><span style=\"color:blue;\">r</span><span style=\"color:blue;\">•</span><span style=\"color:blue;\">i</span><span style=\"color:blue;\">•</span><span style=\"color:blue;\">i</span><span style=\"color:blue;\">n</span><span style=\"color:blue;\">•</span><span style=\"color:blue;\">e</span><span style=\"color:blue;\">]</span><span style=\"color:lightgrey;\">↵\n",
       "</span><span style=\"color:black;\">f</span><span style=\"color:black;\">o</span><span style=\"color:black;\">r</span><span style=\"color:lightgrey;\">•</span><span style=\"color:black;\">i</span><span style=\"color:lightgrey;\">•</span><span style=\"color:black;\">i</span><span style=\"color:black;\">n</span><span style=\"color:lightgrey;\">•</span><span style=\"color:black;\">r</span><span style=\"color:black;\">a</span><span style=\"color:black;\">n</span><span style=\"color:black;\">g</span><span style=\"color:black;\">e</span><span style=\"color:black;\">(</span><span style=\"color:black;\">3</span><span style=\"color:black;\">)</span><span style=\"color:black;\">:</span><span style=\"color:lightgrey;\">↵\n",
       "</span><span style=\"color:lightgrey;\">•</span><span style=\"color:lightgrey;\">•</span><span style=\"color:lightgrey;\">•</span><span style=\"color:lightgrey;\">•</span><span style=\"color:black;\">m</span><span style=\"color:lightgrey;\">•</span><span style=\"color:black;\">=</span><span style=\"color:lightgrey;\">•</span><span style=\"color:black;\">m</span><span style=\"color:black;\">a</span><span style=\"color:black;\">x</span><span style=\"color:black;\">(</span><span style=\"color:black;\">e</span><span style=\"color:black;\">)</span><span style=\"color:lightgrey;\">↵\n",
       "</span><span style=\"color:lightgrey;\">•</span><span style=\"color:lightgrey;\">•</span><span style=\"color:lightgrey;\">•</span><span style=\"color:lightgrey;\">•</span><span style=\"color:black;\">e</span><span style=\"color:black;\">.</span><span style=\"color:black;\">r</span><span style=\"color:black;\">e</span><span style=\"color:black;\">m</span><span style=\"color:black;\">o</span><span style=\"color:black;\">v</span><span style=\"color:black;\">e</span><span style=\"color:black;\">(</span><span style=\"color:black;\">m</span><span style=\"color:black;\">)</span><span style=\"color:lightgrey;\">↵\n",
       "</span><span style=\"color:lightgrey;\">•</span><span style=\"color:lightgrey;\">•</span><span style=\"color:lightgrey;\">•</span><span style=\"color:lightgrey;\">•</span><span style=\"color:black;\">p</span><span style=\"color:black;\">r</span><span style=\"color:black;\">i</span><span style=\"color:black;\">n</span><span style=\"color:black;\">t</span><span style=\"color:lightgrey;\">•</span><span style=\"color:black;\">(</span><span style=\"color:black;\">m</span><span style=\"color:black;\">)</span><span style=\"color:lightgrey;\">↵\n",
       "</span></pre>"
      ],
      "text/plain": [
       "<IPython.core.display.HTML object>"
      ]
     },
     "metadata": {},
     "output_type": "display_data"
    },
    {
     "data": {
      "text/html": [
       "<h2>The bug that should be assigned to the original_src:\n",
       "</h2>"
      ],
      "text/plain": [
       "<IPython.core.display.HTML object>"
      ]
     },
     "metadata": {},
     "output_type": "display_data"
    },
    {
     "data": {
      "text/html": [
       "<pre>SyntaxError: invalid syntax</pre>"
      ],
      "text/plain": [
       "<IPython.core.display.HTML object>"
      ]
     },
     "metadata": {},
     "output_type": "display_data"
    },
    {
     "data": {
      "text/html": [
       "<h1>Example 8</h1>"
      ],
      "text/plain": [
       "<IPython.core.display.HTML object>"
      ]
     },
     "metadata": {},
     "output_type": "display_data"
    },
    {
     "data": {
      "text/html": [
       "<h2>The source code that is buggy:\n",
       "</h2>"
      ],
      "text/plain": [
       "<IPython.core.display.HTML object>"
      ]
     },
     "metadata": {},
     "output_type": "display_data"
    },
    {
     "data": {
      "text/html": [
       "<pre><span style=\"color:black;\">l</span><span style=\"color:lightgrey;\">•</span><span style=\"color:black;\">=</span><span style=\"color:lightgrey;\">•</span><span style=\"color:black;\">[</span><span style=\"color:black;\">]</span><span style=\"color:lightgrey;\">↵\n",
       "</span><span style=\"color:black;\">f</span><span style=\"color:black;\">o</span><span style=\"color:black;\">r</span><span style=\"color:lightgrey;\">•</span><span style=\"color:black;\">i</span><span style=\"color:lightgrey;\">•</span><span style=\"color:black;\">i</span><span style=\"color:black;\">n</span><span style=\"color:lightgrey;\">•</span><span style=\"color:black;\">r</span><span style=\"color:black;\">a</span><span style=\"color:black;\">n</span><span style=\"color:black;\">g</span><span style=\"color:black;\">e</span><span style=\"color:black;\">(</span><span style=\"color:black;\">1</span><span style=\"color:black;\">0</span><span style=\"color:black;\">)</span><span style=\"color:black;\">:</span><span style=\"color:lightgrey;\">↵\n",
       "</span><span style=\"color:lightgrey;\">•</span><span style=\"color:lightgrey;\">•</span><span style=\"color:lightgrey;\">•</span><span style=\"color:lightgrey;\">•</span><span style=\"color:black;\">l</span><span style=\"color:black;\">.</span><span style=\"color:black;\">a</span><span style=\"color:black;\">p</span><span style=\"color:black;\">p</span><span style=\"color:black;\">e</span><span style=\"color:black;\">n</span><span style=\"color:black;\">d</span><span style=\"color:black;\">(</span><span style=\"color:black;\">i</span><span style=\"color:black;\">n</span><span style=\"color:black;\">t</span><span style=\"color:black;\">(</span><span style=\"color:black;\">i</span><span style=\"color:black;\">n</span><span style=\"color:black;\">p</span><span style=\"color:black;\">u</span><span style=\"color:black;\">t</span><span style=\"color:red;\">)</span><span style=\"color:black;\">)</span><span style=\"color:lightgrey;\">↵\n",
       "</span><span style=\"color:black;\">l</span><span style=\"color:black;\">.</span><span style=\"color:black;\">s</span><span style=\"color:black;\">o</span><span style=\"color:black;\">r</span><span style=\"color:black;\">t</span><span style=\"color:black;\">(</span><span style=\"color:black;\">)</span><span style=\"color:lightgrey;\">↵\n",
       "</span><span style=\"color:black;\">f</span><span style=\"color:black;\">o</span><span style=\"color:black;\">r</span><span style=\"color:lightgrey;\">•</span><span style=\"color:black;\">i</span><span style=\"color:lightgrey;\">•</span><span style=\"color:black;\">i</span><span style=\"color:black;\">n</span><span style=\"color:lightgrey;\">•</span><span style=\"color:black;\">r</span><span style=\"color:black;\">a</span><span style=\"color:black;\">n</span><span style=\"color:black;\">g</span><span style=\"color:black;\">e</span><span style=\"color:black;\">(</span><span style=\"color:black;\">3</span><span style=\"color:black;\">)</span><span style=\"color:black;\">:</span><span style=\"color:lightgrey;\">↵\n",
       "</span><span style=\"color:lightgrey;\">•</span><span style=\"color:lightgrey;\">•</span><span style=\"color:lightgrey;\">•</span><span style=\"color:lightgrey;\">•</span><span style=\"color:black;\">p</span><span style=\"color:black;\">r</span><span style=\"color:black;\">i</span><span style=\"color:black;\">n</span><span style=\"color:black;\">t</span><span style=\"color:black;\">(</span><span style=\"color:black;\">l</span><span style=\"color:black;\">[</span><span style=\"color:red;\">i</span><span style=\"color:black;\">]</span><span style=\"color:black;\">)</span><span style=\"color:lightgrey;\">↵\n",
       "</span></pre>"
      ],
      "text/plain": [
       "<IPython.core.display.HTML object>"
      ]
     },
     "metadata": {},
     "output_type": "display_data"
    },
    {
     "data": {
      "text/html": [
       "<h2>The source code that is accepted:\n",
       "</h2>"
      ],
      "text/plain": [
       "<IPython.core.display.HTML object>"
      ]
     },
     "metadata": {},
     "output_type": "display_data"
    },
    {
     "data": {
      "text/html": [
       "<pre><span style=\"color:black;\">l</span><span style=\"color:lightgrey;\">•</span><span style=\"color:black;\">=</span><span style=\"color:lightgrey;\">•</span><span style=\"color:black;\">[</span><span style=\"color:black;\">]</span><span style=\"color:lightgrey;\">↵\n",
       "</span><span style=\"color:black;\">f</span><span style=\"color:black;\">o</span><span style=\"color:black;\">r</span><span style=\"color:lightgrey;\">•</span><span style=\"color:black;\">i</span><span style=\"color:lightgrey;\">•</span><span style=\"color:black;\">i</span><span style=\"color:black;\">n</span><span style=\"color:lightgrey;\">•</span><span style=\"color:black;\">r</span><span style=\"color:black;\">a</span><span style=\"color:black;\">n</span><span style=\"color:black;\">g</span><span style=\"color:black;\">e</span><span style=\"color:black;\">(</span><span style=\"color:black;\">1</span><span style=\"color:black;\">0</span><span style=\"color:black;\">)</span><span style=\"color:black;\">:</span><span style=\"color:lightgrey;\">↵\n",
       "</span><span style=\"color:lightgrey;\">•</span><span style=\"color:lightgrey;\">•</span><span style=\"color:lightgrey;\">•</span><span style=\"color:lightgrey;\">•</span><span style=\"color:black;\">l</span><span style=\"color:black;\">.</span><span style=\"color:black;\">a</span><span style=\"color:black;\">p</span><span style=\"color:black;\">p</span><span style=\"color:black;\">e</span><span style=\"color:black;\">n</span><span style=\"color:black;\">d</span><span style=\"color:black;\">(</span><span style=\"color:black;\">i</span><span style=\"color:black;\">n</span><span style=\"color:black;\">t</span><span style=\"color:black;\">(</span><span style=\"color:black;\">i</span><span style=\"color:black;\">n</span><span style=\"color:black;\">p</span><span style=\"color:black;\">u</span><span style=\"color:black;\">t</span><span style=\"color:blue;\">(</span><span style=\"color:blue;\">)</span><span style=\"color:blue;\">)</span><span style=\"color:black;\">)</span><span style=\"color:lightgrey;\">↵\n",
       "</span><span style=\"color:black;\">l</span><span style=\"color:black;\">.</span><span style=\"color:black;\">s</span><span style=\"color:black;\">o</span><span style=\"color:black;\">r</span><span style=\"color:black;\">t</span><span style=\"color:black;\">(</span><span style=\"color:black;\">)</span><span style=\"color:lightgrey;\">↵\n",
       "</span><span style=\"color:black;\">f</span><span style=\"color:black;\">o</span><span style=\"color:black;\">r</span><span style=\"color:lightgrey;\">•</span><span style=\"color:black;\">i</span><span style=\"color:lightgrey;\">•</span><span style=\"color:black;\">i</span><span style=\"color:black;\">n</span><span style=\"color:lightgrey;\">•</span><span style=\"color:black;\">r</span><span style=\"color:black;\">a</span><span style=\"color:black;\">n</span><span style=\"color:black;\">g</span><span style=\"color:black;\">e</span><span style=\"color:black;\">(</span><span style=\"color:black;\">3</span><span style=\"color:black;\">)</span><span style=\"color:black;\">:</span><span style=\"color:lightgrey;\">↵\n",
       "</span><span style=\"color:lightgrey;\">•</span><span style=\"color:lightgrey;\">•</span><span style=\"color:lightgrey;\">•</span><span style=\"color:lightgrey;\">•</span><span style=\"color:black;\">p</span><span style=\"color:black;\">r</span><span style=\"color:black;\">i</span><span style=\"color:black;\">n</span><span style=\"color:black;\">t</span><span style=\"color:black;\">(</span><span style=\"color:black;\">l</span><span style=\"color:black;\">[</span><span style=\"color:blue;\">9</span><span style=\"color:blue;\">-</span><span style=\"color:blue;\">i</span><span style=\"color:black;\">]</span><span style=\"color:black;\">)</span><span style=\"color:lightgrey;\">↵\n",
       "</span></pre>"
      ],
      "text/plain": [
       "<IPython.core.display.HTML object>"
      ]
     },
     "metadata": {},
     "output_type": "display_data"
    },
    {
     "data": {
      "text/html": [
       "<h2>The bug that should be assigned to the original_src:\n",
       "</h2>"
      ],
      "text/plain": [
       "<IPython.core.display.HTML object>"
      ]
     },
     "metadata": {},
     "output_type": "display_data"
    },
    {
     "data": {
      "text/html": [
       "<pre>TypeError: int() argument must be a string, a bytes-like object or a number, not 'builtin_function_or_method'</pre>"
      ],
      "text/plain": [
       "<IPython.core.display.HTML object>"
      ]
     },
     "metadata": {},
     "output_type": "display_data"
    },
    {
     "data": {
      "text/html": [
       "<h1>Example 9</h1>"
      ],
      "text/plain": [
       "<IPython.core.display.HTML object>"
      ]
     },
     "metadata": {},
     "output_type": "display_data"
    },
    {
     "data": {
      "text/html": [
       "<h2>The source code that is buggy:\n",
       "</h2>"
      ],
      "text/plain": [
       "<IPython.core.display.HTML object>"
      ]
     },
     "metadata": {},
     "output_type": "display_data"
    },
    {
     "data": {
      "text/html": [
       "<pre><span style=\"color:black;\">h</span><span style=\"color:black;\">e</span><span style=\"color:black;\">i</span><span style=\"color:black;\">g</span><span style=\"color:black;\">h</span><span style=\"color:black;\">t</span><span style=\"color:black;\">O</span><span style=\"color:black;\">f</span><span style=\"color:black;\">M</span><span style=\"color:black;\">o</span><span style=\"color:black;\">u</span><span style=\"color:black;\">n</span><span style=\"color:black;\">t</span><span style=\"color:black;\">a</span><span style=\"color:black;\">i</span><span style=\"color:black;\">n</span><span style=\"color:black;\">s</span><span style=\"color:lightgrey;\">•</span><span style=\"color:black;\">=</span><span style=\"color:lightgrey;\">•</span><span style=\"color:black;\">[</span><span style=\"color:black;\">]</span><span style=\"color:lightgrey;\">↵\n",
       "</span><span style=\"color:black;\">f</span><span style=\"color:black;\">o</span><span style=\"color:black;\">r</span><span style=\"color:lightgrey;\">•</span><span style=\"color:black;\">i</span><span style=\"color:lightgrey;\">•</span><span style=\"color:black;\">i</span><span style=\"color:black;\">n</span><span style=\"color:lightgrey;\">•</span><span style=\"color:black;\">r</span><span style=\"color:black;\">a</span><span style=\"color:black;\">n</span><span style=\"color:black;\">g</span><span style=\"color:black;\">e</span><span style=\"color:black;\">(</span><span style=\"color:black;\">1</span><span style=\"color:black;\">,</span><span style=\"color:lightgrey;\">•</span><span style=\"color:black;\">1</span><span style=\"color:black;\">1</span><span style=\"color:black;\">)</span><span style=\"color:black;\">:</span><span style=\"color:lightgrey;\">↵\n",
       "</span><span style=\"color:black;\">\t</span><span style=\"color:black;\">h</span><span style=\"color:black;\">e</span><span style=\"color:black;\">i</span><span style=\"color:black;\">g</span><span style=\"color:black;\">h</span><span style=\"color:black;\">t</span><span style=\"color:black;\">O</span><span style=\"color:black;\">f</span><span style=\"color:black;\">M</span><span style=\"color:black;\">o</span><span style=\"color:black;\">u</span><span style=\"color:black;\">n</span><span style=\"color:black;\">t</span><span style=\"color:black;\">a</span><span style=\"color:black;\">i</span><span style=\"color:black;\">n</span><span style=\"color:black;\">s</span><span style=\"color:black;\">.</span><span style=\"color:black;\">a</span><span style=\"color:black;\">p</span><span style=\"color:black;\">p</span><span style=\"color:black;\">e</span><span style=\"color:black;\">n</span><span style=\"color:black;\">d</span><span style=\"color:black;\">(</span><span style=\"color:black;\">i</span><span style=\"color:black;\">n</span><span style=\"color:black;\">t</span><span style=\"color:black;\">(</span><span style=\"color:black;\">i</span><span style=\"color:black;\">n</span><span style=\"color:black;\">p</span><span style=\"color:black;\">u</span><span style=\"color:black;\">t</span><span style=\"color:black;\">(</span><span style=\"color:black;\">)</span><span style=\"color:black;\">)</span><span style=\"color:black;\">)</span><span style=\"color:lightgrey;\">↵\n",
       "</span><span style=\"color:black;\">h</span><span style=\"color:black;\">e</span><span style=\"color:black;\">i</span><span style=\"color:black;\">g</span><span style=\"color:black;\">h</span><span style=\"color:black;\">t</span><span style=\"color:black;\">O</span><span style=\"color:black;\">f</span><span style=\"color:black;\">M</span><span style=\"color:black;\">o</span><span style=\"color:black;\">u</span><span style=\"color:black;\">n</span><span style=\"color:black;\">t</span><span style=\"color:black;\">a</span><span style=\"color:black;\">i</span><span style=\"color:black;\">n</span><span style=\"color:black;\">s</span><span style=\"color:black;\">.</span><span style=\"color:black;\">s</span><span style=\"color:black;\">o</span><span style=\"color:black;\">r</span><span style=\"color:black;\">t</span><span style=\"color:black;\">(</span><span style=\"color:black;\">)</span><span style=\"color:lightgrey;\">↵\n",
       "</span><span style=\"color:black;\">f</span><span style=\"color:black;\">o</span><span style=\"color:black;\">r</span><span style=\"color:lightgrey;\">•</span><span style=\"color:black;\">i</span><span style=\"color:lightgrey;\">•</span><span style=\"color:black;\">i</span><span style=\"color:black;\">n</span><span style=\"color:lightgrey;\">•</span><span style=\"color:black;\">r</span><span style=\"color:black;\">a</span><span style=\"color:black;\">n</span><span style=\"color:black;\">g</span><span style=\"color:black;\">e</span><span style=\"color:black;\">(</span><span style=\"color:black;\">1</span><span style=\"color:black;\">,</span><span style=\"color:lightgrey;\">•</span><span style=\"color:black;\">4</span><span style=\"color:black;\">)</span><span style=\"color:black;\">:</span><span style=\"color:lightgrey;\">↵\n",
       "</span><span style=\"color:black;\">\t</span><span style=\"color:black;\">p</span><span style=\"color:black;\">r</span><span style=\"color:black;\">i</span><span style=\"color:black;\">n</span><span style=\"color:black;\">t</span><span style=\"color:black;\">(</span><span style=\"color:black;\">h</span><span style=\"color:black;\">e</span><span style=\"color:black;\">i</span><span style=\"color:black;\">g</span><span style=\"color:black;\">h</span><span style=\"color:black;\">t</span><span style=\"color:black;\">O</span><span style=\"color:black;\">f</span><span style=\"color:black;\">M</span><span style=\"color:black;\">o</span><span style=\"color:black;\">u</span><span style=\"color:black;\">n</span><span style=\"color:black;\">t</span><span style=\"color:black;\">a</span><span style=\"color:black;\">i</span><span style=\"color:black;\">n</span><span style=\"color:black;\">s</span><span style=\"color:black;\">[</span><span style=\"color:black;\">-</span><span style=\"color:red;\">j</span><span style=\"color:black;\">]</span><span style=\"color:black;\">)</span></pre>"
      ],
      "text/plain": [
       "<IPython.core.display.HTML object>"
      ]
     },
     "metadata": {},
     "output_type": "display_data"
    },
    {
     "data": {
      "text/html": [
       "<h2>The source code that is accepted:\n",
       "</h2>"
      ],
      "text/plain": [
       "<IPython.core.display.HTML object>"
      ]
     },
     "metadata": {},
     "output_type": "display_data"
    },
    {
     "data": {
      "text/html": [
       "<pre><span style=\"color:black;\">h</span><span style=\"color:black;\">e</span><span style=\"color:black;\">i</span><span style=\"color:black;\">g</span><span style=\"color:black;\">h</span><span style=\"color:black;\">t</span><span style=\"color:black;\">O</span><span style=\"color:black;\">f</span><span style=\"color:black;\">M</span><span style=\"color:black;\">o</span><span style=\"color:black;\">u</span><span style=\"color:black;\">n</span><span style=\"color:black;\">t</span><span style=\"color:black;\">a</span><span style=\"color:black;\">i</span><span style=\"color:black;\">n</span><span style=\"color:black;\">s</span><span style=\"color:lightgrey;\">•</span><span style=\"color:black;\">=</span><span style=\"color:lightgrey;\">•</span><span style=\"color:black;\">[</span><span style=\"color:black;\">]</span><span style=\"color:lightgrey;\">↵\n",
       "</span><span style=\"color:black;\">f</span><span style=\"color:black;\">o</span><span style=\"color:black;\">r</span><span style=\"color:lightgrey;\">•</span><span style=\"color:black;\">i</span><span style=\"color:lightgrey;\">•</span><span style=\"color:black;\">i</span><span style=\"color:black;\">n</span><span style=\"color:lightgrey;\">•</span><span style=\"color:black;\">r</span><span style=\"color:black;\">a</span><span style=\"color:black;\">n</span><span style=\"color:black;\">g</span><span style=\"color:black;\">e</span><span style=\"color:black;\">(</span><span style=\"color:black;\">1</span><span style=\"color:black;\">,</span><span style=\"color:lightgrey;\">•</span><span style=\"color:black;\">1</span><span style=\"color:black;\">1</span><span style=\"color:black;\">)</span><span style=\"color:black;\">:</span><span style=\"color:lightgrey;\">↵\n",
       "</span><span style=\"color:black;\">\t</span><span style=\"color:black;\">h</span><span style=\"color:black;\">e</span><span style=\"color:black;\">i</span><span style=\"color:black;\">g</span><span style=\"color:black;\">h</span><span style=\"color:black;\">t</span><span style=\"color:black;\">O</span><span style=\"color:black;\">f</span><span style=\"color:black;\">M</span><span style=\"color:black;\">o</span><span style=\"color:black;\">u</span><span style=\"color:black;\">n</span><span style=\"color:black;\">t</span><span style=\"color:black;\">a</span><span style=\"color:black;\">i</span><span style=\"color:black;\">n</span><span style=\"color:black;\">s</span><span style=\"color:black;\">.</span><span style=\"color:black;\">a</span><span style=\"color:black;\">p</span><span style=\"color:black;\">p</span><span style=\"color:black;\">e</span><span style=\"color:black;\">n</span><span style=\"color:black;\">d</span><span style=\"color:black;\">(</span><span style=\"color:black;\">i</span><span style=\"color:black;\">n</span><span style=\"color:black;\">t</span><span style=\"color:black;\">(</span><span style=\"color:black;\">i</span><span style=\"color:black;\">n</span><span style=\"color:black;\">p</span><span style=\"color:black;\">u</span><span style=\"color:black;\">t</span><span style=\"color:black;\">(</span><span style=\"color:black;\">)</span><span style=\"color:black;\">)</span><span style=\"color:black;\">)</span><span style=\"color:lightgrey;\">↵\n",
       "</span><span style=\"color:black;\">h</span><span style=\"color:black;\">e</span><span style=\"color:black;\">i</span><span style=\"color:black;\">g</span><span style=\"color:black;\">h</span><span style=\"color:black;\">t</span><span style=\"color:black;\">O</span><span style=\"color:black;\">f</span><span style=\"color:black;\">M</span><span style=\"color:black;\">o</span><span style=\"color:black;\">u</span><span style=\"color:black;\">n</span><span style=\"color:black;\">t</span><span style=\"color:black;\">a</span><span style=\"color:black;\">i</span><span style=\"color:black;\">n</span><span style=\"color:black;\">s</span><span style=\"color:black;\">.</span><span style=\"color:black;\">s</span><span style=\"color:black;\">o</span><span style=\"color:black;\">r</span><span style=\"color:black;\">t</span><span style=\"color:black;\">(</span><span style=\"color:black;\">)</span><span style=\"color:lightgrey;\">↵\n",
       "</span><span style=\"color:black;\">f</span><span style=\"color:black;\">o</span><span style=\"color:black;\">r</span><span style=\"color:lightgrey;\">•</span><span style=\"color:black;\">i</span><span style=\"color:lightgrey;\">•</span><span style=\"color:black;\">i</span><span style=\"color:black;\">n</span><span style=\"color:lightgrey;\">•</span><span style=\"color:black;\">r</span><span style=\"color:black;\">a</span><span style=\"color:black;\">n</span><span style=\"color:black;\">g</span><span style=\"color:black;\">e</span><span style=\"color:black;\">(</span><span style=\"color:black;\">1</span><span style=\"color:black;\">,</span><span style=\"color:lightgrey;\">•</span><span style=\"color:black;\">4</span><span style=\"color:black;\">)</span><span style=\"color:black;\">:</span><span style=\"color:lightgrey;\">↵\n",
       "</span><span style=\"color:black;\">\t</span><span style=\"color:black;\">p</span><span style=\"color:black;\">r</span><span style=\"color:black;\">i</span><span style=\"color:black;\">n</span><span style=\"color:black;\">t</span><span style=\"color:black;\">(</span><span style=\"color:black;\">h</span><span style=\"color:black;\">e</span><span style=\"color:black;\">i</span><span style=\"color:black;\">g</span><span style=\"color:black;\">h</span><span style=\"color:black;\">t</span><span style=\"color:black;\">O</span><span style=\"color:black;\">f</span><span style=\"color:black;\">M</span><span style=\"color:black;\">o</span><span style=\"color:black;\">u</span><span style=\"color:black;\">n</span><span style=\"color:black;\">t</span><span style=\"color:black;\">a</span><span style=\"color:black;\">i</span><span style=\"color:black;\">n</span><span style=\"color:black;\">s</span><span style=\"color:black;\">[</span><span style=\"color:black;\">-</span><span style=\"color:blue;\">i</span><span style=\"color:black;\">]</span><span style=\"color:black;\">)</span></pre>"
      ],
      "text/plain": [
       "<IPython.core.display.HTML object>"
      ]
     },
     "metadata": {},
     "output_type": "display_data"
    },
    {
     "data": {
      "text/html": [
       "<h2>The bug that should be assigned to the original_src:\n",
       "</h2>"
      ],
      "text/plain": [
       "<IPython.core.display.HTML object>"
      ]
     },
     "metadata": {},
     "output_type": "display_data"
    },
    {
     "data": {
      "text/html": [
       "<pre>NameError: name 'j' is not defined</pre>"
      ],
      "text/plain": [
       "<IPython.core.display.HTML object>"
      ]
     },
     "metadata": {},
     "output_type": "display_data"
    }
   ],
   "source": [
    "buggy_df = codenetpy_df[codenetpy_df['returncode'] != 0]\n",
    "\n",
    "def color_source(source_code, mask, color):\n",
    "    text = \"\"\n",
    "    for i, char in enumerate(source_code):\n",
    "        norm_color = 'black'\n",
    "        if char == ' ':\n",
    "            char = \"•\"\n",
    "            norm_color = 'lightgrey'\n",
    "        if char == '\\n':\n",
    "            char = \"↵\\n\"\n",
    "            norm_color = 'lightgrey'\n",
    "        text += f'<span style=\"color:{color if mask[i] == 1 else norm_color};\">{char}</span>'\n",
    "    return \"<pre>\" + text + \"</pre>\"\n",
    "\n",
    "def display_example(i):\n",
    "    original_src, changed_src, error_class_extra = buggy_df.iloc[i][['original_src', 'changed_src', 'error_class_extra']]\n",
    "\n",
    "    s = SequenceMatcher(None, original_src, changed_src)\n",
    "    opcodes = [x for x in s.get_opcodes() if x[0] != \"equal\"]\n",
    "\n",
    "    original_labels = np.zeros_like(list(original_src), dtype=np.int32)\n",
    "    changed_labels = np.zeros_like(list(changed_src), dtype=np.int32)\n",
    "    for op, i1, i2, j1, j2 in opcodes:\n",
    "        if op == 'insert':\n",
    "            original_labels[i1: i1+1] = 1\n",
    "            changed_labels[j1: j2+1] = 1\n",
    "        else:\n",
    "            original_labels[i1:i2] = 1\n",
    "            changed_labels[j1:j2] = 1\n",
    "\n",
    "    original_labels = original_labels.tolist()\n",
    "    changed_labels = changed_labels.tolist()\n",
    "\n",
    "    display(HTML(f\"<h1>Example {i}</h1>\"))\n",
    "    \n",
    "    display(HTML(\"<h2>The source code that is buggy:\\n</h2>\"))\n",
    "    display(HTML(color_source(original_src, original_labels, color='red')))\n",
    "\n",
    "    display(HTML(\"<h2>The source code that is accepted:\\n</h2>\"))\n",
    "    display(HTML(color_source(changed_src, changed_labels, color='blue')))\n",
    "\n",
    "    display(HTML(\"<h2>The bug that should be assigned to the original_src:\\n</h2>\"))\n",
    "    display(HTML(f\"<pre>{error_class_extra}</pre>\"))\n",
    "\n",
    "for i in range(10):\n",
    "    display_example(i)"
   ]
  }
 ],
 "metadata": {
  "kernelspec": {
   "display_name": "Python 3 (ipykernel)",
   "language": "python",
   "name": "python3"
  },
  "language_info": {
   "codemirror_mode": {
    "name": "ipython",
    "version": 3
   },
   "file_extension": ".py",
   "mimetype": "text/x-python",
   "name": "python",
   "nbconvert_exporter": "python",
   "pygments_lexer": "ipython3",
   "version": "3.10.8"
  },
  "papermill": {
   "default_parameters": {},
   "duration": 12.96727,
   "end_time": "2022-03-11T12:54:33.183101",
   "environment_variables": {},
   "exception": null,
   "input_path": "__notebook__.ipynb",
   "output_path": "__notebook__.ipynb",
   "parameters": {},
   "start_time": "2022-03-11T12:54:20.215831",
   "version": "2.3.3"
  }
 },
 "nbformat": 4,
 "nbformat_minor": 5
}
